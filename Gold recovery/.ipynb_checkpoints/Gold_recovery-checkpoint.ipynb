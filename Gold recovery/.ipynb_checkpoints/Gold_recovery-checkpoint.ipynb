{
 "cells": [
  {
   "cell_type": "markdown",
   "metadata": {
    "id": "_L2IFmQMUKPo"
   },
   "source": [
    "# Восстановление золота из руды"
   ]
  },
  {
   "cell_type": "markdown",
   "metadata": {
    "id": "bQ-EqlGcUKPr"
   },
   "source": [
    "Подготовьте прототип модели машинного обучения для «Цифры». Компания разрабатывает решения для эффективной работы промышленных предприятий.\n",
    "\n",
    "Модель должна предсказать коэффициент восстановления золота из золотосодержащей руды. Используйте данные с параметрами добычи и очистки. \n",
    "\n",
    "Модель поможет оптимизировать производство, чтобы не запускать предприятие с убыточными характеристиками."
   ]
  },
  {
   "cell_type": "markdown",
   "metadata": {
    "id": "ZghEl6SnUKPs"
   },
   "source": [
    "## Подготовка данных"
   ]
  },
  {
   "cell_type": "markdown",
   "metadata": {
    "id": "lckuZ_owUKPs"
   },
   "source": [
    "### Первый взгляд на данные"
   ]
  },
  {
   "cell_type": "code",
   "execution_count": 7,
   "metadata": {
    "id": "tVPC9R3gUKPs"
   },
   "outputs": [],
   "source": [
    "import pandas as pd\n",
    "import seaborn as sns\n",
    "import numpy as np\n",
    "import matplotlib.pyplot as plt\n",
    "\n",
    "from sklearn.metrics import mean_absolute_error, make_scorer\n",
    "from sklearn.linear_model import LogisticRegression, LinearRegression\n",
    "from sklearn.ensemble import RandomForestRegressor\n",
    "from sklearn.model_selection import GridSearchCV, cross_val_score\n",
    "from sklearn.feature_selection import VarianceThreshold\n",
    "from sklearn.tree import DecisionTreeRegressor\n",
    "from sklearn.dummy import DummyRegressor\n",
    "from sklearn.pipeline import Pipeline\n",
    "from sklearn.preprocessing import StandardScaler\n",
    "from sklearn.impute import KNNImputer\n",
    "\n",
    "from catboost import CatBoostRegressor"
   ]
  },
  {
   "cell_type": "code",
   "execution_count": 8,
   "metadata": {
    "id": "X33qyPf1UKPt"
   },
   "outputs": [],
   "source": [
    "train_data = pd.read_csv('gold_recovery_train_new.csv')\n",
    "test_data = pd.read_csv('gold_recovery_test_new.csv')\n",
    "full_data = pd.read_csv('gold_recovery_full_new.csv')\n",
    "\n",
    "data = [train_data, test_data, full_data]"
   ]
  },
  {
   "cell_type": "code",
   "execution_count": 9,
   "metadata": {
    "colab": {
     "base_uri": "https://localhost:8080/",
     "height": 473
    },
    "id": "9zSxg5-aUKPt",
    "outputId": "894d1c06-efa6-4c11-eb98-686db90cdf30"
   },
   "outputs": [
    {
     "data": {
      "text/html": [
       "\n",
       "  <div id=\"df-61f52c95-8f15-4700-8cad-9b65aef8fbca\">\n",
       "    <div class=\"colab-df-container\">\n",
       "      <div>\n",
       "<style scoped>\n",
       "    .dataframe tbody tr th:only-of-type {\n",
       "        vertical-align: middle;\n",
       "    }\n",
       "\n",
       "    .dataframe tbody tr th {\n",
       "        vertical-align: top;\n",
       "    }\n",
       "\n",
       "    .dataframe thead th {\n",
       "        text-align: right;\n",
       "    }\n",
       "</style>\n",
       "<table border=\"1\" class=\"dataframe\">\n",
       "  <thead>\n",
       "    <tr style=\"text-align: right;\">\n",
       "      <th></th>\n",
       "      <th>date</th>\n",
       "      <th>final.output.concentrate_ag</th>\n",
       "      <th>final.output.concentrate_pb</th>\n",
       "      <th>final.output.concentrate_sol</th>\n",
       "      <th>final.output.concentrate_au</th>\n",
       "      <th>final.output.recovery</th>\n",
       "      <th>final.output.tail_ag</th>\n",
       "      <th>final.output.tail_pb</th>\n",
       "      <th>final.output.tail_sol</th>\n",
       "      <th>final.output.tail_au</th>\n",
       "      <th>...</th>\n",
       "      <th>secondary_cleaner.state.floatbank4_a_air</th>\n",
       "      <th>secondary_cleaner.state.floatbank4_a_level</th>\n",
       "      <th>secondary_cleaner.state.floatbank4_b_air</th>\n",
       "      <th>secondary_cleaner.state.floatbank4_b_level</th>\n",
       "      <th>secondary_cleaner.state.floatbank5_a_air</th>\n",
       "      <th>secondary_cleaner.state.floatbank5_a_level</th>\n",
       "      <th>secondary_cleaner.state.floatbank5_b_air</th>\n",
       "      <th>secondary_cleaner.state.floatbank5_b_level</th>\n",
       "      <th>secondary_cleaner.state.floatbank6_a_air</th>\n",
       "      <th>secondary_cleaner.state.floatbank6_a_level</th>\n",
       "    </tr>\n",
       "  </thead>\n",
       "  <tbody>\n",
       "    <tr>\n",
       "      <th>0</th>\n",
       "      <td>2016-01-15 00:00:00</td>\n",
       "      <td>6.055403</td>\n",
       "      <td>9.889648</td>\n",
       "      <td>5.507324</td>\n",
       "      <td>42.192020</td>\n",
       "      <td>70.541216</td>\n",
       "      <td>10.411962</td>\n",
       "      <td>0.895447</td>\n",
       "      <td>16.904297</td>\n",
       "      <td>2.143149</td>\n",
       "      <td>...</td>\n",
       "      <td>14.016835</td>\n",
       "      <td>-502.488007</td>\n",
       "      <td>12.099931</td>\n",
       "      <td>-504.715942</td>\n",
       "      <td>9.925633</td>\n",
       "      <td>-498.310211</td>\n",
       "      <td>8.079666</td>\n",
       "      <td>-500.470978</td>\n",
       "      <td>14.151341</td>\n",
       "      <td>-605.841980</td>\n",
       "    </tr>\n",
       "    <tr>\n",
       "      <th>1</th>\n",
       "      <td>2016-01-15 01:00:00</td>\n",
       "      <td>6.029369</td>\n",
       "      <td>9.968944</td>\n",
       "      <td>5.257781</td>\n",
       "      <td>42.701629</td>\n",
       "      <td>69.266198</td>\n",
       "      <td>10.462676</td>\n",
       "      <td>0.927452</td>\n",
       "      <td>16.634514</td>\n",
       "      <td>2.224930</td>\n",
       "      <td>...</td>\n",
       "      <td>13.992281</td>\n",
       "      <td>-505.503262</td>\n",
       "      <td>11.950531</td>\n",
       "      <td>-501.331529</td>\n",
       "      <td>10.039245</td>\n",
       "      <td>-500.169983</td>\n",
       "      <td>7.984757</td>\n",
       "      <td>-500.582168</td>\n",
       "      <td>13.998353</td>\n",
       "      <td>-599.787184</td>\n",
       "    </tr>\n",
       "    <tr>\n",
       "      <th>2</th>\n",
       "      <td>2016-01-15 02:00:00</td>\n",
       "      <td>6.055926</td>\n",
       "      <td>10.213995</td>\n",
       "      <td>5.383759</td>\n",
       "      <td>42.657501</td>\n",
       "      <td>68.116445</td>\n",
       "      <td>10.507046</td>\n",
       "      <td>0.953716</td>\n",
       "      <td>16.208849</td>\n",
       "      <td>2.257889</td>\n",
       "      <td>...</td>\n",
       "      <td>14.015015</td>\n",
       "      <td>-502.520901</td>\n",
       "      <td>11.912783</td>\n",
       "      <td>-501.133383</td>\n",
       "      <td>10.070913</td>\n",
       "      <td>-500.129135</td>\n",
       "      <td>8.013877</td>\n",
       "      <td>-500.517572</td>\n",
       "      <td>14.028663</td>\n",
       "      <td>-601.427363</td>\n",
       "    </tr>\n",
       "    <tr>\n",
       "      <th>3</th>\n",
       "      <td>2016-01-15 03:00:00</td>\n",
       "      <td>6.047977</td>\n",
       "      <td>9.977019</td>\n",
       "      <td>4.858634</td>\n",
       "      <td>42.689819</td>\n",
       "      <td>68.347543</td>\n",
       "      <td>10.422762</td>\n",
       "      <td>0.883763</td>\n",
       "      <td>16.532835</td>\n",
       "      <td>2.146849</td>\n",
       "      <td>...</td>\n",
       "      <td>14.036510</td>\n",
       "      <td>-500.857308</td>\n",
       "      <td>11.999550</td>\n",
       "      <td>-501.193686</td>\n",
       "      <td>9.970366</td>\n",
       "      <td>-499.201640</td>\n",
       "      <td>7.977324</td>\n",
       "      <td>-500.255908</td>\n",
       "      <td>14.005551</td>\n",
       "      <td>-599.996129</td>\n",
       "    </tr>\n",
       "    <tr>\n",
       "      <th>4</th>\n",
       "      <td>2016-01-15 04:00:00</td>\n",
       "      <td>6.148599</td>\n",
       "      <td>10.142511</td>\n",
       "      <td>4.939416</td>\n",
       "      <td>42.774141</td>\n",
       "      <td>66.927016</td>\n",
       "      <td>10.360302</td>\n",
       "      <td>0.792826</td>\n",
       "      <td>16.525686</td>\n",
       "      <td>2.055292</td>\n",
       "      <td>...</td>\n",
       "      <td>14.027298</td>\n",
       "      <td>-499.838632</td>\n",
       "      <td>11.953070</td>\n",
       "      <td>-501.053894</td>\n",
       "      <td>9.925709</td>\n",
       "      <td>-501.686727</td>\n",
       "      <td>7.894242</td>\n",
       "      <td>-500.356035</td>\n",
       "      <td>13.996647</td>\n",
       "      <td>-601.496691</td>\n",
       "    </tr>\n",
       "  </tbody>\n",
       "</table>\n",
       "<p>5 rows × 87 columns</p>\n",
       "</div>\n",
       "      <button class=\"colab-df-convert\" onclick=\"convertToInteractive('df-61f52c95-8f15-4700-8cad-9b65aef8fbca')\"\n",
       "              title=\"Convert this dataframe to an interactive table.\"\n",
       "              style=\"display:none;\">\n",
       "        \n",
       "  <svg xmlns=\"http://www.w3.org/2000/svg\" height=\"24px\"viewBox=\"0 0 24 24\"\n",
       "       width=\"24px\">\n",
       "    <path d=\"M0 0h24v24H0V0z\" fill=\"none\"/>\n",
       "    <path d=\"M18.56 5.44l.94 2.06.94-2.06 2.06-.94-2.06-.94-.94-2.06-.94 2.06-2.06.94zm-11 1L8.5 8.5l.94-2.06 2.06-.94-2.06-.94L8.5 2.5l-.94 2.06-2.06.94zm10 10l.94 2.06.94-2.06 2.06-.94-2.06-.94-.94-2.06-.94 2.06-2.06.94z\"/><path d=\"M17.41 7.96l-1.37-1.37c-.4-.4-.92-.59-1.43-.59-.52 0-1.04.2-1.43.59L10.3 9.45l-7.72 7.72c-.78.78-.78 2.05 0 2.83L4 21.41c.39.39.9.59 1.41.59.51 0 1.02-.2 1.41-.59l7.78-7.78 2.81-2.81c.8-.78.8-2.07 0-2.86zM5.41 20L4 18.59l7.72-7.72 1.47 1.35L5.41 20z\"/>\n",
       "  </svg>\n",
       "      </button>\n",
       "      \n",
       "  <style>\n",
       "    .colab-df-container {\n",
       "      display:flex;\n",
       "      flex-wrap:wrap;\n",
       "      gap: 12px;\n",
       "    }\n",
       "\n",
       "    .colab-df-convert {\n",
       "      background-color: #E8F0FE;\n",
       "      border: none;\n",
       "      border-radius: 50%;\n",
       "      cursor: pointer;\n",
       "      display: none;\n",
       "      fill: #1967D2;\n",
       "      height: 32px;\n",
       "      padding: 0 0 0 0;\n",
       "      width: 32px;\n",
       "    }\n",
       "\n",
       "    .colab-df-convert:hover {\n",
       "      background-color: #E2EBFA;\n",
       "      box-shadow: 0px 1px 2px rgba(60, 64, 67, 0.3), 0px 1px 3px 1px rgba(60, 64, 67, 0.15);\n",
       "      fill: #174EA6;\n",
       "    }\n",
       "\n",
       "    [theme=dark] .colab-df-convert {\n",
       "      background-color: #3B4455;\n",
       "      fill: #D2E3FC;\n",
       "    }\n",
       "\n",
       "    [theme=dark] .colab-df-convert:hover {\n",
       "      background-color: #434B5C;\n",
       "      box-shadow: 0px 1px 3px 1px rgba(0, 0, 0, 0.15);\n",
       "      filter: drop-shadow(0px 1px 2px rgba(0, 0, 0, 0.3));\n",
       "      fill: #FFFFFF;\n",
       "    }\n",
       "  </style>\n",
       "\n",
       "      <script>\n",
       "        const buttonEl =\n",
       "          document.querySelector('#df-61f52c95-8f15-4700-8cad-9b65aef8fbca button.colab-df-convert');\n",
       "        buttonEl.style.display =\n",
       "          google.colab.kernel.accessAllowed ? 'block' : 'none';\n",
       "\n",
       "        async function convertToInteractive(key) {\n",
       "          const element = document.querySelector('#df-61f52c95-8f15-4700-8cad-9b65aef8fbca');\n",
       "          const dataTable =\n",
       "            await google.colab.kernel.invokeFunction('convertToInteractive',\n",
       "                                                     [key], {});\n",
       "          if (!dataTable) return;\n",
       "\n",
       "          const docLinkHtml = 'Like what you see? Visit the ' +\n",
       "            '<a target=\"_blank\" href=https://colab.research.google.com/notebooks/data_table.ipynb>data table notebook</a>'\n",
       "            + ' to learn more about interactive tables.';\n",
       "          element.innerHTML = '';\n",
       "          dataTable['output_type'] = 'display_data';\n",
       "          await google.colab.output.renderOutput(dataTable, element);\n",
       "          const docLink = document.createElement('div');\n",
       "          docLink.innerHTML = docLinkHtml;\n",
       "          element.appendChild(docLink);\n",
       "        }\n",
       "      </script>\n",
       "    </div>\n",
       "  </div>\n",
       "  "
      ],
      "text/plain": [
       "                  date  final.output.concentrate_ag  \\\n",
       "0  2016-01-15 00:00:00                     6.055403   \n",
       "1  2016-01-15 01:00:00                     6.029369   \n",
       "2  2016-01-15 02:00:00                     6.055926   \n",
       "3  2016-01-15 03:00:00                     6.047977   \n",
       "4  2016-01-15 04:00:00                     6.148599   \n",
       "\n",
       "   final.output.concentrate_pb  final.output.concentrate_sol  \\\n",
       "0                     9.889648                      5.507324   \n",
       "1                     9.968944                      5.257781   \n",
       "2                    10.213995                      5.383759   \n",
       "3                     9.977019                      4.858634   \n",
       "4                    10.142511                      4.939416   \n",
       "\n",
       "   final.output.concentrate_au  final.output.recovery  final.output.tail_ag  \\\n",
       "0                    42.192020              70.541216             10.411962   \n",
       "1                    42.701629              69.266198             10.462676   \n",
       "2                    42.657501              68.116445             10.507046   \n",
       "3                    42.689819              68.347543             10.422762   \n",
       "4                    42.774141              66.927016             10.360302   \n",
       "\n",
       "   final.output.tail_pb  final.output.tail_sol  final.output.tail_au  ...  \\\n",
       "0              0.895447              16.904297              2.143149  ...   \n",
       "1              0.927452              16.634514              2.224930  ...   \n",
       "2              0.953716              16.208849              2.257889  ...   \n",
       "3              0.883763              16.532835              2.146849  ...   \n",
       "4              0.792826              16.525686              2.055292  ...   \n",
       "\n",
       "   secondary_cleaner.state.floatbank4_a_air  \\\n",
       "0                                 14.016835   \n",
       "1                                 13.992281   \n",
       "2                                 14.015015   \n",
       "3                                 14.036510   \n",
       "4                                 14.027298   \n",
       "\n",
       "   secondary_cleaner.state.floatbank4_a_level  \\\n",
       "0                                 -502.488007   \n",
       "1                                 -505.503262   \n",
       "2                                 -502.520901   \n",
       "3                                 -500.857308   \n",
       "4                                 -499.838632   \n",
       "\n",
       "   secondary_cleaner.state.floatbank4_b_air  \\\n",
       "0                                 12.099931   \n",
       "1                                 11.950531   \n",
       "2                                 11.912783   \n",
       "3                                 11.999550   \n",
       "4                                 11.953070   \n",
       "\n",
       "   secondary_cleaner.state.floatbank4_b_level  \\\n",
       "0                                 -504.715942   \n",
       "1                                 -501.331529   \n",
       "2                                 -501.133383   \n",
       "3                                 -501.193686   \n",
       "4                                 -501.053894   \n",
       "\n",
       "   secondary_cleaner.state.floatbank5_a_air  \\\n",
       "0                                  9.925633   \n",
       "1                                 10.039245   \n",
       "2                                 10.070913   \n",
       "3                                  9.970366   \n",
       "4                                  9.925709   \n",
       "\n",
       "   secondary_cleaner.state.floatbank5_a_level  \\\n",
       "0                                 -498.310211   \n",
       "1                                 -500.169983   \n",
       "2                                 -500.129135   \n",
       "3                                 -499.201640   \n",
       "4                                 -501.686727   \n",
       "\n",
       "   secondary_cleaner.state.floatbank5_b_air  \\\n",
       "0                                  8.079666   \n",
       "1                                  7.984757   \n",
       "2                                  8.013877   \n",
       "3                                  7.977324   \n",
       "4                                  7.894242   \n",
       "\n",
       "   secondary_cleaner.state.floatbank5_b_level  \\\n",
       "0                                 -500.470978   \n",
       "1                                 -500.582168   \n",
       "2                                 -500.517572   \n",
       "3                                 -500.255908   \n",
       "4                                 -500.356035   \n",
       "\n",
       "   secondary_cleaner.state.floatbank6_a_air  \\\n",
       "0                                 14.151341   \n",
       "1                                 13.998353   \n",
       "2                                 14.028663   \n",
       "3                                 14.005551   \n",
       "4                                 13.996647   \n",
       "\n",
       "   secondary_cleaner.state.floatbank6_a_level  \n",
       "0                                 -605.841980  \n",
       "1                                 -599.787184  \n",
       "2                                 -601.427363  \n",
       "3                                 -599.996129  \n",
       "4                                 -601.496691  \n",
       "\n",
       "[5 rows x 87 columns]"
      ]
     },
     "execution_count": 9,
     "metadata": {},
     "output_type": "execute_result"
    }
   ],
   "source": [
    "train_data.head()"
   ]
  },
  {
   "cell_type": "code",
   "execution_count": 10,
   "metadata": {
    "colab": {
     "base_uri": "https://localhost:8080/",
     "height": 473
    },
    "id": "Wgkhgi6DUKPu",
    "outputId": "905cc3fd-6be5-41e1-893d-3744f0ed408b"
   },
   "outputs": [
    {
     "data": {
      "text/html": [
       "\n",
       "  <div id=\"df-66159bd2-5007-4a19-a2f3-6fb96e6cbe81\">\n",
       "    <div class=\"colab-df-container\">\n",
       "      <div>\n",
       "<style scoped>\n",
       "    .dataframe tbody tr th:only-of-type {\n",
       "        vertical-align: middle;\n",
       "    }\n",
       "\n",
       "    .dataframe tbody tr th {\n",
       "        vertical-align: top;\n",
       "    }\n",
       "\n",
       "    .dataframe thead th {\n",
       "        text-align: right;\n",
       "    }\n",
       "</style>\n",
       "<table border=\"1\" class=\"dataframe\">\n",
       "  <thead>\n",
       "    <tr style=\"text-align: right;\">\n",
       "      <th></th>\n",
       "      <th>date</th>\n",
       "      <th>primary_cleaner.input.sulfate</th>\n",
       "      <th>primary_cleaner.input.depressant</th>\n",
       "      <th>primary_cleaner.input.feed_size</th>\n",
       "      <th>primary_cleaner.input.xanthate</th>\n",
       "      <th>primary_cleaner.state.floatbank8_a_air</th>\n",
       "      <th>primary_cleaner.state.floatbank8_a_level</th>\n",
       "      <th>primary_cleaner.state.floatbank8_b_air</th>\n",
       "      <th>primary_cleaner.state.floatbank8_b_level</th>\n",
       "      <th>primary_cleaner.state.floatbank8_c_air</th>\n",
       "      <th>...</th>\n",
       "      <th>secondary_cleaner.state.floatbank4_a_air</th>\n",
       "      <th>secondary_cleaner.state.floatbank4_a_level</th>\n",
       "      <th>secondary_cleaner.state.floatbank4_b_air</th>\n",
       "      <th>secondary_cleaner.state.floatbank4_b_level</th>\n",
       "      <th>secondary_cleaner.state.floatbank5_a_air</th>\n",
       "      <th>secondary_cleaner.state.floatbank5_a_level</th>\n",
       "      <th>secondary_cleaner.state.floatbank5_b_air</th>\n",
       "      <th>secondary_cleaner.state.floatbank5_b_level</th>\n",
       "      <th>secondary_cleaner.state.floatbank6_a_air</th>\n",
       "      <th>secondary_cleaner.state.floatbank6_a_level</th>\n",
       "    </tr>\n",
       "  </thead>\n",
       "  <tbody>\n",
       "    <tr>\n",
       "      <th>0</th>\n",
       "      <td>2016-09-01 00:59:59</td>\n",
       "      <td>210.800909</td>\n",
       "      <td>14.993118</td>\n",
       "      <td>8.080000</td>\n",
       "      <td>1.005021</td>\n",
       "      <td>1398.981301</td>\n",
       "      <td>-500.225577</td>\n",
       "      <td>1399.144926</td>\n",
       "      <td>-499.919735</td>\n",
       "      <td>1400.102998</td>\n",
       "      <td>...</td>\n",
       "      <td>12.023554</td>\n",
       "      <td>-497.795834</td>\n",
       "      <td>8.016656</td>\n",
       "      <td>-501.289139</td>\n",
       "      <td>7.946562</td>\n",
       "      <td>-432.317850</td>\n",
       "      <td>4.872511</td>\n",
       "      <td>-500.037437</td>\n",
       "      <td>26.705889</td>\n",
       "      <td>-499.709414</td>\n",
       "    </tr>\n",
       "    <tr>\n",
       "      <th>1</th>\n",
       "      <td>2016-09-01 01:59:59</td>\n",
       "      <td>215.392455</td>\n",
       "      <td>14.987471</td>\n",
       "      <td>8.080000</td>\n",
       "      <td>0.990469</td>\n",
       "      <td>1398.777912</td>\n",
       "      <td>-500.057435</td>\n",
       "      <td>1398.055362</td>\n",
       "      <td>-499.778182</td>\n",
       "      <td>1396.151033</td>\n",
       "      <td>...</td>\n",
       "      <td>12.058140</td>\n",
       "      <td>-498.695773</td>\n",
       "      <td>8.130979</td>\n",
       "      <td>-499.634209</td>\n",
       "      <td>7.958270</td>\n",
       "      <td>-525.839648</td>\n",
       "      <td>4.878850</td>\n",
       "      <td>-500.162375</td>\n",
       "      <td>25.019940</td>\n",
       "      <td>-499.819438</td>\n",
       "    </tr>\n",
       "    <tr>\n",
       "      <th>2</th>\n",
       "      <td>2016-09-01 02:59:59</td>\n",
       "      <td>215.259946</td>\n",
       "      <td>12.884934</td>\n",
       "      <td>7.786667</td>\n",
       "      <td>0.996043</td>\n",
       "      <td>1398.493666</td>\n",
       "      <td>-500.868360</td>\n",
       "      <td>1398.860436</td>\n",
       "      <td>-499.764529</td>\n",
       "      <td>1398.075709</td>\n",
       "      <td>...</td>\n",
       "      <td>11.962366</td>\n",
       "      <td>-498.767484</td>\n",
       "      <td>8.096893</td>\n",
       "      <td>-500.827423</td>\n",
       "      <td>8.071056</td>\n",
       "      <td>-500.801673</td>\n",
       "      <td>4.905125</td>\n",
       "      <td>-499.828510</td>\n",
       "      <td>24.994862</td>\n",
       "      <td>-500.622559</td>\n",
       "    </tr>\n",
       "    <tr>\n",
       "      <th>3</th>\n",
       "      <td>2016-09-01 03:59:59</td>\n",
       "      <td>215.336236</td>\n",
       "      <td>12.006805</td>\n",
       "      <td>7.640000</td>\n",
       "      <td>0.863514</td>\n",
       "      <td>1399.618111</td>\n",
       "      <td>-498.863574</td>\n",
       "      <td>1397.440120</td>\n",
       "      <td>-499.211024</td>\n",
       "      <td>1400.129303</td>\n",
       "      <td>...</td>\n",
       "      <td>12.033091</td>\n",
       "      <td>-498.350935</td>\n",
       "      <td>8.074946</td>\n",
       "      <td>-499.474407</td>\n",
       "      <td>7.897085</td>\n",
       "      <td>-500.868509</td>\n",
       "      <td>4.931400</td>\n",
       "      <td>-499.963623</td>\n",
       "      <td>24.948919</td>\n",
       "      <td>-498.709987</td>\n",
       "    </tr>\n",
       "    <tr>\n",
       "      <th>4</th>\n",
       "      <td>2016-09-01 04:59:59</td>\n",
       "      <td>199.099327</td>\n",
       "      <td>10.682530</td>\n",
       "      <td>7.530000</td>\n",
       "      <td>0.805575</td>\n",
       "      <td>1401.268123</td>\n",
       "      <td>-500.808305</td>\n",
       "      <td>1398.128818</td>\n",
       "      <td>-499.504543</td>\n",
       "      <td>1402.172226</td>\n",
       "      <td>...</td>\n",
       "      <td>12.025367</td>\n",
       "      <td>-500.786497</td>\n",
       "      <td>8.054678</td>\n",
       "      <td>-500.397500</td>\n",
       "      <td>8.107890</td>\n",
       "      <td>-509.526725</td>\n",
       "      <td>4.957674</td>\n",
       "      <td>-500.360026</td>\n",
       "      <td>25.003331</td>\n",
       "      <td>-500.856333</td>\n",
       "    </tr>\n",
       "  </tbody>\n",
       "</table>\n",
       "<p>5 rows × 53 columns</p>\n",
       "</div>\n",
       "      <button class=\"colab-df-convert\" onclick=\"convertToInteractive('df-66159bd2-5007-4a19-a2f3-6fb96e6cbe81')\"\n",
       "              title=\"Convert this dataframe to an interactive table.\"\n",
       "              style=\"display:none;\">\n",
       "        \n",
       "  <svg xmlns=\"http://www.w3.org/2000/svg\" height=\"24px\"viewBox=\"0 0 24 24\"\n",
       "       width=\"24px\">\n",
       "    <path d=\"M0 0h24v24H0V0z\" fill=\"none\"/>\n",
       "    <path d=\"M18.56 5.44l.94 2.06.94-2.06 2.06-.94-2.06-.94-.94-2.06-.94 2.06-2.06.94zm-11 1L8.5 8.5l.94-2.06 2.06-.94-2.06-.94L8.5 2.5l-.94 2.06-2.06.94zm10 10l.94 2.06.94-2.06 2.06-.94-2.06-.94-.94-2.06-.94 2.06-2.06.94z\"/><path d=\"M17.41 7.96l-1.37-1.37c-.4-.4-.92-.59-1.43-.59-.52 0-1.04.2-1.43.59L10.3 9.45l-7.72 7.72c-.78.78-.78 2.05 0 2.83L4 21.41c.39.39.9.59 1.41.59.51 0 1.02-.2 1.41-.59l7.78-7.78 2.81-2.81c.8-.78.8-2.07 0-2.86zM5.41 20L4 18.59l7.72-7.72 1.47 1.35L5.41 20z\"/>\n",
       "  </svg>\n",
       "      </button>\n",
       "      \n",
       "  <style>\n",
       "    .colab-df-container {\n",
       "      display:flex;\n",
       "      flex-wrap:wrap;\n",
       "      gap: 12px;\n",
       "    }\n",
       "\n",
       "    .colab-df-convert {\n",
       "      background-color: #E8F0FE;\n",
       "      border: none;\n",
       "      border-radius: 50%;\n",
       "      cursor: pointer;\n",
       "      display: none;\n",
       "      fill: #1967D2;\n",
       "      height: 32px;\n",
       "      padding: 0 0 0 0;\n",
       "      width: 32px;\n",
       "    }\n",
       "\n",
       "    .colab-df-convert:hover {\n",
       "      background-color: #E2EBFA;\n",
       "      box-shadow: 0px 1px 2px rgba(60, 64, 67, 0.3), 0px 1px 3px 1px rgba(60, 64, 67, 0.15);\n",
       "      fill: #174EA6;\n",
       "    }\n",
       "\n",
       "    [theme=dark] .colab-df-convert {\n",
       "      background-color: #3B4455;\n",
       "      fill: #D2E3FC;\n",
       "    }\n",
       "\n",
       "    [theme=dark] .colab-df-convert:hover {\n",
       "      background-color: #434B5C;\n",
       "      box-shadow: 0px 1px 3px 1px rgba(0, 0, 0, 0.15);\n",
       "      filter: drop-shadow(0px 1px 2px rgba(0, 0, 0, 0.3));\n",
       "      fill: #FFFFFF;\n",
       "    }\n",
       "  </style>\n",
       "\n",
       "      <script>\n",
       "        const buttonEl =\n",
       "          document.querySelector('#df-66159bd2-5007-4a19-a2f3-6fb96e6cbe81 button.colab-df-convert');\n",
       "        buttonEl.style.display =\n",
       "          google.colab.kernel.accessAllowed ? 'block' : 'none';\n",
       "\n",
       "        async function convertToInteractive(key) {\n",
       "          const element = document.querySelector('#df-66159bd2-5007-4a19-a2f3-6fb96e6cbe81');\n",
       "          const dataTable =\n",
       "            await google.colab.kernel.invokeFunction('convertToInteractive',\n",
       "                                                     [key], {});\n",
       "          if (!dataTable) return;\n",
       "\n",
       "          const docLinkHtml = 'Like what you see? Visit the ' +\n",
       "            '<a target=\"_blank\" href=https://colab.research.google.com/notebooks/data_table.ipynb>data table notebook</a>'\n",
       "            + ' to learn more about interactive tables.';\n",
       "          element.innerHTML = '';\n",
       "          dataTable['output_type'] = 'display_data';\n",
       "          await google.colab.output.renderOutput(dataTable, element);\n",
       "          const docLink = document.createElement('div');\n",
       "          docLink.innerHTML = docLinkHtml;\n",
       "          element.appendChild(docLink);\n",
       "        }\n",
       "      </script>\n",
       "    </div>\n",
       "  </div>\n",
       "  "
      ],
      "text/plain": [
       "                  date  primary_cleaner.input.sulfate  \\\n",
       "0  2016-09-01 00:59:59                     210.800909   \n",
       "1  2016-09-01 01:59:59                     215.392455   \n",
       "2  2016-09-01 02:59:59                     215.259946   \n",
       "3  2016-09-01 03:59:59                     215.336236   \n",
       "4  2016-09-01 04:59:59                     199.099327   \n",
       "\n",
       "   primary_cleaner.input.depressant  primary_cleaner.input.feed_size  \\\n",
       "0                         14.993118                         8.080000   \n",
       "1                         14.987471                         8.080000   \n",
       "2                         12.884934                         7.786667   \n",
       "3                         12.006805                         7.640000   \n",
       "4                         10.682530                         7.530000   \n",
       "\n",
       "   primary_cleaner.input.xanthate  primary_cleaner.state.floatbank8_a_air  \\\n",
       "0                        1.005021                             1398.981301   \n",
       "1                        0.990469                             1398.777912   \n",
       "2                        0.996043                             1398.493666   \n",
       "3                        0.863514                             1399.618111   \n",
       "4                        0.805575                             1401.268123   \n",
       "\n",
       "   primary_cleaner.state.floatbank8_a_level  \\\n",
       "0                               -500.225577   \n",
       "1                               -500.057435   \n",
       "2                               -500.868360   \n",
       "3                               -498.863574   \n",
       "4                               -500.808305   \n",
       "\n",
       "   primary_cleaner.state.floatbank8_b_air  \\\n",
       "0                             1399.144926   \n",
       "1                             1398.055362   \n",
       "2                             1398.860436   \n",
       "3                             1397.440120   \n",
       "4                             1398.128818   \n",
       "\n",
       "   primary_cleaner.state.floatbank8_b_level  \\\n",
       "0                               -499.919735   \n",
       "1                               -499.778182   \n",
       "2                               -499.764529   \n",
       "3                               -499.211024   \n",
       "4                               -499.504543   \n",
       "\n",
       "   primary_cleaner.state.floatbank8_c_air  ...  \\\n",
       "0                             1400.102998  ...   \n",
       "1                             1396.151033  ...   \n",
       "2                             1398.075709  ...   \n",
       "3                             1400.129303  ...   \n",
       "4                             1402.172226  ...   \n",
       "\n",
       "   secondary_cleaner.state.floatbank4_a_air  \\\n",
       "0                                 12.023554   \n",
       "1                                 12.058140   \n",
       "2                                 11.962366   \n",
       "3                                 12.033091   \n",
       "4                                 12.025367   \n",
       "\n",
       "   secondary_cleaner.state.floatbank4_a_level  \\\n",
       "0                                 -497.795834   \n",
       "1                                 -498.695773   \n",
       "2                                 -498.767484   \n",
       "3                                 -498.350935   \n",
       "4                                 -500.786497   \n",
       "\n",
       "   secondary_cleaner.state.floatbank4_b_air  \\\n",
       "0                                  8.016656   \n",
       "1                                  8.130979   \n",
       "2                                  8.096893   \n",
       "3                                  8.074946   \n",
       "4                                  8.054678   \n",
       "\n",
       "   secondary_cleaner.state.floatbank4_b_level  \\\n",
       "0                                 -501.289139   \n",
       "1                                 -499.634209   \n",
       "2                                 -500.827423   \n",
       "3                                 -499.474407   \n",
       "4                                 -500.397500   \n",
       "\n",
       "   secondary_cleaner.state.floatbank5_a_air  \\\n",
       "0                                  7.946562   \n",
       "1                                  7.958270   \n",
       "2                                  8.071056   \n",
       "3                                  7.897085   \n",
       "4                                  8.107890   \n",
       "\n",
       "   secondary_cleaner.state.floatbank5_a_level  \\\n",
       "0                                 -432.317850   \n",
       "1                                 -525.839648   \n",
       "2                                 -500.801673   \n",
       "3                                 -500.868509   \n",
       "4                                 -509.526725   \n",
       "\n",
       "   secondary_cleaner.state.floatbank5_b_air  \\\n",
       "0                                  4.872511   \n",
       "1                                  4.878850   \n",
       "2                                  4.905125   \n",
       "3                                  4.931400   \n",
       "4                                  4.957674   \n",
       "\n",
       "   secondary_cleaner.state.floatbank5_b_level  \\\n",
       "0                                 -500.037437   \n",
       "1                                 -500.162375   \n",
       "2                                 -499.828510   \n",
       "3                                 -499.963623   \n",
       "4                                 -500.360026   \n",
       "\n",
       "   secondary_cleaner.state.floatbank6_a_air  \\\n",
       "0                                 26.705889   \n",
       "1                                 25.019940   \n",
       "2                                 24.994862   \n",
       "3                                 24.948919   \n",
       "4                                 25.003331   \n",
       "\n",
       "   secondary_cleaner.state.floatbank6_a_level  \n",
       "0                                 -499.709414  \n",
       "1                                 -499.819438  \n",
       "2                                 -500.622559  \n",
       "3                                 -498.709987  \n",
       "4                                 -500.856333  \n",
       "\n",
       "[5 rows x 53 columns]"
      ]
     },
     "execution_count": 10,
     "metadata": {},
     "output_type": "execute_result"
    }
   ],
   "source": [
    "test_data.head()"
   ]
  },
  {
   "cell_type": "code",
   "execution_count": 11,
   "metadata": {
    "colab": {
     "base_uri": "https://localhost:8080/",
     "height": 473
    },
    "id": "hfXdCISmUKPu",
    "outputId": "6962e626-c607-41d2-d9a8-685b2e38fe81"
   },
   "outputs": [
    {
     "data": {
      "text/html": [
       "\n",
       "  <div id=\"df-e0b9689f-c3ce-4ff0-8f4b-e079f219842d\">\n",
       "    <div class=\"colab-df-container\">\n",
       "      <div>\n",
       "<style scoped>\n",
       "    .dataframe tbody tr th:only-of-type {\n",
       "        vertical-align: middle;\n",
       "    }\n",
       "\n",
       "    .dataframe tbody tr th {\n",
       "        vertical-align: top;\n",
       "    }\n",
       "\n",
       "    .dataframe thead th {\n",
       "        text-align: right;\n",
       "    }\n",
       "</style>\n",
       "<table border=\"1\" class=\"dataframe\">\n",
       "  <thead>\n",
       "    <tr style=\"text-align: right;\">\n",
       "      <th></th>\n",
       "      <th>date</th>\n",
       "      <th>final.output.concentrate_ag</th>\n",
       "      <th>final.output.concentrate_pb</th>\n",
       "      <th>final.output.concentrate_sol</th>\n",
       "      <th>final.output.concentrate_au</th>\n",
       "      <th>final.output.recovery</th>\n",
       "      <th>final.output.tail_ag</th>\n",
       "      <th>final.output.tail_pb</th>\n",
       "      <th>final.output.tail_sol</th>\n",
       "      <th>final.output.tail_au</th>\n",
       "      <th>...</th>\n",
       "      <th>secondary_cleaner.state.floatbank4_a_air</th>\n",
       "      <th>secondary_cleaner.state.floatbank4_a_level</th>\n",
       "      <th>secondary_cleaner.state.floatbank4_b_air</th>\n",
       "      <th>secondary_cleaner.state.floatbank4_b_level</th>\n",
       "      <th>secondary_cleaner.state.floatbank5_a_air</th>\n",
       "      <th>secondary_cleaner.state.floatbank5_a_level</th>\n",
       "      <th>secondary_cleaner.state.floatbank5_b_air</th>\n",
       "      <th>secondary_cleaner.state.floatbank5_b_level</th>\n",
       "      <th>secondary_cleaner.state.floatbank6_a_air</th>\n",
       "      <th>secondary_cleaner.state.floatbank6_a_level</th>\n",
       "    </tr>\n",
       "  </thead>\n",
       "  <tbody>\n",
       "    <tr>\n",
       "      <th>0</th>\n",
       "      <td>2016-01-15 00:00:00</td>\n",
       "      <td>6.055403</td>\n",
       "      <td>9.889648</td>\n",
       "      <td>5.507324</td>\n",
       "      <td>42.192020</td>\n",
       "      <td>70.541216</td>\n",
       "      <td>10.411962</td>\n",
       "      <td>0.895447</td>\n",
       "      <td>16.904297</td>\n",
       "      <td>2.143149</td>\n",
       "      <td>...</td>\n",
       "      <td>14.016835</td>\n",
       "      <td>-502.488007</td>\n",
       "      <td>12.099931</td>\n",
       "      <td>-504.715942</td>\n",
       "      <td>9.925633</td>\n",
       "      <td>-498.310211</td>\n",
       "      <td>8.079666</td>\n",
       "      <td>-500.470978</td>\n",
       "      <td>14.151341</td>\n",
       "      <td>-605.841980</td>\n",
       "    </tr>\n",
       "    <tr>\n",
       "      <th>1</th>\n",
       "      <td>2016-01-15 01:00:00</td>\n",
       "      <td>6.029369</td>\n",
       "      <td>9.968944</td>\n",
       "      <td>5.257781</td>\n",
       "      <td>42.701629</td>\n",
       "      <td>69.266198</td>\n",
       "      <td>10.462676</td>\n",
       "      <td>0.927452</td>\n",
       "      <td>16.634514</td>\n",
       "      <td>2.224930</td>\n",
       "      <td>...</td>\n",
       "      <td>13.992281</td>\n",
       "      <td>-505.503262</td>\n",
       "      <td>11.950531</td>\n",
       "      <td>-501.331529</td>\n",
       "      <td>10.039245</td>\n",
       "      <td>-500.169983</td>\n",
       "      <td>7.984757</td>\n",
       "      <td>-500.582168</td>\n",
       "      <td>13.998353</td>\n",
       "      <td>-599.787184</td>\n",
       "    </tr>\n",
       "    <tr>\n",
       "      <th>2</th>\n",
       "      <td>2016-01-15 02:00:00</td>\n",
       "      <td>6.055926</td>\n",
       "      <td>10.213995</td>\n",
       "      <td>5.383759</td>\n",
       "      <td>42.657501</td>\n",
       "      <td>68.116445</td>\n",
       "      <td>10.507046</td>\n",
       "      <td>0.953716</td>\n",
       "      <td>16.208849</td>\n",
       "      <td>2.257889</td>\n",
       "      <td>...</td>\n",
       "      <td>14.015015</td>\n",
       "      <td>-502.520901</td>\n",
       "      <td>11.912783</td>\n",
       "      <td>-501.133383</td>\n",
       "      <td>10.070913</td>\n",
       "      <td>-500.129135</td>\n",
       "      <td>8.013877</td>\n",
       "      <td>-500.517572</td>\n",
       "      <td>14.028663</td>\n",
       "      <td>-601.427363</td>\n",
       "    </tr>\n",
       "    <tr>\n",
       "      <th>3</th>\n",
       "      <td>2016-01-15 03:00:00</td>\n",
       "      <td>6.047977</td>\n",
       "      <td>9.977019</td>\n",
       "      <td>4.858634</td>\n",
       "      <td>42.689819</td>\n",
       "      <td>68.347543</td>\n",
       "      <td>10.422762</td>\n",
       "      <td>0.883763</td>\n",
       "      <td>16.532835</td>\n",
       "      <td>2.146849</td>\n",
       "      <td>...</td>\n",
       "      <td>14.036510</td>\n",
       "      <td>-500.857308</td>\n",
       "      <td>11.999550</td>\n",
       "      <td>-501.193686</td>\n",
       "      <td>9.970366</td>\n",
       "      <td>-499.201640</td>\n",
       "      <td>7.977324</td>\n",
       "      <td>-500.255908</td>\n",
       "      <td>14.005551</td>\n",
       "      <td>-599.996129</td>\n",
       "    </tr>\n",
       "    <tr>\n",
       "      <th>4</th>\n",
       "      <td>2016-01-15 04:00:00</td>\n",
       "      <td>6.148599</td>\n",
       "      <td>10.142511</td>\n",
       "      <td>4.939416</td>\n",
       "      <td>42.774141</td>\n",
       "      <td>66.927016</td>\n",
       "      <td>10.360302</td>\n",
       "      <td>0.792826</td>\n",
       "      <td>16.525686</td>\n",
       "      <td>2.055292</td>\n",
       "      <td>...</td>\n",
       "      <td>14.027298</td>\n",
       "      <td>-499.838632</td>\n",
       "      <td>11.953070</td>\n",
       "      <td>-501.053894</td>\n",
       "      <td>9.925709</td>\n",
       "      <td>-501.686727</td>\n",
       "      <td>7.894242</td>\n",
       "      <td>-500.356035</td>\n",
       "      <td>13.996647</td>\n",
       "      <td>-601.496691</td>\n",
       "    </tr>\n",
       "  </tbody>\n",
       "</table>\n",
       "<p>5 rows × 87 columns</p>\n",
       "</div>\n",
       "      <button class=\"colab-df-convert\" onclick=\"convertToInteractive('df-e0b9689f-c3ce-4ff0-8f4b-e079f219842d')\"\n",
       "              title=\"Convert this dataframe to an interactive table.\"\n",
       "              style=\"display:none;\">\n",
       "        \n",
       "  <svg xmlns=\"http://www.w3.org/2000/svg\" height=\"24px\"viewBox=\"0 0 24 24\"\n",
       "       width=\"24px\">\n",
       "    <path d=\"M0 0h24v24H0V0z\" fill=\"none\"/>\n",
       "    <path d=\"M18.56 5.44l.94 2.06.94-2.06 2.06-.94-2.06-.94-.94-2.06-.94 2.06-2.06.94zm-11 1L8.5 8.5l.94-2.06 2.06-.94-2.06-.94L8.5 2.5l-.94 2.06-2.06.94zm10 10l.94 2.06.94-2.06 2.06-.94-2.06-.94-.94-2.06-.94 2.06-2.06.94z\"/><path d=\"M17.41 7.96l-1.37-1.37c-.4-.4-.92-.59-1.43-.59-.52 0-1.04.2-1.43.59L10.3 9.45l-7.72 7.72c-.78.78-.78 2.05 0 2.83L4 21.41c.39.39.9.59 1.41.59.51 0 1.02-.2 1.41-.59l7.78-7.78 2.81-2.81c.8-.78.8-2.07 0-2.86zM5.41 20L4 18.59l7.72-7.72 1.47 1.35L5.41 20z\"/>\n",
       "  </svg>\n",
       "      </button>\n",
       "      \n",
       "  <style>\n",
       "    .colab-df-container {\n",
       "      display:flex;\n",
       "      flex-wrap:wrap;\n",
       "      gap: 12px;\n",
       "    }\n",
       "\n",
       "    .colab-df-convert {\n",
       "      background-color: #E8F0FE;\n",
       "      border: none;\n",
       "      border-radius: 50%;\n",
       "      cursor: pointer;\n",
       "      display: none;\n",
       "      fill: #1967D2;\n",
       "      height: 32px;\n",
       "      padding: 0 0 0 0;\n",
       "      width: 32px;\n",
       "    }\n",
       "\n",
       "    .colab-df-convert:hover {\n",
       "      background-color: #E2EBFA;\n",
       "      box-shadow: 0px 1px 2px rgba(60, 64, 67, 0.3), 0px 1px 3px 1px rgba(60, 64, 67, 0.15);\n",
       "      fill: #174EA6;\n",
       "    }\n",
       "\n",
       "    [theme=dark] .colab-df-convert {\n",
       "      background-color: #3B4455;\n",
       "      fill: #D2E3FC;\n",
       "    }\n",
       "\n",
       "    [theme=dark] .colab-df-convert:hover {\n",
       "      background-color: #434B5C;\n",
       "      box-shadow: 0px 1px 3px 1px rgba(0, 0, 0, 0.15);\n",
       "      filter: drop-shadow(0px 1px 2px rgba(0, 0, 0, 0.3));\n",
       "      fill: #FFFFFF;\n",
       "    }\n",
       "  </style>\n",
       "\n",
       "      <script>\n",
       "        const buttonEl =\n",
       "          document.querySelector('#df-e0b9689f-c3ce-4ff0-8f4b-e079f219842d button.colab-df-convert');\n",
       "        buttonEl.style.display =\n",
       "          google.colab.kernel.accessAllowed ? 'block' : 'none';\n",
       "\n",
       "        async function convertToInteractive(key) {\n",
       "          const element = document.querySelector('#df-e0b9689f-c3ce-4ff0-8f4b-e079f219842d');\n",
       "          const dataTable =\n",
       "            await google.colab.kernel.invokeFunction('convertToInteractive',\n",
       "                                                     [key], {});\n",
       "          if (!dataTable) return;\n",
       "\n",
       "          const docLinkHtml = 'Like what you see? Visit the ' +\n",
       "            '<a target=\"_blank\" href=https://colab.research.google.com/notebooks/data_table.ipynb>data table notebook</a>'\n",
       "            + ' to learn more about interactive tables.';\n",
       "          element.innerHTML = '';\n",
       "          dataTable['output_type'] = 'display_data';\n",
       "          await google.colab.output.renderOutput(dataTable, element);\n",
       "          const docLink = document.createElement('div');\n",
       "          docLink.innerHTML = docLinkHtml;\n",
       "          element.appendChild(docLink);\n",
       "        }\n",
       "      </script>\n",
       "    </div>\n",
       "  </div>\n",
       "  "
      ],
      "text/plain": [
       "                  date  final.output.concentrate_ag  \\\n",
       "0  2016-01-15 00:00:00                     6.055403   \n",
       "1  2016-01-15 01:00:00                     6.029369   \n",
       "2  2016-01-15 02:00:00                     6.055926   \n",
       "3  2016-01-15 03:00:00                     6.047977   \n",
       "4  2016-01-15 04:00:00                     6.148599   \n",
       "\n",
       "   final.output.concentrate_pb  final.output.concentrate_sol  \\\n",
       "0                     9.889648                      5.507324   \n",
       "1                     9.968944                      5.257781   \n",
       "2                    10.213995                      5.383759   \n",
       "3                     9.977019                      4.858634   \n",
       "4                    10.142511                      4.939416   \n",
       "\n",
       "   final.output.concentrate_au  final.output.recovery  final.output.tail_ag  \\\n",
       "0                    42.192020              70.541216             10.411962   \n",
       "1                    42.701629              69.266198             10.462676   \n",
       "2                    42.657501              68.116445             10.507046   \n",
       "3                    42.689819              68.347543             10.422762   \n",
       "4                    42.774141              66.927016             10.360302   \n",
       "\n",
       "   final.output.tail_pb  final.output.tail_sol  final.output.tail_au  ...  \\\n",
       "0              0.895447              16.904297              2.143149  ...   \n",
       "1              0.927452              16.634514              2.224930  ...   \n",
       "2              0.953716              16.208849              2.257889  ...   \n",
       "3              0.883763              16.532835              2.146849  ...   \n",
       "4              0.792826              16.525686              2.055292  ...   \n",
       "\n",
       "   secondary_cleaner.state.floatbank4_a_air  \\\n",
       "0                                 14.016835   \n",
       "1                                 13.992281   \n",
       "2                                 14.015015   \n",
       "3                                 14.036510   \n",
       "4                                 14.027298   \n",
       "\n",
       "   secondary_cleaner.state.floatbank4_a_level  \\\n",
       "0                                 -502.488007   \n",
       "1                                 -505.503262   \n",
       "2                                 -502.520901   \n",
       "3                                 -500.857308   \n",
       "4                                 -499.838632   \n",
       "\n",
       "   secondary_cleaner.state.floatbank4_b_air  \\\n",
       "0                                 12.099931   \n",
       "1                                 11.950531   \n",
       "2                                 11.912783   \n",
       "3                                 11.999550   \n",
       "4                                 11.953070   \n",
       "\n",
       "   secondary_cleaner.state.floatbank4_b_level  \\\n",
       "0                                 -504.715942   \n",
       "1                                 -501.331529   \n",
       "2                                 -501.133383   \n",
       "3                                 -501.193686   \n",
       "4                                 -501.053894   \n",
       "\n",
       "   secondary_cleaner.state.floatbank5_a_air  \\\n",
       "0                                  9.925633   \n",
       "1                                 10.039245   \n",
       "2                                 10.070913   \n",
       "3                                  9.970366   \n",
       "4                                  9.925709   \n",
       "\n",
       "   secondary_cleaner.state.floatbank5_a_level  \\\n",
       "0                                 -498.310211   \n",
       "1                                 -500.169983   \n",
       "2                                 -500.129135   \n",
       "3                                 -499.201640   \n",
       "4                                 -501.686727   \n",
       "\n",
       "   secondary_cleaner.state.floatbank5_b_air  \\\n",
       "0                                  8.079666   \n",
       "1                                  7.984757   \n",
       "2                                  8.013877   \n",
       "3                                  7.977324   \n",
       "4                                  7.894242   \n",
       "\n",
       "   secondary_cleaner.state.floatbank5_b_level  \\\n",
       "0                                 -500.470978   \n",
       "1                                 -500.582168   \n",
       "2                                 -500.517572   \n",
       "3                                 -500.255908   \n",
       "4                                 -500.356035   \n",
       "\n",
       "   secondary_cleaner.state.floatbank6_a_air  \\\n",
       "0                                 14.151341   \n",
       "1                                 13.998353   \n",
       "2                                 14.028663   \n",
       "3                                 14.005551   \n",
       "4                                 13.996647   \n",
       "\n",
       "   secondary_cleaner.state.floatbank6_a_level  \n",
       "0                                 -605.841980  \n",
       "1                                 -599.787184  \n",
       "2                                 -601.427363  \n",
       "3                                 -599.996129  \n",
       "4                                 -601.496691  \n",
       "\n",
       "[5 rows x 87 columns]"
      ]
     },
     "execution_count": 11,
     "metadata": {},
     "output_type": "execute_result"
    }
   ],
   "source": [
    "full_data.head()"
   ]
  },
  {
   "cell_type": "code",
   "execution_count": 12,
   "metadata": {
    "colab": {
     "base_uri": "https://localhost:8080/"
    },
    "id": "jrbq4epKUKPu",
    "outputId": "c79d55ac-e46c-4997-b829-f68958320cd3",
    "scrolled": true
   },
   "outputs": [
    {
     "name": "stdout",
     "output_type": "stream",
     "text": [
      "Размер 1 датасета (14149, 87)\n",
      "Количество пропусков в 1 датасете 4100\n",
      "Размер 2 датасета (5290, 53)\n",
      "Количество пропусков в 2 датасете 90\n",
      "Размер 3 датасета (19439, 87)\n",
      "Количество пропусков в 3 датасете 4481\n"
     ]
    }
   ],
   "source": [
    "for i in range(3):\n",
    "    print(f\"Размер {i+1} датасета {data[i].shape}\")    \n",
    "    print(f\"Количество пропусков в {i+1} датасете {data[i].isnull().sum().sum()}\")"
   ]
  },
  {
   "cell_type": "code",
   "execution_count": 13,
   "metadata": {
    "colab": {
     "base_uri": "https://localhost:8080/",
     "height": 1000
    },
    "id": "YAFfSfbiUKPv",
    "outputId": "7327bdfc-7765-4708-c421-154bb0f1688b"
   },
   "outputs": [
    {
     "data": {
      "image/png": "[encoded data removed]",
      "text/plain": [
       "<Figure size 1500x1500 with 2 Axes>"
      ]
     },
     "metadata": {},
     "output_type": "display_data"
    }
   ],
   "source": [
    "plt.figure(figsize = (15,15))\n",
    "plt.title('Анализ корреляции признаков')\n",
    "matrix = (train_data.corr()<0.6)\n",
    "sns.heatmap(matrix, mask=matrix, cmap=\"crest\");"
   ]
  },
  {
   "cell_type": "markdown",
   "metadata": {
    "id": "sTYNOdyfUKPv"
   },
   "source": [
    "> Большинство обнаруженных корреляций можно объяснить так: чем больше вводимого ввещества тем больше нужно флотационных реагентов и тем больше отвальных хвостов, и есть группы корреляций связанных с содержанием воздуха во время опеределенных операций "
   ]
  },
  {
   "cell_type": "markdown",
   "metadata": {
    "id": "qz6DY1QtUKPv"
   },
   "source": [
    "### Проверка эффективности обогащения"
   ]
  },
  {
   "cell_type": "code",
   "execution_count": 14,
   "metadata": {
    "id": "MbjB8y3AUKPv"
   },
   "outputs": [],
   "source": [
    "C = train_data['rougher.output.concentrate_au'] # доля золота в концентрате после флотации/очистки;\n",
    "F = train_data['rougher.input.feed_au'] #доля золота в сырье/концентрате до флотации/очистки;\n",
    "T = train_data['rougher.output.tail_au'] #доля золота в отвальных хвостах после флотации/очистки."
   ]
  },
  {
   "cell_type": "code",
   "execution_count": 15,
   "metadata": {
    "id": "NrMblMs1UKPw"
   },
   "outputs": [],
   "source": [
    "recovery = (C*(F-T))/(F*(C-T))*100 \n",
    "recovery = recovery.fillna(recovery.median())"
   ]
  },
  {
   "cell_type": "markdown",
   "metadata": {
    "id": "NsyKuojDUKPw"
   },
   "source": [
    "> Присутсвовало 2 пропуска, решил запололнить их медианным значением"
   ]
  },
  {
   "cell_type": "code",
   "execution_count": 16,
   "metadata": {
    "colab": {
     "base_uri": "https://localhost:8080/"
    },
    "id": "OCoJXYYpUKPw",
    "outputId": "f82eb308-625e-4a8e-f73a-6c24dd879d08"
   },
   "outputs": [
    {
     "data": {
      "text/plain": [
       "9.73512347450521e-15"
      ]
     },
     "execution_count": 16,
     "metadata": {},
     "output_type": "execute_result"
    }
   ],
   "source": [
    "mean_absolute_error(train_data['rougher.output.recovery'], recovery)"
   ]
  },
  {
   "cell_type": "markdown",
   "metadata": {
    "id": "E2tnNcU9UKPw"
   },
   "source": [
    "### Анализ недоступных признаков"
   ]
  },
  {
   "cell_type": "code",
   "execution_count": 17,
   "metadata": {
    "colab": {
     "base_uri": "https://localhost:8080/"
    },
    "id": "AFWJhltyUKPw",
    "outputId": "c468ddbf-9243-48de-a31e-581a61a98688"
   },
   "outputs": [
    {
     "data": {
      "text/plain": [
       "{'final.output.concentrate_ag',\n",
       " 'final.output.concentrate_au',\n",
       " 'final.output.concentrate_pb',\n",
       " 'final.output.concentrate_sol',\n",
       " 'final.output.recovery',\n",
       " 'final.output.tail_ag',\n",
       " 'final.output.tail_au',\n",
       " 'final.output.tail_pb',\n",
       " 'final.output.tail_sol',\n",
       " 'primary_cleaner.output.concentrate_ag',\n",
       " 'primary_cleaner.output.concentrate_au',\n",
       " 'primary_cleaner.output.concentrate_pb',\n",
       " 'primary_cleaner.output.concentrate_sol',\n",
       " 'primary_cleaner.output.tail_ag',\n",
       " 'primary_cleaner.output.tail_au',\n",
       " 'primary_cleaner.output.tail_pb',\n",
       " 'primary_cleaner.output.tail_sol',\n",
       " 'rougher.calculation.au_pb_ratio',\n",
       " 'rougher.calculation.floatbank10_sulfate_to_au_feed',\n",
       " 'rougher.calculation.floatbank11_sulfate_to_au_feed',\n",
       " 'rougher.calculation.sulfate_to_au_concentrate',\n",
       " 'rougher.output.concentrate_ag',\n",
       " 'rougher.output.concentrate_au',\n",
       " 'rougher.output.concentrate_pb',\n",
       " 'rougher.output.concentrate_sol',\n",
       " 'rougher.output.recovery',\n",
       " 'rougher.output.tail_ag',\n",
       " 'rougher.output.tail_au',\n",
       " 'rougher.output.tail_pb',\n",
       " 'rougher.output.tail_sol',\n",
       " 'secondary_cleaner.output.tail_ag',\n",
       " 'secondary_cleaner.output.tail_au',\n",
       " 'secondary_cleaner.output.tail_pb',\n",
       " 'secondary_cleaner.output.tail_sol'}"
      ]
     },
     "execution_count": 17,
     "metadata": {},
     "output_type": "execute_result"
    }
   ],
   "source": [
    "set(train_data.columns)-set(test_data.columns)"
   ]
  },
  {
   "cell_type": "markdown",
   "metadata": {
    "id": "HrEDscQmUKPx"
   },
   "source": [
    "> В тестовом датасете отсутствуют признаки которые появляются в процессе обогащения, очистки золота "
   ]
  },
  {
   "cell_type": "markdown",
   "metadata": {
    "id": "Qxk90NA6UKPx"
   },
   "source": [
    "### Предобработка данных"
   ]
  },
  {
   "cell_type": "code",
   "execution_count": 18,
   "metadata": {
    "colab": {
     "base_uri": "https://localhost:8080/"
    },
    "id": "D1sDlzrTUKPx",
    "outputId": "d4b7406b-fc3f-4450-c127-59aa4e25efd3"
   },
   "outputs": [
    {
     "name": "stdout",
     "output_type": "stream",
     "text": [
      "(14149, 87)\n",
      "(5290, 53)\n"
     ]
    }
   ],
   "source": [
    "print(train_data.shape)\n",
    "print(test_data.shape)"
   ]
  },
  {
   "cell_type": "code",
   "execution_count": 19,
   "metadata": {
    "id": "MH3sn2N4UKPx"
   },
   "outputs": [],
   "source": [
    "train_data = train_data.dropna().reset_index(drop=True)\n",
    "test_data = test_data.dropna().reset_index(drop=True)"
   ]
  },
  {
   "cell_type": "code",
   "execution_count": 20,
   "metadata": {
    "colab": {
     "base_uri": "https://localhost:8080/"
    },
    "id": "3-d3VyczUKPx",
    "outputId": "3fa875c7-b1ab-497b-f194-451e4ff8f275"
   },
   "outputs": [
    {
     "name": "stdout",
     "output_type": "stream",
     "text": [
      "(11017, 87)\n",
      "(5229, 53)\n"
     ]
    }
   ],
   "source": [
    "print(train_data.shape)\n",
    "print(test_data.shape)"
   ]
  },
  {
   "cell_type": "markdown",
   "metadata": {
    "id": "gkCx5KynUKPy"
   },
   "source": [
    "> Удаляем пропуски (так как близкие признаки похожи можно попробовать использовать KNNImputer из библиотеки sklearn)"
   ]
  },
  {
   "cell_type": "markdown",
   "metadata": {
    "id": "MMhryFJiUKPy"
   },
   "source": [
    "## Анализ данных"
   ]
  },
  {
   "cell_type": "markdown",
   "metadata": {
    "id": "jXbyqpotUKPy"
   },
   "source": [
    "### Анализ концентрации Au, Ag и Pb во время технологического процесса"
   ]
  },
  {
   "cell_type": "code",
   "execution_count": 21,
   "metadata": {
    "id": "jN_9jft-UKPy"
   },
   "outputs": [],
   "source": [
    "au_con = ['rougher.input.feed_au', \n",
    "          'rougher.output.concentrate_au',\n",
    "          'primary_cleaner.output.concentrate_au',\n",
    "          'final.output.concentrate_au',\n",
    "            ]\n",
    "\n",
    "ag_con = ['rougher.input.feed_ag',\n",
    "             'rougher.output.concentrate_ag',\n",
    "             'primary_cleaner.output.concentrate_ag',\n",
    "             'final.output.concentrate_ag',\n",
    "          ]\n",
    "\n",
    "pb_con = ['rougher.input.feed_pb', \n",
    "          'rougher.output.concentrate_pb',\n",
    "          'primary_cleaner.output.concentrate_pb',\n",
    "          'final.output.concentrate_pb',\n",
    "            ]"
   ]
  },
  {
   "cell_type": "code",
   "execution_count": 22,
   "metadata": {
    "colab": {
     "base_uri": "https://localhost:8080/",
     "height": 654
    },
    "id": "81WtsHXfUKPy",
    "outputId": "89cc830f-c1c2-4a6d-d1f6-487538155ade"
   },
   "outputs": [
    {
     "data": {
      "image/png": "[encoded data removed]",
      "text/plain": [
       "<Figure size 1400x800 with 1 Axes>"
      ]
     },
     "metadata": {},
     "output_type": "display_data"
    }
   ],
   "source": [
    "plt.figure(figsize=(14,8))\n",
    "plt.grid(True)\n",
    "plt.title('Концентрация золота на разных этапах производства')\n",
    "\n",
    "for i in range(4):\n",
    "    process = au_con[i]\n",
    "    plt.hist(train_data[process], bins=30, alpha=0.5)\n",
    "    \n",
    "plt.legend([\"На входном\", \"Флотация\", \"Первичная очистка\", \"Финальный\"]);"
   ]
  },
  {
   "cell_type": "code",
   "execution_count": 23,
   "metadata": {
    "colab": {
     "base_uri": "https://localhost:8080/",
     "height": 654
    },
    "id": "tUVhOB3YUKPz",
    "outputId": "649d6aba-7d43-4593-e21a-3e976eed4859"
   },
   "outputs": [
    {
     "data": {
      "image/png": "[encoded data removed]",
      "text/plain": [
       "<Figure size 1400x800 with 1 Axes>"
      ]
     },
     "metadata": {},
     "output_type": "display_data"
    }
   ],
   "source": [
    "plt.figure(figsize=(14,8))\n",
    "plt.grid(True)\n",
    "plt.title('Концентрация серебра на разных этапах производства')\n",
    "\n",
    "for i in range(4):\n",
    "    process = ag_con[i]\n",
    "    plt.hist(train_data[process], bins=30, alpha=0.5)\n",
    "\n",
    "plt.legend([\"На входном\", \"Флотация\", \"Первичная очистка\", \"Финальный\"]);"
   ]
  },
  {
   "cell_type": "code",
   "execution_count": 24,
   "metadata": {
    "colab": {
     "base_uri": "https://localhost:8080/",
     "height": 654
    },
    "id": "AHasUHwlUKPz",
    "outputId": "16e76262-37a2-4881-b8a3-9540fac330aa"
   },
   "outputs": [
    {
     "data": {
      "image/png": "[encoded data removed]",
      "text/plain": [
       "<Figure size 1400x800 with 1 Axes>"
      ]
     },
     "metadata": {},
     "output_type": "display_data"
    }
   ],
   "source": [
    "plt.figure(figsize=(14,8))\n",
    "plt.grid(True)\n",
    "plt.title('Концентрация свинца на разных этапах производства')\n",
    "\n",
    "for i in range(4):\n",
    "    process = pb_con[i]\n",
    "    plt.hist(train_data[process], bins=30, alpha=0.5)\n",
    "\n",
    "plt.legend([\"На входном\", \"Флотация\", \"Первичная очистка\", \"Финальный\"]);"
   ]
  },
  {
   "cell_type": "markdown",
   "metadata": {
    "id": "A_HtAPyoUKPz"
   },
   "source": [
    "> В процессе обогощения и очистки увеличивается концентрация золота и свинца, а концентрация серебра уменьшается"
   ]
  },
  {
   "cell_type": "markdown",
   "metadata": {
    "id": "EpXA8cNGUKPz"
   },
   "source": [
    "### Сравнение распределения гранул сырья"
   ]
  },
  {
   "cell_type": "code",
   "execution_count": 25,
   "metadata": {
    "colab": {
     "base_uri": "https://localhost:8080/",
     "height": 604
    },
    "id": "wEHMkyfZUKPz",
    "outputId": "2e74a19a-07e3-4873-d8fb-7a760e85cca6"
   },
   "outputs": [
    {
     "data": {
      "image/png": "[encoded data removed]",
      "text/plain": [
       "<Figure size 1500x800 with 1 Axes>"
      ]
     },
     "metadata": {},
     "output_type": "display_data"
    }
   ],
   "source": [
    "plt.figure(figsize=(15,8))\n",
    "plt.grid(True)\n",
    "plt.xlim([5, 10])\n",
    "\n",
    "sizes = [train_data['primary_cleaner.input.feed_size'], test_data['primary_cleaner.input.feed_size']]\n",
    "\n",
    "for i in range(2):\n",
    "    sns.histplot(data=sizes[i], stat='density');\n",
    "\n",
    "plt.legend(['train_data', 'test_data']);"
   ]
  },
  {
   "cell_type": "code",
   "execution_count": 26,
   "metadata": {
    "colab": {
     "base_uri": "https://localhost:8080/"
    },
    "id": "L0cl_KJVUKP0",
    "outputId": "34c35c17-fe8c-4793-afce-910f95f9d798"
   },
   "outputs": [
    {
     "name": "stdout",
     "output_type": "stream",
     "text": [
      "t-test: statistic=12.6649, p-value=0.0000\n"
     ]
    }
   ],
   "source": [
    "from scipy.stats import ttest_ind\n",
    "\n",
    "result, p_value = ttest_ind(train_data['primary_cleaner.input.feed_size'], test_data['primary_cleaner.input.feed_size'])\n",
    "\n",
    "print(f\"t-test: statistic={result:.4f}, p-value={p_value:.4f}\")"
   ]
  },
  {
   "cell_type": "markdown",
   "metadata": {
    "id": "eZ_2K_2UUKP0"
   },
   "source": [
    "> Распределение размера гранул в тренировочном датасете и в тестовом одинаково"
   ]
  },
  {
   "cell_type": "markdown",
   "metadata": {
    "id": "MgPYUVyyUKP0"
   },
   "source": [
    "### Исследование концентрации веществ на разных этапах производства"
   ]
  },
  {
   "cell_type": "code",
   "execution_count": 27,
   "metadata": {
    "id": "rsLcifTUUKP0"
   },
   "outputs": [],
   "source": [
    "rough = ['rougher.input.feed_ag', \n",
    "         'rougher.input.feed_pb',  \n",
    "         'rougher.input.feed_sol',  \n",
    "         'rougher.input.feed_au']\n",
    "\n",
    "rougher_output = ['rougher.output.concentrate_ag',\n",
    "           'rougher.output.concentrate_pb', \n",
    "           'rougher.output.concentrate_sol', \n",
    "           'rougher.output.concentrate_au']\n",
    "\n",
    "final = ['final.output.concentrate_ag',\n",
    "         'final.output.concentrate_pb',\n",
    "         'final.output.concentrate_sol', \n",
    "         'final.output.concentrate_au']\n",
    "\n",
    "processes = [rough, rougher_output, final]"
   ]
  },
  {
   "cell_type": "code",
   "execution_count": 28,
   "metadata": {
    "colab": {
     "base_uri": "https://localhost:8080/",
     "height": 654
    },
    "id": "WoBvTKRnUKP0",
    "outputId": "02a9237e-32a5-47ab-d285-ac39c7ed725a"
   },
   "outputs": [
    {
     "data": {
      "image/png": "[encoded data removed]",
      "text/plain": [
       "<Figure size 1400x800 with 1 Axes>"
      ]
     },
     "metadata": {},
     "output_type": "display_data"
    }
   ],
   "source": [
    "plt.figure(figsize=(14,8))\n",
    "plt.grid(True)\n",
    "plt.title('Концентрация веществ на разных этапах производства')\n",
    "\n",
    "for i in range(3):\n",
    "    process = processes[i]\n",
    "    plt.hist(train_data[process].sum(1), bins=30, alpha=0.5)\n",
    "\n",
    "plt.legend([\"В черновом\", \"Сырьё\", \"В финальном\"]);"
   ]
  },
  {
   "cell_type": "markdown",
   "metadata": {
    "id": "0s-pKOVkUKP0"
   },
   "source": [
    "> Присутствуют данные когда суммарная концентрация металлов оказалась равной 0\n",
    "\n",
    "> Среднее распределения веществ на финальном этапе равно чаще всего равно 70\n"
   ]
  },
  {
   "cell_type": "markdown",
   "metadata": {
    "id": "Fichv7OkUKP0"
   },
   "source": [
    "> Оставляем только те данные которые дают суммарную концентрацию больше 10"
   ]
  },
  {
   "cell_type": "code",
   "execution_count": 29,
   "metadata": {
    "id": "FVQoHMD8UKP1"
   },
   "outputs": [],
   "source": [
    "train_data['input_sum'] = train_data[rough].sum(1)\n",
    "train_data['rougher_output_sum'] = train_data[rougher_output].sum(1)\n",
    "train_data['final_sum'] = train_data[final].sum(1)\n",
    "\n",
    "cols = ['input_sum', 'rougher_output_sum', 'final_sum']\n",
    "\n",
    "for i in range(3):\n",
    "    process = cols[i]\n",
    "    train_data = train_data.loc[:, :][train_data[process] > 10]"
   ]
  },
  {
   "cell_type": "code",
   "execution_count": 30,
   "metadata": {
    "colab": {
     "base_uri": "https://localhost:8080/",
     "height": 654
    },
    "id": "pbrIN5gwUKP1",
    "outputId": "91662d66-4c0c-408e-ae3a-9b8644497e89",
    "scrolled": true
   },
   "outputs": [
    {
     "data": {
      "image/png": "[encoded data removed]",
      "text/plain": [
       "<Figure size 1400x800 with 1 Axes>"
      ]
     },
     "metadata": {},
     "output_type": "display_data"
    }
   ],
   "source": [
    "plt.figure(figsize=(14,8))\n",
    "plt.grid(True)\n",
    "plt.title('Концентрация веществ на разных этапах производства')\n",
    "\n",
    "for i in range(3):\n",
    "    process = processes[i]\n",
    "    plt.hist(train_data[process].sum(1), bins=30, alpha=0.5)\n",
    "\n",
    "plt.legend([\"В черновом\", \"Сырьё\", \"В финальном\"]);"
   ]
  },
  {
   "cell_type": "markdown",
   "metadata": {
    "id": "vPiSj4FyUKP1"
   },
   "source": [
    "## Обучение моделей"
   ]
  },
  {
   "cell_type": "markdown",
   "metadata": {
    "id": "AmCTkcZ0UKP1"
   },
   "source": [
    "### Функция SMAPE"
   ]
  },
  {
   "cell_type": "code",
   "execution_count": 31,
   "metadata": {
    "id": "FL6COBXSUKP1"
   },
   "outputs": [],
   "source": [
    "def smape(y_true, y_pred):\n",
    "    error = np.abs(y_true - y_pred)\n",
    "    scale = (np.abs(y_true) + np.abs(y_pred)) / 2\n",
    "    return np.mean(error / scale) * 100\n",
    "\n",
    "smape_scorer = make_scorer(smape, greater_is_better = False)"
   ]
  },
  {
   "cell_type": "markdown",
   "metadata": {
    "id": "wm0OE0V4UKP1"
   },
   "source": [
    "### Разделение тренировочной выборки на признаки и таргет"
   ]
  },
  {
   "cell_type": "code",
   "execution_count": 32,
   "metadata": {
    "id": "zEQAVGR8UKP1"
   },
   "outputs": [],
   "source": [
    "target_rough_train = train_data['rougher.output.recovery'].reset_index(drop=True)\n",
    "target_final_train = train_data['final.output.recovery'].reset_index(drop=True)\n",
    "\n",
    "features_train = train_data.drop('date', axis=1).reset_index(drop=True)"
   ]
  },
  {
   "cell_type": "code",
   "execution_count": 33,
   "metadata": {
    "id": "jeciClZYUKP2"
   },
   "outputs": [],
   "source": [
    "cols = set(train_data.columns)-set(test_data.columns)\n",
    "\n",
    "features_train = features_train.drop(cols, axis=1).reset_index(drop=True)"
   ]
  },
  {
   "cell_type": "markdown",
   "metadata": {
    "id": "dij3_6w-UKP2"
   },
   "source": [
    "### LinearRegression"
   ]
  },
  {
   "cell_type": "code",
   "execution_count": 48,
   "metadata": {
    "colab": {
     "base_uri": "https://localhost:8080/"
    },
    "id": "QXKzcJ7OUKP2",
    "outputId": "ec075757-acba-4a1f-c61d-6d24da057a54"
   },
   "outputs": [
    {
     "name": "stdout",
     "output_type": "stream",
     "text": [
      "Средняя оценка качества модели предсказания target_rough_train: -5.8409827505481156\n",
      "Средняя оценка качества модели предсказания target_final_train: -8.369633035220648\n"
     ]
    }
   ],
   "source": [
    "lr = LinearRegression()\n",
    "\n",
    "scores = cross_val_score(cat_model, features_train, target_rough_train, scoring = smape_scorer, cv = 5)\n",
    "train_score = sum(scores)/len(scores)\n",
    "print('Средняя оценка качества модели предсказания target_rough_train:', train_score)\n",
    "\n",
    "scores = cross_val_score(cat_model, features_train, target_final_train, scoring = smape_scorer, cv = 5)\n",
    "test_score = sum(scores)/len(scores)\n",
    "print('Средняя оценка качества модели предсказания target_final_train:', test_score)"
   ]
  },
  {
   "cell_type": "markdown",
   "metadata": {
    "id": "Qm4ky8c0UKP2"
   },
   "source": [
    "### CatBoostRegressor"
   ]
  },
  {
   "cell_type": "code",
   "execution_count": 49,
   "metadata": {
    "colab": {
     "base_uri": "https://localhost:8080/"
    },
    "id": "afp_yG_TUKP2",
    "outputId": "1e45c7cb-5524-465e-a1f7-6e5fdaa259aa"
   },
   "outputs": [
    {
     "name": "stdout",
     "output_type": "stream",
     "text": [
      "Средняя оценка качества модели предсказания target_rough_train: -5.887220770149098\n",
      "Средняя оценка качества модели предсказания target_final_train: -8.259105236843455\n"
     ]
    }
   ],
   "source": [
    "cat_model = CatBoostRegressor(random_state=1, verbose=False, learning_rate=0.01)\n",
    "\n",
    "scores = cross_val_score(cat_model, features_train, target_rough_train, scoring = smape_scorer, cv = 5)\n",
    "train_score = sum(scores)/len(scores)\n",
    "print('Средняя оценка качества модели предсказания target_rough_train:', train_score)\n",
    "\n",
    "scores = cross_val_score(cat_model, features_train, target_final_train, scoring = smape_scorer, cv = 5)\n",
    "test_score = sum(scores)/len(scores)\n",
    "print('Средняя оценка качества модели предсказания target_final_train:', test_score)"
   ]
  },
  {
   "cell_type": "markdown",
   "metadata": {
    "id": "TbhHl0P3UKP2"
   },
   "source": [
    "### DecisionTreeRegressor"
   ]
  },
  {
   "cell_type": "code",
   "execution_count": 50,
   "metadata": {
    "colab": {
     "base_uri": "https://localhost:8080/"
    },
    "id": "T2uRcNk_UKP2",
    "outputId": "95ee770d-560a-4562-e51b-61ceed6f7cbb"
   },
   "outputs": [
    {
     "name": "stdout",
     "output_type": "stream",
     "text": [
      "Средняя оценка качества модели предсказания target_rough_train: -5.887220770149098\n",
      "Средняя оценка качества модели предсказания target_final_train: -8.259105236843455\n"
     ]
    }
   ],
   "source": [
    "tree = DecisionTreeRegressor(random_state=1)\n",
    "\n",
    "scores = cross_val_score(tree, features_train, target_rough_train, scoring = smape_scorer, cv = 5)\n",
    "train_score = sum(scores)/len(scores)\n",
    "print('Средняя оценка качества модели предсказания target_rough_train:', train_score)\n",
    "\n",
    "scores = cross_val_score(tree, features_train, target_final_train, scoring = smape_scorer, cv = 5)\n",
    "test_score = sum(scores)/len(scores)\n",
    "print('Средняя оценка качества модели предсказания target_final_train:', test_score)"
   ]
  },
  {
   "cell_type": "markdown",
   "metadata": {
    "id": "oVpuLy-VUKP3"
   },
   "source": [
    "### Лучшей моделью себя показала CatBoostRegressor"
   ]
  },
  {
   "cell_type": "markdown",
   "metadata": {
    "id": "8nePVcPJUKP3"
   },
   "source": [
    "### Подбор гиперпараметров лучшей модели"
   ]
  },
  {
   "cell_type": "code",
   "execution_count": 40,
   "metadata": {
    "colab": {
     "base_uri": "https://localhost:8080/"
    },
    "id": "dRpIwlo4UKP3",
    "outputId": "cde104e2-6b63-4200-c439-581e0150a9a2"
   },
   "outputs": [
    {
     "name": "stdout",
     "output_type": "stream",
     "text": [
      "-5.737892388812073\n",
      "{'iterations': 400, 'l2_leaf_reg': 1}\n"
     ]
    }
   ],
   "source": [
    "params = {'l2_leaf_reg': [0, 1],\n",
    "         'iterations': [350, 400, 450]}\n",
    "\n",
    "best_model = GridSearchCV(cat_model, params, cv=5, scoring=smape_scorer)\n",
    "\n",
    "best_model.fit(features_train, target_rough_train)\n",
    "\n",
    "print(best_model.best_score_)\n",
    "print(best_model.best_params_)"
   ]
  },
  {
   "cell_type": "markdown",
   "metadata": {
    "id": "lCz_EP6GUKP3"
   },
   "source": [
    "### Проверка на тестовой выборке"
   ]
  },
  {
   "cell_type": "code",
   "execution_count": 41,
   "metadata": {
    "id": "tZjZi3cSUKP3"
   },
   "outputs": [],
   "source": [
    "test_data = test_data.merge(full_data[['date', 'final.output.recovery', 'rougher.output.recovery']], on='date', how='left')\n",
    "\n",
    "target_rough_test = test_data['rougher.output.recovery'].reset_index(drop=True)\n",
    "target_final_test = test_data['final.output.recovery'].reset_index(drop=True)\n",
    "features_test = test_data.drop(['date', 'final.output.recovery', 'rougher.output.recovery'], axis=1).reset_index(drop=True)"
   ]
  },
  {
   "cell_type": "code",
   "execution_count": 42,
   "metadata": {
    "id": "SnTl3ZlCUKP3"
   },
   "outputs": [],
   "source": [
    "best_model.fit(features_train, target_rough_train)\n",
    "rough_pred = best_model.predict(features_test)\n",
    "\n",
    "rough_smape = smape(target_rough_test, rough_pred)"
   ]
  },
  {
   "cell_type": "markdown",
   "metadata": {
    "id": "r6Lma6vPUKP3"
   },
   "source": [
    "> Просчитываем SMAPE для rougher.output.recovery"
   ]
  },
  {
   "cell_type": "code",
   "execution_count": 43,
   "metadata": {
    "id": "1of50GGuUKP4"
   },
   "outputs": [],
   "source": [
    "best_model.fit(features_train, target_final_train)\n",
    "final_pred = best_model.predict(features_test)\n",
    "\n",
    "output_smape = smape(target_final_test, final_pred)"
   ]
  },
  {
   "cell_type": "markdown",
   "metadata": {
    "id": "3VmnQTX0UKP4"
   },
   "source": [
    "> Просчитываем SMAPE для final.output.recovery"
   ]
  },
  {
   "cell_type": "code",
   "execution_count": 44,
   "metadata": {
    "colab": {
     "base_uri": "https://localhost:8080/"
    },
    "id": "A-iOiRJPUKP4",
    "outputId": "98691c11-4f30-49a0-e4f5-5d66029bacb1"
   },
   "outputs": [
    {
     "name": "stdout",
     "output_type": "stream",
     "text": [
      "Итоговое sMAPE равно 8.29237312716706\n"
     ]
    }
   ],
   "source": [
    "final_smape = rough_smape*0.25 + output_smape*0.75\n",
    "print(f'Итоговое sMAPE равно {final_smape}')"
   ]
  },
  {
   "cell_type": "markdown",
   "metadata": {
    "id": "YYcox0TIUKP4"
   },
   "source": [
    "### Проверка константной модели"
   ]
  },
  {
   "cell_type": "code",
   "execution_count": 45,
   "metadata": {
    "id": "k7fUT82XUKP4"
   },
   "outputs": [],
   "source": [
    "dummy = DummyRegressor(strategy='median')\n",
    "\n",
    "dummy.fit(features_train, target_rough_train)\n",
    "rough_pred = dummy.predict(features_test)\n",
    "rough_smape = smape(target_rough_test, rough_pred)\n",
    "\n",
    "dummy.fit(features_train, target_final_train)\n",
    "final_pred = dummy.predict(features_test)\n",
    "output_smape = smape(target_final_test, final_pred)"
   ]
  },
  {
   "cell_type": "code",
   "execution_count": 46,
   "metadata": {
    "colab": {
     "base_uri": "https://localhost:8080/"
    },
    "id": "imAoeoP5UKP4",
    "outputId": "1103d6e3-e505-4c04-d564-c4fa2543ceb1"
   },
   "outputs": [
    {
     "name": "stdout",
     "output_type": "stream",
     "text": [
      "Итоговое sMAPE равно 9.09409097704672\n"
     ]
    }
   ],
   "source": [
    "final_smape = rough_smape*0.25 + output_smape*0.75\n",
    "print(f'Итоговое sMAPE равно {final_smape}')"
   ]
  },
  {
   "cell_type": "markdown",
   "metadata": {
    "id": "oPhLEQ3TUKP4"
   },
   "source": [
    "<font color='purple'><b>Наша модель показывает лучшие результаты чем константная</b></font> "
   ]
  },
  {
   "cell_type": "markdown",
   "metadata": {
    "id": "ShsinajbUKP4"
   },
   "source": [
    "## Вывод\n",
    "\n",
    "- В процессе производства концентрация золота увеличивается примерно в 5 раз\n",
    "\n",
    "- В данных есть строки суммарная концентрация которых равна 0, что может говорить о неисправностях в оборудовании\n",
    "\n",
    "- Из всех обученных моделей лучше всего себя показывает градиентный бустинг CatBoostRegressor"
   ]
  },
  {
   "cell_type": "code",
   "execution_count": 46,
   "metadata": {
    "id": "Wok8rl7qUKP5"
   },
   "outputs": [],
   "source": []
  }
 ],
 "metadata": {
  "ExecuteTimeLog": [
   {
    "duration": 408,
    "start_time": "2022-11-14T17:31:02.299Z"
   },
   {
    "duration": 96,
    "start_time": "2022-11-14T17:31:23.372Z"
   },
   {
    "duration": 1241,
    "start_time": "2022-11-14T17:31:37.266Z"
   },
   {
    "duration": 42,
    "start_time": "2022-11-14T17:31:43.566Z"
   },
   {
    "duration": 954,
    "start_time": "2022-11-14T17:33:16.412Z"
   },
   {
    "duration": 22,
    "start_time": "2022-11-14T17:33:31.853Z"
   },
   {
    "duration": 24,
    "start_time": "2022-11-14T17:34:06.780Z"
   },
   {
    "duration": 7,
    "start_time": "2022-11-14T17:39:47.494Z"
   },
   {
    "duration": 5,
    "start_time": "2022-11-14T17:39:54.310Z"
   },
   {
    "duration": 5,
    "start_time": "2022-11-14T17:40:17.461Z"
   },
   {
    "duration": 5,
    "start_time": "2022-11-14T17:40:28.315Z"
   },
   {
    "duration": 6,
    "start_time": "2022-11-14T17:40:38.881Z"
   },
   {
    "duration": 8,
    "start_time": "2022-11-14T18:16:47.645Z"
   },
   {
    "duration": 85,
    "start_time": "2022-11-14T18:17:14.403Z"
   },
   {
    "duration": 3,
    "start_time": "2022-11-14T18:17:25.233Z"
   },
   {
    "duration": 6,
    "start_time": "2022-11-14T18:18:31.096Z"
   },
   {
    "duration": 6,
    "start_time": "2022-11-14T18:18:40.435Z"
   },
   {
    "duration": 773,
    "start_time": "2022-11-14T18:19:48.033Z"
   },
   {
    "duration": 42,
    "start_time": "2022-11-14T18:20:32.753Z"
   },
   {
    "duration": 15,
    "start_time": "2022-11-14T18:20:39.971Z"
   },
   {
    "duration": 8,
    "start_time": "2022-11-14T18:21:17.011Z"
   },
   {
    "duration": 8,
    "start_time": "2022-11-14T18:21:20.376Z"
   },
   {
    "duration": 5,
    "start_time": "2022-11-14T18:21:26.696Z"
   },
   {
    "duration": 13,
    "start_time": "2022-11-14T18:21:45.882Z"
   },
   {
    "duration": 7,
    "start_time": "2022-11-14T18:21:59.818Z"
   },
   {
    "duration": 9,
    "start_time": "2022-11-14T18:22:10.695Z"
   },
   {
    "duration": 15,
    "start_time": "2022-11-14T18:23:05.015Z"
   },
   {
    "duration": 8,
    "start_time": "2022-11-14T18:26:36.762Z"
   },
   {
    "duration": 9,
    "start_time": "2022-11-14T18:26:50.117Z"
   },
   {
    "duration": 14,
    "start_time": "2022-11-14T18:27:03.680Z"
   },
   {
    "duration": 6,
    "start_time": "2022-11-14T18:27:16.520Z"
   },
   {
    "duration": 5,
    "start_time": "2022-11-14T18:27:23.349Z"
   },
   {
    "duration": 7,
    "start_time": "2022-11-14T18:27:37.175Z"
   },
   {
    "duration": 7,
    "start_time": "2022-11-14T18:28:05.214Z"
   },
   {
    "duration": 8,
    "start_time": "2022-11-14T18:28:10.150Z"
   },
   {
    "duration": 7,
    "start_time": "2022-11-14T18:28:13.605Z"
   },
   {
    "duration": 11,
    "start_time": "2022-11-14T18:28:38.527Z"
   },
   {
    "duration": 8,
    "start_time": "2022-11-14T18:29:22.203Z"
   },
   {
    "duration": 13,
    "start_time": "2022-11-14T18:29:31.787Z"
   },
   {
    "duration": 6,
    "start_time": "2022-11-14T18:29:41.456Z"
   },
   {
    "duration": 5,
    "start_time": "2022-11-14T18:29:41.972Z"
   },
   {
    "duration": 9,
    "start_time": "2022-11-14T18:45:15.882Z"
   },
   {
    "duration": 48,
    "start_time": "2022-11-18T06:43:49.856Z"
   },
   {
    "duration": 1091,
    "start_time": "2022-11-18T06:43:55.226Z"
   },
   {
    "duration": 1812,
    "start_time": "2022-11-18T06:43:56.318Z"
   },
   {
    "duration": 29,
    "start_time": "2022-11-18T06:43:58.132Z"
   },
   {
    "duration": 4,
    "start_time": "2022-11-18T06:43:58.163Z"
   },
   {
    "duration": 1266,
    "start_time": "2022-11-18T06:43:58.169Z"
   },
   {
    "duration": 0,
    "start_time": "2022-11-18T06:43:59.437Z"
   },
   {
    "duration": 0,
    "start_time": "2022-11-18T06:43:59.438Z"
   },
   {
    "duration": 0,
    "start_time": "2022-11-18T06:43:59.439Z"
   },
   {
    "duration": 3,
    "start_time": "2022-11-18T06:44:16.558Z"
   },
   {
    "duration": 9,
    "start_time": "2022-11-18T06:44:18.488Z"
   },
   {
    "duration": 6,
    "start_time": "2022-11-18T06:44:18.790Z"
   },
   {
    "duration": 10,
    "start_time": "2022-11-18T06:44:19.064Z"
   },
   {
    "duration": 6,
    "start_time": "2022-11-18T06:45:38.426Z"
   },
   {
    "duration": 9,
    "start_time": "2022-11-18T06:45:39.050Z"
   },
   {
    "duration": 489,
    "start_time": "2022-11-18T06:46:31.406Z"
   },
   {
    "duration": 1151,
    "start_time": "2022-11-18T06:46:48.785Z"
   },
   {
    "duration": 3,
    "start_time": "2022-11-18T06:47:14.376Z"
   },
   {
    "duration": 24,
    "start_time": "2022-11-18T06:47:28.855Z"
   },
   {
    "duration": 9,
    "start_time": "2022-11-18T06:50:48.287Z"
   },
   {
    "duration": 3,
    "start_time": "2022-11-18T06:51:01.484Z"
   },
   {
    "duration": 730,
    "start_time": "2022-11-18T06:51:01.952Z"
   },
   {
    "duration": 22,
    "start_time": "2022-11-18T06:51:02.684Z"
   },
   {
    "duration": 15370,
    "start_time": "2022-11-18T06:51:02.709Z"
   },
   {
    "duration": 5,
    "start_time": "2022-11-18T06:51:18.081Z"
   },
   {
    "duration": 7,
    "start_time": "2022-11-18T06:51:18.087Z"
   },
   {
    "duration": 9,
    "start_time": "2022-11-18T06:51:18.096Z"
   },
   {
    "duration": 5,
    "start_time": "2022-11-18T06:51:18.107Z"
   },
   {
    "duration": 8,
    "start_time": "2022-11-18T06:51:18.114Z"
   },
   {
    "duration": 16136,
    "start_time": "2022-11-18T06:51:40.160Z"
   },
   {
    "duration": 290,
    "start_time": "2022-11-18T06:54:54.625Z"
   },
   {
    "duration": 1309,
    "start_time": "2022-11-18T06:55:20.001Z"
   },
   {
    "duration": 2197,
    "start_time": "2022-11-18T06:57:47.965Z"
   },
   {
    "duration": 2173,
    "start_time": "2022-11-18T06:58:04.980Z"
   },
   {
    "duration": 1315,
    "start_time": "2022-11-18T06:58:33.953Z"
   },
   {
    "duration": 1260,
    "start_time": "2022-11-18T06:58:53.443Z"
   },
   {
    "duration": 2132,
    "start_time": "2022-11-18T06:59:46.609Z"
   },
   {
    "duration": 2298,
    "start_time": "2022-11-18T07:01:56.342Z"
   },
   {
    "duration": 2163,
    "start_time": "2022-11-18T07:02:07.974Z"
   },
   {
    "duration": 2058,
    "start_time": "2022-11-18T07:07:26.178Z"
   },
   {
    "duration": 2044,
    "start_time": "2022-11-18T07:07:31.982Z"
   },
   {
    "duration": 2037,
    "start_time": "2022-11-18T07:07:41.960Z"
   },
   {
    "duration": 2154,
    "start_time": "2022-11-18T07:07:48.677Z"
   },
   {
    "duration": 2081,
    "start_time": "2022-11-18T07:08:00.311Z"
   },
   {
    "duration": 2034,
    "start_time": "2022-11-18T07:08:12.692Z"
   },
   {
    "duration": 294,
    "start_time": "2022-11-18T07:13:48.946Z"
   },
   {
    "duration": 2045,
    "start_time": "2022-11-18T07:13:59.716Z"
   },
   {
    "duration": 275,
    "start_time": "2022-11-18T07:16:10.007Z"
   },
   {
    "duration": 2041,
    "start_time": "2022-11-18T07:16:20.850Z"
   },
   {
    "duration": 2238,
    "start_time": "2022-11-18T07:16:55.892Z"
   },
   {
    "duration": 733,
    "start_time": "2022-11-18T07:43:52.977Z"
   },
   {
    "duration": 32,
    "start_time": "2022-11-18T07:44:57.156Z"
   },
   {
    "duration": 38,
    "start_time": "2022-11-18T07:45:05.141Z"
   },
   {
    "duration": 22,
    "start_time": "2022-11-18T07:45:30.645Z"
   },
   {
    "duration": 30,
    "start_time": "2022-11-18T07:45:46.283Z"
   },
   {
    "duration": 22,
    "start_time": "2022-11-18T07:46:04.374Z"
   },
   {
    "duration": 22,
    "start_time": "2022-11-18T07:46:08.442Z"
   },
   {
    "duration": 24,
    "start_time": "2022-11-18T07:47:43.744Z"
   },
   {
    "duration": 45,
    "start_time": "2022-11-18T07:48:17.744Z"
   },
   {
    "duration": 11,
    "start_time": "2022-11-18T07:49:36.295Z"
   },
   {
    "duration": 18,
    "start_time": "2022-11-18T07:49:48.171Z"
   },
   {
    "duration": 9,
    "start_time": "2022-11-18T07:49:59.252Z"
   },
   {
    "duration": 11,
    "start_time": "2022-11-18T07:50:04.545Z"
   },
   {
    "duration": 9,
    "start_time": "2022-11-18T07:50:56.975Z"
   },
   {
    "duration": 10,
    "start_time": "2022-11-18T07:52:45.077Z"
   },
   {
    "duration": 16,
    "start_time": "2022-11-18T07:54:20.621Z"
   },
   {
    "duration": 16,
    "start_time": "2022-11-18T07:55:11.957Z"
   },
   {
    "duration": 5,
    "start_time": "2022-11-18T07:57:17.059Z"
   },
   {
    "duration": 14,
    "start_time": "2022-11-18T07:57:17.653Z"
   },
   {
    "duration": 6,
    "start_time": "2022-11-18T07:57:29.541Z"
   },
   {
    "duration": 6,
    "start_time": "2022-11-18T07:57:29.700Z"
   },
   {
    "duration": 5,
    "start_time": "2022-11-18T07:59:36.705Z"
   },
   {
    "duration": 4,
    "start_time": "2022-11-18T07:59:52.915Z"
   },
   {
    "duration": 6,
    "start_time": "2022-11-18T07:59:53.307Z"
   },
   {
    "duration": 5,
    "start_time": "2022-11-18T07:59:54.039Z"
   },
   {
    "duration": 9,
    "start_time": "2022-11-18T07:59:54.447Z"
   },
   {
    "duration": 3,
    "start_time": "2022-11-18T08:02:19.170Z"
   },
   {
    "duration": 7,
    "start_time": "2022-11-18T08:02:19.719Z"
   },
   {
    "duration": 6,
    "start_time": "2022-11-18T08:02:20.513Z"
   },
   {
    "duration": 8,
    "start_time": "2022-11-18T08:02:21.044Z"
   },
   {
    "duration": 3,
    "start_time": "2022-11-18T08:02:24.350Z"
   },
   {
    "duration": 6,
    "start_time": "2022-11-18T08:02:24.568Z"
   },
   {
    "duration": 5,
    "start_time": "2022-11-18T08:02:24.980Z"
   },
   {
    "duration": 11,
    "start_time": "2022-11-18T08:02:25.188Z"
   },
   {
    "duration": 5,
    "start_time": "2022-11-18T08:06:40.996Z"
   },
   {
    "duration": 10,
    "start_time": "2022-11-18T08:09:25.537Z"
   },
   {
    "duration": 9,
    "start_time": "2022-11-18T08:09:32.387Z"
   },
   {
    "duration": 3,
    "start_time": "2022-11-18T08:09:35.541Z"
   },
   {
    "duration": 15,
    "start_time": "2022-11-18T08:10:04.842Z"
   },
   {
    "duration": 707,
    "start_time": "2022-11-18T08:10:29.301Z"
   },
   {
    "duration": 19,
    "start_time": "2022-11-18T08:10:32.839Z"
   },
   {
    "duration": 10,
    "start_time": "2022-11-18T08:12:24.851Z"
   },
   {
    "duration": 9,
    "start_time": "2022-11-18T08:12:53.340Z"
   },
   {
    "duration": 10,
    "start_time": "2022-11-18T08:13:00.973Z"
   },
   {
    "duration": 12,
    "start_time": "2022-11-18T08:13:10.176Z"
   },
   {
    "duration": 6,
    "start_time": "2022-11-18T08:40:36.015Z"
   },
   {
    "duration": 5,
    "start_time": "2022-11-18T08:45:46.161Z"
   },
   {
    "duration": 11,
    "start_time": "2022-11-18T08:46:49.912Z"
   },
   {
    "duration": 159096,
    "start_time": "2022-11-18T08:47:16.483Z"
   },
   {
    "duration": 176,
    "start_time": "2022-11-18T08:52:11.046Z"
   },
   {
    "duration": 182,
    "start_time": "2022-11-18T08:55:22.226Z"
   },
   {
    "duration": 948,
    "start_time": "2022-11-18T08:55:59.667Z"
   },
   {
    "duration": 20,
    "start_time": "2022-11-18T08:56:56.593Z"
   },
   {
    "duration": 12,
    "start_time": "2022-11-18T08:57:04.705Z"
   },
   {
    "duration": 17,
    "start_time": "2022-11-18T08:57:18.755Z"
   },
   {
    "duration": 3083,
    "start_time": "2022-11-18T08:57:50.606Z"
   },
   {
    "duration": 19,
    "start_time": "2022-11-18T09:01:45.187Z"
   },
   {
    "duration": 13,
    "start_time": "2022-11-18T09:02:16.407Z"
   },
   {
    "duration": 19,
    "start_time": "2022-11-18T09:03:48.749Z"
   },
   {
    "duration": 255,
    "start_time": "2022-11-18T09:04:36.332Z"
   },
   {
    "duration": 69,
    "start_time": "2022-11-18T11:09:05.881Z"
   },
   {
    "duration": 1584,
    "start_time": "2022-11-18T11:09:11.210Z"
   },
   {
    "duration": 1899,
    "start_time": "2022-11-18T11:09:12.797Z"
   },
   {
    "duration": 25,
    "start_time": "2022-11-18T11:09:14.698Z"
   },
   {
    "duration": 19,
    "start_time": "2022-11-18T11:09:14.725Z"
   },
   {
    "duration": 23,
    "start_time": "2022-11-18T11:09:14.747Z"
   },
   {
    "duration": 16,
    "start_time": "2022-11-18T11:09:14.771Z"
   },
   {
    "duration": 2038,
    "start_time": "2022-11-18T11:09:14.789Z"
   },
   {
    "duration": 6,
    "start_time": "2022-11-18T11:09:16.829Z"
   },
   {
    "duration": 6,
    "start_time": "2022-11-18T11:09:16.836Z"
   },
   {
    "duration": 8,
    "start_time": "2022-11-18T11:09:16.844Z"
   },
   {
    "duration": 8,
    "start_time": "2022-11-18T11:09:16.854Z"
   },
   {
    "duration": 11,
    "start_time": "2022-11-18T11:09:16.864Z"
   },
   {
    "duration": 6,
    "start_time": "2022-11-18T11:09:16.877Z"
   },
   {
    "duration": 16,
    "start_time": "2022-11-18T11:09:16.886Z"
   },
   {
    "duration": 12,
    "start_time": "2022-11-18T11:09:16.904Z"
   },
   {
    "duration": 4,
    "start_time": "2022-11-18T11:09:16.918Z"
   },
   {
    "duration": 6,
    "start_time": "2022-11-18T11:09:16.953Z"
   },
   {
    "duration": 16,
    "start_time": "2022-11-18T11:09:16.961Z"
   },
   {
    "duration": 12,
    "start_time": "2022-11-18T11:09:16.979Z"
   },
   {
    "duration": 80,
    "start_time": "2022-11-18T11:09:16.995Z"
   },
   {
    "duration": 5,
    "start_time": "2022-11-18T11:10:17.647Z"
   },
   {
    "duration": 140,
    "start_time": "2022-11-18T11:10:35.531Z"
   },
   {
    "duration": 3,
    "start_time": "2022-11-18T11:12:35.120Z"
   },
   {
    "duration": 4,
    "start_time": "2022-11-18T11:13:06.153Z"
   },
   {
    "duration": 4,
    "start_time": "2022-11-18T11:13:58.647Z"
   },
   {
    "duration": 12,
    "start_time": "2022-11-18T11:16:09.273Z"
   },
   {
    "duration": 7,
    "start_time": "2022-11-18T11:16:21.861Z"
   },
   {
    "duration": 7,
    "start_time": "2022-11-18T11:18:06.379Z"
   },
   {
    "duration": 5,
    "start_time": "2022-11-18T11:20:45.728Z"
   },
   {
    "duration": 9,
    "start_time": "2022-11-18T11:21:28.121Z"
   },
   {
    "duration": 9,
    "start_time": "2022-11-18T11:21:38.505Z"
   },
   {
    "duration": 12,
    "start_time": "2022-11-18T11:23:54.134Z"
   },
   {
    "duration": 9,
    "start_time": "2022-11-18T11:24:04.697Z"
   },
   {
    "duration": 9,
    "start_time": "2022-11-18T11:24:11.005Z"
   },
   {
    "duration": 329,
    "start_time": "2022-11-18T11:24:14.702Z"
   },
   {
    "duration": 433,
    "start_time": "2022-11-18T11:24:18.766Z"
   },
   {
    "duration": 288,
    "start_time": "2022-11-18T11:24:31.353Z"
   },
   {
    "duration": 480,
    "start_time": "2022-11-18T11:25:15.245Z"
   },
   {
    "duration": 351,
    "start_time": "2022-11-18T11:27:28.821Z"
   },
   {
    "duration": 607,
    "start_time": "2022-11-18T11:29:32.895Z"
   },
   {
    "duration": 509,
    "start_time": "2022-11-18T11:30:28.271Z"
   },
   {
    "duration": 486,
    "start_time": "2022-11-18T11:33:17.213Z"
   },
   {
    "duration": 627,
    "start_time": "2022-11-18T11:33:26.480Z"
   },
   {
    "duration": 464,
    "start_time": "2022-11-18T11:33:37.080Z"
   },
   {
    "duration": 592,
    "start_time": "2022-11-18T11:34:08.885Z"
   },
   {
    "duration": 484,
    "start_time": "2022-11-18T11:37:12.644Z"
   },
   {
    "duration": 487,
    "start_time": "2022-11-18T11:37:47.854Z"
   },
   {
    "duration": 626,
    "start_time": "2022-11-18T11:37:53.226Z"
   },
   {
    "duration": 566,
    "start_time": "2022-11-18T11:39:16.682Z"
   },
   {
    "duration": 68,
    "start_time": "2022-11-18T11:46:43.505Z"
   },
   {
    "duration": 6,
    "start_time": "2022-11-18T11:47:05.587Z"
   },
   {
    "duration": 5,
    "start_time": "2022-11-18T11:47:19.251Z"
   },
   {
    "duration": 10,
    "start_time": "2022-11-18T11:49:16.464Z"
   },
   {
    "duration": 11,
    "start_time": "2022-11-18T11:49:54.973Z"
   },
   {
    "duration": 5,
    "start_time": "2022-11-18T11:50:32.722Z"
   },
   {
    "duration": 560,
    "start_time": "2022-11-18T11:53:10.302Z"
   },
   {
    "duration": 5,
    "start_time": "2022-11-18T12:21:16.255Z"
   },
   {
    "duration": 1129,
    "start_time": "2022-11-18T12:26:34.010Z"
   },
   {
    "duration": 4,
    "start_time": "2022-11-18T12:26:50.451Z"
   },
   {
    "duration": 87,
    "start_time": "2022-11-18T12:32:20.164Z"
   },
   {
    "duration": 68,
    "start_time": "2022-11-18T12:32:45.564Z"
   },
   {
    "duration": 81,
    "start_time": "2022-11-18T12:32:54.888Z"
   },
   {
    "duration": 9,
    "start_time": "2022-11-18T12:33:17.814Z"
   },
   {
    "duration": 7,
    "start_time": "2022-11-18T12:34:01.992Z"
   },
   {
    "duration": 13,
    "start_time": "2022-11-18T12:34:12.592Z"
   },
   {
    "duration": 9,
    "start_time": "2022-11-18T12:34:50.600Z"
   },
   {
    "duration": 777,
    "start_time": "2022-11-18T12:35:30.813Z"
   },
   {
    "duration": 146,
    "start_time": "2022-11-18T12:35:35.269Z"
   },
   {
    "duration": 148,
    "start_time": "2022-11-18T12:35:55.036Z"
   },
   {
    "duration": 11,
    "start_time": "2022-11-18T12:36:37.349Z"
   },
   {
    "duration": 189,
    "start_time": "2022-11-18T12:37:02.384Z"
   },
   {
    "duration": 146,
    "start_time": "2022-11-18T12:37:08.196Z"
   },
   {
    "duration": 15,
    "start_time": "2022-11-18T12:38:02.852Z"
   },
   {
    "duration": 147,
    "start_time": "2022-11-18T12:38:03.741Z"
   },
   {
    "duration": 3,
    "start_time": "2022-11-18T12:39:36.718Z"
   },
   {
    "duration": 651,
    "start_time": "2022-11-18T12:39:36.723Z"
   },
   {
    "duration": 21,
    "start_time": "2022-11-18T12:39:37.376Z"
   },
   {
    "duration": 23,
    "start_time": "2022-11-18T12:39:37.399Z"
   },
   {
    "duration": 33,
    "start_time": "2022-11-18T12:39:37.424Z"
   },
   {
    "duration": 33,
    "start_time": "2022-11-18T12:39:37.459Z"
   },
   {
    "duration": 1886,
    "start_time": "2022-11-18T12:39:37.494Z"
   },
   {
    "duration": 4,
    "start_time": "2022-11-18T12:39:39.381Z"
   },
   {
    "duration": 6,
    "start_time": "2022-11-18T12:39:39.387Z"
   },
   {
    "duration": 7,
    "start_time": "2022-11-18T12:39:39.394Z"
   },
   {
    "duration": 5,
    "start_time": "2022-11-18T12:39:39.404Z"
   },
   {
    "duration": 10,
    "start_time": "2022-11-18T12:39:39.410Z"
   },
   {
    "duration": 31,
    "start_time": "2022-11-18T12:39:39.422Z"
   },
   {
    "duration": 8,
    "start_time": "2022-11-18T12:39:39.455Z"
   },
   {
    "duration": 16,
    "start_time": "2022-11-18T12:39:39.465Z"
   },
   {
    "duration": 8,
    "start_time": "2022-11-18T12:39:39.482Z"
   },
   {
    "duration": 4,
    "start_time": "2022-11-18T12:39:39.492Z"
   },
   {
    "duration": 16,
    "start_time": "2022-11-18T12:39:39.497Z"
   },
   {
    "duration": 766,
    "start_time": "2022-11-18T12:39:39.515Z"
   },
   {
    "duration": 6,
    "start_time": "2022-11-18T12:39:40.282Z"
   },
   {
    "duration": 10,
    "start_time": "2022-11-18T12:39:40.289Z"
   },
   {
    "duration": 16,
    "start_time": "2022-11-18T12:39:40.300Z"
   },
   {
    "duration": 0,
    "start_time": "2022-11-18T12:39:40.318Z"
   },
   {
    "duration": 19,
    "start_time": "2022-11-18T12:41:31.349Z"
   },
   {
    "duration": 1168,
    "start_time": "2022-11-18T12:42:13.607Z"
   },
   {
    "duration": 7,
    "start_time": "2022-11-18T12:43:03.962Z"
   },
   {
    "duration": 9,
    "start_time": "2022-11-18T12:44:20.050Z"
   },
   {
    "duration": 6,
    "start_time": "2022-11-18T12:47:07.252Z"
   },
   {
    "duration": 14,
    "start_time": "2022-11-18T12:47:30.927Z"
   },
   {
    "duration": 571,
    "start_time": "2022-11-18T12:52:25.568Z"
   },
   {
    "duration": 566,
    "start_time": "2022-11-18T12:53:10.656Z"
   },
   {
    "duration": 17,
    "start_time": "2022-11-18T12:53:45.695Z"
   },
   {
    "duration": 9,
    "start_time": "2022-11-18T12:55:30.714Z"
   },
   {
    "duration": 5,
    "start_time": "2022-11-18T12:55:35.970Z"
   },
   {
    "duration": 21,
    "start_time": "2022-11-18T12:55:41.459Z"
   },
   {
    "duration": 27,
    "start_time": "2022-11-18T12:55:54.373Z"
   },
   {
    "duration": 3,
    "start_time": "2022-11-18T12:57:45.077Z"
   },
   {
    "duration": 705,
    "start_time": "2022-11-18T12:57:45.082Z"
   },
   {
    "duration": 20,
    "start_time": "2022-11-18T12:57:45.789Z"
   },
   {
    "duration": 35,
    "start_time": "2022-11-18T12:57:45.810Z"
   },
   {
    "duration": 24,
    "start_time": "2022-11-18T12:57:45.847Z"
   },
   {
    "duration": 15,
    "start_time": "2022-11-18T12:57:45.873Z"
   },
   {
    "duration": 1866,
    "start_time": "2022-11-18T12:57:45.890Z"
   },
   {
    "duration": 4,
    "start_time": "2022-11-18T12:57:47.758Z"
   },
   {
    "duration": 7,
    "start_time": "2022-11-18T12:57:47.763Z"
   },
   {
    "duration": 10,
    "start_time": "2022-11-18T12:57:47.772Z"
   },
   {
    "duration": 9,
    "start_time": "2022-11-18T12:57:47.784Z"
   },
   {
    "duration": 10,
    "start_time": "2022-11-18T12:57:47.795Z"
   },
   {
    "duration": 4,
    "start_time": "2022-11-18T12:57:47.806Z"
   },
   {
    "duration": 15,
    "start_time": "2022-11-18T12:57:47.812Z"
   },
   {
    "duration": 29,
    "start_time": "2022-11-18T12:57:47.829Z"
   },
   {
    "duration": 8,
    "start_time": "2022-11-18T12:57:47.860Z"
   },
   {
    "duration": 4,
    "start_time": "2022-11-18T12:57:47.869Z"
   },
   {
    "duration": 12,
    "start_time": "2022-11-18T12:57:47.874Z"
   },
   {
    "duration": 597,
    "start_time": "2022-11-18T12:57:47.887Z"
   },
   {
    "duration": 4,
    "start_time": "2022-11-18T12:57:48.486Z"
   },
   {
    "duration": 14,
    "start_time": "2022-11-18T12:57:48.492Z"
   },
   {
    "duration": 16,
    "start_time": "2022-11-18T12:57:48.507Z"
   },
   {
    "duration": 166,
    "start_time": "2022-11-18T12:57:48.524Z"
   },
   {
    "duration": 0,
    "start_time": "2022-11-18T12:57:48.691Z"
   },
   {
    "duration": 0,
    "start_time": "2022-11-18T12:57:48.692Z"
   },
   {
    "duration": 29,
    "start_time": "2022-11-18T12:57:58.128Z"
   },
   {
    "duration": 15,
    "start_time": "2022-11-18T12:58:01.098Z"
   },
   {
    "duration": 26,
    "start_time": "2022-11-18T12:58:01.875Z"
   },
   {
    "duration": 4,
    "start_time": "2022-11-18T12:58:17.955Z"
   },
   {
    "duration": 7,
    "start_time": "2022-11-18T12:58:26.932Z"
   },
   {
    "duration": 31,
    "start_time": "2022-11-18T12:58:29.083Z"
   },
   {
    "duration": 12,
    "start_time": "2022-11-18T13:01:23.180Z"
   },
   {
    "duration": 15,
    "start_time": "2022-11-18T13:01:47.669Z"
   },
   {
    "duration": 15,
    "start_time": "2022-11-18T13:02:43.489Z"
   },
   {
    "duration": 14,
    "start_time": "2022-11-18T13:03:22.581Z"
   },
   {
    "duration": 1562,
    "start_time": "2022-11-20T15:05:56.239Z"
   },
   {
    "duration": 2257,
    "start_time": "2022-11-20T15:05:57.804Z"
   },
   {
    "duration": 36,
    "start_time": "2022-11-20T15:06:00.064Z"
   },
   {
    "duration": 47,
    "start_time": "2022-11-20T15:06:00.102Z"
   },
   {
    "duration": 76,
    "start_time": "2022-11-20T15:06:00.152Z"
   },
   {
    "duration": 69,
    "start_time": "2022-11-20T15:06:00.230Z"
   },
   {
    "duration": 2267,
    "start_time": "2022-11-20T15:06:00.301Z"
   },
   {
    "duration": 5,
    "start_time": "2022-11-20T15:06:02.570Z"
   },
   {
    "duration": 23,
    "start_time": "2022-11-20T15:06:02.577Z"
   },
   {
    "duration": 17,
    "start_time": "2022-11-20T15:06:02.602Z"
   },
   {
    "duration": 12,
    "start_time": "2022-11-20T15:06:02.621Z"
   },
   {
    "duration": 29,
    "start_time": "2022-11-20T15:06:02.635Z"
   },
   {
    "duration": 23,
    "start_time": "2022-11-20T15:06:02.666Z"
   },
   {
    "duration": 24,
    "start_time": "2022-11-20T15:06:02.692Z"
   },
   {
    "duration": 25,
    "start_time": "2022-11-20T15:06:02.717Z"
   },
   {
    "duration": 9,
    "start_time": "2022-11-20T15:06:02.744Z"
   },
   {
    "duration": 19,
    "start_time": "2022-11-20T15:06:02.754Z"
   },
   {
    "duration": 35,
    "start_time": "2022-11-20T15:06:02.776Z"
   },
   {
    "duration": 648,
    "start_time": "2022-11-20T15:06:02.813Z"
   },
   {
    "duration": 6,
    "start_time": "2022-11-20T15:06:03.463Z"
   },
   {
    "duration": 13,
    "start_time": "2022-11-20T15:06:03.471Z"
   },
   {
    "duration": 144,
    "start_time": "2022-11-20T15:06:03.486Z"
   },
   {
    "duration": 0,
    "start_time": "2022-11-20T15:06:03.632Z"
   },
   {
    "duration": 0,
    "start_time": "2022-11-20T15:06:03.634Z"
   },
   {
    "duration": 0,
    "start_time": "2022-11-20T15:06:03.635Z"
   },
   {
    "duration": 6,
    "start_time": "2022-11-20T15:08:04.936Z"
   },
   {
    "duration": 43,
    "start_time": "2022-11-20T15:08:35.517Z"
   },
   {
    "duration": 5,
    "start_time": "2022-11-20T15:09:12.748Z"
   },
   {
    "duration": 35,
    "start_time": "2022-11-20T15:09:18.881Z"
   },
   {
    "duration": 18,
    "start_time": "2022-11-20T15:09:42.444Z"
   },
   {
    "duration": 15,
    "start_time": "2022-11-20T15:15:16.812Z"
   },
   {
    "duration": 4,
    "start_time": "2022-11-20T15:15:28.739Z"
   },
   {
    "duration": 1214,
    "start_time": "2022-11-20T15:18:21.080Z"
   },
   {
    "duration": 1192,
    "start_time": "2022-11-20T15:20:26.406Z"
   },
   {
    "duration": 1174,
    "start_time": "2022-11-20T15:20:34.149Z"
   },
   {
    "duration": 487,
    "start_time": "2022-11-20T15:22:15.813Z"
   },
   {
    "duration": 301,
    "start_time": "2022-11-20T15:23:16.201Z"
   },
   {
    "duration": 312,
    "start_time": "2022-11-20T15:23:57.701Z"
   },
   {
    "duration": 301,
    "start_time": "2022-11-20T15:24:31.640Z"
   },
   {
    "duration": 308,
    "start_time": "2022-11-20T15:24:56.867Z"
   },
   {
    "duration": 442,
    "start_time": "2022-11-20T15:25:34.998Z"
   },
   {
    "duration": 311,
    "start_time": "2022-11-20T15:25:42.775Z"
   },
   {
    "duration": 319,
    "start_time": "2022-11-20T15:26:03.869Z"
   },
   {
    "duration": 314,
    "start_time": "2022-11-20T15:26:15.167Z"
   },
   {
    "duration": 327,
    "start_time": "2022-11-20T15:26:28.816Z"
   },
   {
    "duration": 352,
    "start_time": "2022-11-20T15:26:49.412Z"
   },
   {
    "duration": 641,
    "start_time": "2022-11-20T15:27:15.118Z"
   },
   {
    "duration": 3,
    "start_time": "2022-11-20T15:29:11.769Z"
   },
   {
    "duration": 290,
    "start_time": "2022-11-20T15:29:11.947Z"
   },
   {
    "duration": 302,
    "start_time": "2022-11-20T15:29:12.239Z"
   },
   {
    "duration": 298,
    "start_time": "2022-11-20T15:29:12.543Z"
   },
   {
    "duration": 567,
    "start_time": "2022-11-20T15:29:12.844Z"
   },
   {
    "duration": 3,
    "start_time": "2022-11-20T15:29:54.898Z"
   },
   {
    "duration": 777,
    "start_time": "2022-11-20T15:29:54.904Z"
   },
   {
    "duration": 24,
    "start_time": "2022-11-20T15:29:55.683Z"
   },
   {
    "duration": 22,
    "start_time": "2022-11-20T15:29:55.708Z"
   },
   {
    "duration": 21,
    "start_time": "2022-11-20T15:29:55.751Z"
   },
   {
    "duration": 20,
    "start_time": "2022-11-20T15:29:55.774Z"
   },
   {
    "duration": 2070,
    "start_time": "2022-11-20T15:29:55.796Z"
   },
   {
    "duration": 5,
    "start_time": "2022-11-20T15:29:57.868Z"
   },
   {
    "duration": 5,
    "start_time": "2022-11-20T15:29:57.874Z"
   },
   {
    "duration": 9,
    "start_time": "2022-11-20T15:29:57.880Z"
   },
   {
    "duration": 5,
    "start_time": "2022-11-20T15:29:57.892Z"
   },
   {
    "duration": 9,
    "start_time": "2022-11-20T15:29:57.899Z"
   },
   {
    "duration": 5,
    "start_time": "2022-11-20T15:29:57.910Z"
   },
   {
    "duration": 13,
    "start_time": "2022-11-20T15:29:57.951Z"
   },
   {
    "duration": 16,
    "start_time": "2022-11-20T15:29:57.966Z"
   },
   {
    "duration": 11,
    "start_time": "2022-11-20T15:29:57.985Z"
   },
   {
    "duration": 4,
    "start_time": "2022-11-20T15:29:57.998Z"
   },
   {
    "duration": 20,
    "start_time": "2022-11-20T15:29:58.004Z"
   },
   {
    "duration": 647,
    "start_time": "2022-11-20T15:29:58.025Z"
   },
   {
    "duration": 6,
    "start_time": "2022-11-20T15:29:58.674Z"
   },
   {
    "duration": 6,
    "start_time": "2022-11-20T15:29:58.682Z"
   },
   {
    "duration": 7,
    "start_time": "2022-11-20T15:29:58.690Z"
   },
   {
    "duration": 318,
    "start_time": "2022-11-20T15:29:58.699Z"
   },
   {
    "duration": 447,
    "start_time": "2022-11-20T15:29:59.019Z"
   },
   {
    "duration": 600,
    "start_time": "2022-11-20T15:29:59.468Z"
   },
   {
    "duration": 277,
    "start_time": "2022-11-20T15:36:06.369Z"
   },
   {
    "duration": 326,
    "start_time": "2022-11-20T15:36:09.857Z"
   },
   {
    "duration": 613,
    "start_time": "2022-11-20T15:36:13.538Z"
   },
   {
    "duration": 4,
    "start_time": "2022-11-20T15:46:20.908Z"
   },
   {
    "duration": 53,
    "start_time": "2022-11-20T15:49:46.278Z"
   },
   {
    "duration": 5,
    "start_time": "2022-11-20T16:05:41.642Z"
   },
   {
    "duration": 26,
    "start_time": "2022-11-20T16:05:54.921Z"
   },
   {
    "duration": 5,
    "start_time": "2022-11-20T16:06:11.350Z"
   },
   {
    "duration": 13,
    "start_time": "2022-11-20T16:39:50.804Z"
   },
   {
    "duration": 7,
    "start_time": "2022-11-20T16:39:56.601Z"
   },
   {
    "duration": 10,
    "start_time": "2022-11-20T16:40:01.972Z"
   },
   {
    "duration": 13,
    "start_time": "2022-11-20T16:40:15.487Z"
   },
   {
    "duration": 13,
    "start_time": "2022-11-20T16:40:45.202Z"
   },
   {
    "duration": 4,
    "start_time": "2022-11-20T16:40:48.511Z"
   },
   {
    "duration": 4,
    "start_time": "2022-11-20T16:40:48.895Z"
   },
   {
    "duration": 9,
    "start_time": "2022-11-20T16:42:57.177Z"
   },
   {
    "duration": 11,
    "start_time": "2022-11-20T16:43:09.873Z"
   },
   {
    "duration": 23,
    "start_time": "2022-11-20T16:43:20.913Z"
   },
   {
    "duration": 8,
    "start_time": "2022-11-20T16:44:19.868Z"
   },
   {
    "duration": 56,
    "start_time": "2022-11-20T16:44:24.528Z"
   },
   {
    "duration": 15,
    "start_time": "2022-11-20T16:49:29.437Z"
   },
   {
    "duration": 6,
    "start_time": "2022-11-20T16:53:00.255Z"
   },
   {
    "duration": 962,
    "start_time": "2022-11-20T16:53:00.263Z"
   },
   {
    "duration": 44,
    "start_time": "2022-11-20T16:53:01.227Z"
   },
   {
    "duration": 41,
    "start_time": "2022-11-20T16:53:01.273Z"
   },
   {
    "duration": 39,
    "start_time": "2022-11-20T16:53:01.317Z"
   },
   {
    "duration": 65,
    "start_time": "2022-11-20T16:53:01.358Z"
   },
   {
    "duration": 2477,
    "start_time": "2022-11-20T16:53:01.425Z"
   },
   {
    "duration": 4,
    "start_time": "2022-11-20T16:53:03.904Z"
   },
   {
    "duration": 8,
    "start_time": "2022-11-20T16:53:03.910Z"
   },
   {
    "duration": 31,
    "start_time": "2022-11-20T16:53:03.920Z"
   },
   {
    "duration": 13,
    "start_time": "2022-11-20T16:53:03.956Z"
   },
   {
    "duration": 19,
    "start_time": "2022-11-20T16:53:03.972Z"
   },
   {
    "duration": 14,
    "start_time": "2022-11-20T16:53:03.993Z"
   },
   {
    "duration": 15,
    "start_time": "2022-11-20T16:53:04.009Z"
   },
   {
    "duration": 30,
    "start_time": "2022-11-20T16:53:04.026Z"
   },
   {
    "duration": 5,
    "start_time": "2022-11-20T16:53:04.058Z"
   },
   {
    "duration": 22,
    "start_time": "2022-11-20T16:53:04.065Z"
   },
   {
    "duration": 830,
    "start_time": "2022-11-20T16:53:04.090Z"
   },
   {
    "duration": 6,
    "start_time": "2022-11-20T16:53:04.923Z"
   },
   {
    "duration": 21,
    "start_time": "2022-11-20T16:53:04.932Z"
   },
   {
    "duration": 521,
    "start_time": "2022-11-20T16:53:04.955Z"
   },
   {
    "duration": 398,
    "start_time": "2022-11-20T16:53:05.478Z"
   },
   {
    "duration": 614,
    "start_time": "2022-11-20T16:53:05.878Z"
   },
   {
    "duration": 4,
    "start_time": "2022-11-20T16:53:06.494Z"
   },
   {
    "duration": 16,
    "start_time": "2022-11-20T16:53:06.500Z"
   },
   {
    "duration": 6,
    "start_time": "2022-11-20T16:53:06.518Z"
   },
   {
    "duration": 25,
    "start_time": "2022-11-20T16:53:06.527Z"
   },
   {
    "duration": 33,
    "start_time": "2022-11-20T16:53:06.555Z"
   },
   {
    "duration": 16,
    "start_time": "2022-11-20T16:54:14.197Z"
   },
   {
    "duration": 7,
    "start_time": "2022-11-20T16:54:18.952Z"
   },
   {
    "duration": 1001,
    "start_time": "2022-11-20T16:54:18.965Z"
   },
   {
    "duration": 35,
    "start_time": "2022-11-20T16:54:19.968Z"
   },
   {
    "duration": 60,
    "start_time": "2022-11-20T16:54:20.006Z"
   },
   {
    "duration": 95,
    "start_time": "2022-11-20T16:54:20.068Z"
   },
   {
    "duration": 67,
    "start_time": "2022-11-20T16:54:20.170Z"
   },
   {
    "duration": 2467,
    "start_time": "2022-11-20T16:54:20.240Z"
   },
   {
    "duration": 3,
    "start_time": "2022-11-20T16:54:22.709Z"
   },
   {
    "duration": 14,
    "start_time": "2022-11-20T16:54:22.714Z"
   },
   {
    "duration": 21,
    "start_time": "2022-11-20T16:54:22.730Z"
   },
   {
    "duration": 9,
    "start_time": "2022-11-20T16:54:22.753Z"
   },
   {
    "duration": 6,
    "start_time": "2022-11-20T16:54:22.764Z"
   },
   {
    "duration": 25,
    "start_time": "2022-11-20T16:54:22.772Z"
   },
   {
    "duration": 11,
    "start_time": "2022-11-20T16:54:22.799Z"
   },
   {
    "duration": 9,
    "start_time": "2022-11-20T16:54:22.813Z"
   },
   {
    "duration": 35,
    "start_time": "2022-11-20T16:54:22.824Z"
   },
   {
    "duration": 27,
    "start_time": "2022-11-20T16:54:22.868Z"
   },
   {
    "duration": 859,
    "start_time": "2022-11-20T16:54:22.897Z"
   },
   {
    "duration": 6,
    "start_time": "2022-11-20T16:54:23.761Z"
   },
   {
    "duration": 18,
    "start_time": "2022-11-20T16:54:23.769Z"
   },
   {
    "duration": 314,
    "start_time": "2022-11-20T16:54:23.789Z"
   },
   {
    "duration": 377,
    "start_time": "2022-11-20T16:54:24.105Z"
   },
   {
    "duration": 532,
    "start_time": "2022-11-20T16:54:24.485Z"
   },
   {
    "duration": 4,
    "start_time": "2022-11-20T16:54:25.019Z"
   },
   {
    "duration": 16,
    "start_time": "2022-11-20T16:54:25.025Z"
   },
   {
    "duration": 32,
    "start_time": "2022-11-20T16:54:25.053Z"
   },
   {
    "duration": 8,
    "start_time": "2022-11-20T16:54:25.087Z"
   },
   {
    "duration": 15,
    "start_time": "2022-11-20T16:54:25.097Z"
   },
   {
    "duration": 10578,
    "start_time": "2022-11-20T16:55:40.926Z"
   },
   {
    "duration": 1562,
    "start_time": "2022-11-21T05:34:01.280Z"
   },
   {
    "duration": 1794,
    "start_time": "2022-11-21T05:34:02.844Z"
   },
   {
    "duration": 26,
    "start_time": "2022-11-21T05:34:04.640Z"
   },
   {
    "duration": 69,
    "start_time": "2022-11-21T05:34:04.667Z"
   },
   {
    "duration": 84,
    "start_time": "2022-11-21T05:34:04.738Z"
   },
   {
    "duration": 17,
    "start_time": "2022-11-21T05:34:04.823Z"
   },
   {
    "duration": 2531,
    "start_time": "2022-11-21T05:34:04.841Z"
   },
   {
    "duration": 4,
    "start_time": "2022-11-21T05:34:07.373Z"
   },
   {
    "duration": 8,
    "start_time": "2022-11-21T05:34:07.378Z"
   },
   {
    "duration": 5,
    "start_time": "2022-11-21T05:34:07.388Z"
   },
   {
    "duration": 11,
    "start_time": "2022-11-21T05:34:07.395Z"
   },
   {
    "duration": 4,
    "start_time": "2022-11-21T05:34:07.407Z"
   },
   {
    "duration": 13,
    "start_time": "2022-11-21T05:34:07.413Z"
   },
   {
    "duration": 15,
    "start_time": "2022-11-21T05:34:07.429Z"
   },
   {
    "duration": 8,
    "start_time": "2022-11-21T05:34:07.445Z"
   },
   {
    "duration": 4,
    "start_time": "2022-11-21T05:34:07.454Z"
   },
   {
    "duration": 14,
    "start_time": "2022-11-21T05:34:07.460Z"
   },
   {
    "duration": 724,
    "start_time": "2022-11-21T05:34:07.476Z"
   },
   {
    "duration": 5,
    "start_time": "2022-11-21T05:34:08.202Z"
   },
   {
    "duration": 15,
    "start_time": "2022-11-21T05:34:08.208Z"
   },
   {
    "duration": 257,
    "start_time": "2022-11-21T05:34:08.224Z"
   },
   {
    "duration": 278,
    "start_time": "2022-11-21T05:34:08.483Z"
   },
   {
    "duration": 496,
    "start_time": "2022-11-21T05:34:08.763Z"
   },
   {
    "duration": 4,
    "start_time": "2022-11-21T05:34:09.260Z"
   },
   {
    "duration": 32,
    "start_time": "2022-11-21T05:34:09.265Z"
   },
   {
    "duration": 39,
    "start_time": "2022-11-21T05:34:09.299Z"
   },
   {
    "duration": 23,
    "start_time": "2022-11-21T05:34:09.340Z"
   },
   {
    "duration": 7676,
    "start_time": "2022-11-21T05:34:09.366Z"
   },
   {
    "duration": 5,
    "start_time": "2022-11-21T05:37:18.990Z"
   },
   {
    "duration": 6911,
    "start_time": "2022-11-21T05:37:21.141Z"
   },
   {
    "duration": 3,
    "start_time": "2022-11-21T05:37:58.638Z"
   },
   {
    "duration": 15,
    "start_time": "2022-11-21T05:37:59.431Z"
   },
   {
    "duration": 2,
    "start_time": "2022-11-21T05:37:59.775Z"
   },
   {
    "duration": 4,
    "start_time": "2022-11-21T05:38:00.281Z"
   },
   {
    "duration": 7017,
    "start_time": "2022-11-21T05:38:02.261Z"
   },
   {
    "duration": 9,
    "start_time": "2022-11-21T05:39:03.095Z"
   },
   {
    "duration": 10,
    "start_time": "2022-11-21T05:39:18.049Z"
   },
   {
    "duration": 3,
    "start_time": "2022-11-21T05:39:59.263Z"
   },
   {
    "duration": 17,
    "start_time": "2022-11-21T05:40:05.553Z"
   },
   {
    "duration": 149,
    "start_time": "2022-11-21T05:40:08.375Z"
   },
   {
    "duration": 143,
    "start_time": "2022-11-21T05:41:50.861Z"
   },
   {
    "duration": 3,
    "start_time": "2022-11-21T05:41:54.305Z"
   },
   {
    "duration": 140,
    "start_time": "2022-11-21T05:41:58.226Z"
   },
   {
    "duration": 3,
    "start_time": "2022-11-21T05:43:51.008Z"
   },
   {
    "duration": 148,
    "start_time": "2022-11-21T05:43:53.349Z"
   },
   {
    "duration": 3,
    "start_time": "2022-11-21T05:45:04.536Z"
   },
   {
    "duration": 646,
    "start_time": "2022-11-21T05:45:04.541Z"
   },
   {
    "duration": 20,
    "start_time": "2022-11-21T05:45:05.188Z"
   },
   {
    "duration": 29,
    "start_time": "2022-11-21T05:45:05.210Z"
   },
   {
    "duration": 20,
    "start_time": "2022-11-21T05:45:05.241Z"
   },
   {
    "duration": 15,
    "start_time": "2022-11-21T05:45:05.263Z"
   },
   {
    "duration": 1930,
    "start_time": "2022-11-21T05:45:05.279Z"
   },
   {
    "duration": 4,
    "start_time": "2022-11-21T05:45:07.210Z"
   },
   {
    "duration": 5,
    "start_time": "2022-11-21T05:45:07.222Z"
   },
   {
    "duration": 6,
    "start_time": "2022-11-21T05:45:07.229Z"
   },
   {
    "duration": 9,
    "start_time": "2022-11-21T05:45:07.238Z"
   },
   {
    "duration": 4,
    "start_time": "2022-11-21T05:45:07.249Z"
   },
   {
    "duration": 10,
    "start_time": "2022-11-21T05:45:07.255Z"
   },
   {
    "duration": 10,
    "start_time": "2022-11-21T05:45:07.266Z"
   },
   {
    "duration": 8,
    "start_time": "2022-11-21T05:45:07.277Z"
   },
   {
    "duration": 5,
    "start_time": "2022-11-21T05:45:07.322Z"
   },
   {
    "duration": 15,
    "start_time": "2022-11-21T05:45:07.329Z"
   },
   {
    "duration": 577,
    "start_time": "2022-11-21T05:45:07.345Z"
   },
   {
    "duration": 4,
    "start_time": "2022-11-21T05:45:07.923Z"
   },
   {
    "duration": 5,
    "start_time": "2022-11-21T05:45:07.929Z"
   },
   {
    "duration": 278,
    "start_time": "2022-11-21T05:45:07.936Z"
   },
   {
    "duration": 270,
    "start_time": "2022-11-21T05:45:08.215Z"
   },
   {
    "duration": 552,
    "start_time": "2022-11-21T05:45:08.486Z"
   },
   {
    "duration": 4,
    "start_time": "2022-11-21T05:45:09.039Z"
   },
   {
    "duration": 9,
    "start_time": "2022-11-21T05:45:09.045Z"
   },
   {
    "duration": 7,
    "start_time": "2022-11-21T05:45:09.055Z"
   },
   {
    "duration": 8,
    "start_time": "2022-11-21T05:45:09.064Z"
   },
   {
    "duration": 193,
    "start_time": "2022-11-21T05:45:09.073Z"
   },
   {
    "duration": 172,
    "start_time": "2022-11-21T05:46:06.606Z"
   },
   {
    "duration": 6,
    "start_time": "2022-11-21T05:47:42.714Z"
   },
   {
    "duration": 9,
    "start_time": "2022-11-21T05:48:44.087Z"
   },
   {
    "duration": 3,
    "start_time": "2022-11-21T05:48:47.222Z"
   },
   {
    "duration": 650,
    "start_time": "2022-11-21T05:48:47.227Z"
   },
   {
    "duration": 20,
    "start_time": "2022-11-21T05:48:47.879Z"
   },
   {
    "duration": 34,
    "start_time": "2022-11-21T05:48:47.901Z"
   },
   {
    "duration": 22,
    "start_time": "2022-11-21T05:48:47.936Z"
   },
   {
    "duration": 17,
    "start_time": "2022-11-21T05:48:47.959Z"
   },
   {
    "duration": 1917,
    "start_time": "2022-11-21T05:48:47.978Z"
   },
   {
    "duration": 3,
    "start_time": "2022-11-21T05:48:49.897Z"
   },
   {
    "duration": 8,
    "start_time": "2022-11-21T05:48:49.902Z"
   },
   {
    "duration": 15,
    "start_time": "2022-11-21T05:48:49.911Z"
   },
   {
    "duration": 12,
    "start_time": "2022-11-21T05:48:49.927Z"
   },
   {
    "duration": 7,
    "start_time": "2022-11-21T05:48:49.941Z"
   },
   {
    "duration": 12,
    "start_time": "2022-11-21T05:48:49.949Z"
   },
   {
    "duration": 10,
    "start_time": "2022-11-21T05:48:49.962Z"
   },
   {
    "duration": 10,
    "start_time": "2022-11-21T05:48:49.973Z"
   },
   {
    "duration": 0,
    "start_time": "2022-11-21T05:48:49.985Z"
   },
   {
    "duration": 0,
    "start_time": "2022-11-21T05:48:49.985Z"
   },
   {
    "duration": 0,
    "start_time": "2022-11-21T05:48:49.986Z"
   },
   {
    "duration": 0,
    "start_time": "2022-11-21T05:48:49.988Z"
   },
   {
    "duration": 0,
    "start_time": "2022-11-21T05:48:49.989Z"
   },
   {
    "duration": 0,
    "start_time": "2022-11-21T05:48:49.989Z"
   },
   {
    "duration": 0,
    "start_time": "2022-11-21T05:48:50.022Z"
   },
   {
    "duration": 0,
    "start_time": "2022-11-21T05:48:50.024Z"
   },
   {
    "duration": 0,
    "start_time": "2022-11-21T05:48:50.026Z"
   },
   {
    "duration": 0,
    "start_time": "2022-11-21T05:48:50.027Z"
   },
   {
    "duration": 0,
    "start_time": "2022-11-21T05:48:50.028Z"
   },
   {
    "duration": 0,
    "start_time": "2022-11-21T05:48:50.029Z"
   },
   {
    "duration": 0,
    "start_time": "2022-11-21T05:48:50.030Z"
   },
   {
    "duration": 0,
    "start_time": "2022-11-21T05:48:50.030Z"
   },
   {
    "duration": 10,
    "start_time": "2022-11-21T05:49:06.925Z"
   },
   {
    "duration": 10,
    "start_time": "2022-11-21T05:49:12.598Z"
   },
   {
    "duration": 9,
    "start_time": "2022-11-21T05:49:12.768Z"
   },
   {
    "duration": 128,
    "start_time": "2022-11-21T05:49:13.318Z"
   },
   {
    "duration": 2,
    "start_time": "2022-11-21T05:49:24.266Z"
   },
   {
    "duration": 9,
    "start_time": "2022-11-21T05:49:36.554Z"
   },
   {
    "duration": 9,
    "start_time": "2022-11-21T05:49:48.491Z"
   },
   {
    "duration": 3,
    "start_time": "2022-11-21T05:49:51.813Z"
   },
   {
    "duration": 684,
    "start_time": "2022-11-21T05:49:51.818Z"
   },
   {
    "duration": 28,
    "start_time": "2022-11-21T05:49:52.504Z"
   },
   {
    "duration": 19,
    "start_time": "2022-11-21T05:49:52.535Z"
   },
   {
    "duration": 20,
    "start_time": "2022-11-21T05:49:52.556Z"
   },
   {
    "duration": 43,
    "start_time": "2022-11-21T05:49:52.578Z"
   },
   {
    "duration": 1974,
    "start_time": "2022-11-21T05:49:52.622Z"
   },
   {
    "duration": 4,
    "start_time": "2022-11-21T05:49:54.598Z"
   },
   {
    "duration": 20,
    "start_time": "2022-11-21T05:49:54.604Z"
   },
   {
    "duration": 5,
    "start_time": "2022-11-21T05:49:54.625Z"
   },
   {
    "duration": 12,
    "start_time": "2022-11-21T05:49:54.632Z"
   },
   {
    "duration": 5,
    "start_time": "2022-11-21T05:49:54.646Z"
   },
   {
    "duration": 13,
    "start_time": "2022-11-21T05:49:54.652Z"
   },
   {
    "duration": 10,
    "start_time": "2022-11-21T05:49:54.667Z"
   },
   {
    "duration": 50,
    "start_time": "2022-11-21T05:49:54.679Z"
   },
   {
    "duration": 4,
    "start_time": "2022-11-21T05:49:54.731Z"
   },
   {
    "duration": 14,
    "start_time": "2022-11-21T05:49:54.736Z"
   },
   {
    "duration": 695,
    "start_time": "2022-11-21T05:49:54.752Z"
   },
   {
    "duration": 4,
    "start_time": "2022-11-21T05:49:55.449Z"
   },
   {
    "duration": 6,
    "start_time": "2022-11-21T05:49:55.455Z"
   },
   {
    "duration": 263,
    "start_time": "2022-11-21T05:49:55.462Z"
   },
   {
    "duration": 306,
    "start_time": "2022-11-21T05:49:55.726Z"
   },
   {
    "duration": 427,
    "start_time": "2022-11-21T05:49:56.034Z"
   },
   {
    "duration": 3,
    "start_time": "2022-11-21T05:49:56.464Z"
   },
   {
    "duration": 28,
    "start_time": "2022-11-21T05:49:56.468Z"
   },
   {
    "duration": 8,
    "start_time": "2022-11-21T05:49:56.498Z"
   },
   {
    "duration": 5,
    "start_time": "2022-11-21T05:49:56.508Z"
   },
   {
    "duration": 8,
    "start_time": "2022-11-21T05:49:56.514Z"
   },
   {
    "duration": 202,
    "start_time": "2022-11-21T05:49:56.523Z"
   },
   {
    "duration": 197,
    "start_time": "2022-11-21T05:50:41.966Z"
   },
   {
    "duration": 5,
    "start_time": "2022-11-21T06:04:10.883Z"
   },
   {
    "duration": 4,
    "start_time": "2022-11-21T06:04:26.468Z"
   },
   {
    "duration": 6,
    "start_time": "2022-11-21T06:06:33.106Z"
   },
   {
    "duration": 14,
    "start_time": "2022-11-21T06:06:34.807Z"
   },
   {
    "duration": 7,
    "start_time": "2022-11-21T06:06:35.070Z"
   },
   {
    "duration": 3,
    "start_time": "2022-11-21T06:06:38.361Z"
   },
   {
    "duration": 638,
    "start_time": "2022-11-21T06:06:38.366Z"
   },
   {
    "duration": 22,
    "start_time": "2022-11-21T06:06:39.006Z"
   },
   {
    "duration": 24,
    "start_time": "2022-11-21T06:06:39.030Z"
   },
   {
    "duration": 22,
    "start_time": "2022-11-21T06:06:39.056Z"
   },
   {
    "duration": 16,
    "start_time": "2022-11-21T06:06:39.080Z"
   },
   {
    "duration": 1971,
    "start_time": "2022-11-21T06:06:39.098Z"
   },
   {
    "duration": 3,
    "start_time": "2022-11-21T06:06:41.071Z"
   },
   {
    "duration": 7,
    "start_time": "2022-11-21T06:06:41.077Z"
   },
   {
    "duration": 7,
    "start_time": "2022-11-21T06:06:41.085Z"
   },
   {
    "duration": 29,
    "start_time": "2022-11-21T06:06:41.093Z"
   },
   {
    "duration": 5,
    "start_time": "2022-11-21T06:06:41.123Z"
   },
   {
    "duration": 13,
    "start_time": "2022-11-21T06:06:41.129Z"
   },
   {
    "duration": 10,
    "start_time": "2022-11-21T06:06:41.143Z"
   },
   {
    "duration": 19,
    "start_time": "2022-11-21T06:06:41.155Z"
   },
   {
    "duration": 5,
    "start_time": "2022-11-21T06:06:41.175Z"
   },
   {
    "duration": 13,
    "start_time": "2022-11-21T06:06:41.181Z"
   },
   {
    "duration": 594,
    "start_time": "2022-11-21T06:06:41.223Z"
   },
   {
    "duration": 5,
    "start_time": "2022-11-21T06:06:41.821Z"
   },
   {
    "duration": 15,
    "start_time": "2022-11-21T06:06:41.828Z"
   },
   {
    "duration": 284,
    "start_time": "2022-11-21T06:06:41.845Z"
   },
   {
    "duration": 328,
    "start_time": "2022-11-21T06:06:42.132Z"
   },
   {
    "duration": 544,
    "start_time": "2022-11-21T06:06:42.462Z"
   },
   {
    "duration": 6,
    "start_time": "2022-11-21T06:06:43.008Z"
   },
   {
    "duration": 17,
    "start_time": "2022-11-21T06:06:43.015Z"
   },
   {
    "duration": 9,
    "start_time": "2022-11-21T06:06:43.034Z"
   },
   {
    "duration": 5,
    "start_time": "2022-11-21T06:06:43.044Z"
   },
   {
    "duration": 11,
    "start_time": "2022-11-21T06:06:43.051Z"
   },
   {
    "duration": 407,
    "start_time": "2022-11-21T06:06:43.064Z"
   },
   {
    "duration": 69,
    "start_time": "2022-11-21T06:11:08.433Z"
   },
   {
    "duration": 3,
    "start_time": "2022-11-21T06:12:34.577Z"
   },
   {
    "duration": 633,
    "start_time": "2022-11-21T06:12:34.582Z"
   },
   {
    "duration": 24,
    "start_time": "2022-11-21T06:12:35.216Z"
   },
   {
    "duration": 21,
    "start_time": "2022-11-21T06:12:35.241Z"
   },
   {
    "duration": 23,
    "start_time": "2022-11-21T06:12:35.265Z"
   },
   {
    "duration": 34,
    "start_time": "2022-11-21T06:12:35.290Z"
   },
   {
    "duration": 1860,
    "start_time": "2022-11-21T06:12:35.325Z"
   },
   {
    "duration": 3,
    "start_time": "2022-11-21T06:12:37.187Z"
   },
   {
    "duration": 11,
    "start_time": "2022-11-21T06:12:37.191Z"
   },
   {
    "duration": 94,
    "start_time": "2022-11-21T06:12:37.203Z"
   },
   {
    "duration": 222,
    "start_time": "2022-11-21T06:12:37.299Z"
   },
   {
    "duration": 4,
    "start_time": "2022-11-21T06:12:37.523Z"
   },
   {
    "duration": 13,
    "start_time": "2022-11-21T06:12:37.528Z"
   },
   {
    "duration": 10,
    "start_time": "2022-11-21T06:12:37.542Z"
   },
   {
    "duration": 20,
    "start_time": "2022-11-21T06:12:37.553Z"
   },
   {
    "duration": 4,
    "start_time": "2022-11-21T06:12:37.575Z"
   },
   {
    "duration": 10,
    "start_time": "2022-11-21T06:12:37.580Z"
   },
   {
    "duration": 607,
    "start_time": "2022-11-21T06:12:37.591Z"
   },
   {
    "duration": 5,
    "start_time": "2022-11-21T06:12:38.199Z"
   },
   {
    "duration": 17,
    "start_time": "2022-11-21T06:12:38.206Z"
   },
   {
    "duration": 256,
    "start_time": "2022-11-21T06:12:38.225Z"
   },
   {
    "duration": 395,
    "start_time": "2022-11-21T06:12:38.482Z"
   },
   {
    "duration": 435,
    "start_time": "2022-11-21T06:12:38.879Z"
   },
   {
    "duration": 6,
    "start_time": "2022-11-21T06:12:39.316Z"
   },
   {
    "duration": 71,
    "start_time": "2022-11-21T06:12:39.324Z"
   },
   {
    "duration": 0,
    "start_time": "2022-11-21T06:12:39.396Z"
   },
   {
    "duration": 0,
    "start_time": "2022-11-21T06:12:39.397Z"
   },
   {
    "duration": 0,
    "start_time": "2022-11-21T06:12:39.398Z"
   },
   {
    "duration": 75,
    "start_time": "2022-11-21T06:12:54.235Z"
   },
   {
    "duration": 77,
    "start_time": "2022-11-21T06:13:03.015Z"
   },
   {
    "duration": 8,
    "start_time": "2022-11-21T06:13:13.223Z"
   },
   {
    "duration": 9,
    "start_time": "2022-11-21T06:13:22.591Z"
   },
   {
    "duration": 20,
    "start_time": "2022-11-21T06:14:03.456Z"
   },
   {
    "duration": 4,
    "start_time": "2022-11-21T06:14:10.604Z"
   },
   {
    "duration": 623,
    "start_time": "2022-11-21T06:14:10.612Z"
   },
   {
    "duration": 22,
    "start_time": "2022-11-21T06:14:11.237Z"
   },
   {
    "duration": 29,
    "start_time": "2022-11-21T06:14:11.261Z"
   },
   {
    "duration": 35,
    "start_time": "2022-11-21T06:14:11.292Z"
   },
   {
    "duration": 16,
    "start_time": "2022-11-21T06:14:11.329Z"
   },
   {
    "duration": 1981,
    "start_time": "2022-11-21T06:14:11.347Z"
   },
   {
    "duration": 4,
    "start_time": "2022-11-21T06:14:13.329Z"
   },
   {
    "duration": 8,
    "start_time": "2022-11-21T06:14:13.334Z"
   },
   {
    "duration": 5,
    "start_time": "2022-11-21T06:14:13.344Z"
   },
   {
    "duration": 11,
    "start_time": "2022-11-21T06:14:13.350Z"
   },
   {
    "duration": 5,
    "start_time": "2022-11-21T06:14:13.362Z"
   },
   {
    "duration": 12,
    "start_time": "2022-11-21T06:14:13.368Z"
   },
   {
    "duration": 41,
    "start_time": "2022-11-21T06:14:13.381Z"
   },
   {
    "duration": 21,
    "start_time": "2022-11-21T06:14:13.425Z"
   },
   {
    "duration": 6,
    "start_time": "2022-11-21T06:14:13.448Z"
   },
   {
    "duration": 11,
    "start_time": "2022-11-21T06:14:13.456Z"
   },
   {
    "duration": 613,
    "start_time": "2022-11-21T06:14:13.468Z"
   },
   {
    "duration": 6,
    "start_time": "2022-11-21T06:14:14.084Z"
   },
   {
    "duration": 11,
    "start_time": "2022-11-21T06:14:14.092Z"
   },
   {
    "duration": 399,
    "start_time": "2022-11-21T06:14:14.105Z"
   },
   {
    "duration": 278,
    "start_time": "2022-11-21T06:14:14.506Z"
   },
   {
    "duration": 422,
    "start_time": "2022-11-21T06:14:14.786Z"
   },
   {
    "duration": 3,
    "start_time": "2022-11-21T06:14:15.210Z"
   },
   {
    "duration": 19,
    "start_time": "2022-11-21T06:14:15.222Z"
   },
   {
    "duration": 0,
    "start_time": "2022-11-21T06:14:15.243Z"
   },
   {
    "duration": 0,
    "start_time": "2022-11-21T06:14:15.243Z"
   },
   {
    "duration": 0,
    "start_time": "2022-11-21T06:14:15.244Z"
   },
   {
    "duration": 20,
    "start_time": "2022-11-21T06:15:15.469Z"
   },
   {
    "duration": 3,
    "start_time": "2022-11-21T06:15:30.701Z"
   },
   {
    "duration": 611,
    "start_time": "2022-11-21T06:15:30.706Z"
   },
   {
    "duration": 26,
    "start_time": "2022-11-21T06:15:31.321Z"
   },
   {
    "duration": 49,
    "start_time": "2022-11-21T06:15:31.348Z"
   },
   {
    "duration": 52,
    "start_time": "2022-11-21T06:15:31.400Z"
   },
   {
    "duration": 40,
    "start_time": "2022-11-21T06:15:31.454Z"
   },
   {
    "duration": 1890,
    "start_time": "2022-11-21T06:15:31.496Z"
   },
   {
    "duration": 4,
    "start_time": "2022-11-21T06:15:33.387Z"
   },
   {
    "duration": 11,
    "start_time": "2022-11-21T06:15:33.392Z"
   },
   {
    "duration": 18,
    "start_time": "2022-11-21T06:15:33.405Z"
   },
   {
    "duration": 7,
    "start_time": "2022-11-21T06:15:33.425Z"
   },
   {
    "duration": 7,
    "start_time": "2022-11-21T06:15:33.434Z"
   },
   {
    "duration": 15,
    "start_time": "2022-11-21T06:15:33.442Z"
   },
   {
    "duration": 19,
    "start_time": "2022-11-21T06:15:33.459Z"
   },
   {
    "duration": 47,
    "start_time": "2022-11-21T06:15:33.480Z"
   },
   {
    "duration": 7,
    "start_time": "2022-11-21T06:15:33.529Z"
   },
   {
    "duration": 16,
    "start_time": "2022-11-21T06:15:33.538Z"
   },
   {
    "duration": 834,
    "start_time": "2022-11-21T06:15:33.556Z"
   },
   {
    "duration": 4,
    "start_time": "2022-11-21T06:15:34.392Z"
   },
   {
    "duration": 6,
    "start_time": "2022-11-21T06:15:34.398Z"
   },
   {
    "duration": 266,
    "start_time": "2022-11-21T06:15:34.405Z"
   },
   {
    "duration": 277,
    "start_time": "2022-11-21T06:15:34.673Z"
   },
   {
    "duration": 423,
    "start_time": "2022-11-21T06:15:34.951Z"
   },
   {
    "duration": 3,
    "start_time": "2022-11-21T06:15:35.375Z"
   },
   {
    "duration": 25,
    "start_time": "2022-11-21T06:15:35.380Z"
   },
   {
    "duration": 0,
    "start_time": "2022-11-21T06:15:35.406Z"
   },
   {
    "duration": 0,
    "start_time": "2022-11-21T06:15:35.423Z"
   },
   {
    "duration": 0,
    "start_time": "2022-11-21T06:15:35.424Z"
   },
   {
    "duration": 6,
    "start_time": "2022-11-21T06:19:58.828Z"
   },
   {
    "duration": 2,
    "start_time": "2022-11-21T06:20:19.673Z"
   },
   {
    "duration": 5,
    "start_time": "2022-11-21T06:20:20.094Z"
   },
   {
    "duration": 18,
    "start_time": "2022-11-21T06:20:21.573Z"
   },
   {
    "duration": 3,
    "start_time": "2022-11-21T06:20:38.298Z"
   },
   {
    "duration": 593,
    "start_time": "2022-11-21T06:20:38.304Z"
   },
   {
    "duration": 30,
    "start_time": "2022-11-21T06:20:38.898Z"
   },
   {
    "duration": 26,
    "start_time": "2022-11-21T06:20:38.931Z"
   },
   {
    "duration": 47,
    "start_time": "2022-11-21T06:20:38.959Z"
   },
   {
    "duration": 139,
    "start_time": "2022-11-21T06:20:39.008Z"
   },
   {
    "duration": 1893,
    "start_time": "2022-11-21T06:20:39.149Z"
   },
   {
    "duration": 4,
    "start_time": "2022-11-21T06:20:41.043Z"
   },
   {
    "duration": 8,
    "start_time": "2022-11-21T06:20:41.049Z"
   },
   {
    "duration": 5,
    "start_time": "2022-11-21T06:20:41.059Z"
   },
   {
    "duration": 9,
    "start_time": "2022-11-21T06:20:41.066Z"
   },
   {
    "duration": 11,
    "start_time": "2022-11-21T06:20:41.076Z"
   },
   {
    "duration": 11,
    "start_time": "2022-11-21T06:20:41.088Z"
   },
   {
    "duration": 28,
    "start_time": "2022-11-21T06:20:41.100Z"
   },
   {
    "duration": 19,
    "start_time": "2022-11-21T06:20:41.130Z"
   },
   {
    "duration": 7,
    "start_time": "2022-11-21T06:20:41.151Z"
   },
   {
    "duration": 13,
    "start_time": "2022-11-21T06:20:41.160Z"
   },
   {
    "duration": 595,
    "start_time": "2022-11-21T06:20:41.174Z"
   },
   {
    "duration": 6,
    "start_time": "2022-11-21T06:20:41.770Z"
   },
   {
    "duration": 8,
    "start_time": "2022-11-21T06:20:41.777Z"
   },
   {
    "duration": 289,
    "start_time": "2022-11-21T06:20:41.786Z"
   },
   {
    "duration": 274,
    "start_time": "2022-11-21T06:20:42.077Z"
   },
   {
    "duration": 526,
    "start_time": "2022-11-21T06:20:42.353Z"
   },
   {
    "duration": 4,
    "start_time": "2022-11-21T06:20:42.882Z"
   },
   {
    "duration": 9,
    "start_time": "2022-11-21T06:20:42.887Z"
   },
   {
    "duration": 8,
    "start_time": "2022-11-21T06:20:42.897Z"
   },
   {
    "duration": 16,
    "start_time": "2022-11-21T06:20:42.907Z"
   },
   {
    "duration": 15,
    "start_time": "2022-11-21T06:20:42.925Z"
   },
   {
    "duration": 12,
    "start_time": "2022-11-21T06:21:39.855Z"
   },
   {
    "duration": 13,
    "start_time": "2022-11-21T06:21:42.486Z"
   },
   {
    "duration": 12,
    "start_time": "2022-11-21T06:21:47.936Z"
   },
   {
    "duration": 5,
    "start_time": "2022-11-21T06:21:55.287Z"
   },
   {
    "duration": 204,
    "start_time": "2022-11-21T06:22:11.694Z"
   },
   {
    "duration": 25,
    "start_time": "2022-11-21T06:22:32.794Z"
   },
   {
    "duration": 21,
    "start_time": "2022-11-21T06:22:43.377Z"
   },
   {
    "duration": 3,
    "start_time": "2022-11-21T06:22:51.516Z"
   },
   {
    "duration": 652,
    "start_time": "2022-11-21T06:22:51.521Z"
   },
   {
    "duration": 30,
    "start_time": "2022-11-21T06:22:52.175Z"
   },
   {
    "duration": 24,
    "start_time": "2022-11-21T06:22:52.223Z"
   },
   {
    "duration": 79,
    "start_time": "2022-11-21T06:22:52.249Z"
   },
   {
    "duration": 38,
    "start_time": "2022-11-21T06:22:52.329Z"
   },
   {
    "duration": 1976,
    "start_time": "2022-11-21T06:22:52.369Z"
   },
   {
    "duration": 4,
    "start_time": "2022-11-21T06:22:54.347Z"
   },
   {
    "duration": 15,
    "start_time": "2022-11-21T06:22:54.354Z"
   },
   {
    "duration": 8,
    "start_time": "2022-11-21T06:22:54.370Z"
   },
   {
    "duration": 12,
    "start_time": "2022-11-21T06:22:54.379Z"
   },
   {
    "duration": 6,
    "start_time": "2022-11-21T06:22:54.392Z"
   },
   {
    "duration": 33,
    "start_time": "2022-11-21T06:22:54.399Z"
   },
   {
    "duration": 20,
    "start_time": "2022-11-21T06:22:54.433Z"
   },
   {
    "duration": 14,
    "start_time": "2022-11-21T06:22:54.455Z"
   },
   {
    "duration": 22,
    "start_time": "2022-11-21T06:22:54.471Z"
   },
   {
    "duration": 26,
    "start_time": "2022-11-21T06:22:54.495Z"
   },
   {
    "duration": 602,
    "start_time": "2022-11-21T06:22:54.523Z"
   },
   {
    "duration": 5,
    "start_time": "2022-11-21T06:22:55.126Z"
   },
   {
    "duration": 7,
    "start_time": "2022-11-21T06:22:55.133Z"
   },
   {
    "duration": 267,
    "start_time": "2022-11-21T06:22:55.141Z"
   },
   {
    "duration": 399,
    "start_time": "2022-11-21T06:22:55.410Z"
   },
   {
    "duration": 454,
    "start_time": "2022-11-21T06:22:55.814Z"
   },
   {
    "duration": 3,
    "start_time": "2022-11-21T06:22:56.271Z"
   },
   {
    "duration": 11,
    "start_time": "2022-11-21T06:22:56.276Z"
   },
   {
    "duration": 6,
    "start_time": "2022-11-21T06:22:56.289Z"
   },
   {
    "duration": 27,
    "start_time": "2022-11-21T06:22:56.297Z"
   },
   {
    "duration": 32,
    "start_time": "2022-11-21T06:22:56.326Z"
   },
   {
    "duration": 41,
    "start_time": "2022-11-21T06:22:56.360Z"
   },
   {
    "duration": 39,
    "start_time": "2022-11-21T06:24:15.868Z"
   },
   {
    "duration": 4,
    "start_time": "2022-11-21T06:24:27.927Z"
   },
   {
    "duration": 4,
    "start_time": "2022-11-21T06:25:36.167Z"
   },
   {
    "duration": 25,
    "start_time": "2022-11-21T06:26:40.152Z"
   },
   {
    "duration": 5,
    "start_time": "2022-11-21T06:27:01.439Z"
   },
   {
    "duration": 3,
    "start_time": "2022-11-21T06:27:24.912Z"
   },
   {
    "duration": 667,
    "start_time": "2022-11-21T06:27:24.917Z"
   },
   {
    "duration": 20,
    "start_time": "2022-11-21T06:27:25.586Z"
   },
   {
    "duration": 31,
    "start_time": "2022-11-21T06:27:25.608Z"
   },
   {
    "duration": 21,
    "start_time": "2022-11-21T06:27:25.641Z"
   },
   {
    "duration": 17,
    "start_time": "2022-11-21T06:27:25.664Z"
   },
   {
    "duration": 1882,
    "start_time": "2022-11-21T06:27:25.682Z"
   },
   {
    "duration": 5,
    "start_time": "2022-11-21T06:27:27.566Z"
   },
   {
    "duration": 23,
    "start_time": "2022-11-21T06:27:27.573Z"
   },
   {
    "duration": 6,
    "start_time": "2022-11-21T06:27:27.598Z"
   },
   {
    "duration": 16,
    "start_time": "2022-11-21T06:27:27.607Z"
   },
   {
    "duration": 5,
    "start_time": "2022-11-21T06:27:27.624Z"
   },
   {
    "duration": 14,
    "start_time": "2022-11-21T06:27:27.631Z"
   },
   {
    "duration": 11,
    "start_time": "2022-11-21T06:27:27.646Z"
   },
   {
    "duration": 5,
    "start_time": "2022-11-21T06:27:27.658Z"
   },
   {
    "duration": 5,
    "start_time": "2022-11-21T06:27:27.665Z"
   },
   {
    "duration": 51,
    "start_time": "2022-11-21T06:27:27.672Z"
   },
   {
    "duration": 680,
    "start_time": "2022-11-21T06:27:27.725Z"
   },
   {
    "duration": 15,
    "start_time": "2022-11-21T06:27:28.407Z"
   },
   {
    "duration": 4,
    "start_time": "2022-11-21T06:27:28.424Z"
   },
   {
    "duration": 262,
    "start_time": "2022-11-21T06:27:28.430Z"
   },
   {
    "duration": 276,
    "start_time": "2022-11-21T06:27:28.694Z"
   },
   {
    "duration": 437,
    "start_time": "2022-11-21T06:27:28.972Z"
   },
   {
    "duration": 3,
    "start_time": "2022-11-21T06:27:29.411Z"
   },
   {
    "duration": 8,
    "start_time": "2022-11-21T06:27:29.421Z"
   },
   {
    "duration": 6,
    "start_time": "2022-11-21T06:27:29.430Z"
   },
   {
    "duration": 10,
    "start_time": "2022-11-21T06:27:29.437Z"
   },
   {
    "duration": 8,
    "start_time": "2022-11-21T06:27:29.449Z"
   },
   {
    "duration": 64,
    "start_time": "2022-11-21T06:27:29.459Z"
   },
   {
    "duration": 13,
    "start_time": "2022-11-21T06:27:44.812Z"
   },
   {
    "duration": 26,
    "start_time": "2022-11-21T06:28:03.054Z"
   },
   {
    "duration": 1515,
    "start_time": "2022-11-21T06:44:56.608Z"
   },
   {
    "duration": 699,
    "start_time": "2022-11-21T06:44:58.126Z"
   },
   {
    "duration": 25,
    "start_time": "2022-11-21T06:44:58.827Z"
   },
   {
    "duration": 20,
    "start_time": "2022-11-21T06:44:58.854Z"
   },
   {
    "duration": 21,
    "start_time": "2022-11-21T06:44:58.876Z"
   },
   {
    "duration": 16,
    "start_time": "2022-11-21T06:44:58.922Z"
   },
   {
    "duration": 2040,
    "start_time": "2022-11-21T06:44:58.940Z"
   },
   {
    "duration": 4,
    "start_time": "2022-11-21T06:45:00.981Z"
   },
   {
    "duration": 27,
    "start_time": "2022-11-21T06:45:00.987Z"
   },
   {
    "duration": 5,
    "start_time": "2022-11-21T06:45:01.016Z"
   },
   {
    "duration": 48,
    "start_time": "2022-11-21T06:45:01.023Z"
   },
   {
    "duration": 27,
    "start_time": "2022-11-21T06:45:01.073Z"
   },
   {
    "duration": 37,
    "start_time": "2022-11-21T06:45:01.103Z"
   },
   {
    "duration": 21,
    "start_time": "2022-11-21T06:45:01.144Z"
   },
   {
    "duration": 17,
    "start_time": "2022-11-21T06:45:01.166Z"
   },
   {
    "duration": 28,
    "start_time": "2022-11-21T06:45:01.185Z"
   },
   {
    "duration": 30,
    "start_time": "2022-11-21T06:45:01.215Z"
   },
   {
    "duration": 697,
    "start_time": "2022-11-21T06:45:01.246Z"
   },
   {
    "duration": 4,
    "start_time": "2022-11-21T06:45:01.945Z"
   },
   {
    "duration": 17,
    "start_time": "2022-11-21T06:45:01.951Z"
   },
   {
    "duration": 276,
    "start_time": "2022-11-21T06:45:01.970Z"
   },
   {
    "duration": 288,
    "start_time": "2022-11-21T06:45:02.248Z"
   },
   {
    "duration": 442,
    "start_time": "2022-11-21T06:45:02.538Z"
   },
   {
    "duration": 4,
    "start_time": "2022-11-21T06:45:02.981Z"
   },
   {
    "duration": 17,
    "start_time": "2022-11-21T06:45:02.986Z"
   },
   {
    "duration": 6,
    "start_time": "2022-11-21T06:45:03.004Z"
   },
   {
    "duration": 178,
    "start_time": "2022-11-21T06:45:03.011Z"
   },
   {
    "duration": 0,
    "start_time": "2022-11-21T06:45:03.190Z"
   },
   {
    "duration": 0,
    "start_time": "2022-11-21T06:45:03.192Z"
   },
   {
    "duration": 25,
    "start_time": "2022-11-21T06:51:15.210Z"
   },
   {
    "duration": 8,
    "start_time": "2022-11-21T06:52:28.320Z"
   },
   {
    "duration": 3,
    "start_time": "2022-11-21T06:52:32.175Z"
   },
   {
    "duration": 663,
    "start_time": "2022-11-21T06:52:32.181Z"
   },
   {
    "duration": 21,
    "start_time": "2022-11-21T06:52:32.847Z"
   },
   {
    "duration": 22,
    "start_time": "2022-11-21T06:52:32.870Z"
   },
   {
    "duration": 53,
    "start_time": "2022-11-21T06:52:32.894Z"
   },
   {
    "duration": 147,
    "start_time": "2022-11-21T06:52:32.949Z"
   },
   {
    "duration": 2157,
    "start_time": "2022-11-21T06:52:33.099Z"
   },
   {
    "duration": 4,
    "start_time": "2022-11-21T06:52:35.258Z"
   },
   {
    "duration": 14,
    "start_time": "2022-11-21T06:52:35.263Z"
   },
   {
    "duration": 7,
    "start_time": "2022-11-21T06:52:35.278Z"
   },
   {
    "duration": 9,
    "start_time": "2022-11-21T06:52:35.288Z"
   },
   {
    "duration": 24,
    "start_time": "2022-11-21T06:52:35.298Z"
   },
   {
    "duration": 11,
    "start_time": "2022-11-21T06:52:35.325Z"
   },
   {
    "duration": 16,
    "start_time": "2022-11-21T06:52:35.338Z"
   },
   {
    "duration": 5,
    "start_time": "2022-11-21T06:52:35.356Z"
   },
   {
    "duration": 9,
    "start_time": "2022-11-21T06:52:35.363Z"
   },
   {
    "duration": 16,
    "start_time": "2022-11-21T06:52:35.374Z"
   },
   {
    "duration": 695,
    "start_time": "2022-11-21T06:52:35.392Z"
   },
   {
    "duration": 8,
    "start_time": "2022-11-21T06:52:36.089Z"
   },
   {
    "duration": 23,
    "start_time": "2022-11-21T06:52:36.098Z"
   },
   {
    "duration": 264,
    "start_time": "2022-11-21T06:52:36.123Z"
   },
   {
    "duration": 279,
    "start_time": "2022-11-21T06:52:36.389Z"
   },
   {
    "duration": 553,
    "start_time": "2022-11-21T06:52:36.669Z"
   },
   {
    "duration": 3,
    "start_time": "2022-11-21T06:52:37.224Z"
   },
   {
    "duration": 10,
    "start_time": "2022-11-21T06:52:37.229Z"
   },
   {
    "duration": 19,
    "start_time": "2022-11-21T06:52:37.240Z"
   },
   {
    "duration": 8,
    "start_time": "2022-11-21T06:52:37.261Z"
   },
   {
    "duration": 32,
    "start_time": "2022-11-21T06:52:37.271Z"
   },
   {
    "duration": 48,
    "start_time": "2022-11-21T06:52:37.306Z"
   },
   {
    "duration": 4,
    "start_time": "2022-11-21T06:54:02.229Z"
   },
   {
    "duration": 35,
    "start_time": "2022-11-21T06:54:02.235Z"
   },
   {
    "duration": 3,
    "start_time": "2022-11-21T06:54:42.708Z"
   },
   {
    "duration": 691,
    "start_time": "2022-11-21T06:54:42.714Z"
   },
   {
    "duration": 26,
    "start_time": "2022-11-21T06:54:43.407Z"
   },
   {
    "duration": 21,
    "start_time": "2022-11-21T06:54:43.434Z"
   },
   {
    "duration": 23,
    "start_time": "2022-11-21T06:54:43.457Z"
   },
   {
    "duration": 17,
    "start_time": "2022-11-21T06:54:43.482Z"
   },
   {
    "duration": 1955,
    "start_time": "2022-11-21T06:54:43.521Z"
   },
   {
    "duration": 4,
    "start_time": "2022-11-21T06:54:45.477Z"
   },
   {
    "duration": 22,
    "start_time": "2022-11-21T06:54:45.482Z"
   },
   {
    "duration": 19,
    "start_time": "2022-11-21T06:54:45.506Z"
   },
   {
    "duration": 37,
    "start_time": "2022-11-21T06:54:45.527Z"
   },
   {
    "duration": 27,
    "start_time": "2022-11-21T06:54:45.566Z"
   },
   {
    "duration": 27,
    "start_time": "2022-11-21T06:54:45.596Z"
   },
   {
    "duration": 20,
    "start_time": "2022-11-21T06:54:45.624Z"
   },
   {
    "duration": 9,
    "start_time": "2022-11-21T06:54:45.646Z"
   },
   {
    "duration": 23,
    "start_time": "2022-11-21T06:54:45.657Z"
   },
   {
    "duration": 21,
    "start_time": "2022-11-21T06:54:45.682Z"
   },
   {
    "duration": 612,
    "start_time": "2022-11-21T06:54:45.705Z"
   },
   {
    "duration": 6,
    "start_time": "2022-11-21T06:54:46.321Z"
   },
   {
    "duration": 9,
    "start_time": "2022-11-21T06:54:46.329Z"
   },
   {
    "duration": 306,
    "start_time": "2022-11-21T06:54:46.340Z"
   },
   {
    "duration": 395,
    "start_time": "2022-11-21T06:54:46.648Z"
   },
   {
    "duration": 449,
    "start_time": "2022-11-21T06:54:47.046Z"
   },
   {
    "duration": 4,
    "start_time": "2022-11-21T06:54:47.497Z"
   },
   {
    "duration": 19,
    "start_time": "2022-11-21T06:54:47.503Z"
   },
   {
    "duration": 13,
    "start_time": "2022-11-21T06:54:47.524Z"
   },
   {
    "duration": 17,
    "start_time": "2022-11-21T06:54:47.539Z"
   },
   {
    "duration": 44,
    "start_time": "2022-11-21T06:54:47.558Z"
   },
   {
    "duration": 36,
    "start_time": "2022-11-21T06:55:27.003Z"
   },
   {
    "duration": 37,
    "start_time": "2022-11-21T06:55:47.244Z"
   },
   {
    "duration": 37,
    "start_time": "2022-11-21T06:57:59.755Z"
   },
   {
    "duration": 37,
    "start_time": "2022-11-21T06:58:07.963Z"
   },
   {
    "duration": 33,
    "start_time": "2022-11-21T06:58:11.403Z"
   },
   {
    "duration": 14,
    "start_time": "2022-11-21T06:59:48.788Z"
   },
   {
    "duration": 8,
    "start_time": "2022-11-21T06:59:51.710Z"
   },
   {
    "duration": 3,
    "start_time": "2022-11-21T06:59:52.016Z"
   },
   {
    "duration": 6,
    "start_time": "2022-11-21T06:59:52.306Z"
   },
   {
    "duration": 46,
    "start_time": "2022-11-21T06:59:54.252Z"
   },
   {
    "duration": 1501,
    "start_time": "2022-11-21T07:03:33.170Z"
   },
   {
    "duration": 650,
    "start_time": "2022-11-21T07:03:34.674Z"
   },
   {
    "duration": 25,
    "start_time": "2022-11-21T07:03:35.326Z"
   },
   {
    "duration": 21,
    "start_time": "2022-11-21T07:03:35.353Z"
   },
   {
    "duration": 28,
    "start_time": "2022-11-21T07:03:35.376Z"
   },
   {
    "duration": 34,
    "start_time": "2022-11-21T07:03:35.406Z"
   },
   {
    "duration": 2023,
    "start_time": "2022-11-21T07:03:35.441Z"
   },
   {
    "duration": 4,
    "start_time": "2022-11-21T07:03:37.466Z"
   },
   {
    "duration": 12,
    "start_time": "2022-11-21T07:03:37.472Z"
   },
   {
    "duration": 6,
    "start_time": "2022-11-21T07:03:37.486Z"
   },
   {
    "duration": 14,
    "start_time": "2022-11-21T07:03:37.494Z"
   },
   {
    "duration": 4,
    "start_time": "2022-11-21T07:03:37.510Z"
   },
   {
    "duration": 13,
    "start_time": "2022-11-21T07:03:37.515Z"
   },
   {
    "duration": 13,
    "start_time": "2022-11-21T07:03:37.532Z"
   },
   {
    "duration": 4,
    "start_time": "2022-11-21T07:03:37.547Z"
   },
   {
    "duration": 11,
    "start_time": "2022-11-21T07:03:37.553Z"
   },
   {
    "duration": 12,
    "start_time": "2022-11-21T07:03:37.566Z"
   },
   {
    "duration": 712,
    "start_time": "2022-11-21T07:03:37.580Z"
   },
   {
    "duration": 5,
    "start_time": "2022-11-21T07:03:38.294Z"
   },
   {
    "duration": 5,
    "start_time": "2022-11-21T07:03:38.301Z"
   },
   {
    "duration": 293,
    "start_time": "2022-11-21T07:03:38.307Z"
   },
   {
    "duration": 283,
    "start_time": "2022-11-21T07:03:38.602Z"
   },
   {
    "duration": 439,
    "start_time": "2022-11-21T07:03:38.887Z"
   },
   {
    "duration": 4,
    "start_time": "2022-11-21T07:03:39.327Z"
   },
   {
    "duration": 16,
    "start_time": "2022-11-21T07:03:39.333Z"
   },
   {
    "duration": 4,
    "start_time": "2022-11-21T07:03:39.351Z"
   },
   {
    "duration": 8,
    "start_time": "2022-11-21T07:03:39.357Z"
   },
   {
    "duration": 194145,
    "start_time": "2022-11-21T07:03:39.367Z"
   },
   {
    "duration": 117,
    "start_time": "2022-11-21T07:06:53.514Z"
   },
   {
    "duration": 3,
    "start_time": "2022-11-21T07:07:17.974Z"
   },
   {
    "duration": 14,
    "start_time": "2022-11-21T07:12:28.076Z"
   },
   {
    "duration": 4,
    "start_time": "2022-11-21T07:12:45.104Z"
   },
   {
    "duration": 13,
    "start_time": "2022-11-21T07:16:02.502Z"
   },
   {
    "duration": 283792,
    "start_time": "2022-11-21T07:16:26.643Z"
   },
   {
    "duration": 3,
    "start_time": "2022-11-21T07:21:19.790Z"
   },
   {
    "duration": 0,
    "start_time": "2022-11-21T07:23:19.572Z"
   },
   {
    "duration": 1621,
    "start_time": "2022-11-21T07:27:52.688Z"
   },
   {
    "duration": 0,
    "start_time": "2022-11-21T07:27:54.312Z"
   },
   {
    "duration": 0,
    "start_time": "2022-11-21T07:27:54.313Z"
   },
   {
    "duration": 0,
    "start_time": "2022-11-21T07:27:54.314Z"
   },
   {
    "duration": 0,
    "start_time": "2022-11-21T07:27:54.316Z"
   },
   {
    "duration": 0,
    "start_time": "2022-11-21T07:27:54.321Z"
   },
   {
    "duration": 0,
    "start_time": "2022-11-21T07:27:54.323Z"
   },
   {
    "duration": 0,
    "start_time": "2022-11-21T07:27:54.324Z"
   },
   {
    "duration": 0,
    "start_time": "2022-11-21T07:27:54.326Z"
   },
   {
    "duration": 0,
    "start_time": "2022-11-21T07:27:54.327Z"
   },
   {
    "duration": 0,
    "start_time": "2022-11-21T07:27:54.328Z"
   },
   {
    "duration": 1,
    "start_time": "2022-11-21T07:27:54.329Z"
   },
   {
    "duration": 0,
    "start_time": "2022-11-21T07:27:54.331Z"
   },
   {
    "duration": 0,
    "start_time": "2022-11-21T07:27:54.332Z"
   },
   {
    "duration": 0,
    "start_time": "2022-11-21T07:27:54.333Z"
   },
   {
    "duration": 0,
    "start_time": "2022-11-21T07:27:54.335Z"
   },
   {
    "duration": 0,
    "start_time": "2022-11-21T07:27:54.336Z"
   },
   {
    "duration": 0,
    "start_time": "2022-11-21T07:27:54.338Z"
   },
   {
    "duration": 0,
    "start_time": "2022-11-21T07:27:54.339Z"
   },
   {
    "duration": 0,
    "start_time": "2022-11-21T07:27:54.341Z"
   },
   {
    "duration": 0,
    "start_time": "2022-11-21T07:27:54.343Z"
   },
   {
    "duration": 0,
    "start_time": "2022-11-21T07:27:54.344Z"
   },
   {
    "duration": 0,
    "start_time": "2022-11-21T07:27:54.351Z"
   },
   {
    "duration": 0,
    "start_time": "2022-11-21T07:27:54.352Z"
   },
   {
    "duration": 0,
    "start_time": "2022-11-21T07:27:54.354Z"
   },
   {
    "duration": 0,
    "start_time": "2022-11-21T07:27:54.355Z"
   },
   {
    "duration": 0,
    "start_time": "2022-11-21T07:27:54.356Z"
   },
   {
    "duration": 0,
    "start_time": "2022-11-21T07:27:54.358Z"
   },
   {
    "duration": 0,
    "start_time": "2022-11-21T07:27:54.359Z"
   },
   {
    "duration": 4,
    "start_time": "2022-11-21T07:28:05.712Z"
   },
   {
    "duration": 3,
    "start_time": "2022-11-21T07:28:08.954Z"
   },
   {
    "duration": 727,
    "start_time": "2022-11-21T07:28:08.960Z"
   },
   {
    "duration": 44,
    "start_time": "2022-11-21T07:28:09.689Z"
   },
   {
    "duration": 25,
    "start_time": "2022-11-21T07:28:09.739Z"
   },
   {
    "duration": 35,
    "start_time": "2022-11-21T07:28:09.766Z"
   },
   {
    "duration": 42,
    "start_time": "2022-11-21T07:28:09.803Z"
   },
   {
    "duration": 2309,
    "start_time": "2022-11-21T07:28:09.847Z"
   },
   {
    "duration": 4,
    "start_time": "2022-11-21T07:28:12.158Z"
   },
   {
    "duration": 20,
    "start_time": "2022-11-21T07:28:12.164Z"
   },
   {
    "duration": 7,
    "start_time": "2022-11-21T07:28:12.186Z"
   },
   {
    "duration": 24,
    "start_time": "2022-11-21T07:28:12.195Z"
   },
   {
    "duration": 8,
    "start_time": "2022-11-21T07:28:12.221Z"
   },
   {
    "duration": 21,
    "start_time": "2022-11-21T07:28:12.230Z"
   },
   {
    "duration": 13,
    "start_time": "2022-11-21T07:28:12.253Z"
   },
   {
    "duration": 9,
    "start_time": "2022-11-21T07:28:12.268Z"
   },
   {
    "duration": 17,
    "start_time": "2022-11-21T07:28:12.279Z"
   },
   {
    "duration": 25,
    "start_time": "2022-11-21T07:28:12.297Z"
   },
   {
    "duration": 737,
    "start_time": "2022-11-21T07:28:12.324Z"
   },
   {
    "duration": 6,
    "start_time": "2022-11-21T07:28:13.063Z"
   },
   {
    "duration": 8,
    "start_time": "2022-11-21T07:28:13.071Z"
   },
   {
    "duration": 298,
    "start_time": "2022-11-21T07:28:13.081Z"
   },
   {
    "duration": 297,
    "start_time": "2022-11-21T07:28:13.381Z"
   },
   {
    "duration": 561,
    "start_time": "2022-11-21T07:28:13.689Z"
   },
   {
    "duration": 6,
    "start_time": "2022-11-21T07:28:14.253Z"
   },
   {
    "duration": 27,
    "start_time": "2022-11-21T07:28:14.260Z"
   },
   {
    "duration": 22,
    "start_time": "2022-11-21T07:28:14.289Z"
   },
   {
    "duration": 27,
    "start_time": "2022-11-21T07:28:14.313Z"
   },
   {
    "duration": 50,
    "start_time": "2022-11-21T07:28:14.342Z"
   },
   {
    "duration": 0,
    "start_time": "2022-11-21T07:28:14.394Z"
   },
   {
    "duration": 0,
    "start_time": "2022-11-21T07:30:05.502Z"
   },
   {
    "duration": 4,
    "start_time": "2022-11-21T07:30:06.967Z"
   },
   {
    "duration": 16153,
    "start_time": "2022-11-21T07:30:11.555Z"
   },
   {
    "duration": 13,
    "start_time": "2022-11-21T07:30:52.964Z"
   },
   {
    "duration": 7,
    "start_time": "2022-11-21T07:30:56.795Z"
   },
   {
    "duration": 15,
    "start_time": "2022-11-21T07:31:04.909Z"
   },
   {
    "duration": 17,
    "start_time": "2022-11-21T07:31:36.077Z"
   },
   {
    "duration": 513370,
    "start_time": "2022-11-21T07:34:11.032Z"
   },
   {
    "duration": 1530,
    "start_time": "2022-11-21T09:07:48.044Z"
   },
   {
    "duration": 3073,
    "start_time": "2022-11-21T09:07:49.576Z"
   },
   {
    "duration": 24,
    "start_time": "2022-11-21T09:07:52.650Z"
   },
   {
    "duration": 33,
    "start_time": "2022-11-21T09:07:52.675Z"
   },
   {
    "duration": 40,
    "start_time": "2022-11-21T09:07:52.710Z"
   },
   {
    "duration": 35,
    "start_time": "2022-11-21T09:07:52.751Z"
   },
   {
    "duration": 2103,
    "start_time": "2022-11-21T09:07:52.789Z"
   },
   {
    "duration": 4,
    "start_time": "2022-11-21T09:07:54.893Z"
   },
   {
    "duration": 34,
    "start_time": "2022-11-21T09:07:54.898Z"
   },
   {
    "duration": 27,
    "start_time": "2022-11-21T09:07:54.934Z"
   },
   {
    "duration": 29,
    "start_time": "2022-11-21T09:07:54.963Z"
   },
   {
    "duration": 16,
    "start_time": "2022-11-21T09:07:54.993Z"
   },
   {
    "duration": 30,
    "start_time": "2022-11-21T09:07:55.011Z"
   },
   {
    "duration": 32,
    "start_time": "2022-11-21T09:07:55.045Z"
   },
   {
    "duration": 23,
    "start_time": "2022-11-21T09:07:55.079Z"
   },
   {
    "duration": 16,
    "start_time": "2022-11-21T09:07:55.104Z"
   },
   {
    "duration": 29,
    "start_time": "2022-11-21T09:07:55.122Z"
   },
   {
    "duration": 757,
    "start_time": "2022-11-21T09:07:55.153Z"
   },
   {
    "duration": 10,
    "start_time": "2022-11-21T09:07:55.912Z"
   },
   {
    "duration": 27,
    "start_time": "2022-11-21T09:07:55.924Z"
   },
   {
    "duration": 256,
    "start_time": "2022-11-21T09:07:55.953Z"
   },
   {
    "duration": 276,
    "start_time": "2022-11-21T09:07:56.211Z"
   },
   {
    "duration": 429,
    "start_time": "2022-11-21T09:07:56.489Z"
   },
   {
    "duration": 5,
    "start_time": "2022-11-21T09:07:56.919Z"
   },
   {
    "duration": 20,
    "start_time": "2022-11-21T09:07:56.925Z"
   },
   {
    "duration": 3,
    "start_time": "2022-11-21T09:07:56.947Z"
   },
   {
    "duration": 10,
    "start_time": "2022-11-21T09:07:56.955Z"
   },
   {
    "duration": 0,
    "start_time": "2022-11-21T09:08:25.962Z"
   },
   {
    "duration": 0,
    "start_time": "2022-11-21T09:08:25.963Z"
   },
   {
    "duration": 3,
    "start_time": "2022-11-21T09:08:29.286Z"
   },
   {
    "duration": 0,
    "start_time": "2022-11-21T09:10:43.670Z"
   },
   {
    "duration": 11,
    "start_time": "2022-11-21T09:10:44.605Z"
   },
   {
    "duration": 194123,
    "start_time": "2022-11-21T09:11:25.746Z"
   },
   {
    "duration": 3,
    "start_time": "2022-11-21T09:17:11.690Z"
   },
   {
    "duration": 3305,
    "start_time": "2022-11-21T09:17:15.430Z"
   },
   {
    "duration": 39,
    "start_time": "2022-11-21T09:18:33.253Z"
   },
   {
    "duration": 3,
    "start_time": "2022-11-21T09:18:51.813Z"
   },
   {
    "duration": 32,
    "start_time": "2022-11-21T09:18:57.168Z"
   },
   {
    "duration": 1931,
    "start_time": "2022-11-21T11:02:06.469Z"
   },
   {
    "duration": 1891,
    "start_time": "2022-11-21T11:02:08.401Z"
   },
   {
    "duration": 27,
    "start_time": "2022-11-21T11:02:10.294Z"
   },
   {
    "duration": 22,
    "start_time": "2022-11-21T11:02:10.322Z"
   },
   {
    "duration": 33,
    "start_time": "2022-11-21T11:02:10.346Z"
   },
   {
    "duration": 17,
    "start_time": "2022-11-21T11:02:10.380Z"
   },
   {
    "duration": 2914,
    "start_time": "2022-11-21T11:02:10.398Z"
   },
   {
    "duration": 4,
    "start_time": "2022-11-21T11:02:13.314Z"
   },
   {
    "duration": 21,
    "start_time": "2022-11-21T11:02:13.320Z"
   },
   {
    "duration": 25,
    "start_time": "2022-11-21T11:02:13.343Z"
   },
   {
    "duration": 17,
    "start_time": "2022-11-21T11:02:13.370Z"
   },
   {
    "duration": 20,
    "start_time": "2022-11-21T11:02:13.389Z"
   },
   {
    "duration": 23,
    "start_time": "2022-11-21T11:02:13.411Z"
   },
   {
    "duration": 22,
    "start_time": "2022-11-21T11:02:13.436Z"
   },
   {
    "duration": 4,
    "start_time": "2022-11-21T11:02:13.460Z"
   },
   {
    "duration": 10,
    "start_time": "2022-11-21T11:02:13.466Z"
   },
   {
    "duration": 22,
    "start_time": "2022-11-21T11:02:13.477Z"
   },
   {
    "duration": 861,
    "start_time": "2022-11-21T11:02:13.500Z"
   },
   {
    "duration": 5,
    "start_time": "2022-11-21T11:02:14.362Z"
   },
   {
    "duration": 13,
    "start_time": "2022-11-21T11:02:14.368Z"
   },
   {
    "duration": 308,
    "start_time": "2022-11-21T11:02:14.383Z"
   },
   {
    "duration": 402,
    "start_time": "2022-11-21T11:02:14.693Z"
   },
   {
    "duration": 503,
    "start_time": "2022-11-21T11:02:15.097Z"
   },
   {
    "duration": 3,
    "start_time": "2022-11-21T11:02:15.602Z"
   },
   {
    "duration": 45,
    "start_time": "2022-11-21T11:02:15.607Z"
   },
   {
    "duration": 19,
    "start_time": "2022-11-21T11:02:15.655Z"
   },
   {
    "duration": 38,
    "start_time": "2022-11-21T11:02:15.676Z"
   },
   {
    "duration": 158,
    "start_time": "2022-11-21T11:02:15.717Z"
   },
   {
    "duration": 0,
    "start_time": "2022-11-21T11:02:15.878Z"
   },
   {
    "duration": 0,
    "start_time": "2022-11-21T11:02:15.879Z"
   },
   {
    "duration": 199718,
    "start_time": "2022-11-21T11:02:23.436Z"
   },
   {
    "duration": 3329,
    "start_time": "2022-11-21T11:05:43.156Z"
   },
   {
    "duration": 705343,
    "start_time": "2022-11-21T11:05:46.487Z"
   },
   {
    "duration": 902,
    "start_time": "2022-11-21T11:18:26.019Z"
   },
   {
    "duration": 16,
    "start_time": "2022-11-21T11:19:02.527Z"
   },
   {
    "duration": 17,
    "start_time": "2022-11-21T11:19:20.107Z"
   },
   {
    "duration": 33,
    "start_time": "2022-11-21T11:19:34.802Z"
   },
   {
    "duration": 25,
    "start_time": "2022-11-21T11:19:40.309Z"
   },
   {
    "duration": 15,
    "start_time": "2022-11-21T11:19:46.117Z"
   },
   {
    "duration": 7,
    "start_time": "2022-11-21T11:20:08.108Z"
   },
   {
    "duration": 14,
    "start_time": "2022-11-21T11:20:21.035Z"
   },
   {
    "duration": 15,
    "start_time": "2022-11-21T11:21:23.121Z"
   },
   {
    "duration": 21,
    "start_time": "2022-11-21T11:21:48.948Z"
   },
   {
    "duration": 20,
    "start_time": "2022-11-21T11:22:05.975Z"
   },
   {
    "duration": 16,
    "start_time": "2022-11-21T11:22:32.408Z"
   },
   {
    "duration": 33,
    "start_time": "2022-11-21T11:22:49.277Z"
   },
   {
    "duration": 13,
    "start_time": "2022-11-21T11:24:49.062Z"
   },
   {
    "duration": 5,
    "start_time": "2022-11-21T11:25:09.234Z"
   },
   {
    "duration": 13,
    "start_time": "2022-11-21T11:25:22.048Z"
   },
   {
    "duration": 1025,
    "start_time": "2022-11-21T11:25:35.964Z"
   },
   {
    "duration": 22384,
    "start_time": "2022-11-21T11:26:00.469Z"
   },
   {
    "duration": 0,
    "start_time": "2022-11-21T11:26:22.856Z"
   },
   {
    "duration": 1326,
    "start_time": "2022-11-21T11:26:26.854Z"
   },
   {
    "duration": 1455,
    "start_time": "2022-11-21T11:28:42.724Z"
   },
   {
    "duration": 204144,
    "start_time": "2022-11-21T11:29:35.478Z"
   },
   {
    "duration": 198254,
    "start_time": "2022-11-21T11:36:36.237Z"
   },
   {
    "duration": 3426,
    "start_time": "2022-11-21T11:40:01.080Z"
   },
   {
    "duration": 3413,
    "start_time": "2022-11-21T11:40:04.508Z"
   },
   {
    "duration": 61,
    "start_time": "2022-11-21T11:41:12.586Z"
   },
   {
    "duration": 20,
    "start_time": "2022-11-21T11:44:04.492Z"
   },
   {
    "duration": 180,
    "start_time": "2022-11-21T11:44:20.199Z"
   },
   {
    "duration": 38,
    "start_time": "2022-11-21T11:46:46.767Z"
   },
   {
    "duration": 199,
    "start_time": "2022-11-21T11:46:51.981Z"
   },
   {
    "duration": 3,
    "start_time": "2022-11-21T11:46:56.262Z"
   },
   {
    "duration": 726,
    "start_time": "2022-11-21T11:46:56.270Z"
   },
   {
    "duration": 21,
    "start_time": "2022-11-21T11:46:56.998Z"
   },
   {
    "duration": 39,
    "start_time": "2022-11-21T11:46:57.021Z"
   },
   {
    "duration": 38,
    "start_time": "2022-11-21T11:46:57.063Z"
   },
   {
    "duration": 37,
    "start_time": "2022-11-21T11:46:57.102Z"
   },
   {
    "duration": 1988,
    "start_time": "2022-11-21T11:46:57.141Z"
   },
   {
    "duration": 5,
    "start_time": "2022-11-21T11:46:59.131Z"
   },
   {
    "duration": 8,
    "start_time": "2022-11-21T11:46:59.138Z"
   },
   {
    "duration": 6,
    "start_time": "2022-11-21T11:46:59.148Z"
   },
   {
    "duration": 10,
    "start_time": "2022-11-21T11:46:59.178Z"
   },
   {
    "duration": 5,
    "start_time": "2022-11-21T11:46:59.190Z"
   },
   {
    "duration": 12,
    "start_time": "2022-11-21T11:46:59.197Z"
   },
   {
    "duration": 36,
    "start_time": "2022-11-21T11:46:59.210Z"
   },
   {
    "duration": 31,
    "start_time": "2022-11-21T11:46:59.248Z"
   },
   {
    "duration": 10,
    "start_time": "2022-11-21T11:46:59.281Z"
   },
   {
    "duration": 641,
    "start_time": "2022-11-21T11:46:59.293Z"
   },
   {
    "duration": 4,
    "start_time": "2022-11-21T11:46:59.936Z"
   },
   {
    "duration": 6,
    "start_time": "2022-11-21T11:46:59.942Z"
   },
   {
    "duration": 303,
    "start_time": "2022-11-21T11:46:59.950Z"
   },
   {
    "duration": 393,
    "start_time": "2022-11-21T11:47:00.255Z"
   },
   {
    "duration": 458,
    "start_time": "2022-11-21T11:47:00.650Z"
   },
   {
    "duration": 3,
    "start_time": "2022-11-21T11:47:01.110Z"
   },
   {
    "duration": 40,
    "start_time": "2022-11-21T11:47:01.114Z"
   },
   {
    "duration": 10,
    "start_time": "2022-11-21T11:47:01.156Z"
   },
   {
    "duration": 1411,
    "start_time": "2022-11-21T11:47:01.168Z"
   },
   {
    "duration": 1200,
    "start_time": "2022-11-21T11:47:02.581Z"
   },
   {
    "duration": 3512,
    "start_time": "2022-11-21T11:47:03.783Z"
   },
   {
    "duration": 3570,
    "start_time": "2022-11-21T11:47:07.298Z"
   },
   {
    "duration": 310,
    "start_time": "2022-11-21T11:47:10.871Z"
   },
   {
    "duration": 1795,
    "start_time": "2022-11-21T13:18:53.193Z"
   },
   {
    "duration": 2012,
    "start_time": "2022-11-21T13:18:54.990Z"
   },
   {
    "duration": 29,
    "start_time": "2022-11-21T13:18:57.004Z"
   },
   {
    "duration": 27,
    "start_time": "2022-11-21T13:18:57.035Z"
   },
   {
    "duration": 33,
    "start_time": "2022-11-21T13:18:57.066Z"
   },
   {
    "duration": 18,
    "start_time": "2022-11-21T13:18:57.100Z"
   },
   {
    "duration": 2226,
    "start_time": "2022-11-21T13:18:57.120Z"
   },
   {
    "duration": 4,
    "start_time": "2022-11-21T13:18:59.347Z"
   },
   {
    "duration": 10,
    "start_time": "2022-11-21T13:18:59.352Z"
   },
   {
    "duration": 8,
    "start_time": "2022-11-21T13:18:59.365Z"
   },
   {
    "duration": 10,
    "start_time": "2022-11-21T13:18:59.378Z"
   },
   {
    "duration": 6,
    "start_time": "2022-11-21T13:18:59.390Z"
   },
   {
    "duration": 16,
    "start_time": "2022-11-21T13:18:59.397Z"
   },
   {
    "duration": 62,
    "start_time": "2022-11-21T13:18:59.416Z"
   },
   {
    "duration": 4,
    "start_time": "2022-11-21T13:18:59.480Z"
   },
   {
    "duration": 15,
    "start_time": "2022-11-21T13:18:59.485Z"
   },
   {
    "duration": 736,
    "start_time": "2022-11-21T13:18:59.501Z"
   },
   {
    "duration": 6,
    "start_time": "2022-11-21T13:19:00.239Z"
   },
   {
    "duration": 37,
    "start_time": "2022-11-21T13:19:00.247Z"
   },
   {
    "duration": 319,
    "start_time": "2022-11-21T13:19:00.286Z"
   },
   {
    "duration": 319,
    "start_time": "2022-11-21T13:19:00.607Z"
   },
   {
    "duration": 531,
    "start_time": "2022-11-21T13:19:00.928Z"
   },
   {
    "duration": 3,
    "start_time": "2022-11-21T13:19:01.461Z"
   },
   {
    "duration": 37,
    "start_time": "2022-11-21T13:19:01.466Z"
   },
   {
    "duration": 31,
    "start_time": "2022-11-21T13:19:01.505Z"
   },
   {
    "duration": 142,
    "start_time": "2022-11-21T13:19:01.538Z"
   },
   {
    "duration": 0,
    "start_time": "2022-11-21T13:19:01.682Z"
   },
   {
    "duration": 0,
    "start_time": "2022-11-21T13:19:01.683Z"
   },
   {
    "duration": 0,
    "start_time": "2022-11-21T13:19:01.685Z"
   },
   {
    "duration": 0,
    "start_time": "2022-11-21T13:19:01.685Z"
   },
   {
    "duration": 4,
    "start_time": "2022-11-21T13:21:47.581Z"
   },
   {
    "duration": 10,
    "start_time": "2022-11-21T13:26:07.109Z"
   },
   {
    "duration": 11,
    "start_time": "2022-11-21T13:26:27.291Z"
   },
   {
    "duration": 4,
    "start_time": "2022-11-21T13:28:01.806Z"
   },
   {
    "duration": 10,
    "start_time": "2022-11-21T13:28:02.119Z"
   },
   {
    "duration": 14,
    "start_time": "2022-11-21T13:28:52.091Z"
   },
   {
    "duration": 10,
    "start_time": "2022-11-21T13:31:53.557Z"
   },
   {
    "duration": 10,
    "start_time": "2022-11-21T13:31:56.471Z"
   },
   {
    "duration": 15,
    "start_time": "2022-11-21T13:33:03.950Z"
   },
   {
    "duration": 11,
    "start_time": "2022-11-21T13:33:10.148Z"
   },
   {
    "duration": 12,
    "start_time": "2022-11-21T13:33:58.348Z"
   },
   {
    "duration": 92,
    "start_time": "2022-11-21T13:34:07.752Z"
   },
   {
    "duration": 10,
    "start_time": "2022-11-21T13:34:11.531Z"
   },
   {
    "duration": 337,
    "start_time": "2022-11-21T13:35:03.801Z"
   },
   {
    "duration": 202,
    "start_time": "2022-11-21T13:35:39.130Z"
   },
   {
    "duration": 225,
    "start_time": "2022-11-21T13:35:58.454Z"
   },
   {
    "duration": 164,
    "start_time": "2022-11-21T13:36:33.635Z"
   },
   {
    "duration": 232,
    "start_time": "2022-11-21T13:36:55.019Z"
   },
   {
    "duration": 358,
    "start_time": "2022-11-21T13:37:13.774Z"
   },
   {
    "duration": 317,
    "start_time": "2022-11-21T13:38:22.168Z"
   },
   {
    "duration": 381,
    "start_time": "2022-11-21T13:38:30.636Z"
   },
   {
    "duration": 573,
    "start_time": "2022-11-21T13:38:52.727Z"
   },
   {
    "duration": 137,
    "start_time": "2022-11-21T13:40:25.934Z"
   },
   {
    "duration": 649,
    "start_time": "2022-11-21T13:40:56.527Z"
   },
   {
    "duration": 1471,
    "start_time": "2022-11-21T13:44:10.411Z"
   },
   {
    "duration": 1303,
    "start_time": "2022-11-21T13:44:11.885Z"
   },
   {
    "duration": 3775,
    "start_time": "2022-11-21T13:44:13.280Z"
   },
   {
    "duration": 3674,
    "start_time": "2022-11-21T13:44:17.057Z"
   },
   {
    "duration": 150,
    "start_time": "2022-11-21T13:44:20.733Z"
   },
   {
    "duration": 3,
    "start_time": "2022-11-21T13:59:33.152Z"
   },
   {
    "duration": 747,
    "start_time": "2022-11-21T13:59:33.158Z"
   },
   {
    "duration": 23,
    "start_time": "2022-11-21T13:59:33.907Z"
   },
   {
    "duration": 27,
    "start_time": "2022-11-21T13:59:33.931Z"
   },
   {
    "duration": 42,
    "start_time": "2022-11-21T13:59:33.961Z"
   },
   {
    "duration": 17,
    "start_time": "2022-11-21T13:59:34.005Z"
   },
   {
    "duration": 2230,
    "start_time": "2022-11-21T13:59:34.024Z"
   },
   {
    "duration": 4,
    "start_time": "2022-11-21T13:59:36.256Z"
   },
   {
    "duration": 20,
    "start_time": "2022-11-21T13:59:36.261Z"
   },
   {
    "duration": 6,
    "start_time": "2022-11-21T13:59:36.282Z"
   },
   {
    "duration": 8,
    "start_time": "2022-11-21T13:59:36.289Z"
   },
   {
    "duration": 5,
    "start_time": "2022-11-21T13:59:36.299Z"
   },
   {
    "duration": 11,
    "start_time": "2022-11-21T13:59:36.305Z"
   },
   {
    "duration": 65,
    "start_time": "2022-11-21T13:59:36.319Z"
   },
   {
    "duration": 4,
    "start_time": "2022-11-21T13:59:36.386Z"
   },
   {
    "duration": 10,
    "start_time": "2022-11-21T13:59:36.392Z"
   },
   {
    "duration": 766,
    "start_time": "2022-11-21T13:59:36.404Z"
   },
   {
    "duration": 9,
    "start_time": "2022-11-21T13:59:37.172Z"
   },
   {
    "duration": 12,
    "start_time": "2022-11-21T13:59:37.182Z"
   },
   {
    "duration": 350,
    "start_time": "2022-11-21T13:59:37.196Z"
   },
   {
    "duration": 4,
    "start_time": "2022-11-21T13:59:37.547Z"
   },
   {
    "duration": 13,
    "start_time": "2022-11-21T13:59:37.553Z"
   },
   {
    "duration": 7,
    "start_time": "2022-11-21T13:59:37.577Z"
   },
   {
    "duration": 1098,
    "start_time": "2022-11-21T13:59:37.586Z"
   },
   {
    "duration": 1399,
    "start_time": "2022-11-21T13:59:38.686Z"
   },
   {
    "duration": 3876,
    "start_time": "2022-11-21T13:59:40.091Z"
   },
   {
    "duration": 3711,
    "start_time": "2022-11-21T13:59:43.970Z"
   },
   {
    "duration": 203,
    "start_time": "2022-11-21T13:59:47.683Z"
   },
   {
    "duration": 12,
    "start_time": "2022-11-21T14:00:44.421Z"
   },
   {
    "duration": 1175,
    "start_time": "2022-11-21T14:00:49.110Z"
   },
   {
    "duration": 15,
    "start_time": "2022-11-21T14:13:40.707Z"
   },
   {
    "duration": 1589,
    "start_time": "2022-11-21T14:14:22.616Z"
   },
   {
    "duration": 734,
    "start_time": "2022-11-21T14:14:24.207Z"
   },
   {
    "duration": 36,
    "start_time": "2022-11-21T14:14:24.942Z"
   },
   {
    "duration": 24,
    "start_time": "2022-11-21T14:14:24.979Z"
   },
   {
    "duration": 30,
    "start_time": "2022-11-21T14:14:25.005Z"
   },
   {
    "duration": 41,
    "start_time": "2022-11-21T14:14:25.037Z"
   },
   {
    "duration": 2161,
    "start_time": "2022-11-21T14:14:25.080Z"
   },
   {
    "duration": 4,
    "start_time": "2022-11-21T14:14:27.243Z"
   },
   {
    "duration": 19,
    "start_time": "2022-11-21T14:14:27.249Z"
   },
   {
    "duration": 5,
    "start_time": "2022-11-21T14:14:27.270Z"
   },
   {
    "duration": 13,
    "start_time": "2022-11-21T14:14:27.276Z"
   },
   {
    "duration": 4,
    "start_time": "2022-11-21T14:14:27.291Z"
   },
   {
    "duration": 21,
    "start_time": "2022-11-21T14:14:27.297Z"
   },
   {
    "duration": 31,
    "start_time": "2022-11-21T14:14:27.321Z"
   },
   {
    "duration": 4,
    "start_time": "2022-11-21T14:14:27.354Z"
   },
   {
    "duration": 18,
    "start_time": "2022-11-21T14:14:27.359Z"
   },
   {
    "duration": 731,
    "start_time": "2022-11-21T14:14:27.379Z"
   },
   {
    "duration": 6,
    "start_time": "2022-11-21T14:14:28.112Z"
   },
   {
    "duration": 6,
    "start_time": "2022-11-21T14:14:28.120Z"
   },
   {
    "duration": 363,
    "start_time": "2022-11-21T14:14:28.127Z"
   },
   {
    "duration": 4,
    "start_time": "2022-11-21T14:14:28.492Z"
   },
   {
    "duration": 18,
    "start_time": "2022-11-21T14:14:28.498Z"
   },
   {
    "duration": 8,
    "start_time": "2022-11-21T14:14:28.518Z"
   },
   {
    "duration": 1559,
    "start_time": "2022-11-21T14:14:28.527Z"
   },
   {
    "duration": 1409,
    "start_time": "2022-11-21T14:14:30.177Z"
   },
   {
    "duration": 3996,
    "start_time": "2022-11-21T14:14:31.591Z"
   },
   {
    "duration": 3704,
    "start_time": "2022-11-21T14:14:35.589Z"
   },
   {
    "duration": 16,
    "start_time": "2022-11-21T14:14:39.294Z"
   },
   {
    "duration": 265,
    "start_time": "2022-11-21T14:14:39.312Z"
   },
   {
    "duration": 1591,
    "start_time": "2022-11-21T14:15:40.355Z"
   },
   {
    "duration": 1234,
    "start_time": "2022-11-21T14:17:29.138Z"
   },
   {
    "duration": 17,
    "start_time": "2022-11-21T14:17:39.046Z"
   },
   {
    "duration": 192,
    "start_time": "2022-11-21T14:17:44.091Z"
   },
   {
    "duration": 281,
    "start_time": "2022-11-21T14:24:42.009Z"
   },
   {
    "duration": 4,
    "start_time": "2022-11-21T14:24:53.818Z"
   },
   {
    "duration": 781,
    "start_time": "2022-11-21T14:24:53.824Z"
   },
   {
    "duration": 21,
    "start_time": "2022-11-21T14:24:54.607Z"
   },
   {
    "duration": 24,
    "start_time": "2022-11-21T14:24:54.630Z"
   },
   {
    "duration": 41,
    "start_time": "2022-11-21T14:24:54.657Z"
   },
   {
    "duration": 22,
    "start_time": "2022-11-21T14:24:54.700Z"
   },
   {
    "duration": 2139,
    "start_time": "2022-11-21T14:24:54.723Z"
   },
   {
    "duration": 4,
    "start_time": "2022-11-21T14:24:56.863Z"
   },
   {
    "duration": 6,
    "start_time": "2022-11-21T14:24:56.878Z"
   },
   {
    "duration": 14,
    "start_time": "2022-11-21T14:24:56.885Z"
   },
   {
    "duration": 12,
    "start_time": "2022-11-21T14:24:56.901Z"
   },
   {
    "duration": 6,
    "start_time": "2022-11-21T14:24:56.914Z"
   },
   {
    "duration": 12,
    "start_time": "2022-11-21T14:24:56.922Z"
   },
   {
    "duration": 50,
    "start_time": "2022-11-21T14:24:56.936Z"
   },
   {
    "duration": 5,
    "start_time": "2022-11-21T14:24:56.988Z"
   },
   {
    "duration": 18,
    "start_time": "2022-11-21T14:24:56.994Z"
   },
   {
    "duration": 665,
    "start_time": "2022-11-21T14:24:57.014Z"
   },
   {
    "duration": 5,
    "start_time": "2022-11-21T14:24:57.681Z"
   },
   {
    "duration": 7,
    "start_time": "2022-11-21T14:24:57.688Z"
   },
   {
    "duration": 467,
    "start_time": "2022-11-21T14:24:57.697Z"
   },
   {
    "duration": 4,
    "start_time": "2022-11-21T14:24:58.166Z"
   },
   {
    "duration": 9,
    "start_time": "2022-11-21T14:24:58.178Z"
   },
   {
    "duration": 10,
    "start_time": "2022-11-21T14:24:58.189Z"
   },
   {
    "duration": 4477,
    "start_time": "2022-11-21T14:24:58.201Z"
   },
   {
    "duration": 1299,
    "start_time": "2022-11-21T14:25:02.682Z"
   },
   {
    "duration": 3980,
    "start_time": "2022-11-21T14:25:03.985Z"
   },
   {
    "duration": 4199,
    "start_time": "2022-11-21T14:25:07.968Z"
   },
   {
    "duration": 22,
    "start_time": "2022-11-21T14:25:12.169Z"
   },
   {
    "duration": 300,
    "start_time": "2022-11-21T14:25:12.193Z"
   },
   {
    "duration": 0,
    "start_time": "2022-11-21T14:25:12.579Z"
   },
   {
    "duration": 27,
    "start_time": "2022-11-21T14:26:29.092Z"
   },
   {
    "duration": 33,
    "start_time": "2022-11-21T14:26:35.756Z"
   },
   {
    "duration": 4,
    "start_time": "2022-11-21T14:27:02.628Z"
   },
   {
    "duration": 73,
    "start_time": "2022-11-21T14:28:21.027Z"
   },
   {
    "duration": 29,
    "start_time": "2022-11-21T14:28:26.841Z"
   },
   {
    "duration": 17,
    "start_time": "2022-11-21T14:28:46.317Z"
   },
   {
    "duration": 1482,
    "start_time": "2022-11-21T14:29:21.300Z"
   },
   {
    "duration": 4,
    "start_time": "2022-11-21T14:29:30.732Z"
   },
   {
    "duration": 783,
    "start_time": "2022-11-21T14:29:30.738Z"
   },
   {
    "duration": 23,
    "start_time": "2022-11-21T14:29:31.523Z"
   },
   {
    "duration": 42,
    "start_time": "2022-11-21T14:29:31.548Z"
   },
   {
    "duration": 23,
    "start_time": "2022-11-21T14:29:31.593Z"
   },
   {
    "duration": 18,
    "start_time": "2022-11-21T14:29:31.617Z"
   },
   {
    "duration": 2151,
    "start_time": "2022-11-21T14:29:31.637Z"
   },
   {
    "duration": 3,
    "start_time": "2022-11-21T14:29:33.790Z"
   },
   {
    "duration": 11,
    "start_time": "2022-11-21T14:29:33.795Z"
   },
   {
    "duration": 7,
    "start_time": "2022-11-21T14:29:33.808Z"
   },
   {
    "duration": 12,
    "start_time": "2022-11-21T14:29:33.816Z"
   },
   {
    "duration": 5,
    "start_time": "2022-11-21T14:29:33.830Z"
   },
   {
    "duration": 12,
    "start_time": "2022-11-21T14:29:33.838Z"
   },
   {
    "duration": 18,
    "start_time": "2022-11-21T14:29:33.877Z"
   },
   {
    "duration": 4,
    "start_time": "2022-11-21T14:29:33.897Z"
   },
   {
    "duration": 15,
    "start_time": "2022-11-21T14:29:33.903Z"
   },
   {
    "duration": 765,
    "start_time": "2022-11-21T14:29:33.920Z"
   },
   {
    "duration": 5,
    "start_time": "2022-11-21T14:29:34.687Z"
   },
   {
    "duration": 8,
    "start_time": "2022-11-21T14:29:34.694Z"
   },
   {
    "duration": 357,
    "start_time": "2022-11-21T14:29:34.703Z"
   },
   {
    "duration": 4,
    "start_time": "2022-11-21T14:29:35.062Z"
   },
   {
    "duration": 21,
    "start_time": "2022-11-21T14:29:35.067Z"
   },
   {
    "duration": 9,
    "start_time": "2022-11-21T14:29:35.090Z"
   },
   {
    "duration": 1182,
    "start_time": "2022-11-21T14:29:35.100Z"
   },
   {
    "duration": 1294,
    "start_time": "2022-11-21T14:29:36.285Z"
   },
   {
    "duration": 3719,
    "start_time": "2022-11-21T14:29:37.582Z"
   },
   {
    "duration": 3741,
    "start_time": "2022-11-21T14:29:41.303Z"
   },
   {
    "duration": 31,
    "start_time": "2022-11-21T14:29:45.047Z"
   },
   {
    "duration": 208,
    "start_time": "2022-11-21T14:29:45.080Z"
   },
   {
    "duration": 90,
    "start_time": "2022-11-21T14:29:45.290Z"
   },
   {
    "duration": 121,
    "start_time": "2022-11-21T14:29:45.382Z"
   },
   {
    "duration": 187,
    "start_time": "2022-11-21T14:31:07.496Z"
   },
   {
    "duration": 3,
    "start_time": "2022-11-21T14:31:38.885Z"
   },
   {
    "duration": 4,
    "start_time": "2022-11-21T14:31:43.645Z"
   },
   {
    "duration": 1970,
    "start_time": "2022-11-21T17:13:45.132Z"
   },
   {
    "duration": 3319,
    "start_time": "2022-11-21T17:13:47.104Z"
   },
   {
    "duration": 70,
    "start_time": "2022-11-21T17:13:50.424Z"
   },
   {
    "duration": 21,
    "start_time": "2022-11-21T17:13:50.496Z"
   },
   {
    "duration": 23,
    "start_time": "2022-11-21T17:13:50.577Z"
   },
   {
    "duration": 80,
    "start_time": "2022-11-21T17:13:50.602Z"
   },
   {
    "duration": 2933,
    "start_time": "2022-11-21T17:13:50.684Z"
   },
   {
    "duration": 6,
    "start_time": "2022-11-21T17:13:53.619Z"
   },
   {
    "duration": 26,
    "start_time": "2022-11-21T17:13:53.627Z"
   },
   {
    "duration": 16,
    "start_time": "2022-11-21T17:13:53.655Z"
   },
   {
    "duration": 38,
    "start_time": "2022-11-21T17:13:53.673Z"
   },
   {
    "duration": 8,
    "start_time": "2022-11-21T17:13:53.713Z"
   },
   {
    "duration": 30,
    "start_time": "2022-11-21T17:13:53.724Z"
   },
   {
    "duration": 30,
    "start_time": "2022-11-21T17:13:53.759Z"
   },
   {
    "duration": 6,
    "start_time": "2022-11-21T17:13:53.792Z"
   },
   {
    "duration": 31,
    "start_time": "2022-11-21T17:13:53.801Z"
   },
   {
    "duration": 986,
    "start_time": "2022-11-21T17:13:53.834Z"
   },
   {
    "duration": 5,
    "start_time": "2022-11-21T17:13:54.822Z"
   },
   {
    "duration": 35,
    "start_time": "2022-11-21T17:13:54.829Z"
   },
   {
    "duration": 831,
    "start_time": "2022-11-21T17:13:54.866Z"
   },
   {
    "duration": 5,
    "start_time": "2022-11-21T17:13:55.700Z"
   },
   {
    "duration": 75,
    "start_time": "2022-11-21T17:13:55.707Z"
   },
   {
    "duration": 46,
    "start_time": "2022-11-21T17:13:55.784Z"
   },
   {
    "duration": 1350,
    "start_time": "2022-11-21T17:13:55.833Z"
   },
   {
    "duration": 2492,
    "start_time": "2022-11-21T17:13:57.188Z"
   },
   {
    "duration": 3605,
    "start_time": "2022-11-21T17:13:59.682Z"
   },
   {
    "duration": 3644,
    "start_time": "2022-11-21T17:14:03.289Z"
   },
   {
    "duration": 25,
    "start_time": "2022-11-21T17:14:06.939Z"
   },
   {
    "duration": 614,
    "start_time": "2022-11-21T17:14:06.966Z"
   },
   {
    "duration": 296,
    "start_time": "2022-11-21T17:14:07.583Z"
   },
   {
    "duration": 98,
    "start_time": "2022-11-21T17:14:07.884Z"
   },
   {
    "duration": 3,
    "start_time": "2022-11-21T17:15:12.836Z"
   },
   {
    "duration": 5,
    "start_time": "2022-11-21T17:15:19.078Z"
   },
   {
    "duration": 278,
    "start_time": "2022-11-21T17:17:59.679Z"
   },
   {
    "duration": 338,
    "start_time": "2022-11-21T17:18:55.546Z"
   },
   {
    "duration": 4,
    "start_time": "2022-11-21T17:19:58.718Z"
   },
   {
    "duration": 154,
    "start_time": "2022-11-21T17:21:30.191Z"
   },
   {
    "duration": 354,
    "start_time": "2022-11-21T17:21:39.057Z"
   },
   {
    "duration": 48,
    "start_time": "2022-11-21T17:21:58.835Z"
   },
   {
    "duration": 501,
    "start_time": "2022-11-21T17:22:01.588Z"
   },
   {
    "duration": 355,
    "start_time": "2022-11-21T17:22:23.633Z"
   },
   {
    "duration": 340,
    "start_time": "2022-11-21T17:22:41.994Z"
   },
   {
    "duration": 562,
    "start_time": "2022-11-21T17:23:13.151Z"
   },
   {
    "duration": 427,
    "start_time": "2022-11-21T17:23:17.845Z"
   },
   {
    "duration": 427,
    "start_time": "2022-11-21T17:23:21.151Z"
   },
   {
    "duration": 393,
    "start_time": "2022-11-21T17:25:10.403Z"
   },
   {
    "duration": 265,
    "start_time": "2022-11-21T17:25:23.648Z"
   },
   {
    "duration": 210,
    "start_time": "2022-11-21T17:25:32.631Z"
   },
   {
    "duration": 338,
    "start_time": "2022-11-21T17:25:42.588Z"
   },
   {
    "duration": 313,
    "start_time": "2022-11-21T17:25:49.559Z"
   },
   {
    "duration": 408,
    "start_time": "2022-11-21T17:25:51.797Z"
   },
   {
    "duration": 501,
    "start_time": "2022-11-21T17:26:09.384Z"
   },
   {
    "duration": 753,
    "start_time": "2022-11-21T17:26:26.108Z"
   },
   {
    "duration": 5,
    "start_time": "2022-11-21T17:29:45.785Z"
   },
   {
    "duration": 4,
    "start_time": "2022-11-21T17:30:45.628Z"
   },
   {
    "duration": 901,
    "start_time": "2022-11-21T17:30:45.634Z"
   },
   {
    "duration": 25,
    "start_time": "2022-11-21T17:30:46.538Z"
   },
   {
    "duration": 24,
    "start_time": "2022-11-21T17:30:46.579Z"
   },
   {
    "duration": 27,
    "start_time": "2022-11-21T17:30:46.606Z"
   },
   {
    "duration": 43,
    "start_time": "2022-11-21T17:30:46.635Z"
   },
   {
    "duration": 2381,
    "start_time": "2022-11-21T17:30:46.680Z"
   },
   {
    "duration": 15,
    "start_time": "2022-11-21T17:30:49.064Z"
   },
   {
    "duration": 20,
    "start_time": "2022-11-21T17:30:49.083Z"
   },
   {
    "duration": 19,
    "start_time": "2022-11-21T17:30:49.106Z"
   },
   {
    "duration": 37,
    "start_time": "2022-11-21T17:30:49.129Z"
   },
   {
    "duration": 19,
    "start_time": "2022-11-21T17:30:49.168Z"
   },
   {
    "duration": 24,
    "start_time": "2022-11-21T17:30:49.189Z"
   },
   {
    "duration": 48,
    "start_time": "2022-11-21T17:30:49.216Z"
   },
   {
    "duration": 5,
    "start_time": "2022-11-21T17:30:49.266Z"
   },
   {
    "duration": 23,
    "start_time": "2022-11-21T17:30:49.273Z"
   },
   {
    "duration": 466,
    "start_time": "2022-11-21T17:30:49.299Z"
   },
   {
    "duration": 592,
    "start_time": "2022-11-21T17:30:49.767Z"
   },
   {
    "duration": 491,
    "start_time": "2022-11-21T17:30:50.361Z"
   },
   {
    "duration": 724,
    "start_time": "2022-11-21T17:30:50.854Z"
   },
   {
    "duration": 7,
    "start_time": "2022-11-21T17:30:51.580Z"
   },
   {
    "duration": 19,
    "start_time": "2022-11-21T17:30:51.589Z"
   },
   {
    "duration": 385,
    "start_time": "2022-11-21T17:30:51.611Z"
   },
   {
    "duration": 5,
    "start_time": "2022-11-21T17:30:51.999Z"
   },
   {
    "duration": 15,
    "start_time": "2022-11-21T17:30:52.006Z"
   },
   {
    "duration": 15,
    "start_time": "2022-11-21T17:30:52.023Z"
   },
   {
    "duration": 1338,
    "start_time": "2022-11-21T17:30:52.041Z"
   },
   {
    "duration": 1499,
    "start_time": "2022-11-21T17:30:53.382Z"
   },
   {
    "duration": 3900,
    "start_time": "2022-11-21T17:30:54.886Z"
   },
   {
    "duration": 3775,
    "start_time": "2022-11-21T17:30:58.789Z"
   },
   {
    "duration": 31,
    "start_time": "2022-11-21T17:31:02.567Z"
   },
   {
    "duration": 1383,
    "start_time": "2022-11-21T17:31:02.600Z"
   },
   {
    "duration": 306,
    "start_time": "2022-11-21T17:31:03.985Z"
   },
   {
    "duration": 5,
    "start_time": "2022-11-21T17:31:04.379Z"
   },
   {
    "duration": 5,
    "start_time": "2022-11-21T17:32:18.820Z"
   },
   {
    "duration": 1913,
    "start_time": "2022-11-22T17:13:43.731Z"
   },
   {
    "duration": 688,
    "start_time": "2022-11-22T17:13:45.646Z"
   },
   {
    "duration": 24,
    "start_time": "2022-11-22T17:13:46.336Z"
   },
   {
    "duration": 31,
    "start_time": "2022-11-22T17:13:46.362Z"
   },
   {
    "duration": 22,
    "start_time": "2022-11-22T17:13:46.395Z"
   },
   {
    "duration": 16,
    "start_time": "2022-11-22T17:13:46.418Z"
   },
   {
    "duration": 2012,
    "start_time": "2022-11-22T17:13:46.436Z"
   },
   {
    "duration": 9,
    "start_time": "2022-11-22T17:13:48.451Z"
   },
   {
    "duration": 22,
    "start_time": "2022-11-22T17:13:48.462Z"
   },
   {
    "duration": 23,
    "start_time": "2022-11-22T17:13:48.488Z"
   },
   {
    "duration": 22,
    "start_time": "2022-11-22T17:13:48.513Z"
   },
   {
    "duration": 21,
    "start_time": "2022-11-22T17:13:48.537Z"
   },
   {
    "duration": 20,
    "start_time": "2022-11-22T17:13:48.561Z"
   },
   {
    "duration": 40,
    "start_time": "2022-11-22T17:13:48.583Z"
   },
   {
    "duration": 3,
    "start_time": "2022-11-22T17:13:48.624Z"
   },
   {
    "duration": 20,
    "start_time": "2022-11-22T17:13:48.629Z"
   },
   {
    "duration": 426,
    "start_time": "2022-11-22T17:13:48.651Z"
   },
   {
    "duration": 473,
    "start_time": "2022-11-22T17:13:49.079Z"
   },
   {
    "duration": 401,
    "start_time": "2022-11-22T17:13:49.554Z"
   },
   {
    "duration": 632,
    "start_time": "2022-11-22T17:13:49.957Z"
   },
   {
    "duration": 5,
    "start_time": "2022-11-22T17:13:50.590Z"
   },
   {
    "duration": 12,
    "start_time": "2022-11-22T17:13:50.597Z"
   },
   {
    "duration": 344,
    "start_time": "2022-11-22T17:13:50.611Z"
   },
   {
    "duration": 3,
    "start_time": "2022-11-22T17:13:50.957Z"
   },
   {
    "duration": 25,
    "start_time": "2022-11-22T17:13:50.962Z"
   },
   {
    "duration": 9,
    "start_time": "2022-11-22T17:13:50.989Z"
   },
   {
    "duration": 22,
    "start_time": "2022-11-22T17:13:51.000Z"
   },
   {
    "duration": 736,
    "start_time": "2022-11-22T17:14:07.449Z"
   },
   {
    "duration": 1634,
    "start_time": "2022-11-23T15:00:29.120Z"
   },
   {
    "duration": 2986,
    "start_time": "2022-11-23T15:00:30.756Z"
   },
   {
    "duration": 27,
    "start_time": "2022-11-23T15:00:33.744Z"
   },
   {
    "duration": 26,
    "start_time": "2022-11-23T15:00:33.773Z"
   },
   {
    "duration": 45,
    "start_time": "2022-11-23T15:00:33.802Z"
   },
   {
    "duration": 24,
    "start_time": "2022-11-23T15:00:33.849Z"
   },
   {
    "duration": 2210,
    "start_time": "2022-11-23T15:00:33.875Z"
   },
   {
    "duration": 4,
    "start_time": "2022-11-23T15:00:36.088Z"
   },
   {
    "duration": 29,
    "start_time": "2022-11-23T15:00:36.094Z"
   },
   {
    "duration": 15,
    "start_time": "2022-11-23T15:00:36.125Z"
   },
   {
    "duration": 17,
    "start_time": "2022-11-23T15:00:36.142Z"
   },
   {
    "duration": 15,
    "start_time": "2022-11-23T15:00:36.161Z"
   },
   {
    "duration": 11,
    "start_time": "2022-11-23T15:00:36.179Z"
   },
   {
    "duration": 36,
    "start_time": "2022-11-23T15:00:36.194Z"
   },
   {
    "duration": 5,
    "start_time": "2022-11-23T15:00:36.232Z"
   },
   {
    "duration": 9,
    "start_time": "2022-11-23T15:00:36.239Z"
   },
   {
    "duration": 408,
    "start_time": "2022-11-23T15:00:36.251Z"
   },
   {
    "duration": 488,
    "start_time": "2022-11-23T15:00:36.661Z"
   },
   {
    "duration": 418,
    "start_time": "2022-11-23T15:00:37.151Z"
   },
   {
    "duration": 693,
    "start_time": "2022-11-23T15:00:37.572Z"
   },
   {
    "duration": 5,
    "start_time": "2022-11-23T15:00:38.267Z"
   },
   {
    "duration": 9,
    "start_time": "2022-11-23T15:00:38.274Z"
   },
   {
    "duration": 364,
    "start_time": "2022-11-23T15:00:38.285Z"
   },
   {
    "duration": 4,
    "start_time": "2022-11-23T15:00:38.651Z"
   },
   {
    "duration": 14,
    "start_time": "2022-11-23T15:00:38.656Z"
   },
   {
    "duration": 14,
    "start_time": "2022-11-23T15:00:38.674Z"
   },
   {
    "duration": 1503,
    "start_time": "2022-11-23T15:00:38.697Z"
   },
   {
    "duration": 1304,
    "start_time": "2022-11-23T15:00:40.202Z"
   },
   {
    "duration": 3659,
    "start_time": "2022-11-23T15:00:41.513Z"
   },
   {
    "duration": 3640,
    "start_time": "2022-11-23T15:00:45.175Z"
   },
   {
    "duration": 17,
    "start_time": "2022-11-23T15:00:48.817Z"
   },
   {
    "duration": 366,
    "start_time": "2022-11-23T15:00:48.837Z"
   },
   {
    "duration": 199,
    "start_time": "2022-11-23T15:00:49.205Z"
   },
   {
    "duration": 93,
    "start_time": "2022-11-23T15:00:49.406Z"
   },
   {
    "duration": 132,
    "start_time": "2022-11-23T15:00:57.788Z"
   },
   {
    "duration": 9,
    "start_time": "2022-11-23T15:01:09.864Z"
   },
   {
    "duration": 5,
    "start_time": "2022-11-23T15:04:46.925Z"
   },
   {
    "duration": 551,
    "start_time": "2022-11-23T15:04:47.849Z"
   },
   {
    "duration": 7,
    "start_time": "2022-11-23T15:05:31.216Z"
   },
   {
    "duration": 1091,
    "start_time": "2022-11-23T15:05:31.227Z"
   },
   {
    "duration": 36,
    "start_time": "2022-11-23T15:05:32.321Z"
   },
   {
    "duration": 53,
    "start_time": "2022-11-23T15:05:32.359Z"
   },
   {
    "duration": 43,
    "start_time": "2022-11-23T15:05:32.415Z"
   },
   {
    "duration": 40,
    "start_time": "2022-11-23T15:05:32.460Z"
   },
   {
    "duration": 3288,
    "start_time": "2022-11-23T15:05:32.502Z"
   },
   {
    "duration": 6,
    "start_time": "2022-11-23T15:05:35.797Z"
   },
   {
    "duration": 25,
    "start_time": "2022-11-23T15:05:35.804Z"
   },
   {
    "duration": 14,
    "start_time": "2022-11-23T15:05:35.832Z"
   },
   {
    "duration": 18,
    "start_time": "2022-11-23T15:05:35.851Z"
   },
   {
    "duration": 25,
    "start_time": "2022-11-23T15:05:35.872Z"
   },
   {
    "duration": 7,
    "start_time": "2022-11-23T15:05:35.900Z"
   },
   {
    "duration": 43,
    "start_time": "2022-11-23T15:05:35.909Z"
   },
   {
    "duration": 11,
    "start_time": "2022-11-23T15:05:35.955Z"
   },
   {
    "duration": 18,
    "start_time": "2022-11-23T15:05:35.968Z"
   },
   {
    "duration": 709,
    "start_time": "2022-11-23T15:05:35.988Z"
   },
   {
    "duration": 723,
    "start_time": "2022-11-23T15:05:36.705Z"
   },
   {
    "duration": 575,
    "start_time": "2022-11-23T15:05:37.430Z"
   },
   {
    "duration": 1099,
    "start_time": "2022-11-23T15:05:38.007Z"
   },
   {
    "duration": 7,
    "start_time": "2022-11-23T15:05:39.108Z"
   },
   {
    "duration": 9,
    "start_time": "2022-11-23T15:05:39.117Z"
   },
   {
    "duration": 569,
    "start_time": "2022-11-23T15:05:39.128Z"
   },
   {
    "duration": 6,
    "start_time": "2022-11-23T15:05:39.703Z"
   },
   {
    "duration": 23,
    "start_time": "2022-11-23T15:05:39.724Z"
   },
   {
    "duration": 18,
    "start_time": "2022-11-23T15:05:39.749Z"
   },
   {
    "duration": 2037,
    "start_time": "2022-11-23T15:05:39.771Z"
   },
   {
    "duration": 1998,
    "start_time": "2022-11-23T15:05:41.825Z"
   },
   {
    "duration": 4913,
    "start_time": "2022-11-23T15:05:43.831Z"
   },
   {
    "duration": 4643,
    "start_time": "2022-11-23T15:05:48.746Z"
   },
   {
    "duration": 25,
    "start_time": "2022-11-23T15:05:53.395Z"
   },
   {
    "duration": 1071,
    "start_time": "2022-11-23T15:05:53.426Z"
   },
   {
    "duration": 325,
    "start_time": "2022-11-23T15:05:54.502Z"
   },
   {
    "duration": 14,
    "start_time": "2022-11-23T15:05:54.833Z"
   },
   {
    "duration": 1513,
    "start_time": "2022-11-25T07:35:28.494Z"
   },
   {
    "duration": 1792,
    "start_time": "2022-11-25T07:35:30.008Z"
   },
   {
    "duration": 23,
    "start_time": "2022-11-25T07:35:31.802Z"
   },
   {
    "duration": 19,
    "start_time": "2022-11-25T07:35:31.827Z"
   },
   {
    "duration": 21,
    "start_time": "2022-11-25T07:35:31.848Z"
   },
   {
    "duration": 14,
    "start_time": "2022-11-25T07:35:31.871Z"
   },
   {
    "duration": 1925,
    "start_time": "2022-11-25T07:35:31.886Z"
   },
   {
    "duration": 4,
    "start_time": "2022-11-25T07:35:33.813Z"
   },
   {
    "duration": 19,
    "start_time": "2022-11-25T07:35:33.819Z"
   },
   {
    "duration": 13,
    "start_time": "2022-11-25T07:35:33.840Z"
   },
   {
    "duration": 12,
    "start_time": "2022-11-25T07:35:33.854Z"
   },
   {
    "duration": 11,
    "start_time": "2022-11-25T07:35:33.868Z"
   },
   {
    "duration": 30,
    "start_time": "2022-11-25T07:35:33.881Z"
   },
   {
    "duration": 4,
    "start_time": "2022-11-25T07:35:33.914Z"
   },
   {
    "duration": 13,
    "start_time": "2022-11-25T07:35:33.919Z"
   },
   {
    "duration": 353,
    "start_time": "2022-11-25T07:35:33.933Z"
   },
   {
    "duration": 458,
    "start_time": "2022-11-25T07:35:34.288Z"
   },
   {
    "duration": 365,
    "start_time": "2022-11-25T07:35:34.748Z"
   },
   {
    "duration": 588,
    "start_time": "2022-11-25T07:35:35.114Z"
   },
   {
    "duration": 11,
    "start_time": "2022-11-25T07:35:35.704Z"
   },
   {
    "duration": 7,
    "start_time": "2022-11-25T07:35:35.717Z"
   },
   {
    "duration": 318,
    "start_time": "2022-11-25T07:35:35.725Z"
   },
   {
    "duration": 3,
    "start_time": "2022-11-25T07:35:36.045Z"
   },
   {
    "duration": 15,
    "start_time": "2022-11-25T07:35:36.049Z"
   },
   {
    "duration": 5,
    "start_time": "2022-11-25T07:35:36.066Z"
   },
   {
    "duration": 1044,
    "start_time": "2022-11-25T07:35:36.072Z"
   },
   {
    "duration": 1295,
    "start_time": "2022-11-25T07:35:37.118Z"
   },
   {
    "duration": 3165,
    "start_time": "2022-11-25T07:35:38.415Z"
   },
   {
    "duration": 3032,
    "start_time": "2022-11-25T07:35:41.582Z"
   },
   {
    "duration": 18,
    "start_time": "2022-11-25T07:35:44.616Z"
   },
   {
    "duration": 281,
    "start_time": "2022-11-25T07:35:44.636Z"
   },
   {
    "duration": 296,
    "start_time": "2022-11-25T07:35:44.919Z"
   },
   {
    "duration": 3,
    "start_time": "2022-11-25T07:35:45.217Z"
   },
   {
    "duration": 3,
    "start_time": "2022-11-25T07:39:54.631Z"
   },
   {
    "duration": 107,
    "start_time": "2022-11-25T07:41:04.833Z"
   },
   {
    "duration": 10,
    "start_time": "2022-11-25T07:41:47.350Z"
   },
   {
    "duration": 31,
    "start_time": "2022-11-25T07:43:04.107Z"
   },
   {
    "duration": 17,
    "start_time": "2022-11-25T07:44:40.900Z"
   },
   {
    "duration": 12,
    "start_time": "2022-11-25T07:46:01.940Z"
   },
   {
    "duration": 8,
    "start_time": "2022-11-25T07:47:59.587Z"
   },
   {
    "duration": 15,
    "start_time": "2022-11-25T07:48:04.964Z"
   },
   {
    "duration": 6,
    "start_time": "2022-11-25T07:48:54.435Z"
   },
   {
    "duration": 10,
    "start_time": "2022-11-25T07:49:22.155Z"
   },
   {
    "duration": 12,
    "start_time": "2022-11-25T07:50:20.996Z"
   },
   {
    "duration": 16,
    "start_time": "2022-11-25T07:51:18.583Z"
   },
   {
    "duration": 6,
    "start_time": "2022-11-25T07:51:36.099Z"
   },
   {
    "duration": 3,
    "start_time": "2022-11-25T07:52:12.883Z"
   },
   {
    "duration": 74,
    "start_time": "2022-11-25T07:52:59.491Z"
   },
   {
    "duration": 70,
    "start_time": "2022-11-25T07:53:06.235Z"
   },
   {
    "duration": 5,
    "start_time": "2022-11-25T07:53:15.314Z"
   },
   {
    "duration": 3,
    "start_time": "2022-11-25T07:58:16.528Z"
   },
   {
    "duration": 32,
    "start_time": "2022-11-25T07:59:02.972Z"
   },
   {
    "duration": 73,
    "start_time": "2022-11-25T07:59:09.753Z"
   },
   {
    "duration": 19,
    "start_time": "2022-11-25T07:59:54.720Z"
   },
   {
    "duration": 1154,
    "start_time": "2022-11-25T08:01:16.953Z"
   },
   {
    "duration": 1144,
    "start_time": "2022-11-25T08:01:36.658Z"
   },
   {
    "duration": 2,
    "start_time": "2022-11-25T08:02:04.825Z"
   },
   {
    "duration": 34,
    "start_time": "2022-11-25T08:02:08.444Z"
   },
   {
    "duration": 41,
    "start_time": "2022-11-25T08:02:19.620Z"
   },
   {
    "duration": 134,
    "start_time": "2022-11-25T08:02:21.944Z"
   },
   {
    "duration": 58,
    "start_time": "2022-11-25T08:02:30.398Z"
   },
   {
    "duration": 12,
    "start_time": "2022-11-25T08:03:05.387Z"
   },
   {
    "duration": 4,
    "start_time": "2022-11-25T08:03:10.655Z"
   },
   {
    "duration": 626,
    "start_time": "2022-11-25T08:03:10.661Z"
   },
   {
    "duration": 19,
    "start_time": "2022-11-25T08:03:11.288Z"
   },
   {
    "duration": 36,
    "start_time": "2022-11-25T08:03:11.312Z"
   },
   {
    "duration": 18,
    "start_time": "2022-11-25T08:03:11.350Z"
   },
   {
    "duration": 24,
    "start_time": "2022-11-25T08:03:11.370Z"
   },
   {
    "duration": 1794,
    "start_time": "2022-11-25T08:03:11.396Z"
   },
   {
    "duration": 3,
    "start_time": "2022-11-25T08:03:13.191Z"
   },
   {
    "duration": 8,
    "start_time": "2022-11-25T08:03:13.196Z"
   },
   {
    "duration": 5,
    "start_time": "2022-11-25T08:03:13.212Z"
   },
   {
    "duration": 4,
    "start_time": "2022-11-25T08:03:13.219Z"
   },
   {
    "duration": 5,
    "start_time": "2022-11-25T08:03:13.224Z"
   },
   {
    "duration": 20,
    "start_time": "2022-11-25T08:03:13.230Z"
   },
   {
    "duration": 2,
    "start_time": "2022-11-25T08:03:13.252Z"
   },
   {
    "duration": 5,
    "start_time": "2022-11-25T08:03:13.255Z"
   },
   {
    "duration": 356,
    "start_time": "2022-11-25T08:03:13.261Z"
   },
   {
    "duration": 339,
    "start_time": "2022-11-25T08:03:13.619Z"
   },
   {
    "duration": 348,
    "start_time": "2022-11-25T08:03:13.960Z"
   },
   {
    "duration": 664,
    "start_time": "2022-11-25T08:03:14.312Z"
   },
   {
    "duration": 5,
    "start_time": "2022-11-25T08:03:14.977Z"
   },
   {
    "duration": 21,
    "start_time": "2022-11-25T08:03:14.984Z"
   },
   {
    "duration": 314,
    "start_time": "2022-11-25T08:03:15.007Z"
   },
   {
    "duration": 31,
    "start_time": "2022-11-25T08:03:15.323Z"
   },
   {
    "duration": 3,
    "start_time": "2022-11-25T08:03:15.355Z"
   },
   {
    "duration": 12,
    "start_time": "2022-11-25T08:03:15.360Z"
   },
   {
    "duration": 7,
    "start_time": "2022-11-25T08:03:15.374Z"
   },
   {
    "duration": 1232,
    "start_time": "2022-11-25T08:03:15.382Z"
   },
   {
    "duration": 1501,
    "start_time": "2022-11-25T08:03:16.616Z"
   },
   {
    "duration": 3226,
    "start_time": "2022-11-25T08:03:18.120Z"
   },
   {
    "duration": 3198,
    "start_time": "2022-11-25T08:03:21.348Z"
   },
   {
    "duration": 15,
    "start_time": "2022-11-25T08:03:24.548Z"
   },
   {
    "duration": 153,
    "start_time": "2022-11-25T08:03:24.565Z"
   },
   {
    "duration": 199,
    "start_time": "2022-11-25T08:03:24.720Z"
   },
   {
    "duration": 5,
    "start_time": "2022-11-25T08:03:24.921Z"
   },
   {
    "duration": 26,
    "start_time": "2022-11-25T08:05:56.164Z"
   },
   {
    "duration": 20,
    "start_time": "2022-11-25T08:06:17.855Z"
   },
   {
    "duration": 33,
    "start_time": "2022-11-25T08:07:09.588Z"
   },
   {
    "duration": 4,
    "start_time": "2022-11-25T08:07:21.374Z"
   },
   {
    "duration": 633,
    "start_time": "2022-11-25T08:07:21.380Z"
   },
   {
    "duration": 19,
    "start_time": "2022-11-25T08:07:22.015Z"
   },
   {
    "duration": 33,
    "start_time": "2022-11-25T08:07:22.035Z"
   },
   {
    "duration": 28,
    "start_time": "2022-11-25T08:07:22.070Z"
   },
   {
    "duration": 27,
    "start_time": "2022-11-25T08:07:22.099Z"
   },
   {
    "duration": 1892,
    "start_time": "2022-11-25T08:07:22.127Z"
   },
   {
    "duration": 4,
    "start_time": "2022-11-25T08:07:24.020Z"
   },
   {
    "duration": 16,
    "start_time": "2022-11-25T08:07:24.026Z"
   },
   {
    "duration": 8,
    "start_time": "2022-11-25T08:07:24.044Z"
   },
   {
    "duration": 5,
    "start_time": "2022-11-25T08:07:24.054Z"
   },
   {
    "duration": 10,
    "start_time": "2022-11-25T08:07:24.061Z"
   },
   {
    "duration": 30,
    "start_time": "2022-11-25T08:07:24.073Z"
   },
   {
    "duration": 7,
    "start_time": "2022-11-25T08:07:24.105Z"
   },
   {
    "duration": 7,
    "start_time": "2022-11-25T08:07:24.114Z"
   },
   {
    "duration": 361,
    "start_time": "2022-11-25T08:07:24.122Z"
   },
   {
    "duration": 373,
    "start_time": "2022-11-25T08:07:24.485Z"
   },
   {
    "duration": 464,
    "start_time": "2022-11-25T08:07:24.860Z"
   },
   {
    "duration": 554,
    "start_time": "2022-11-25T08:07:25.326Z"
   },
   {
    "duration": 5,
    "start_time": "2022-11-25T08:07:25.882Z"
   },
   {
    "duration": 11,
    "start_time": "2022-11-25T08:07:25.888Z"
   },
   {
    "duration": 299,
    "start_time": "2022-11-25T08:07:25.901Z"
   },
   {
    "duration": 37,
    "start_time": "2022-11-25T08:07:26.202Z"
   },
   {
    "duration": 0,
    "start_time": "2022-11-25T08:07:26.241Z"
   },
   {
    "duration": 0,
    "start_time": "2022-11-25T08:07:26.242Z"
   },
   {
    "duration": 0,
    "start_time": "2022-11-25T08:07:26.243Z"
   },
   {
    "duration": 0,
    "start_time": "2022-11-25T08:07:26.244Z"
   },
   {
    "duration": 0,
    "start_time": "2022-11-25T08:07:26.245Z"
   },
   {
    "duration": 0,
    "start_time": "2022-11-25T08:07:26.246Z"
   },
   {
    "duration": 0,
    "start_time": "2022-11-25T08:07:26.247Z"
   },
   {
    "duration": 0,
    "start_time": "2022-11-25T08:07:26.248Z"
   },
   {
    "duration": 0,
    "start_time": "2022-11-25T08:07:26.249Z"
   },
   {
    "duration": 0,
    "start_time": "2022-11-25T08:07:26.250Z"
   },
   {
    "duration": 0,
    "start_time": "2022-11-25T08:07:26.251Z"
   },
   {
    "duration": 31,
    "start_time": "2022-11-25T08:08:29.874Z"
   },
   {
    "duration": 77,
    "start_time": "2022-11-25T08:09:23.147Z"
   },
   {
    "duration": 72,
    "start_time": "2022-11-25T08:09:31.086Z"
   },
   {
    "duration": 10,
    "start_time": "2022-11-25T08:09:42.063Z"
   },
   {
    "duration": 69,
    "start_time": "2022-11-25T08:10:41.041Z"
   },
   {
    "duration": 6,
    "start_time": "2022-11-25T08:10:54.437Z"
   },
   {
    "duration": 9,
    "start_time": "2022-11-25T08:10:59.333Z"
   },
   {
    "duration": 6,
    "start_time": "2022-11-25T08:11:09.445Z"
   },
   {
    "duration": 27,
    "start_time": "2022-11-25T08:11:43.007Z"
   },
   {
    "duration": 29,
    "start_time": "2022-11-25T08:11:54.521Z"
   },
   {
    "duration": 13,
    "start_time": "2022-11-25T08:12:42.550Z"
   },
   {
    "duration": 17,
    "start_time": "2022-11-25T08:12:53.322Z"
   },
   {
    "duration": 12,
    "start_time": "2022-11-25T08:13:29.996Z"
   },
   {
    "duration": 29,
    "start_time": "2022-11-25T08:13:47.822Z"
   },
   {
    "duration": 307,
    "start_time": "2022-11-25T08:13:54.432Z"
   },
   {
    "duration": 14,
    "start_time": "2022-11-25T08:14:31.499Z"
   },
   {
    "duration": 18,
    "start_time": "2022-11-25T08:14:55.601Z"
   },
   {
    "duration": 28,
    "start_time": "2022-11-25T08:15:14.524Z"
   },
   {
    "duration": 12,
    "start_time": "2022-11-25T08:16:39.165Z"
   },
   {
    "duration": 36,
    "start_time": "2022-11-25T08:17:22.943Z"
   },
   {
    "duration": 179,
    "start_time": "2022-11-25T08:17:28.350Z"
   },
   {
    "duration": 4,
    "start_time": "2022-11-25T08:17:40.816Z"
   },
   {
    "duration": 660,
    "start_time": "2022-11-25T08:17:40.822Z"
   },
   {
    "duration": 23,
    "start_time": "2022-11-25T08:17:41.484Z"
   },
   {
    "duration": 19,
    "start_time": "2022-11-25T08:17:41.512Z"
   },
   {
    "duration": 19,
    "start_time": "2022-11-25T08:17:41.534Z"
   },
   {
    "duration": 136,
    "start_time": "2022-11-25T08:17:41.555Z"
   },
   {
    "duration": 1849,
    "start_time": "2022-11-25T08:17:41.693Z"
   },
   {
    "duration": 3,
    "start_time": "2022-11-25T08:17:43.543Z"
   },
   {
    "duration": 12,
    "start_time": "2022-11-25T08:17:43.548Z"
   },
   {
    "duration": 6,
    "start_time": "2022-11-25T08:17:43.561Z"
   },
   {
    "duration": 4,
    "start_time": "2022-11-25T08:17:43.570Z"
   },
   {
    "duration": 5,
    "start_time": "2022-11-25T08:17:43.575Z"
   },
   {
    "duration": 36,
    "start_time": "2022-11-25T08:17:43.581Z"
   },
   {
    "duration": 3,
    "start_time": "2022-11-25T08:17:43.619Z"
   },
   {
    "duration": 5,
    "start_time": "2022-11-25T08:17:43.623Z"
   },
   {
    "duration": 362,
    "start_time": "2022-11-25T08:17:43.630Z"
   },
   {
    "duration": 346,
    "start_time": "2022-11-25T08:17:43.994Z"
   },
   {
    "duration": 367,
    "start_time": "2022-11-25T08:17:44.341Z"
   },
   {
    "duration": 653,
    "start_time": "2022-11-25T08:17:44.712Z"
   },
   {
    "duration": 4,
    "start_time": "2022-11-25T08:17:45.367Z"
   },
   {
    "duration": 6,
    "start_time": "2022-11-25T08:17:45.373Z"
   },
   {
    "duration": 319,
    "start_time": "2022-11-25T08:17:45.380Z"
   },
   {
    "duration": 55,
    "start_time": "2022-11-25T08:17:45.700Z"
   },
   {
    "duration": 4,
    "start_time": "2022-11-25T08:17:45.757Z"
   },
   {
    "duration": 11,
    "start_time": "2022-11-25T08:17:45.762Z"
   },
   {
    "duration": 5,
    "start_time": "2022-11-25T08:17:45.774Z"
   },
   {
    "duration": 1033,
    "start_time": "2022-11-25T08:17:45.781Z"
   },
   {
    "duration": 1398,
    "start_time": "2022-11-25T08:17:46.816Z"
   },
   {
    "duration": 3174,
    "start_time": "2022-11-25T08:17:48.216Z"
   },
   {
    "duration": 3031,
    "start_time": "2022-11-25T08:17:51.392Z"
   },
   {
    "duration": 16,
    "start_time": "2022-11-25T08:17:54.424Z"
   },
   {
    "duration": 178,
    "start_time": "2022-11-25T08:17:54.442Z"
   },
   {
    "duration": 391,
    "start_time": "2022-11-25T08:17:54.622Z"
   },
   {
    "duration": 3,
    "start_time": "2022-11-25T08:17:55.015Z"
   },
   {
    "duration": 318,
    "start_time": "2022-11-25T08:18:01.081Z"
   },
   {
    "duration": 41,
    "start_time": "2022-11-25T08:18:15.416Z"
   },
   {
    "duration": 307,
    "start_time": "2022-11-25T08:18:17.410Z"
   },
   {
    "duration": 309,
    "start_time": "2022-11-25T08:18:41.184Z"
   },
   {
    "duration": 14,
    "start_time": "2022-11-25T08:18:50.339Z"
   },
   {
    "duration": 314,
    "start_time": "2022-11-25T08:18:51.098Z"
   },
   {
    "duration": 12993,
    "start_time": "2022-11-25T08:19:30.550Z"
   },
   {
    "duration": 393,
    "start_time": "2022-11-25T08:19:43.545Z"
   },
   {
    "duration": 1436,
    "start_time": "2022-11-25T08:20:05.020Z"
   },
   {
    "duration": 616,
    "start_time": "2022-11-25T08:20:06.458Z"
   },
   {
    "duration": 23,
    "start_time": "2022-11-25T08:20:07.076Z"
   },
   {
    "duration": 42,
    "start_time": "2022-11-25T08:20:07.101Z"
   },
   {
    "duration": 52,
    "start_time": "2022-11-25T08:20:07.145Z"
   },
   {
    "duration": 244,
    "start_time": "2022-11-25T08:20:07.198Z"
   },
   {
    "duration": 1912,
    "start_time": "2022-11-25T08:20:07.444Z"
   },
   {
    "duration": 3,
    "start_time": "2022-11-25T08:20:09.357Z"
   },
   {
    "duration": 38,
    "start_time": "2022-11-25T08:20:09.362Z"
   },
   {
    "duration": 48,
    "start_time": "2022-11-25T08:20:09.402Z"
   },
   {
    "duration": 17,
    "start_time": "2022-11-25T08:20:09.451Z"
   },
   {
    "duration": 50,
    "start_time": "2022-11-25T08:20:09.470Z"
   },
   {
    "duration": 61,
    "start_time": "2022-11-25T08:20:09.522Z"
   },
   {
    "duration": 16,
    "start_time": "2022-11-25T08:20:09.586Z"
   },
   {
    "duration": 34,
    "start_time": "2022-11-25T08:20:09.604Z"
   },
   {
    "duration": 378,
    "start_time": "2022-11-25T08:20:09.639Z"
   },
   {
    "duration": 478,
    "start_time": "2022-11-25T08:20:10.018Z"
   },
   {
    "duration": 341,
    "start_time": "2022-11-25T08:20:10.497Z"
   },
   {
    "duration": 565,
    "start_time": "2022-11-25T08:20:10.840Z"
   },
   {
    "duration": 4,
    "start_time": "2022-11-25T08:20:11.412Z"
   },
   {
    "duration": 71,
    "start_time": "2022-11-25T08:20:11.417Z"
   },
   {
    "duration": 337,
    "start_time": "2022-11-25T08:20:11.489Z"
   },
   {
    "duration": 12523,
    "start_time": "2022-11-25T08:20:11.828Z"
   },
   {
    "duration": 405,
    "start_time": "2022-11-25T08:20:24.353Z"
   },
   {
    "duration": 3,
    "start_time": "2022-11-25T08:20:24.760Z"
   },
   {
    "duration": 30,
    "start_time": "2022-11-25T08:20:24.764Z"
   },
   {
    "duration": 28,
    "start_time": "2022-11-25T08:20:24.796Z"
   },
   {
    "duration": 37,
    "start_time": "2022-11-25T08:20:24.826Z"
   },
   {
    "duration": 24,
    "start_time": "2022-11-25T08:20:24.864Z"
   },
   {
    "duration": 28,
    "start_time": "2022-11-25T08:20:24.890Z"
   },
   {
    "duration": 30,
    "start_time": "2022-11-25T08:20:24.920Z"
   },
   {
    "duration": 16,
    "start_time": "2022-11-25T08:20:24.952Z"
   },
   {
    "duration": 127,
    "start_time": "2022-11-25T08:20:24.970Z"
   },
   {
    "duration": 0,
    "start_time": "2022-11-25T08:20:25.099Z"
   },
   {
    "duration": 0,
    "start_time": "2022-11-25T08:20:25.100Z"
   },
   {
    "duration": 4,
    "start_time": "2022-11-25T08:21:39.924Z"
   },
   {
    "duration": 662,
    "start_time": "2022-11-25T08:21:39.930Z"
   },
   {
    "duration": 21,
    "start_time": "2022-11-25T08:21:40.594Z"
   },
   {
    "duration": 27,
    "start_time": "2022-11-25T08:21:40.617Z"
   },
   {
    "duration": 27,
    "start_time": "2022-11-25T08:21:40.647Z"
   },
   {
    "duration": 47,
    "start_time": "2022-11-25T08:21:40.677Z"
   },
   {
    "duration": 1953,
    "start_time": "2022-11-25T08:21:40.727Z"
   },
   {
    "duration": 3,
    "start_time": "2022-11-25T08:21:42.682Z"
   },
   {
    "duration": 9,
    "start_time": "2022-11-25T08:21:42.687Z"
   },
   {
    "duration": 17,
    "start_time": "2022-11-25T08:21:42.697Z"
   },
   {
    "duration": 5,
    "start_time": "2022-11-25T08:21:42.716Z"
   },
   {
    "duration": 6,
    "start_time": "2022-11-25T08:21:42.722Z"
   },
   {
    "duration": 23,
    "start_time": "2022-11-25T08:21:42.729Z"
   },
   {
    "duration": 4,
    "start_time": "2022-11-25T08:21:42.754Z"
   },
   {
    "duration": 9,
    "start_time": "2022-11-25T08:21:42.759Z"
   },
   {
    "duration": 430,
    "start_time": "2022-11-25T08:21:42.769Z"
   },
   {
    "duration": 423,
    "start_time": "2022-11-25T08:21:43.201Z"
   },
   {
    "duration": 421,
    "start_time": "2022-11-25T08:21:43.627Z"
   },
   {
    "duration": 684,
    "start_time": "2022-11-25T08:21:44.050Z"
   },
   {
    "duration": 5,
    "start_time": "2022-11-25T08:21:44.736Z"
   },
   {
    "duration": 11,
    "start_time": "2022-11-25T08:21:44.743Z"
   },
   {
    "duration": 314,
    "start_time": "2022-11-25T08:21:44.755Z"
   },
   {
    "duration": 326,
    "start_time": "2022-11-25T08:21:45.071Z"
   },
   {
    "duration": 3,
    "start_time": "2022-11-25T08:21:45.399Z"
   },
   {
    "duration": 10,
    "start_time": "2022-11-25T08:21:45.413Z"
   },
   {
    "duration": 13,
    "start_time": "2022-11-25T08:21:45.425Z"
   },
   {
    "duration": 1079,
    "start_time": "2022-11-25T08:21:45.440Z"
   },
   {
    "duration": 911,
    "start_time": "2022-11-25T08:21:46.521Z"
   },
   {
    "duration": 3197,
    "start_time": "2022-11-25T08:21:47.515Z"
   },
   {
    "duration": 3037,
    "start_time": "2022-11-25T08:21:50.713Z"
   },
   {
    "duration": 17,
    "start_time": "2022-11-25T08:21:53.752Z"
   },
   {
    "duration": 142,
    "start_time": "2022-11-25T08:21:53.770Z"
   },
   {
    "duration": 302,
    "start_time": "2022-11-25T08:21:53.914Z"
   },
   {
    "duration": 4,
    "start_time": "2022-11-25T08:21:54.218Z"
   },
   {
    "duration": 9,
    "start_time": "2022-11-25T08:22:35.608Z"
   },
   {
    "duration": 31,
    "start_time": "2022-11-25T08:24:41.029Z"
   },
   {
    "duration": 304,
    "start_time": "2022-11-25T08:24:43.913Z"
   },
   {
    "duration": 3,
    "start_time": "2022-11-25T08:24:53.570Z"
   },
   {
    "duration": 670,
    "start_time": "2022-11-25T08:24:53.576Z"
   },
   {
    "duration": 19,
    "start_time": "2022-11-25T08:24:54.247Z"
   },
   {
    "duration": 22,
    "start_time": "2022-11-25T08:24:54.269Z"
   },
   {
    "duration": 29,
    "start_time": "2022-11-25T08:24:54.293Z"
   },
   {
    "duration": 16,
    "start_time": "2022-11-25T08:24:54.323Z"
   },
   {
    "duration": 1833,
    "start_time": "2022-11-25T08:24:54.341Z"
   },
   {
    "duration": 4,
    "start_time": "2022-11-25T08:24:56.175Z"
   },
   {
    "duration": 11,
    "start_time": "2022-11-25T08:24:56.181Z"
   },
   {
    "duration": 7,
    "start_time": "2022-11-25T08:24:56.193Z"
   },
   {
    "duration": 12,
    "start_time": "2022-11-25T08:24:56.201Z"
   },
   {
    "duration": 3,
    "start_time": "2022-11-25T08:24:56.214Z"
   },
   {
    "duration": 18,
    "start_time": "2022-11-25T08:24:56.218Z"
   },
   {
    "duration": 3,
    "start_time": "2022-11-25T08:24:56.237Z"
   },
   {
    "duration": 8,
    "start_time": "2022-11-25T08:24:56.241Z"
   },
   {
    "duration": 452,
    "start_time": "2022-11-25T08:24:56.250Z"
   },
   {
    "duration": 362,
    "start_time": "2022-11-25T08:24:56.703Z"
   },
   {
    "duration": 356,
    "start_time": "2022-11-25T08:24:57.067Z"
   },
   {
    "duration": 564,
    "start_time": "2022-11-25T08:24:57.425Z"
   },
   {
    "duration": 5,
    "start_time": "2022-11-25T08:24:57.991Z"
   },
   {
    "duration": 5,
    "start_time": "2022-11-25T08:24:57.998Z"
   },
   {
    "duration": 316,
    "start_time": "2022-11-25T08:24:58.013Z"
   },
   {
    "duration": 33,
    "start_time": "2022-11-25T08:24:58.331Z"
   },
   {
    "duration": 428,
    "start_time": "2022-11-25T08:24:58.367Z"
   },
   {
    "duration": 3,
    "start_time": "2022-11-25T08:24:58.797Z"
   },
   {
    "duration": 17,
    "start_time": "2022-11-25T08:24:58.801Z"
   },
   {
    "duration": 5,
    "start_time": "2022-11-25T08:24:58.820Z"
   },
   {
    "duration": 990,
    "start_time": "2022-11-25T08:24:58.826Z"
   },
   {
    "duration": 1195,
    "start_time": "2022-11-25T08:24:59.821Z"
   },
   {
    "duration": 3112,
    "start_time": "2022-11-25T08:25:01.019Z"
   },
   {
    "duration": 2951,
    "start_time": "2022-11-25T08:25:04.133Z"
   },
   {
    "duration": 16,
    "start_time": "2022-11-25T08:25:07.086Z"
   },
   {
    "duration": 203,
    "start_time": "2022-11-25T08:25:07.112Z"
   },
   {
    "duration": 204,
    "start_time": "2022-11-25T08:25:07.317Z"
   },
   {
    "duration": 4,
    "start_time": "2022-11-25T08:25:07.612Z"
   },
   {
    "duration": 4,
    "start_time": "2022-11-25T08:43:40.398Z"
   },
   {
    "duration": 727,
    "start_time": "2022-11-25T08:43:40.404Z"
   },
   {
    "duration": 22,
    "start_time": "2022-11-25T08:43:41.136Z"
   },
   {
    "duration": 18,
    "start_time": "2022-11-25T08:43:41.160Z"
   },
   {
    "duration": 27,
    "start_time": "2022-11-25T08:43:41.180Z"
   },
   {
    "duration": 20,
    "start_time": "2022-11-25T08:43:41.209Z"
   },
   {
    "duration": 2068,
    "start_time": "2022-11-25T08:43:41.241Z"
   },
   {
    "duration": 5,
    "start_time": "2022-11-25T08:43:43.319Z"
   },
   {
    "duration": 17,
    "start_time": "2022-11-25T08:43:43.326Z"
   },
   {
    "duration": 8,
    "start_time": "2022-11-25T08:43:43.345Z"
   },
   {
    "duration": 4,
    "start_time": "2022-11-25T08:43:43.355Z"
   },
   {
    "duration": 6,
    "start_time": "2022-11-25T08:43:43.361Z"
   },
   {
    "duration": 21,
    "start_time": "2022-11-25T08:43:43.368Z"
   },
   {
    "duration": 4,
    "start_time": "2022-11-25T08:43:43.390Z"
   },
   {
    "duration": 6,
    "start_time": "2022-11-25T08:43:43.395Z"
   },
   {
    "duration": 402,
    "start_time": "2022-11-25T08:43:43.402Z"
   },
   {
    "duration": 421,
    "start_time": "2022-11-25T08:43:43.806Z"
   },
   {
    "duration": 404,
    "start_time": "2022-11-25T08:43:44.230Z"
   },
   {
    "duration": 797,
    "start_time": "2022-11-25T08:43:44.638Z"
   },
   {
    "duration": 7,
    "start_time": "2022-11-25T08:43:45.438Z"
   },
   {
    "duration": 18,
    "start_time": "2022-11-25T08:43:45.447Z"
   },
   {
    "duration": 354,
    "start_time": "2022-11-25T08:43:45.467Z"
   },
   {
    "duration": 36,
    "start_time": "2022-11-25T08:43:45.824Z"
   },
   {
    "duration": 336,
    "start_time": "2022-11-25T08:43:45.861Z"
   },
   {
    "duration": 3,
    "start_time": "2022-11-25T08:43:46.199Z"
   },
   {
    "duration": 22,
    "start_time": "2022-11-25T08:43:46.204Z"
   },
   {
    "duration": 20,
    "start_time": "2022-11-25T08:43:46.235Z"
   },
   {
    "duration": 2286,
    "start_time": "2022-11-25T08:43:46.257Z"
   },
   {
    "duration": 3171,
    "start_time": "2022-11-25T08:43:48.552Z"
   },
   {
    "duration": 3500,
    "start_time": "2022-11-25T08:43:51.747Z"
   },
   {
    "duration": 3310,
    "start_time": "2022-11-25T08:43:55.248Z"
   },
   {
    "duration": 17,
    "start_time": "2022-11-25T08:43:58.559Z"
   },
   {
    "duration": 760,
    "start_time": "2022-11-25T08:43:58.578Z"
   },
   {
    "duration": 992,
    "start_time": "2022-11-25T08:43:59.344Z"
   },
   {
    "duration": 10,
    "start_time": "2022-11-25T08:44:00.342Z"
   },
   {
    "duration": 3934,
    "start_time": "2022-11-25T08:55:09.359Z"
   },
   {
    "duration": 234179,
    "start_time": "2022-11-25T08:55:33.367Z"
   },
   {
    "duration": 463548,
    "start_time": "2022-11-25T09:00:29.830Z"
   },
   {
    "duration": 7820,
    "start_time": "2022-11-25T09:12:21.501Z"
   },
   {
    "duration": 3,
    "start_time": "2022-11-25T09:30:45.354Z"
   },
   {
    "duration": 9,
    "start_time": "2022-11-25T09:33:52.301Z"
   },
   {
    "duration": 10,
    "start_time": "2022-11-25T09:34:04.287Z"
   },
   {
    "duration": 172,
    "start_time": "2022-11-25T09:34:16.241Z"
   },
   {
    "duration": 1371,
    "start_time": "2022-11-25T09:35:58.296Z"
   },
   {
    "duration": 619,
    "start_time": "2022-11-25T09:35:59.669Z"
   },
   {
    "duration": 27,
    "start_time": "2022-11-25T09:36:00.290Z"
   },
   {
    "duration": 47,
    "start_time": "2022-11-25T09:36:00.320Z"
   },
   {
    "duration": 57,
    "start_time": "2022-11-25T09:36:00.369Z"
   },
   {
    "duration": 43,
    "start_time": "2022-11-25T09:36:00.428Z"
   },
   {
    "duration": 1952,
    "start_time": "2022-11-25T09:36:00.473Z"
   },
   {
    "duration": 4,
    "start_time": "2022-11-25T09:36:02.427Z"
   },
   {
    "duration": 21,
    "start_time": "2022-11-25T09:36:02.433Z"
   },
   {
    "duration": 5,
    "start_time": "2022-11-25T09:36:02.457Z"
   },
   {
    "duration": 5,
    "start_time": "2022-11-25T09:36:02.464Z"
   },
   {
    "duration": 4,
    "start_time": "2022-11-25T09:36:02.471Z"
   },
   {
    "duration": 38,
    "start_time": "2022-11-25T09:36:02.476Z"
   },
   {
    "duration": 3,
    "start_time": "2022-11-25T09:36:02.518Z"
   },
   {
    "duration": 14,
    "start_time": "2022-11-25T09:36:02.524Z"
   },
   {
    "duration": 354,
    "start_time": "2022-11-25T09:36:02.539Z"
   },
   {
    "duration": 433,
    "start_time": "2022-11-25T09:36:02.895Z"
   },
   {
    "duration": 370,
    "start_time": "2022-11-25T09:36:03.330Z"
   },
   {
    "duration": 643,
    "start_time": "2022-11-25T09:36:03.702Z"
   },
   {
    "duration": 5,
    "start_time": "2022-11-25T09:36:04.346Z"
   },
   {
    "duration": 7,
    "start_time": "2022-11-25T09:36:04.352Z"
   },
   {
    "duration": 363,
    "start_time": "2022-11-25T09:36:04.361Z"
   },
   {
    "duration": 37,
    "start_time": "2022-11-25T09:36:04.726Z"
   },
   {
    "duration": 444,
    "start_time": "2022-11-25T09:36:04.765Z"
   },
   {
    "duration": 4,
    "start_time": "2022-11-25T09:36:05.213Z"
   },
   {
    "duration": 13,
    "start_time": "2022-11-25T09:36:05.219Z"
   },
   {
    "duration": 5,
    "start_time": "2022-11-25T09:36:05.233Z"
   },
   {
    "duration": 2872,
    "start_time": "2022-11-25T09:36:05.241Z"
   },
   {
    "duration": 1101,
    "start_time": "2022-11-25T09:36:08.115Z"
   },
   {
    "duration": 3233,
    "start_time": "2022-11-25T09:36:09.218Z"
   },
   {
    "duration": 3003,
    "start_time": "2022-11-25T09:36:12.452Z"
   },
   {
    "duration": 7870,
    "start_time": "2022-11-25T09:36:15.456Z"
   },
   {
    "duration": 17,
    "start_time": "2022-11-25T09:36:23.328Z"
   },
   {
    "duration": 266,
    "start_time": "2022-11-25T09:36:23.347Z"
   },
   {
    "duration": 300,
    "start_time": "2022-11-25T09:36:23.615Z"
   },
   {
    "duration": 3,
    "start_time": "2022-11-25T09:36:23.918Z"
   },
   {
    "duration": 394,
    "start_time": "2022-11-25T09:36:23.923Z"
   },
   {
    "duration": 515,
    "start_time": "2022-11-25T09:36:51.757Z"
   },
   {
    "duration": 2035,
    "start_time": "2022-11-26T08:27:37.341Z"
   },
   {
    "duration": 645,
    "start_time": "2022-11-26T08:27:39.379Z"
   },
   {
    "duration": 25,
    "start_time": "2022-11-26T08:27:40.026Z"
   },
   {
    "duration": 34,
    "start_time": "2022-11-26T08:27:40.053Z"
   },
   {
    "duration": 19,
    "start_time": "2022-11-26T08:27:40.089Z"
   },
   {
    "duration": 29,
    "start_time": "2022-11-26T08:27:40.109Z"
   },
   {
    "duration": 1961,
    "start_time": "2022-11-26T08:27:40.140Z"
   },
   {
    "duration": 4,
    "start_time": "2022-11-26T08:27:42.103Z"
   },
   {
    "duration": 8,
    "start_time": "2022-11-26T08:27:42.109Z"
   },
   {
    "duration": 5,
    "start_time": "2022-11-26T08:27:42.120Z"
   },
   {
    "duration": 6,
    "start_time": "2022-11-26T08:27:42.127Z"
   },
   {
    "duration": 6,
    "start_time": "2022-11-26T08:27:42.135Z"
   },
   {
    "duration": 21,
    "start_time": "2022-11-26T08:27:42.143Z"
   },
   {
    "duration": 3,
    "start_time": "2022-11-26T08:27:42.165Z"
   },
   {
    "duration": 4,
    "start_time": "2022-11-26T08:27:42.177Z"
   },
   {
    "duration": 360,
    "start_time": "2022-11-26T08:27:42.182Z"
   },
   {
    "duration": 476,
    "start_time": "2022-11-26T08:27:42.544Z"
   },
   {
    "duration": 401,
    "start_time": "2022-11-26T08:27:43.022Z"
   },
   {
    "duration": 573,
    "start_time": "2022-11-26T08:27:43.425Z"
   },
   {
    "duration": 5,
    "start_time": "2022-11-26T08:27:44.000Z"
   },
   {
    "duration": 11,
    "start_time": "2022-11-26T08:27:44.008Z"
   },
   {
    "duration": 330,
    "start_time": "2022-11-26T08:27:44.021Z"
   },
   {
    "duration": 0,
    "start_time": "2022-11-26T08:27:44.352Z"
   },
   {
    "duration": 0,
    "start_time": "2022-11-26T08:27:44.353Z"
   },
   {
    "duration": 0,
    "start_time": "2022-11-26T08:27:44.354Z"
   },
   {
    "duration": 0,
    "start_time": "2022-11-26T08:27:44.356Z"
   },
   {
    "duration": 1,
    "start_time": "2022-11-26T08:27:44.356Z"
   },
   {
    "duration": 178,
    "start_time": "2022-11-26T08:29:02.430Z"
   },
   {
    "duration": 3,
    "start_time": "2022-11-26T08:29:06.512Z"
   },
   {
    "duration": 379,
    "start_time": "2022-11-26T08:29:08.496Z"
   },
   {
    "duration": 3,
    "start_time": "2022-11-26T08:30:38.190Z"
   },
   {
    "duration": 289,
    "start_time": "2022-11-26T08:30:40.078Z"
   },
   {
    "duration": 37,
    "start_time": "2022-11-26T08:30:46.164Z"
   },
   {
    "duration": 284,
    "start_time": "2022-11-26T08:30:47.216Z"
   },
   {
    "duration": 3,
    "start_time": "2022-11-26T08:32:16.563Z"
   },
   {
    "duration": 279,
    "start_time": "2022-11-26T08:32:18.190Z"
   },
   {
    "duration": 22,
    "start_time": "2022-11-26T08:32:24.010Z"
   },
   {
    "duration": 309,
    "start_time": "2022-11-26T08:32:24.848Z"
   },
   {
    "duration": 15,
    "start_time": "2022-11-26T08:32:46.507Z"
   },
   {
    "duration": 306,
    "start_time": "2022-11-26T08:32:47.322Z"
   },
   {
    "duration": 3114,
    "start_time": "2022-11-26T08:33:06.582Z"
   },
   {
    "duration": 646,
    "start_time": "2022-11-26T08:33:09.697Z"
   },
   {
    "duration": 21,
    "start_time": "2022-11-26T08:33:10.344Z"
   },
   {
    "duration": 34,
    "start_time": "2022-11-26T08:33:10.367Z"
   },
   {
    "duration": 34,
    "start_time": "2022-11-26T08:33:10.403Z"
   },
   {
    "duration": 14,
    "start_time": "2022-11-26T08:33:10.439Z"
   },
   {
    "duration": 1878,
    "start_time": "2022-11-26T08:33:10.455Z"
   },
   {
    "duration": 3,
    "start_time": "2022-11-26T08:33:12.335Z"
   },
   {
    "duration": 8,
    "start_time": "2022-11-26T08:33:12.339Z"
   },
   {
    "duration": 6,
    "start_time": "2022-11-26T08:33:12.349Z"
   },
   {
    "duration": 4,
    "start_time": "2022-11-26T08:33:12.356Z"
   },
   {
    "duration": 7,
    "start_time": "2022-11-26T08:33:12.362Z"
   },
   {
    "duration": 26,
    "start_time": "2022-11-26T08:33:12.370Z"
   },
   {
    "duration": 5,
    "start_time": "2022-11-26T08:33:12.397Z"
   },
   {
    "duration": 6,
    "start_time": "2022-11-26T08:33:12.403Z"
   },
   {
    "duration": 349,
    "start_time": "2022-11-26T08:33:12.410Z"
   },
   {
    "duration": 509,
    "start_time": "2022-11-26T08:33:12.761Z"
   },
   {
    "duration": 393,
    "start_time": "2022-11-26T08:33:13.271Z"
   },
   {
    "duration": 700,
    "start_time": "2022-11-26T08:33:13.665Z"
   },
   {
    "duration": 4,
    "start_time": "2022-11-26T08:33:14.367Z"
   },
   {
    "duration": 7,
    "start_time": "2022-11-26T08:33:14.380Z"
   },
   {
    "duration": 284,
    "start_time": "2022-11-26T08:33:14.389Z"
   },
   {
    "duration": 40,
    "start_time": "2022-11-26T08:33:14.674Z"
   },
   {
    "duration": 435,
    "start_time": "2022-11-26T08:33:14.716Z"
   },
   {
    "duration": 3,
    "start_time": "2022-11-26T08:33:15.152Z"
   },
   {
    "duration": 25,
    "start_time": "2022-11-26T08:33:15.157Z"
   },
   {
    "duration": 9,
    "start_time": "2022-11-26T08:33:15.183Z"
   },
   {
    "duration": 16,
    "start_time": "2022-11-26T08:38:52.801Z"
   },
   {
    "duration": 98,
    "start_time": "2022-11-26T08:39:01.104Z"
   },
   {
    "duration": 13,
    "start_time": "2022-11-26T08:39:16.718Z"
   },
   {
    "duration": 7,
    "start_time": "2022-11-26T08:39:32.654Z"
   },
   {
    "duration": 7,
    "start_time": "2022-11-26T08:40:40.166Z"
   },
   {
    "duration": 3,
    "start_time": "2022-11-26T08:40:40.795Z"
   }
  ],
  "colab": {
   "provenance": []
  },
  "kernelspec": {
   "display_name": "Python 3 (ipykernel)",
   "language": "python",
   "name": "python3"
  },
  "language_info": {
   "codemirror_mode": {
    "name": "ipython",
    "version": 3
   },
   "file_extension": ".py",
   "mimetype": "text/x-python",
   "name": "python",
   "nbconvert_exporter": "python",
   "pygments_lexer": "ipython3",
   "version": "3.9.12"
  },
  "toc": {
   "base_numbering": 1,
   "nav_menu": {},
   "number_sections": true,
   "sideBar": true,
   "skip_h1_title": true,
   "title_cell": "Содержание",
   "title_sidebar": "Contents",
   "toc_cell": true,
   "toc_position": {},
   "toc_section_display": true,
   "toc_window_display": true
  }
 },
 "nbformat": 4,
 "nbformat_minor": 4
}
