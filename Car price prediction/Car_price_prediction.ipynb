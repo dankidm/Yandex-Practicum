{
 "cells": [
  {
   "cell_type": "markdown",
   "metadata": {
    "id": "1sihRZSonjS-"
   },
   "source": [
    "# Определение стоимости автомобилей"
   ]
  },
  {
   "cell_type": "markdown",
   "metadata": {
    "id": "EZFAI_c9njTB"
   },
   "source": [
    "Сервис по продаже автомобилей с пробегом «Не бит, не крашен» разрабатывает приложение для привлечения новых клиентов. В нём можно быстро узнать рыночную стоимость своего автомобиля. В нашем распоряжении исторические данные: технические характеристики, комплектации и цены автомобилей. Вам нужно построить модель для определения стоимости. \n",
    "\n",
    "Заказчику важны:\n",
    "\n",
    "- качество предсказания;\n",
    "- скорость предсказания;\n",
    "- время обучения."
   ]
  },
  {
   "cell_type": "markdown",
   "metadata": {
    "id": "aFsJCsi4njTC"
   },
   "source": [
    "## Подготовка данных"
   ]
  },
  {
   "cell_type": "code",
   "execution_count": 16,
   "metadata": {
    "id": "pQaQXJ4_njTC"
   },
   "outputs": [],
   "source": [
    "import pandas as pd\n",
    "import numpy as np\n",
    "\n",
    "from lightgbm import LGBMRegressor\n",
    "\n",
    "from catboost import CatBoostRegressor\n",
    "\n",
    "from sklearn.preprocessing import OneHotEncoder, StandardScaler\n",
    "from sklearn.model_selection import train_test_split, GridSearchCV, cross_val_score\n",
    "from sklearn.compose import ColumnTransformer\n",
    "from sklearn.pipeline import Pipeline\n",
    "from sklearn.metrics import mean_squared_error, make_scorer\n",
    "from sklearn.linear_model import LinearRegression\n",
    "from sklearn.ensemble import GradientBoostingRegressor"
   ]
  },
  {
   "cell_type": "code",
   "execution_count": 17,
   "metadata": {
    "id": "nYEr7D0JnjTD"
   },
   "outputs": [],
   "source": [
    "import warnings\n",
    "warnings.filterwarnings('ignore')"
   ]
  },
  {
   "cell_type": "code",
   "execution_count": 18,
   "metadata": {
    "id": "KVHvd4IvnjTE"
   },
   "outputs": [],
   "source": [
    "df = pd.read_csv('autos.csv')"
   ]
  },
  {
   "cell_type": "code",
   "execution_count": 19,
   "metadata": {
    "colab": {
     "base_uri": "https://localhost:8080/",
     "height": 443
    },
    "id": "qfvm95GrnjTE",
    "outputId": "cc3bd75f-3250-4f93-8927-4296d21753f7"
   },
   "outputs": [
    {
     "data": {
      "text/html": [
       "\n",
       "  <div id=\"df-2c8aa5fc-de53-4d87-8fc6-de48d73d5776\">\n",
       "    <div class=\"colab-df-container\">\n",
       "      <div>\n",
       "<style scoped>\n",
       "    .dataframe tbody tr th:only-of-type {\n",
       "        vertical-align: middle;\n",
       "    }\n",
       "\n",
       "    .dataframe tbody tr th {\n",
       "        vertical-align: top;\n",
       "    }\n",
       "\n",
       "    .dataframe thead th {\n",
       "        text-align: right;\n",
       "    }\n",
       "</style>\n",
       "<table border=\"1\" class=\"dataframe\">\n",
       "  <thead>\n",
       "    <tr style=\"text-align: right;\">\n",
       "      <th></th>\n",
       "      <th>DateCrawled</th>\n",
       "      <th>Price</th>\n",
       "      <th>VehicleType</th>\n",
       "      <th>RegistrationYear</th>\n",
       "      <th>Gearbox</th>\n",
       "      <th>Power</th>\n",
       "      <th>Model</th>\n",
       "      <th>Kilometer</th>\n",
       "      <th>RegistrationMonth</th>\n",
       "      <th>FuelType</th>\n",
       "      <th>Brand</th>\n",
       "      <th>Repaired</th>\n",
       "      <th>DateCreated</th>\n",
       "      <th>NumberOfPictures</th>\n",
       "      <th>PostalCode</th>\n",
       "      <th>LastSeen</th>\n",
       "    </tr>\n",
       "  </thead>\n",
       "  <tbody>\n",
       "    <tr>\n",
       "      <th>0</th>\n",
       "      <td>2016-03-24 11:52:17</td>\n",
       "      <td>480</td>\n",
       "      <td>NaN</td>\n",
       "      <td>1993</td>\n",
       "      <td>manual</td>\n",
       "      <td>0</td>\n",
       "      <td>golf</td>\n",
       "      <td>150000</td>\n",
       "      <td>0</td>\n",
       "      <td>petrol</td>\n",
       "      <td>volkswagen</td>\n",
       "      <td>NaN</td>\n",
       "      <td>2016-03-24 00:00:00</td>\n",
       "      <td>0</td>\n",
       "      <td>70435</td>\n",
       "      <td>2016-04-07 03:16:57</td>\n",
       "    </tr>\n",
       "    <tr>\n",
       "      <th>1</th>\n",
       "      <td>2016-03-24 10:58:45</td>\n",
       "      <td>18300</td>\n",
       "      <td>coupe</td>\n",
       "      <td>2011</td>\n",
       "      <td>manual</td>\n",
       "      <td>190</td>\n",
       "      <td>NaN</td>\n",
       "      <td>125000</td>\n",
       "      <td>5</td>\n",
       "      <td>gasoline</td>\n",
       "      <td>audi</td>\n",
       "      <td>yes</td>\n",
       "      <td>2016-03-24 00:00:00</td>\n",
       "      <td>0</td>\n",
       "      <td>66954</td>\n",
       "      <td>2016-04-07 01:46:50</td>\n",
       "    </tr>\n",
       "    <tr>\n",
       "      <th>2</th>\n",
       "      <td>2016-03-14 12:52:21</td>\n",
       "      <td>9800</td>\n",
       "      <td>suv</td>\n",
       "      <td>2004</td>\n",
       "      <td>auto</td>\n",
       "      <td>163</td>\n",
       "      <td>grand</td>\n",
       "      <td>125000</td>\n",
       "      <td>8</td>\n",
       "      <td>gasoline</td>\n",
       "      <td>jeep</td>\n",
       "      <td>NaN</td>\n",
       "      <td>2016-03-14 00:00:00</td>\n",
       "      <td>0</td>\n",
       "      <td>90480</td>\n",
       "      <td>2016-04-05 12:47:46</td>\n",
       "    </tr>\n",
       "    <tr>\n",
       "      <th>3</th>\n",
       "      <td>2016-03-17 16:54:04</td>\n",
       "      <td>1500</td>\n",
       "      <td>small</td>\n",
       "      <td>2001</td>\n",
       "      <td>manual</td>\n",
       "      <td>75</td>\n",
       "      <td>golf</td>\n",
       "      <td>150000</td>\n",
       "      <td>6</td>\n",
       "      <td>petrol</td>\n",
       "      <td>volkswagen</td>\n",
       "      <td>no</td>\n",
       "      <td>2016-03-17 00:00:00</td>\n",
       "      <td>0</td>\n",
       "      <td>91074</td>\n",
       "      <td>2016-03-17 17:40:17</td>\n",
       "    </tr>\n",
       "    <tr>\n",
       "      <th>4</th>\n",
       "      <td>2016-03-31 17:25:20</td>\n",
       "      <td>3600</td>\n",
       "      <td>small</td>\n",
       "      <td>2008</td>\n",
       "      <td>manual</td>\n",
       "      <td>69</td>\n",
       "      <td>fabia</td>\n",
       "      <td>90000</td>\n",
       "      <td>7</td>\n",
       "      <td>gasoline</td>\n",
       "      <td>skoda</td>\n",
       "      <td>no</td>\n",
       "      <td>2016-03-31 00:00:00</td>\n",
       "      <td>0</td>\n",
       "      <td>60437</td>\n",
       "      <td>2016-04-06 10:17:21</td>\n",
       "    </tr>\n",
       "  </tbody>\n",
       "</table>\n",
       "</div>\n",
       "      <button class=\"colab-df-convert\" onclick=\"convertToInteractive('df-2c8aa5fc-de53-4d87-8fc6-de48d73d5776')\"\n",
       "              title=\"Convert this dataframe to an interactive table.\"\n",
       "              style=\"display:none;\">\n",
       "        \n",
       "  <svg xmlns=\"http://www.w3.org/2000/svg\" height=\"24px\"viewBox=\"0 0 24 24\"\n",
       "       width=\"24px\">\n",
       "    <path d=\"M0 0h24v24H0V0z\" fill=\"none\"/>\n",
       "    <path d=\"M18.56 5.44l.94 2.06.94-2.06 2.06-.94-2.06-.94-.94-2.06-.94 2.06-2.06.94zm-11 1L8.5 8.5l.94-2.06 2.06-.94-2.06-.94L8.5 2.5l-.94 2.06-2.06.94zm10 10l.94 2.06.94-2.06 2.06-.94-2.06-.94-.94-2.06-.94 2.06-2.06.94z\"/><path d=\"M17.41 7.96l-1.37-1.37c-.4-.4-.92-.59-1.43-.59-.52 0-1.04.2-1.43.59L10.3 9.45l-7.72 7.72c-.78.78-.78 2.05 0 2.83L4 21.41c.39.39.9.59 1.41.59.51 0 1.02-.2 1.41-.59l7.78-7.78 2.81-2.81c.8-.78.8-2.07 0-2.86zM5.41 20L4 18.59l7.72-7.72 1.47 1.35L5.41 20z\"/>\n",
       "  </svg>\n",
       "      </button>\n",
       "      \n",
       "  <style>\n",
       "    .colab-df-container {\n",
       "      display:flex;\n",
       "      flex-wrap:wrap;\n",
       "      gap: 12px;\n",
       "    }\n",
       "\n",
       "    .colab-df-convert {\n",
       "      background-color: #E8F0FE;\n",
       "      border: none;\n",
       "      border-radius: 50%;\n",
       "      cursor: pointer;\n",
       "      display: none;\n",
       "      fill: #1967D2;\n",
       "      height: 32px;\n",
       "      padding: 0 0 0 0;\n",
       "      width: 32px;\n",
       "    }\n",
       "\n",
       "    .colab-df-convert:hover {\n",
       "      background-color: #E2EBFA;\n",
       "      box-shadow: 0px 1px 2px rgba(60, 64, 67, 0.3), 0px 1px 3px 1px rgba(60, 64, 67, 0.15);\n",
       "      fill: #174EA6;\n",
       "    }\n",
       "\n",
       "    [theme=dark] .colab-df-convert {\n",
       "      background-color: #3B4455;\n",
       "      fill: #D2E3FC;\n",
       "    }\n",
       "\n",
       "    [theme=dark] .colab-df-convert:hover {\n",
       "      background-color: #434B5C;\n",
       "      box-shadow: 0px 1px 3px 1px rgba(0, 0, 0, 0.15);\n",
       "      filter: drop-shadow(0px 1px 2px rgba(0, 0, 0, 0.3));\n",
       "      fill: #FFFFFF;\n",
       "    }\n",
       "  </style>\n",
       "\n",
       "      <script>\n",
       "        const buttonEl =\n",
       "          document.querySelector('#df-2c8aa5fc-de53-4d87-8fc6-de48d73d5776 button.colab-df-convert');\n",
       "        buttonEl.style.display =\n",
       "          google.colab.kernel.accessAllowed ? 'block' : 'none';\n",
       "\n",
       "        async function convertToInteractive(key) {\n",
       "          const element = document.querySelector('#df-2c8aa5fc-de53-4d87-8fc6-de48d73d5776');\n",
       "          const dataTable =\n",
       "            await google.colab.kernel.invokeFunction('convertToInteractive',\n",
       "                                                     [key], {});\n",
       "          if (!dataTable) return;\n",
       "\n",
       "          const docLinkHtml = 'Like what you see? Visit the ' +\n",
       "            '<a target=\"_blank\" href=https://colab.research.google.com/notebooks/data_table.ipynb>data table notebook</a>'\n",
       "            + ' to learn more about interactive tables.';\n",
       "          element.innerHTML = '';\n",
       "          dataTable['output_type'] = 'display_data';\n",
       "          await google.colab.output.renderOutput(dataTable, element);\n",
       "          const docLink = document.createElement('div');\n",
       "          docLink.innerHTML = docLinkHtml;\n",
       "          element.appendChild(docLink);\n",
       "        }\n",
       "      </script>\n",
       "    </div>\n",
       "  </div>\n",
       "  "
      ],
      "text/plain": [
       "           DateCrawled  Price VehicleType  RegistrationYear Gearbox  Power  \\\n",
       "0  2016-03-24 11:52:17    480         NaN              1993  manual      0   \n",
       "1  2016-03-24 10:58:45  18300       coupe              2011  manual    190   \n",
       "2  2016-03-14 12:52:21   9800         suv              2004    auto    163   \n",
       "3  2016-03-17 16:54:04   1500       small              2001  manual     75   \n",
       "4  2016-03-31 17:25:20   3600       small              2008  manual     69   \n",
       "\n",
       "   Model  Kilometer  RegistrationMonth  FuelType       Brand Repaired  \\\n",
       "0   golf     150000                  0    petrol  volkswagen      NaN   \n",
       "1    NaN     125000                  5  gasoline        audi      yes   \n",
       "2  grand     125000                  8  gasoline        jeep      NaN   \n",
       "3   golf     150000                  6    petrol  volkswagen       no   \n",
       "4  fabia      90000                  7  gasoline       skoda       no   \n",
       "\n",
       "           DateCreated  NumberOfPictures  PostalCode             LastSeen  \n",
       "0  2016-03-24 00:00:00                 0       70435  2016-04-07 03:16:57  \n",
       "1  2016-03-24 00:00:00                 0       66954  2016-04-07 01:46:50  \n",
       "2  2016-03-14 00:00:00                 0       90480  2016-04-05 12:47:46  \n",
       "3  2016-03-17 00:00:00                 0       91074  2016-03-17 17:40:17  \n",
       "4  2016-03-31 00:00:00                 0       60437  2016-04-06 10:17:21  "
      ]
     },
     "execution_count": 19,
     "metadata": {},
     "output_type": "execute_result"
    }
   ],
   "source": [
    "df.head()"
   ]
  },
  {
   "cell_type": "markdown",
   "metadata": {
    "id": "i7zUAVjqnjTE"
   },
   "source": [
    "**Признаки:** <br>\n",
    "DateCrawled — дата скачивания анкеты из базы <br>\n",
    "VehicleType — тип автомобильного кузова <br>\n",
    "RegistrationYear — год регистрации автомобиля <br>\n",
    "Gearbox — тип коробки передач <br>\n",
    "Power — мощность (л. с.) <br>\n",
    "Model — модель автомобиля <br>\n",
    "Kilometer — пробег (км) <br>\n",
    "RegistrationMonth — месяц регистрации автомобиля <br>\n",
    "FuelType — тип топлива <br>\n",
    "Brand — марка автомобиля <br>\n",
    "Repaired — была машина в ремонте или нет <br>\n",
    "DateCreated — дата создания анкеты <br>\n",
    "NumberOfPictures — количество фотографий автомобиля <br>\n",
    "PostalCode — почтовый индекс владельца анкеты (пользователя) <br>\n",
    "LastSeen — дата последней активности пользователя <br>\n",
    "\n",
    "**Целевой признак** <br>\n",
    "Price — цена (евро) <br>"
   ]
  },
  {
   "cell_type": "code",
   "execution_count": 20,
   "metadata": {
    "colab": {
     "base_uri": "https://localhost:8080/"
    },
    "id": "RYgV5q9qnjTF",
    "outputId": "e84ae592-8bf3-429c-bcfa-5899b3e91a88"
   },
   "outputs": [
    {
     "name": "stdout",
     "output_type": "stream",
     "text": [
      "<class 'pandas.core.frame.DataFrame'>\n",
      "RangeIndex: 354369 entries, 0 to 354368\n",
      "Data columns (total 16 columns):\n",
      " #   Column             Non-Null Count   Dtype \n",
      "---  ------             --------------   ----- \n",
      " 0   DateCrawled        354369 non-null  object\n",
      " 1   Price              354369 non-null  int64 \n",
      " 2   VehicleType        316879 non-null  object\n",
      " 3   RegistrationYear   354369 non-null  int64 \n",
      " 4   Gearbox            334536 non-null  object\n",
      " 5   Power              354369 non-null  int64 \n",
      " 6   Model              334664 non-null  object\n",
      " 7   Kilometer          354369 non-null  int64 \n",
      " 8   RegistrationMonth  354369 non-null  int64 \n",
      " 9   FuelType           321474 non-null  object\n",
      " 10  Brand              354369 non-null  object\n",
      " 11  Repaired           283215 non-null  object\n",
      " 12  DateCreated        354369 non-null  object\n",
      " 13  NumberOfPictures   354369 non-null  int64 \n",
      " 14  PostalCode         354369 non-null  int64 \n",
      " 15  LastSeen           354369 non-null  object\n",
      "dtypes: int64(7), object(9)\n",
      "memory usage: 43.3+ MB\n"
     ]
    }
   ],
   "source": [
    "df.info()"
   ]
  },
  {
   "cell_type": "code",
   "execution_count": 21,
   "metadata": {
    "colab": {
     "base_uri": "https://localhost:8080/",
     "height": 300
    },
    "id": "aJWFV9nfnjTF",
    "outputId": "69f37f09-c834-4c6d-ba8d-1432ff73710d"
   },
   "outputs": [
    {
     "data": {
      "text/html": [
       "\n",
       "  <div id=\"df-e8124a13-237d-4ece-89ca-7d12cf49bf00\">\n",
       "    <div class=\"colab-df-container\">\n",
       "      <div>\n",
       "<style scoped>\n",
       "    .dataframe tbody tr th:only-of-type {\n",
       "        vertical-align: middle;\n",
       "    }\n",
       "\n",
       "    .dataframe tbody tr th {\n",
       "        vertical-align: top;\n",
       "    }\n",
       "\n",
       "    .dataframe thead th {\n",
       "        text-align: right;\n",
       "    }\n",
       "</style>\n",
       "<table border=\"1\" class=\"dataframe\">\n",
       "  <thead>\n",
       "    <tr style=\"text-align: right;\">\n",
       "      <th></th>\n",
       "      <th>Price</th>\n",
       "      <th>RegistrationYear</th>\n",
       "      <th>Power</th>\n",
       "      <th>Kilometer</th>\n",
       "      <th>RegistrationMonth</th>\n",
       "      <th>NumberOfPictures</th>\n",
       "      <th>PostalCode</th>\n",
       "    </tr>\n",
       "  </thead>\n",
       "  <tbody>\n",
       "    <tr>\n",
       "      <th>count</th>\n",
       "      <td>354369.000000</td>\n",
       "      <td>354369.000000</td>\n",
       "      <td>354369.000000</td>\n",
       "      <td>354369.000000</td>\n",
       "      <td>354369.000000</td>\n",
       "      <td>354369.0</td>\n",
       "      <td>354369.000000</td>\n",
       "    </tr>\n",
       "    <tr>\n",
       "      <th>mean</th>\n",
       "      <td>4416.656776</td>\n",
       "      <td>2004.234448</td>\n",
       "      <td>110.094337</td>\n",
       "      <td>128211.172535</td>\n",
       "      <td>5.714645</td>\n",
       "      <td>0.0</td>\n",
       "      <td>50508.689087</td>\n",
       "    </tr>\n",
       "    <tr>\n",
       "      <th>std</th>\n",
       "      <td>4514.158514</td>\n",
       "      <td>90.227958</td>\n",
       "      <td>189.850405</td>\n",
       "      <td>37905.341530</td>\n",
       "      <td>3.726421</td>\n",
       "      <td>0.0</td>\n",
       "      <td>25783.096248</td>\n",
       "    </tr>\n",
       "    <tr>\n",
       "      <th>min</th>\n",
       "      <td>0.000000</td>\n",
       "      <td>1000.000000</td>\n",
       "      <td>0.000000</td>\n",
       "      <td>5000.000000</td>\n",
       "      <td>0.000000</td>\n",
       "      <td>0.0</td>\n",
       "      <td>1067.000000</td>\n",
       "    </tr>\n",
       "    <tr>\n",
       "      <th>25%</th>\n",
       "      <td>1050.000000</td>\n",
       "      <td>1999.000000</td>\n",
       "      <td>69.000000</td>\n",
       "      <td>125000.000000</td>\n",
       "      <td>3.000000</td>\n",
       "      <td>0.0</td>\n",
       "      <td>30165.000000</td>\n",
       "    </tr>\n",
       "    <tr>\n",
       "      <th>50%</th>\n",
       "      <td>2700.000000</td>\n",
       "      <td>2003.000000</td>\n",
       "      <td>105.000000</td>\n",
       "      <td>150000.000000</td>\n",
       "      <td>6.000000</td>\n",
       "      <td>0.0</td>\n",
       "      <td>49413.000000</td>\n",
       "    </tr>\n",
       "    <tr>\n",
       "      <th>75%</th>\n",
       "      <td>6400.000000</td>\n",
       "      <td>2008.000000</td>\n",
       "      <td>143.000000</td>\n",
       "      <td>150000.000000</td>\n",
       "      <td>9.000000</td>\n",
       "      <td>0.0</td>\n",
       "      <td>71083.000000</td>\n",
       "    </tr>\n",
       "    <tr>\n",
       "      <th>max</th>\n",
       "      <td>20000.000000</td>\n",
       "      <td>9999.000000</td>\n",
       "      <td>20000.000000</td>\n",
       "      <td>150000.000000</td>\n",
       "      <td>12.000000</td>\n",
       "      <td>0.0</td>\n",
       "      <td>99998.000000</td>\n",
       "    </tr>\n",
       "  </tbody>\n",
       "</table>\n",
       "</div>\n",
       "      <button class=\"colab-df-convert\" onclick=\"convertToInteractive('df-e8124a13-237d-4ece-89ca-7d12cf49bf00')\"\n",
       "              title=\"Convert this dataframe to an interactive table.\"\n",
       "              style=\"display:none;\">\n",
       "        \n",
       "  <svg xmlns=\"http://www.w3.org/2000/svg\" height=\"24px\"viewBox=\"0 0 24 24\"\n",
       "       width=\"24px\">\n",
       "    <path d=\"M0 0h24v24H0V0z\" fill=\"none\"/>\n",
       "    <path d=\"M18.56 5.44l.94 2.06.94-2.06 2.06-.94-2.06-.94-.94-2.06-.94 2.06-2.06.94zm-11 1L8.5 8.5l.94-2.06 2.06-.94-2.06-.94L8.5 2.5l-.94 2.06-2.06.94zm10 10l.94 2.06.94-2.06 2.06-.94-2.06-.94-.94-2.06-.94 2.06-2.06.94z\"/><path d=\"M17.41 7.96l-1.37-1.37c-.4-.4-.92-.59-1.43-.59-.52 0-1.04.2-1.43.59L10.3 9.45l-7.72 7.72c-.78.78-.78 2.05 0 2.83L4 21.41c.39.39.9.59 1.41.59.51 0 1.02-.2 1.41-.59l7.78-7.78 2.81-2.81c.8-.78.8-2.07 0-2.86zM5.41 20L4 18.59l7.72-7.72 1.47 1.35L5.41 20z\"/>\n",
       "  </svg>\n",
       "      </button>\n",
       "      \n",
       "  <style>\n",
       "    .colab-df-container {\n",
       "      display:flex;\n",
       "      flex-wrap:wrap;\n",
       "      gap: 12px;\n",
       "    }\n",
       "\n",
       "    .colab-df-convert {\n",
       "      background-color: #E8F0FE;\n",
       "      border: none;\n",
       "      border-radius: 50%;\n",
       "      cursor: pointer;\n",
       "      display: none;\n",
       "      fill: #1967D2;\n",
       "      height: 32px;\n",
       "      padding: 0 0 0 0;\n",
       "      width: 32px;\n",
       "    }\n",
       "\n",
       "    .colab-df-convert:hover {\n",
       "      background-color: #E2EBFA;\n",
       "      box-shadow: 0px 1px 2px rgba(60, 64, 67, 0.3), 0px 1px 3px 1px rgba(60, 64, 67, 0.15);\n",
       "      fill: #174EA6;\n",
       "    }\n",
       "\n",
       "    [theme=dark] .colab-df-convert {\n",
       "      background-color: #3B4455;\n",
       "      fill: #D2E3FC;\n",
       "    }\n",
       "\n",
       "    [theme=dark] .colab-df-convert:hover {\n",
       "      background-color: #434B5C;\n",
       "      box-shadow: 0px 1px 3px 1px rgba(0, 0, 0, 0.15);\n",
       "      filter: drop-shadow(0px 1px 2px rgba(0, 0, 0, 0.3));\n",
       "      fill: #FFFFFF;\n",
       "    }\n",
       "  </style>\n",
       "\n",
       "      <script>\n",
       "        const buttonEl =\n",
       "          document.querySelector('#df-e8124a13-237d-4ece-89ca-7d12cf49bf00 button.colab-df-convert');\n",
       "        buttonEl.style.display =\n",
       "          google.colab.kernel.accessAllowed ? 'block' : 'none';\n",
       "\n",
       "        async function convertToInteractive(key) {\n",
       "          const element = document.querySelector('#df-e8124a13-237d-4ece-89ca-7d12cf49bf00');\n",
       "          const dataTable =\n",
       "            await google.colab.kernel.invokeFunction('convertToInteractive',\n",
       "                                                     [key], {});\n",
       "          if (!dataTable) return;\n",
       "\n",
       "          const docLinkHtml = 'Like what you see? Visit the ' +\n",
       "            '<a target=\"_blank\" href=https://colab.research.google.com/notebooks/data_table.ipynb>data table notebook</a>'\n",
       "            + ' to learn more about interactive tables.';\n",
       "          element.innerHTML = '';\n",
       "          dataTable['output_type'] = 'display_data';\n",
       "          await google.colab.output.renderOutput(dataTable, element);\n",
       "          const docLink = document.createElement('div');\n",
       "          docLink.innerHTML = docLinkHtml;\n",
       "          element.appendChild(docLink);\n",
       "        }\n",
       "      </script>\n",
       "    </div>\n",
       "  </div>\n",
       "  "
      ],
      "text/plain": [
       "               Price  RegistrationYear          Power      Kilometer  \\\n",
       "count  354369.000000     354369.000000  354369.000000  354369.000000   \n",
       "mean     4416.656776       2004.234448     110.094337  128211.172535   \n",
       "std      4514.158514         90.227958     189.850405   37905.341530   \n",
       "min         0.000000       1000.000000       0.000000    5000.000000   \n",
       "25%      1050.000000       1999.000000      69.000000  125000.000000   \n",
       "50%      2700.000000       2003.000000     105.000000  150000.000000   \n",
       "75%      6400.000000       2008.000000     143.000000  150000.000000   \n",
       "max     20000.000000       9999.000000   20000.000000  150000.000000   \n",
       "\n",
       "       RegistrationMonth  NumberOfPictures     PostalCode  \n",
       "count      354369.000000          354369.0  354369.000000  \n",
       "mean            5.714645               0.0   50508.689087  \n",
       "std             3.726421               0.0   25783.096248  \n",
       "min             0.000000               0.0    1067.000000  \n",
       "25%             3.000000               0.0   30165.000000  \n",
       "50%             6.000000               0.0   49413.000000  \n",
       "75%             9.000000               0.0   71083.000000  \n",
       "max            12.000000               0.0   99998.000000  "
      ]
     },
     "execution_count": 21,
     "metadata": {},
     "output_type": "execute_result"
    }
   ],
   "source": [
    "df.describe()"
   ]
  },
  {
   "cell_type": "markdown",
   "metadata": {
    "id": "jZDg2bW0njTF"
   },
   "source": [
    "> **Удаляем машины которые стоят меньше 200 евро (возможно эти машины неисправны и выставляют их на металлалом/запчасти)**"
   ]
  },
  {
   "cell_type": "code",
   "execution_count": 22,
   "metadata": {
    "id": "t5CQyeFZnjTG"
   },
   "outputs": [],
   "source": [
    "df = df.loc[df['Price'] > 200]"
   ]
  },
  {
   "cell_type": "markdown",
   "metadata": {
    "id": "fIe6yBs3njTG"
   },
   "source": [
    "> **Удаляем неинформативные столбцы**"
   ]
  },
  {
   "cell_type": "code",
   "execution_count": 23,
   "metadata": {
    "id": "UzBD1pn9njTG"
   },
   "outputs": [],
   "source": [
    "df = df.drop(['RegistrationMonth', 'DateCrawled', 'DateCreated', \n",
    "              'FuelType', 'PostalCode', 'LastSeen', 'NumberOfPictures'], axis=1)"
   ]
  },
  {
   "cell_type": "code",
   "execution_count": 24,
   "metadata": {
    "colab": {
     "base_uri": "https://localhost:8080/"
    },
    "id": "ZV-qjMMUnjTG",
    "outputId": "d42eb37b-df49-4435-8af0-4fe8d6a54d26"
   },
   "outputs": [
    {
     "data": {
      "text/plain": [
       "Price                   0\n",
       "VehicleType         30870\n",
       "RegistrationYear        0\n",
       "Gearbox             15274\n",
       "Power                   0\n",
       "Model               16364\n",
       "Kilometer               0\n",
       "Brand                   0\n",
       "Repaired            61605\n",
       "dtype: int64"
      ]
     },
     "execution_count": 24,
     "metadata": {},
     "output_type": "execute_result"
    }
   ],
   "source": [
    "df.isnull().sum()"
   ]
  },
  {
   "cell_type": "markdown",
   "metadata": {
    "id": "uWgAE5IVnjTG"
   },
   "source": [
    "> **Удаляю все строки с пропусками (использовал imputer'ы, но удаление сказывается на финальной метрике лучше)**"
   ]
  },
  {
   "cell_type": "markdown",
   "metadata": {
    "id": "D-SCXmUInjTH"
   },
   "source": [
    "> **Оставляем строки год регистрации которых меньше 2016 (текущий для датасета) и мощность машины от 30 до 200 л.с.**"
   ]
  },
  {
   "cell_type": "code",
   "execution_count": 25,
   "metadata": {
    "id": "9Y1UVFOinjTH"
   },
   "outputs": [],
   "source": [
    "df = df.loc[df['RegistrationYear'] < 2016]"
   ]
  },
  {
   "cell_type": "code",
   "execution_count": 26,
   "metadata": {
    "id": "lscrEpA6njTI"
   },
   "outputs": [],
   "source": [
    "df = df.loc[df['Power'] < 200]\n",
    "df = df.loc[df['Power'] > 30]"
   ]
  },
  {
   "cell_type": "code",
   "execution_count": 27,
   "metadata": {
    "colab": {
     "base_uri": "https://localhost:8080/"
    },
    "id": "yj34kJLbnjTI",
    "outputId": "f0df6b45-0276-4e10-fbc2-cd5c2623d17b",
    "scrolled": true
   },
   "outputs": [
    {
     "data": {
      "text/plain": [
       "(215839, 10)"
      ]
     },
     "execution_count": 27,
     "metadata": {},
     "output_type": "execute_result"
    }
   ],
   "source": [
    "df = df.dropna().reset_index()\n",
    "df.shape"
   ]
  },
  {
   "cell_type": "markdown",
   "metadata": {
    "id": "a08ptlLSnjTJ"
   },
   "source": [
    "> **После предобработки данных у нас осталось 215 тысяч строк**"
   ]
  },
  {
   "cell_type": "markdown",
   "metadata": {
    "id": "9Vb8LHcXnjTJ"
   },
   "source": [
    "## Обучение моделей"
   ]
  },
  {
   "cell_type": "code",
   "execution_count": 28,
   "metadata": {
    "id": "I02_BNhrnjTJ"
   },
   "outputs": [],
   "source": [
    "y = df['Price']\n",
    "X = df.drop('Price', axis=1)\n",
    "\n",
    "X_train, X_test, y_train, y_test = train_test_split(X, y, test_size=.25, random_state=1)"
   ]
  },
  {
   "cell_type": "code",
   "execution_count": 29,
   "metadata": {
    "id": "XktknFoCnjTJ"
   },
   "outputs": [],
   "source": [
    "categorical = list(X.select_dtypes('object').columns) # список названий категориальных столбцов \n",
    "numerical = list(X.select_dtypes('int64').columns) # список названий численных столбцов\n",
    "\n",
    "cat_pipe = Pipeline([\n",
    "    ('encoder', OneHotEncoder(handle_unknown='ignore'))\n",
    "])\n",
    "\n",
    "num_pipe = Pipeline([\n",
    "    ('scaler', StandardScaler())\n",
    "])\n",
    "\n",
    "preprocessor = ColumnTransformer([\n",
    "    ('cat', cat_pipe, categorical),\n",
    "    ('num', num_pipe, numerical),\n",
    "])"
   ]
  },
  {
   "cell_type": "markdown",
   "metadata": {
    "id": "JNJcqfK05a-e"
   },
   "source": [
    "### LinearRegression"
   ]
  },
  {
   "cell_type": "code",
   "execution_count": null,
   "metadata": {
    "id": "CNteOtOh5ZxQ"
   },
   "outputs": [],
   "source": [
    "lin_pipe = Pipeline([\n",
    "    ('preprocessor', preprocessor),\n",
    "    ('model', LinearRegression())\n",
    "])"
   ]
  },
  {
   "cell_type": "code",
   "execution_count": null,
   "metadata": {
    "colab": {
     "base_uri": "https://localhost:8080/"
    },
    "id": "XqSlLQPY6lbZ",
    "outputId": "afc04d81-2edf-4850-e552-761509ac79df"
   },
   "outputs": [
    {
     "name": "stdout",
     "output_type": "stream",
     "text": [
      "Средняя оценка качества модели: 2364.8478845195427\n"
     ]
    }
   ],
   "source": [
    "scores = cross_val_score(lin_pipe, X_train, y_train, scoring='neg_root_mean_squared_error', cv=3)\n",
    "final_score = sum(scores)/len(scores)\n",
    "print('Средняя оценка качества модели:', final_score*-1)"
   ]
  },
  {
   "cell_type": "markdown",
   "metadata": {
    "id": "d8ujjfWdnjTK"
   },
   "source": [
    "### LGBMRegressor"
   ]
  },
  {
   "cell_type": "code",
   "execution_count": null,
   "metadata": {
    "id": "FIO0NkZZnjTK"
   },
   "outputs": [],
   "source": [
    "lgbm_pipe = Pipeline([\n",
    "    ('preprocessor', preprocessor),\n",
    "    ('model', LGBMRegressor(random_state=1))\n",
    "])"
   ]
  },
  {
   "cell_type": "code",
   "execution_count": null,
   "metadata": {
    "colab": {
     "base_uri": "https://localhost:8080/",
     "height": 251
    },
    "id": "ruitSo4QpqaL",
    "outputId": "877d0078-b36e-42d2-f3cd-9aa051ecf0ca"
   },
   "outputs": [
    {
     "name": "stdout",
     "output_type": "stream",
     "text": [
      "CPU times: user 11min 40s, sys: 5.75 s, total: 11min 46s\n",
      "Wall time: 7min 34s\n"
     ]
    },
    {
     "data": {
      "text/html": [
       "<style>#sk-container-id-13 {color: black;background-color: white;}#sk-container-id-13 pre{padding: 0;}#sk-container-id-13 div.sk-toggleable {background-color: white;}#sk-container-id-13 label.sk-toggleable__label {cursor: pointer;display: block;width: 100%;margin-bottom: 0;padding: 0.3em;box-sizing: border-box;text-align: center;}#sk-container-id-13 label.sk-toggleable__label-arrow:before {content: \"▸\";float: left;margin-right: 0.25em;color: #696969;}#sk-container-id-13 label.sk-toggleable__label-arrow:hover:before {color: black;}#sk-container-id-13 div.sk-estimator:hover label.sk-toggleable__label-arrow:before {color: black;}#sk-container-id-13 div.sk-toggleable__content {max-height: 0;max-width: 0;overflow: hidden;text-align: left;background-color: #f0f8ff;}#sk-container-id-13 div.sk-toggleable__content pre {margin: 0.2em;color: black;border-radius: 0.25em;background-color: #f0f8ff;}#sk-container-id-13 input.sk-toggleable__control:checked~div.sk-toggleable__content {max-height: 200px;max-width: 100%;overflow: auto;}#sk-container-id-13 input.sk-toggleable__control:checked~label.sk-toggleable__label-arrow:before {content: \"▾\";}#sk-container-id-13 div.sk-estimator input.sk-toggleable__control:checked~label.sk-toggleable__label {background-color: #d4ebff;}#sk-container-id-13 div.sk-label input.sk-toggleable__control:checked~label.sk-toggleable__label {background-color: #d4ebff;}#sk-container-id-13 input.sk-hidden--visually {border: 0;clip: rect(1px 1px 1px 1px);clip: rect(1px, 1px, 1px, 1px);height: 1px;margin: -1px;overflow: hidden;padding: 0;position: absolute;width: 1px;}#sk-container-id-13 div.sk-estimator {font-family: monospace;background-color: #f0f8ff;border: 1px dotted black;border-radius: 0.25em;box-sizing: border-box;margin-bottom: 0.5em;}#sk-container-id-13 div.sk-estimator:hover {background-color: #d4ebff;}#sk-container-id-13 div.sk-parallel-item::after {content: \"\";width: 100%;border-bottom: 1px solid gray;flex-grow: 1;}#sk-container-id-13 div.sk-label:hover label.sk-toggleable__label {background-color: #d4ebff;}#sk-container-id-13 div.sk-serial::before {content: \"\";position: absolute;border-left: 1px solid gray;box-sizing: border-box;top: 0;bottom: 0;left: 50%;z-index: 0;}#sk-container-id-13 div.sk-serial {display: flex;flex-direction: column;align-items: center;background-color: white;padding-right: 0.2em;padding-left: 0.2em;position: relative;}#sk-container-id-13 div.sk-item {position: relative;z-index: 1;}#sk-container-id-13 div.sk-parallel {display: flex;align-items: stretch;justify-content: center;background-color: white;position: relative;}#sk-container-id-13 div.sk-item::before, #sk-container-id-13 div.sk-parallel-item::before {content: \"\";position: absolute;border-left: 1px solid gray;box-sizing: border-box;top: 0;bottom: 0;left: 50%;z-index: -1;}#sk-container-id-13 div.sk-parallel-item {display: flex;flex-direction: column;z-index: 1;position: relative;background-color: white;}#sk-container-id-13 div.sk-parallel-item:first-child::after {align-self: flex-end;width: 50%;}#sk-container-id-13 div.sk-parallel-item:last-child::after {align-self: flex-start;width: 50%;}#sk-container-id-13 div.sk-parallel-item:only-child::after {width: 0;}#sk-container-id-13 div.sk-dashed-wrapped {border: 1px dashed gray;margin: 0 0.4em 0.5em 0.4em;box-sizing: border-box;padding-bottom: 0.4em;background-color: white;}#sk-container-id-13 div.sk-label label {font-family: monospace;font-weight: bold;display: inline-block;line-height: 1.2em;}#sk-container-id-13 div.sk-label-container {text-align: center;}#sk-container-id-13 div.sk-container {/* jupyter's `normalize.less` sets `[hidden] { display: none; }` but bootstrap.min.css set `[hidden] { display: none !important; }` so we also need the `!important` here to be able to override the default hidden behavior on the sphinx rendered scikit-learn.org. See: https://github.com/scikit-learn/scikit-learn/issues/21755 */display: inline-block !important;position: relative;}#sk-container-id-13 div.sk-text-repr-fallback {display: none;}</style><div id=\"sk-container-id-13\" class=\"sk-top-container\"><div class=\"sk-text-repr-fallback\"><pre>GridSearchCV(cv=3,\n",
       "             estimator=Pipeline(steps=[(&#x27;preprocessor&#x27;,\n",
       "                                        ColumnTransformer(transformers=[(&#x27;cat&#x27;,\n",
       "                                                                         Pipeline(steps=[(&#x27;encoder&#x27;,\n",
       "                                                                                          OneHotEncoder(handle_unknown=&#x27;ignore&#x27;))]),\n",
       "                                                                         [&#x27;VehicleType&#x27;,\n",
       "                                                                          &#x27;Gearbox&#x27;,\n",
       "                                                                          &#x27;Model&#x27;,\n",
       "                                                                          &#x27;Brand&#x27;,\n",
       "                                                                          &#x27;Repaired&#x27;]),\n",
       "                                                                        (&#x27;num&#x27;,\n",
       "                                                                         Pipeline(steps=[(&#x27;scaler&#x27;,\n",
       "                                                                                          StandardScaler())]),\n",
       "                                                                         [&#x27;index&#x27;,\n",
       "                                                                          &#x27;RegistrationYear&#x27;,\n",
       "                                                                          &#x27;Power&#x27;,\n",
       "                                                                          &#x27;Kilometer&#x27;])])),\n",
       "                                       (&#x27;model&#x27;,\n",
       "                                        LGBMRegressor(random_state=1))]),\n",
       "             param_grid={&#x27;model__max_depth&#x27;: [22, 25, 27],\n",
       "                         &#x27;model__min_child_samples&#x27;: [5, 10, 15],\n",
       "                         &#x27;model__min_split_gain&#x27;: [5, 10, 25, 50],\n",
       "                         &#x27;model__num_leaves&#x27;: [45, 50]},\n",
       "             scoring=&#x27;neg_root_mean_squared_error&#x27;)</pre><b>In a Jupyter environment, please rerun this cell to show the HTML representation or trust the notebook. <br />On GitHub, the HTML representation is unable to render, please try loading this page with nbviewer.org.</b></div><div class=\"sk-container\" hidden><div class=\"sk-item sk-dashed-wrapped\"><div class=\"sk-label-container\"><div class=\"sk-label sk-toggleable\"><input class=\"sk-toggleable__control sk-hidden--visually\" id=\"sk-estimator-id-94\" type=\"checkbox\" ><label for=\"sk-estimator-id-94\" class=\"sk-toggleable__label sk-toggleable__label-arrow\">GridSearchCV</label><div class=\"sk-toggleable__content\"><pre>GridSearchCV(cv=3,\n",
       "             estimator=Pipeline(steps=[(&#x27;preprocessor&#x27;,\n",
       "                                        ColumnTransformer(transformers=[(&#x27;cat&#x27;,\n",
       "                                                                         Pipeline(steps=[(&#x27;encoder&#x27;,\n",
       "                                                                                          OneHotEncoder(handle_unknown=&#x27;ignore&#x27;))]),\n",
       "                                                                         [&#x27;VehicleType&#x27;,\n",
       "                                                                          &#x27;Gearbox&#x27;,\n",
       "                                                                          &#x27;Model&#x27;,\n",
       "                                                                          &#x27;Brand&#x27;,\n",
       "                                                                          &#x27;Repaired&#x27;]),\n",
       "                                                                        (&#x27;num&#x27;,\n",
       "                                                                         Pipeline(steps=[(&#x27;scaler&#x27;,\n",
       "                                                                                          StandardScaler())]),\n",
       "                                                                         [&#x27;index&#x27;,\n",
       "                                                                          &#x27;RegistrationYear&#x27;,\n",
       "                                                                          &#x27;Power&#x27;,\n",
       "                                                                          &#x27;Kilometer&#x27;])])),\n",
       "                                       (&#x27;model&#x27;,\n",
       "                                        LGBMRegressor(random_state=1))]),\n",
       "             param_grid={&#x27;model__max_depth&#x27;: [22, 25, 27],\n",
       "                         &#x27;model__min_child_samples&#x27;: [5, 10, 15],\n",
       "                         &#x27;model__min_split_gain&#x27;: [5, 10, 25, 50],\n",
       "                         &#x27;model__num_leaves&#x27;: [45, 50]},\n",
       "             scoring=&#x27;neg_root_mean_squared_error&#x27;)</pre></div></div></div><div class=\"sk-parallel\"><div class=\"sk-parallel-item\"><div class=\"sk-item\"><div class=\"sk-label-container\"><div class=\"sk-label sk-toggleable\"><input class=\"sk-toggleable__control sk-hidden--visually\" id=\"sk-estimator-id-95\" type=\"checkbox\" ><label for=\"sk-estimator-id-95\" class=\"sk-toggleable__label sk-toggleable__label-arrow\">estimator: Pipeline</label><div class=\"sk-toggleable__content\"><pre>Pipeline(steps=[(&#x27;preprocessor&#x27;,\n",
       "                 ColumnTransformer(transformers=[(&#x27;cat&#x27;,\n",
       "                                                  Pipeline(steps=[(&#x27;encoder&#x27;,\n",
       "                                                                   OneHotEncoder(handle_unknown=&#x27;ignore&#x27;))]),\n",
       "                                                  [&#x27;VehicleType&#x27;, &#x27;Gearbox&#x27;,\n",
       "                                                   &#x27;Model&#x27;, &#x27;Brand&#x27;,\n",
       "                                                   &#x27;Repaired&#x27;]),\n",
       "                                                 (&#x27;num&#x27;,\n",
       "                                                  Pipeline(steps=[(&#x27;scaler&#x27;,\n",
       "                                                                   StandardScaler())]),\n",
       "                                                  [&#x27;index&#x27;, &#x27;RegistrationYear&#x27;,\n",
       "                                                   &#x27;Power&#x27;, &#x27;Kilometer&#x27;])])),\n",
       "                (&#x27;model&#x27;, LGBMRegressor(random_state=1))])</pre></div></div></div><div class=\"sk-serial\"><div class=\"sk-item\"><div class=\"sk-serial\"><div class=\"sk-item sk-dashed-wrapped\"><div class=\"sk-label-container\"><div class=\"sk-label sk-toggleable\"><input class=\"sk-toggleable__control sk-hidden--visually\" id=\"sk-estimator-id-96\" type=\"checkbox\" ><label for=\"sk-estimator-id-96\" class=\"sk-toggleable__label sk-toggleable__label-arrow\">preprocessor: ColumnTransformer</label><div class=\"sk-toggleable__content\"><pre>ColumnTransformer(transformers=[(&#x27;cat&#x27;,\n",
       "                                 Pipeline(steps=[(&#x27;encoder&#x27;,\n",
       "                                                  OneHotEncoder(handle_unknown=&#x27;ignore&#x27;))]),\n",
       "                                 [&#x27;VehicleType&#x27;, &#x27;Gearbox&#x27;, &#x27;Model&#x27;, &#x27;Brand&#x27;,\n",
       "                                  &#x27;Repaired&#x27;]),\n",
       "                                (&#x27;num&#x27;,\n",
       "                                 Pipeline(steps=[(&#x27;scaler&#x27;, StandardScaler())]),\n",
       "                                 [&#x27;index&#x27;, &#x27;RegistrationYear&#x27;, &#x27;Power&#x27;,\n",
       "                                  &#x27;Kilometer&#x27;])])</pre></div></div></div><div class=\"sk-parallel\"><div class=\"sk-parallel-item\"><div class=\"sk-item\"><div class=\"sk-label-container\"><div class=\"sk-label sk-toggleable\"><input class=\"sk-toggleable__control sk-hidden--visually\" id=\"sk-estimator-id-97\" type=\"checkbox\" ><label for=\"sk-estimator-id-97\" class=\"sk-toggleable__label sk-toggleable__label-arrow\">cat</label><div class=\"sk-toggleable__content\"><pre>[&#x27;VehicleType&#x27;, &#x27;Gearbox&#x27;, &#x27;Model&#x27;, &#x27;Brand&#x27;, &#x27;Repaired&#x27;]</pre></div></div></div><div class=\"sk-serial\"><div class=\"sk-item\"><div class=\"sk-serial\"><div class=\"sk-item\"><div class=\"sk-estimator sk-toggleable\"><input class=\"sk-toggleable__control sk-hidden--visually\" id=\"sk-estimator-id-98\" type=\"checkbox\" ><label for=\"sk-estimator-id-98\" class=\"sk-toggleable__label sk-toggleable__label-arrow\">OneHotEncoder</label><div class=\"sk-toggleable__content\"><pre>OneHotEncoder(handle_unknown=&#x27;ignore&#x27;)</pre></div></div></div></div></div></div></div></div><div class=\"sk-parallel-item\"><div class=\"sk-item\"><div class=\"sk-label-container\"><div class=\"sk-label sk-toggleable\"><input class=\"sk-toggleable__control sk-hidden--visually\" id=\"sk-estimator-id-99\" type=\"checkbox\" ><label for=\"sk-estimator-id-99\" class=\"sk-toggleable__label sk-toggleable__label-arrow\">num</label><div class=\"sk-toggleable__content\"><pre>[&#x27;index&#x27;, &#x27;RegistrationYear&#x27;, &#x27;Power&#x27;, &#x27;Kilometer&#x27;]</pre></div></div></div><div class=\"sk-serial\"><div class=\"sk-item\"><div class=\"sk-serial\"><div class=\"sk-item\"><div class=\"sk-estimator sk-toggleable\"><input class=\"sk-toggleable__control sk-hidden--visually\" id=\"sk-estimator-id-100\" type=\"checkbox\" ><label for=\"sk-estimator-id-100\" class=\"sk-toggleable__label sk-toggleable__label-arrow\">StandardScaler</label><div class=\"sk-toggleable__content\"><pre>StandardScaler()</pre></div></div></div></div></div></div></div></div></div></div><div class=\"sk-item\"><div class=\"sk-estimator sk-toggleable\"><input class=\"sk-toggleable__control sk-hidden--visually\" id=\"sk-estimator-id-101\" type=\"checkbox\" ><label for=\"sk-estimator-id-101\" class=\"sk-toggleable__label sk-toggleable__label-arrow\">LGBMRegressor</label><div class=\"sk-toggleable__content\"><pre>LGBMRegressor(random_state=1)</pre></div></div></div></div></div></div></div></div></div></div></div></div>"
      ],
      "text/plain": [
       "GridSearchCV(cv=3,\n",
       "             estimator=Pipeline(steps=[('preprocessor',\n",
       "                                        ColumnTransformer(transformers=[('cat',\n",
       "                                                                         Pipeline(steps=[('encoder',\n",
       "                                                                                          OneHotEncoder(handle_unknown='ignore'))]),\n",
       "                                                                         ['VehicleType',\n",
       "                                                                          'Gearbox',\n",
       "                                                                          'Model',\n",
       "                                                                          'Brand',\n",
       "                                                                          'Repaired']),\n",
       "                                                                        ('num',\n",
       "                                                                         Pipeline(steps=[('scaler',\n",
       "                                                                                          StandardScaler())]),\n",
       "                                                                         ['index',\n",
       "                                                                          'RegistrationYear',\n",
       "                                                                          'Power',\n",
       "                                                                          'Kilometer'])])),\n",
       "                                       ('model',\n",
       "                                        LGBMRegressor(random_state=1))]),\n",
       "             param_grid={'model__max_depth': [22, 25, 27],\n",
       "                         'model__min_child_samples': [5, 10, 15],\n",
       "                         'model__min_split_gain': [5, 10, 25, 50],\n",
       "                         'model__num_leaves': [45, 50]},\n",
       "             scoring='neg_root_mean_squared_error')"
      ]
     },
     "execution_count": 58,
     "metadata": {},
     "output_type": "execute_result"
    }
   ],
   "source": [
    "%%time\n",
    "param_grid = {\n",
    "    'model__max_depth':[25, 27, 33],\n",
    "    'model__num_leaves':[50, 60, 70, 80],\n",
    "    'model__min_child_samples': [5, 10, 15],\n",
    "    'model__min_split_gain': [2, 5, 10]\n",
    "}\n",
    "\n",
    "lgbm_grid = GridSearchCV(lgbm_pipe, param_grid, cv=3, scoring='neg_root_mean_squared_error')\n",
    "lgbm_grid.fit(X_train, y_train)"
   ]
  },
  {
   "cell_type": "code",
   "execution_count": null,
   "metadata": {
    "colab": {
     "base_uri": "https://localhost:8080/"
    },
    "id": "6rL-8KQi27mq",
    "outputId": "92fac159-a242-4314-ca19-66e0aebf6910"
   },
   "outputs": [
    {
     "name": "stdout",
     "output_type": "stream",
     "text": [
      "Лучшее значение метрики -1467.8219803067752\n",
      "Лучшие параметры модели {'model__max_depth': 27, 'model__min_child_samples': 10, 'model__min_split_gain': 5, 'model__num_leaves': 50}\n"
     ]
    }
   ],
   "source": [
    "print('Лучшее значение метрики', lgbm_grid.best_score_)\n",
    "print('Лучшие параметры модели', lgbm_grid.best_params_)"
   ]
  },
  {
   "cell_type": "markdown",
   "metadata": {
    "id": "Cv1vP596njTK"
   },
   "source": [
    "### CatBoostRegressor"
   ]
  },
  {
   "cell_type": "code",
   "execution_count": null,
   "metadata": {
    "colab": {
     "base_uri": "https://localhost:8080/",
     "height": 251
    },
    "id": "17KUGau-njTK",
    "outputId": "e2a86c30-3d30-4d8e-f59d-efd35c5ec792",
    "scrolled": true
   },
   "outputs": [
    {
     "name": "stdout",
     "output_type": "stream",
     "text": [
      "CPU times: user 1h 35min 55s, sys: 53min 36s, total: 2h 29min 32s\n",
      "Wall time: 1h 30min 38s\n"
     ]
    },
    {
     "data": {
      "text/html": [
       "<style>#sk-container-id-1 {color: black;background-color: white;}#sk-container-id-1 pre{padding: 0;}#sk-container-id-1 div.sk-toggleable {background-color: white;}#sk-container-id-1 label.sk-toggleable__label {cursor: pointer;display: block;width: 100%;margin-bottom: 0;padding: 0.3em;box-sizing: border-box;text-align: center;}#sk-container-id-1 label.sk-toggleable__label-arrow:before {content: \"▸\";float: left;margin-right: 0.25em;color: #696969;}#sk-container-id-1 label.sk-toggleable__label-arrow:hover:before {color: black;}#sk-container-id-1 div.sk-estimator:hover label.sk-toggleable__label-arrow:before {color: black;}#sk-container-id-1 div.sk-toggleable__content {max-height: 0;max-width: 0;overflow: hidden;text-align: left;background-color: #f0f8ff;}#sk-container-id-1 div.sk-toggleable__content pre {margin: 0.2em;color: black;border-radius: 0.25em;background-color: #f0f8ff;}#sk-container-id-1 input.sk-toggleable__control:checked~div.sk-toggleable__content {max-height: 200px;max-width: 100%;overflow: auto;}#sk-container-id-1 input.sk-toggleable__control:checked~label.sk-toggleable__label-arrow:before {content: \"▾\";}#sk-container-id-1 div.sk-estimator input.sk-toggleable__control:checked~label.sk-toggleable__label {background-color: #d4ebff;}#sk-container-id-1 div.sk-label input.sk-toggleable__control:checked~label.sk-toggleable__label {background-color: #d4ebff;}#sk-container-id-1 input.sk-hidden--visually {border: 0;clip: rect(1px 1px 1px 1px);clip: rect(1px, 1px, 1px, 1px);height: 1px;margin: -1px;overflow: hidden;padding: 0;position: absolute;width: 1px;}#sk-container-id-1 div.sk-estimator {font-family: monospace;background-color: #f0f8ff;border: 1px dotted black;border-radius: 0.25em;box-sizing: border-box;margin-bottom: 0.5em;}#sk-container-id-1 div.sk-estimator:hover {background-color: #d4ebff;}#sk-container-id-1 div.sk-parallel-item::after {content: \"\";width: 100%;border-bottom: 1px solid gray;flex-grow: 1;}#sk-container-id-1 div.sk-label:hover label.sk-toggleable__label {background-color: #d4ebff;}#sk-container-id-1 div.sk-serial::before {content: \"\";position: absolute;border-left: 1px solid gray;box-sizing: border-box;top: 0;bottom: 0;left: 50%;z-index: 0;}#sk-container-id-1 div.sk-serial {display: flex;flex-direction: column;align-items: center;background-color: white;padding-right: 0.2em;padding-left: 0.2em;position: relative;}#sk-container-id-1 div.sk-item {position: relative;z-index: 1;}#sk-container-id-1 div.sk-parallel {display: flex;align-items: stretch;justify-content: center;background-color: white;position: relative;}#sk-container-id-1 div.sk-item::before, #sk-container-id-1 div.sk-parallel-item::before {content: \"\";position: absolute;border-left: 1px solid gray;box-sizing: border-box;top: 0;bottom: 0;left: 50%;z-index: -1;}#sk-container-id-1 div.sk-parallel-item {display: flex;flex-direction: column;z-index: 1;position: relative;background-color: white;}#sk-container-id-1 div.sk-parallel-item:first-child::after {align-self: flex-end;width: 50%;}#sk-container-id-1 div.sk-parallel-item:last-child::after {align-self: flex-start;width: 50%;}#sk-container-id-1 div.sk-parallel-item:only-child::after {width: 0;}#sk-container-id-1 div.sk-dashed-wrapped {border: 1px dashed gray;margin: 0 0.4em 0.5em 0.4em;box-sizing: border-box;padding-bottom: 0.4em;background-color: white;}#sk-container-id-1 div.sk-label label {font-family: monospace;font-weight: bold;display: inline-block;line-height: 1.2em;}#sk-container-id-1 div.sk-label-container {text-align: center;}#sk-container-id-1 div.sk-container {/* jupyter's `normalize.less` sets `[hidden] { display: none; }` but bootstrap.min.css set `[hidden] { display: none !important; }` so we also need the `!important` here to be able to override the default hidden behavior on the sphinx rendered scikit-learn.org. See: https://github.com/scikit-learn/scikit-learn/issues/21755 */display: inline-block !important;position: relative;}#sk-container-id-1 div.sk-text-repr-fallback {display: none;}</style><div id=\"sk-container-id-1\" class=\"sk-top-container\"><div class=\"sk-text-repr-fallback\"><pre>GridSearchCV(cv=3, error_score=&#x27;raise&#x27;,\n",
       "             estimator=Pipeline(steps=[(&#x27;preprocessor&#x27;,\n",
       "                                        ColumnTransformer(transformers=[(&#x27;cat&#x27;,\n",
       "                                                                         Pipeline(steps=[(&#x27;encoder&#x27;,\n",
       "                                                                                          OneHotEncoder(handle_unknown=&#x27;ignore&#x27;))]),\n",
       "                                                                         [&#x27;VehicleType&#x27;,\n",
       "                                                                          &#x27;Gearbox&#x27;,\n",
       "                                                                          &#x27;Model&#x27;,\n",
       "                                                                          &#x27;Brand&#x27;,\n",
       "                                                                          &#x27;Repaired&#x27;]),\n",
       "                                                                        (&#x27;num&#x27;,\n",
       "                                                                         Pipeline(steps=[(&#x27;scaler&#x27;,\n",
       "                                                                                          StandardScaler())]),\n",
       "                                                                         [&#x27;index&#x27;,\n",
       "                                                                          &#x27;RegistrationYear&#x27;,\n",
       "                                                                          &#x27;Power&#x27;,\n",
       "                                                                          &#x27;Kilometer&#x27;])])),\n",
       "                                       (&#x27;model&#x27;,\n",
       "                                        &lt;catboost.core.CatBoostRegressor object at 0x7fcb56562940&gt;)]),\n",
       "             param_grid={&#x27;model__depth&#x27;: [16]},\n",
       "             scoring=&#x27;neg_root_mean_squared_error&#x27;)</pre><b>In a Jupyter environment, please rerun this cell to show the HTML representation or trust the notebook. <br />On GitHub, the HTML representation is unable to render, please try loading this page with nbviewer.org.</b></div><div class=\"sk-container\" hidden><div class=\"sk-item sk-dashed-wrapped\"><div class=\"sk-label-container\"><div class=\"sk-label sk-toggleable\"><input class=\"sk-toggleable__control sk-hidden--visually\" id=\"sk-estimator-id-1\" type=\"checkbox\" ><label for=\"sk-estimator-id-1\" class=\"sk-toggleable__label sk-toggleable__label-arrow\">GridSearchCV</label><div class=\"sk-toggleable__content\"><pre>GridSearchCV(cv=3, error_score=&#x27;raise&#x27;,\n",
       "             estimator=Pipeline(steps=[(&#x27;preprocessor&#x27;,\n",
       "                                        ColumnTransformer(transformers=[(&#x27;cat&#x27;,\n",
       "                                                                         Pipeline(steps=[(&#x27;encoder&#x27;,\n",
       "                                                                                          OneHotEncoder(handle_unknown=&#x27;ignore&#x27;))]),\n",
       "                                                                         [&#x27;VehicleType&#x27;,\n",
       "                                                                          &#x27;Gearbox&#x27;,\n",
       "                                                                          &#x27;Model&#x27;,\n",
       "                                                                          &#x27;Brand&#x27;,\n",
       "                                                                          &#x27;Repaired&#x27;]),\n",
       "                                                                        (&#x27;num&#x27;,\n",
       "                                                                         Pipeline(steps=[(&#x27;scaler&#x27;,\n",
       "                                                                                          StandardScaler())]),\n",
       "                                                                         [&#x27;index&#x27;,\n",
       "                                                                          &#x27;RegistrationYear&#x27;,\n",
       "                                                                          &#x27;Power&#x27;,\n",
       "                                                                          &#x27;Kilometer&#x27;])])),\n",
       "                                       (&#x27;model&#x27;,\n",
       "                                        &lt;catboost.core.CatBoostRegressor object at 0x7fcb56562940&gt;)]),\n",
       "             param_grid={&#x27;model__depth&#x27;: [16]},\n",
       "             scoring=&#x27;neg_root_mean_squared_error&#x27;)</pre></div></div></div><div class=\"sk-parallel\"><div class=\"sk-parallel-item\"><div class=\"sk-item\"><div class=\"sk-label-container\"><div class=\"sk-label sk-toggleable\"><input class=\"sk-toggleable__control sk-hidden--visually\" id=\"sk-estimator-id-2\" type=\"checkbox\" ><label for=\"sk-estimator-id-2\" class=\"sk-toggleable__label sk-toggleable__label-arrow\">estimator: Pipeline</label><div class=\"sk-toggleable__content\"><pre>Pipeline(steps=[(&#x27;preprocessor&#x27;,\n",
       "                 ColumnTransformer(transformers=[(&#x27;cat&#x27;,\n",
       "                                                  Pipeline(steps=[(&#x27;encoder&#x27;,\n",
       "                                                                   OneHotEncoder(handle_unknown=&#x27;ignore&#x27;))]),\n",
       "                                                  [&#x27;VehicleType&#x27;, &#x27;Gearbox&#x27;,\n",
       "                                                   &#x27;Model&#x27;, &#x27;Brand&#x27;,\n",
       "                                                   &#x27;Repaired&#x27;]),\n",
       "                                                 (&#x27;num&#x27;,\n",
       "                                                  Pipeline(steps=[(&#x27;scaler&#x27;,\n",
       "                                                                   StandardScaler())]),\n",
       "                                                  [&#x27;index&#x27;, &#x27;RegistrationYear&#x27;,\n",
       "                                                   &#x27;Power&#x27;, &#x27;Kilometer&#x27;])])),\n",
       "                (&#x27;model&#x27;,\n",
       "                 &lt;catboost.core.CatBoostRegressor object at 0x7fcb56562940&gt;)])</pre></div></div></div><div class=\"sk-serial\"><div class=\"sk-item\"><div class=\"sk-serial\"><div class=\"sk-item sk-dashed-wrapped\"><div class=\"sk-label-container\"><div class=\"sk-label sk-toggleable\"><input class=\"sk-toggleable__control sk-hidden--visually\" id=\"sk-estimator-id-3\" type=\"checkbox\" ><label for=\"sk-estimator-id-3\" class=\"sk-toggleable__label sk-toggleable__label-arrow\">preprocessor: ColumnTransformer</label><div class=\"sk-toggleable__content\"><pre>ColumnTransformer(transformers=[(&#x27;cat&#x27;,\n",
       "                                 Pipeline(steps=[(&#x27;encoder&#x27;,\n",
       "                                                  OneHotEncoder(handle_unknown=&#x27;ignore&#x27;))]),\n",
       "                                 [&#x27;VehicleType&#x27;, &#x27;Gearbox&#x27;, &#x27;Model&#x27;, &#x27;Brand&#x27;,\n",
       "                                  &#x27;Repaired&#x27;]),\n",
       "                                (&#x27;num&#x27;,\n",
       "                                 Pipeline(steps=[(&#x27;scaler&#x27;, StandardScaler())]),\n",
       "                                 [&#x27;index&#x27;, &#x27;RegistrationYear&#x27;, &#x27;Power&#x27;,\n",
       "                                  &#x27;Kilometer&#x27;])])</pre></div></div></div><div class=\"sk-parallel\"><div class=\"sk-parallel-item\"><div class=\"sk-item\"><div class=\"sk-label-container\"><div class=\"sk-label sk-toggleable\"><input class=\"sk-toggleable__control sk-hidden--visually\" id=\"sk-estimator-id-4\" type=\"checkbox\" ><label for=\"sk-estimator-id-4\" class=\"sk-toggleable__label sk-toggleable__label-arrow\">cat</label><div class=\"sk-toggleable__content\"><pre>[&#x27;VehicleType&#x27;, &#x27;Gearbox&#x27;, &#x27;Model&#x27;, &#x27;Brand&#x27;, &#x27;Repaired&#x27;]</pre></div></div></div><div class=\"sk-serial\"><div class=\"sk-item\"><div class=\"sk-serial\"><div class=\"sk-item\"><div class=\"sk-estimator sk-toggleable\"><input class=\"sk-toggleable__control sk-hidden--visually\" id=\"sk-estimator-id-5\" type=\"checkbox\" ><label for=\"sk-estimator-id-5\" class=\"sk-toggleable__label sk-toggleable__label-arrow\">OneHotEncoder</label><div class=\"sk-toggleable__content\"><pre>OneHotEncoder(handle_unknown=&#x27;ignore&#x27;)</pre></div></div></div></div></div></div></div></div><div class=\"sk-parallel-item\"><div class=\"sk-item\"><div class=\"sk-label-container\"><div class=\"sk-label sk-toggleable\"><input class=\"sk-toggleable__control sk-hidden--visually\" id=\"sk-estimator-id-6\" type=\"checkbox\" ><label for=\"sk-estimator-id-6\" class=\"sk-toggleable__label sk-toggleable__label-arrow\">num</label><div class=\"sk-toggleable__content\"><pre>[&#x27;index&#x27;, &#x27;RegistrationYear&#x27;, &#x27;Power&#x27;, &#x27;Kilometer&#x27;]</pre></div></div></div><div class=\"sk-serial\"><div class=\"sk-item\"><div class=\"sk-serial\"><div class=\"sk-item\"><div class=\"sk-estimator sk-toggleable\"><input class=\"sk-toggleable__control sk-hidden--visually\" id=\"sk-estimator-id-7\" type=\"checkbox\" ><label for=\"sk-estimator-id-7\" class=\"sk-toggleable__label sk-toggleable__label-arrow\">StandardScaler</label><div class=\"sk-toggleable__content\"><pre>StandardScaler()</pre></div></div></div></div></div></div></div></div></div></div><div class=\"sk-item\"><div class=\"sk-estimator sk-toggleable\"><input class=\"sk-toggleable__control sk-hidden--visually\" id=\"sk-estimator-id-8\" type=\"checkbox\" ><label for=\"sk-estimator-id-8\" class=\"sk-toggleable__label sk-toggleable__label-arrow\">CatBoostRegressor</label><div class=\"sk-toggleable__content\"><pre>&lt;catboost.core.CatBoostRegressor object at 0x7fcb56562940&gt;</pre></div></div></div></div></div></div></div></div></div></div></div></div>"
      ],
      "text/plain": [
       "GridSearchCV(cv=3, error_score='raise',\n",
       "             estimator=Pipeline(steps=[('preprocessor',\n",
       "                                        ColumnTransformer(transformers=[('cat',\n",
       "                                                                         Pipeline(steps=[('encoder',\n",
       "                                                                                          OneHotEncoder(handle_unknown='ignore'))]),\n",
       "                                                                         ['VehicleType',\n",
       "                                                                          'Gearbox',\n",
       "                                                                          'Model',\n",
       "                                                                          'Brand',\n",
       "                                                                          'Repaired']),\n",
       "                                                                        ('num',\n",
       "                                                                         Pipeline(steps=[('scaler',\n",
       "                                                                                          StandardScaler())]),\n",
       "                                                                         ['index',\n",
       "                                                                          'RegistrationYear',\n",
       "                                                                          'Power',\n",
       "                                                                          'Kilometer'])])),\n",
       "                                       ('model',\n",
       "                                        <catboost.core.CatBoostRegressor object at 0x7fcb56562940>)]),\n",
       "             param_grid={'model__depth': [16]},\n",
       "             scoring='neg_root_mean_squared_error')"
      ]
     },
     "execution_count": 18,
     "metadata": {},
     "output_type": "execute_result"
    }
   ],
   "source": [
    "%%time\n",
    "cat_pipe = Pipeline([\n",
    "    ('preprocessor', preprocessor),\n",
    "    ('model', CatBoostRegressor(random_state=1, loss_function='RMSE', verbose=False))\n",
    "])\n",
    "\n",
    "param_grid = {\n",
    "    'model__depth':[16],\n",
    "    'model__l2_leaf_reg':[0, 1]\n",
    "}\n",
    "\n",
    "cat_grid = GridSearchCV(cat_pipe, param_grid, cv=3, scoring='neg_root_mean_squared_error', error_score='raise')\n",
    "cat_grid.fit(X_train, y_train)"
   ]
  },
  {
   "cell_type": "code",
   "execution_count": null,
   "metadata": {
    "colab": {
     "base_uri": "https://localhost:8080/"
    },
    "id": "hYTf4tth2qrC",
    "outputId": "82a3de14-c333-43e7-9482-4167557a5189"
   },
   "outputs": [
    {
     "name": "stdout",
     "output_type": "stream",
     "text": [
      "Лучшее значение метрики -1415.3634407621696\n",
      "Лучшие параметры модели {'model__depth': 16}\n"
     ]
    }
   ],
   "source": [
    "print('Лучшее значение метрики', cat_grid.best_score_)\n",
    "print('Лучшие параметры модели', cat_grid.best_params_)"
   ]
  },
  {
   "cell_type": "markdown",
   "metadata": {
    "id": "Rpc8PVg7njTK"
   },
   "source": [
    "### GradientBoostingRegressor"
   ]
  },
  {
   "cell_type": "code",
   "execution_count": 30,
   "metadata": {
    "colab": {
     "base_uri": "https://localhost:8080/",
     "height": 251
    },
    "id": "y44muEpVnjTK",
    "outputId": "b2e34719-a268-4a4d-97a1-1bd354fd5097"
   },
   "outputs": [
    {
     "name": "stdout",
     "output_type": "stream",
     "text": [
      "CPU times: user 52min 19s, sys: 2.7 s, total: 52min 22s\n",
      "Wall time: 52min 25s\n"
     ]
    },
    {
     "data": {
      "text/html": [
       "<style>#sk-container-id-1 {color: black;background-color: white;}#sk-container-id-1 pre{padding: 0;}#sk-container-id-1 div.sk-toggleable {background-color: white;}#sk-container-id-1 label.sk-toggleable__label {cursor: pointer;display: block;width: 100%;margin-bottom: 0;padding: 0.3em;box-sizing: border-box;text-align: center;}#sk-container-id-1 label.sk-toggleable__label-arrow:before {content: \"▸\";float: left;margin-right: 0.25em;color: #696969;}#sk-container-id-1 label.sk-toggleable__label-arrow:hover:before {color: black;}#sk-container-id-1 div.sk-estimator:hover label.sk-toggleable__label-arrow:before {color: black;}#sk-container-id-1 div.sk-toggleable__content {max-height: 0;max-width: 0;overflow: hidden;text-align: left;background-color: #f0f8ff;}#sk-container-id-1 div.sk-toggleable__content pre {margin: 0.2em;color: black;border-radius: 0.25em;background-color: #f0f8ff;}#sk-container-id-1 input.sk-toggleable__control:checked~div.sk-toggleable__content {max-height: 200px;max-width: 100%;overflow: auto;}#sk-container-id-1 input.sk-toggleable__control:checked~label.sk-toggleable__label-arrow:before {content: \"▾\";}#sk-container-id-1 div.sk-estimator input.sk-toggleable__control:checked~label.sk-toggleable__label {background-color: #d4ebff;}#sk-container-id-1 div.sk-label input.sk-toggleable__control:checked~label.sk-toggleable__label {background-color: #d4ebff;}#sk-container-id-1 input.sk-hidden--visually {border: 0;clip: rect(1px 1px 1px 1px);clip: rect(1px, 1px, 1px, 1px);height: 1px;margin: -1px;overflow: hidden;padding: 0;position: absolute;width: 1px;}#sk-container-id-1 div.sk-estimator {font-family: monospace;background-color: #f0f8ff;border: 1px dotted black;border-radius: 0.25em;box-sizing: border-box;margin-bottom: 0.5em;}#sk-container-id-1 div.sk-estimator:hover {background-color: #d4ebff;}#sk-container-id-1 div.sk-parallel-item::after {content: \"\";width: 100%;border-bottom: 1px solid gray;flex-grow: 1;}#sk-container-id-1 div.sk-label:hover label.sk-toggleable__label {background-color: #d4ebff;}#sk-container-id-1 div.sk-serial::before {content: \"\";position: absolute;border-left: 1px solid gray;box-sizing: border-box;top: 0;bottom: 0;left: 50%;z-index: 0;}#sk-container-id-1 div.sk-serial {display: flex;flex-direction: column;align-items: center;background-color: white;padding-right: 0.2em;padding-left: 0.2em;position: relative;}#sk-container-id-1 div.sk-item {position: relative;z-index: 1;}#sk-container-id-1 div.sk-parallel {display: flex;align-items: stretch;justify-content: center;background-color: white;position: relative;}#sk-container-id-1 div.sk-item::before, #sk-container-id-1 div.sk-parallel-item::before {content: \"\";position: absolute;border-left: 1px solid gray;box-sizing: border-box;top: 0;bottom: 0;left: 50%;z-index: -1;}#sk-container-id-1 div.sk-parallel-item {display: flex;flex-direction: column;z-index: 1;position: relative;background-color: white;}#sk-container-id-1 div.sk-parallel-item:first-child::after {align-self: flex-end;width: 50%;}#sk-container-id-1 div.sk-parallel-item:last-child::after {align-self: flex-start;width: 50%;}#sk-container-id-1 div.sk-parallel-item:only-child::after {width: 0;}#sk-container-id-1 div.sk-dashed-wrapped {border: 1px dashed gray;margin: 0 0.4em 0.5em 0.4em;box-sizing: border-box;padding-bottom: 0.4em;background-color: white;}#sk-container-id-1 div.sk-label label {font-family: monospace;font-weight: bold;display: inline-block;line-height: 1.2em;}#sk-container-id-1 div.sk-label-container {text-align: center;}#sk-container-id-1 div.sk-container {/* jupyter's `normalize.less` sets `[hidden] { display: none; }` but bootstrap.min.css set `[hidden] { display: none !important; }` so we also need the `!important` here to be able to override the default hidden behavior on the sphinx rendered scikit-learn.org. See: https://github.com/scikit-learn/scikit-learn/issues/21755 */display: inline-block !important;position: relative;}#sk-container-id-1 div.sk-text-repr-fallback {display: none;}</style><div id=\"sk-container-id-1\" class=\"sk-top-container\"><div class=\"sk-text-repr-fallback\"><pre>GridSearchCV(cv=3,\n",
       "             estimator=Pipeline(steps=[(&#x27;preprocessor&#x27;,\n",
       "                                        ColumnTransformer(transformers=[(&#x27;cat&#x27;,\n",
       "                                                                         Pipeline(steps=[(&#x27;encoder&#x27;,\n",
       "                                                                                          OneHotEncoder(handle_unknown=&#x27;ignore&#x27;))]),\n",
       "                                                                         [&#x27;VehicleType&#x27;,\n",
       "                                                                          &#x27;Gearbox&#x27;,\n",
       "                                                                          &#x27;Model&#x27;,\n",
       "                                                                          &#x27;Brand&#x27;,\n",
       "                                                                          &#x27;Repaired&#x27;]),\n",
       "                                                                        (&#x27;num&#x27;,\n",
       "                                                                         Pipeline(steps=[(&#x27;scaler&#x27;,\n",
       "                                                                                          StandardScaler())]),\n",
       "                                                                         [&#x27;index&#x27;,\n",
       "                                                                          &#x27;RegistrationYear&#x27;,\n",
       "                                                                          &#x27;Power&#x27;,\n",
       "                                                                          &#x27;Kilometer&#x27;])])),\n",
       "                                       (&#x27;model&#x27;,\n",
       "                                        GradientBoostingRegressor(random_state=1))]),\n",
       "             param_grid={&#x27;model__max_depth&#x27;: [8, 10, 12],\n",
       "                         &#x27;model__min_samples_leaf&#x27;: [7, 10, 15, 20]},\n",
       "             scoring=&#x27;neg_root_mean_squared_error&#x27;)</pre><b>In a Jupyter environment, please rerun this cell to show the HTML representation or trust the notebook. <br />On GitHub, the HTML representation is unable to render, please try loading this page with nbviewer.org.</b></div><div class=\"sk-container\" hidden><div class=\"sk-item sk-dashed-wrapped\"><div class=\"sk-label-container\"><div class=\"sk-label sk-toggleable\"><input class=\"sk-toggleable__control sk-hidden--visually\" id=\"sk-estimator-id-1\" type=\"checkbox\" ><label for=\"sk-estimator-id-1\" class=\"sk-toggleable__label sk-toggleable__label-arrow\">GridSearchCV</label><div class=\"sk-toggleable__content\"><pre>GridSearchCV(cv=3,\n",
       "             estimator=Pipeline(steps=[(&#x27;preprocessor&#x27;,\n",
       "                                        ColumnTransformer(transformers=[(&#x27;cat&#x27;,\n",
       "                                                                         Pipeline(steps=[(&#x27;encoder&#x27;,\n",
       "                                                                                          OneHotEncoder(handle_unknown=&#x27;ignore&#x27;))]),\n",
       "                                                                         [&#x27;VehicleType&#x27;,\n",
       "                                                                          &#x27;Gearbox&#x27;,\n",
       "                                                                          &#x27;Model&#x27;,\n",
       "                                                                          &#x27;Brand&#x27;,\n",
       "                                                                          &#x27;Repaired&#x27;]),\n",
       "                                                                        (&#x27;num&#x27;,\n",
       "                                                                         Pipeline(steps=[(&#x27;scaler&#x27;,\n",
       "                                                                                          StandardScaler())]),\n",
       "                                                                         [&#x27;index&#x27;,\n",
       "                                                                          &#x27;RegistrationYear&#x27;,\n",
       "                                                                          &#x27;Power&#x27;,\n",
       "                                                                          &#x27;Kilometer&#x27;])])),\n",
       "                                       (&#x27;model&#x27;,\n",
       "                                        GradientBoostingRegressor(random_state=1))]),\n",
       "             param_grid={&#x27;model__max_depth&#x27;: [8, 10, 12],\n",
       "                         &#x27;model__min_samples_leaf&#x27;: [7, 10, 15, 20]},\n",
       "             scoring=&#x27;neg_root_mean_squared_error&#x27;)</pre></div></div></div><div class=\"sk-parallel\"><div class=\"sk-parallel-item\"><div class=\"sk-item\"><div class=\"sk-label-container\"><div class=\"sk-label sk-toggleable\"><input class=\"sk-toggleable__control sk-hidden--visually\" id=\"sk-estimator-id-2\" type=\"checkbox\" ><label for=\"sk-estimator-id-2\" class=\"sk-toggleable__label sk-toggleable__label-arrow\">estimator: Pipeline</label><div class=\"sk-toggleable__content\"><pre>Pipeline(steps=[(&#x27;preprocessor&#x27;,\n",
       "                 ColumnTransformer(transformers=[(&#x27;cat&#x27;,\n",
       "                                                  Pipeline(steps=[(&#x27;encoder&#x27;,\n",
       "                                                                   OneHotEncoder(handle_unknown=&#x27;ignore&#x27;))]),\n",
       "                                                  [&#x27;VehicleType&#x27;, &#x27;Gearbox&#x27;,\n",
       "                                                   &#x27;Model&#x27;, &#x27;Brand&#x27;,\n",
       "                                                   &#x27;Repaired&#x27;]),\n",
       "                                                 (&#x27;num&#x27;,\n",
       "                                                  Pipeline(steps=[(&#x27;scaler&#x27;,\n",
       "                                                                   StandardScaler())]),\n",
       "                                                  [&#x27;index&#x27;, &#x27;RegistrationYear&#x27;,\n",
       "                                                   &#x27;Power&#x27;, &#x27;Kilometer&#x27;])])),\n",
       "                (&#x27;model&#x27;, GradientBoostingRegressor(random_state=1))])</pre></div></div></div><div class=\"sk-serial\"><div class=\"sk-item\"><div class=\"sk-serial\"><div class=\"sk-item sk-dashed-wrapped\"><div class=\"sk-label-container\"><div class=\"sk-label sk-toggleable\"><input class=\"sk-toggleable__control sk-hidden--visually\" id=\"sk-estimator-id-3\" type=\"checkbox\" ><label for=\"sk-estimator-id-3\" class=\"sk-toggleable__label sk-toggleable__label-arrow\">preprocessor: ColumnTransformer</label><div class=\"sk-toggleable__content\"><pre>ColumnTransformer(transformers=[(&#x27;cat&#x27;,\n",
       "                                 Pipeline(steps=[(&#x27;encoder&#x27;,\n",
       "                                                  OneHotEncoder(handle_unknown=&#x27;ignore&#x27;))]),\n",
       "                                 [&#x27;VehicleType&#x27;, &#x27;Gearbox&#x27;, &#x27;Model&#x27;, &#x27;Brand&#x27;,\n",
       "                                  &#x27;Repaired&#x27;]),\n",
       "                                (&#x27;num&#x27;,\n",
       "                                 Pipeline(steps=[(&#x27;scaler&#x27;, StandardScaler())]),\n",
       "                                 [&#x27;index&#x27;, &#x27;RegistrationYear&#x27;, &#x27;Power&#x27;,\n",
       "                                  &#x27;Kilometer&#x27;])])</pre></div></div></div><div class=\"sk-parallel\"><div class=\"sk-parallel-item\"><div class=\"sk-item\"><div class=\"sk-label-container\"><div class=\"sk-label sk-toggleable\"><input class=\"sk-toggleable__control sk-hidden--visually\" id=\"sk-estimator-id-4\" type=\"checkbox\" ><label for=\"sk-estimator-id-4\" class=\"sk-toggleable__label sk-toggleable__label-arrow\">cat</label><div class=\"sk-toggleable__content\"><pre>[&#x27;VehicleType&#x27;, &#x27;Gearbox&#x27;, &#x27;Model&#x27;, &#x27;Brand&#x27;, &#x27;Repaired&#x27;]</pre></div></div></div><div class=\"sk-serial\"><div class=\"sk-item\"><div class=\"sk-serial\"><div class=\"sk-item\"><div class=\"sk-estimator sk-toggleable\"><input class=\"sk-toggleable__control sk-hidden--visually\" id=\"sk-estimator-id-5\" type=\"checkbox\" ><label for=\"sk-estimator-id-5\" class=\"sk-toggleable__label sk-toggleable__label-arrow\">OneHotEncoder</label><div class=\"sk-toggleable__content\"><pre>OneHotEncoder(handle_unknown=&#x27;ignore&#x27;)</pre></div></div></div></div></div></div></div></div><div class=\"sk-parallel-item\"><div class=\"sk-item\"><div class=\"sk-label-container\"><div class=\"sk-label sk-toggleable\"><input class=\"sk-toggleable__control sk-hidden--visually\" id=\"sk-estimator-id-6\" type=\"checkbox\" ><label for=\"sk-estimator-id-6\" class=\"sk-toggleable__label sk-toggleable__label-arrow\">num</label><div class=\"sk-toggleable__content\"><pre>[&#x27;index&#x27;, &#x27;RegistrationYear&#x27;, &#x27;Power&#x27;, &#x27;Kilometer&#x27;]</pre></div></div></div><div class=\"sk-serial\"><div class=\"sk-item\"><div class=\"sk-serial\"><div class=\"sk-item\"><div class=\"sk-estimator sk-toggleable\"><input class=\"sk-toggleable__control sk-hidden--visually\" id=\"sk-estimator-id-7\" type=\"checkbox\" ><label for=\"sk-estimator-id-7\" class=\"sk-toggleable__label sk-toggleable__label-arrow\">StandardScaler</label><div class=\"sk-toggleable__content\"><pre>StandardScaler()</pre></div></div></div></div></div></div></div></div></div></div><div class=\"sk-item\"><div class=\"sk-estimator sk-toggleable\"><input class=\"sk-toggleable__control sk-hidden--visually\" id=\"sk-estimator-id-8\" type=\"checkbox\" ><label for=\"sk-estimator-id-8\" class=\"sk-toggleable__label sk-toggleable__label-arrow\">GradientBoostingRegressor</label><div class=\"sk-toggleable__content\"><pre>GradientBoostingRegressor(random_state=1)</pre></div></div></div></div></div></div></div></div></div></div></div></div>"
      ],
      "text/plain": [
       "GridSearchCV(cv=3,\n",
       "             estimator=Pipeline(steps=[('preprocessor',\n",
       "                                        ColumnTransformer(transformers=[('cat',\n",
       "                                                                         Pipeline(steps=[('encoder',\n",
       "                                                                                          OneHotEncoder(handle_unknown='ignore'))]),\n",
       "                                                                         ['VehicleType',\n",
       "                                                                          'Gearbox',\n",
       "                                                                          'Model',\n",
       "                                                                          'Brand',\n",
       "                                                                          'Repaired']),\n",
       "                                                                        ('num',\n",
       "                                                                         Pipeline(steps=[('scaler',\n",
       "                                                                                          StandardScaler())]),\n",
       "                                                                         ['index',\n",
       "                                                                          'RegistrationYear',\n",
       "                                                                          'Power',\n",
       "                                                                          'Kilometer'])])),\n",
       "                                       ('model',\n",
       "                                        GradientBoostingRegressor(random_state=1))]),\n",
       "             param_grid={'model__max_depth': [8, 10, 12],\n",
       "                         'model__min_samples_leaf': [7, 10, 15, 20]},\n",
       "             scoring='neg_root_mean_squared_error')"
      ]
     },
     "execution_count": 30,
     "metadata": {},
     "output_type": "execute_result"
    }
   ],
   "source": [
    "%%time\n",
    "gradient_pipe = Pipeline([\n",
    "    ('preprocessor', preprocessor),\n",
    "    ('model', GradientBoostingRegressor(random_state=1, loss='squared_error'))\n",
    "])\n",
    "\n",
    "param_grid = {\n",
    "    'model__max_depth':[8, 10, 12],\n",
    "    'model__min_samples_leaf': [7, 10, 15, 20]\n",
    "}\n",
    "\n",
    "gradient_grid = GridSearchCV(gradient_pipe, param_grid, cv=3, scoring='neg_root_mean_squared_error')\n",
    "gradient_grid.fit(X_train, y_train)"
   ]
  },
  {
   "cell_type": "code",
   "execution_count": 31,
   "metadata": {
    "colab": {
     "base_uri": "https://localhost:8080/"
    },
    "id": "usqr3lSE3GTO",
    "outputId": "ad6bbd43-6500-4b39-96a5-e9716e11f9b7"
   },
   "outputs": [
    {
     "name": "stdout",
     "output_type": "stream",
     "text": [
      "Лучшее значение метрики -1433.4834213809\n",
      "Лучшие параметры модели {'model__max_depth': 12, 'model__min_samples_leaf': 10}\n"
     ]
    }
   ],
   "source": [
    "print('Лучшее значение метрики', gradient_grid.best_score_)\n",
    "print('Лучшие параметры модели', gradient_grid.best_params_)"
   ]
  },
  {
   "cell_type": "code",
   "execution_count": 32,
   "metadata": {
    "colab": {
     "base_uri": "https://localhost:8080/",
     "height": 175
    },
    "id": "mYRB7LQ1njTM",
    "outputId": "dd6ea455-e3e6-4315-bc8d-0b7019c2c965"
   },
   "outputs": [
    {
     "data": {
      "text/html": [
       "\n",
       "  <div id=\"df-3b8c3b78-f511-4b5b-8f51-d544434f2fac\">\n",
       "    <div class=\"colab-df-container\">\n",
       "      <div>\n",
       "<style scoped>\n",
       "    .dataframe tbody tr th:only-of-type {\n",
       "        vertical-align: middle;\n",
       "    }\n",
       "\n",
       "    .dataframe tbody tr th {\n",
       "        vertical-align: top;\n",
       "    }\n",
       "\n",
       "    .dataframe thead th {\n",
       "        text-align: right;\n",
       "    }\n",
       "</style>\n",
       "<table border=\"1\" class=\"dataframe\">\n",
       "  <thead>\n",
       "    <tr style=\"text-align: right;\">\n",
       "      <th></th>\n",
       "      <th>fit_time_in_s</th>\n",
       "      <th>cv_rmse</th>\n",
       "    </tr>\n",
       "  </thead>\n",
       "  <tbody>\n",
       "    <tr>\n",
       "      <th>LinearRegression</th>\n",
       "      <td>0.0</td>\n",
       "      <td>2364</td>\n",
       "    </tr>\n",
       "    <tr>\n",
       "      <th>LGBMRegressor</th>\n",
       "      <td>11.5</td>\n",
       "      <td>1467</td>\n",
       "    </tr>\n",
       "    <tr>\n",
       "      <th>CatBoostRegressor</th>\n",
       "      <td>150.0</td>\n",
       "      <td>1415</td>\n",
       "    </tr>\n",
       "    <tr>\n",
       "      <th>GradientBoostingRegressor</th>\n",
       "      <td>60.0</td>\n",
       "      <td>1433</td>\n",
       "    </tr>\n",
       "  </tbody>\n",
       "</table>\n",
       "</div>\n",
       "      <button class=\"colab-df-convert\" onclick=\"convertToInteractive('df-3b8c3b78-f511-4b5b-8f51-d544434f2fac')\"\n",
       "              title=\"Convert this dataframe to an interactive table.\"\n",
       "              style=\"display:none;\">\n",
       "        \n",
       "  <svg xmlns=\"http://www.w3.org/2000/svg\" height=\"24px\"viewBox=\"0 0 24 24\"\n",
       "       width=\"24px\">\n",
       "    <path d=\"M0 0h24v24H0V0z\" fill=\"none\"/>\n",
       "    <path d=\"M18.56 5.44l.94 2.06.94-2.06 2.06-.94-2.06-.94-.94-2.06-.94 2.06-2.06.94zm-11 1L8.5 8.5l.94-2.06 2.06-.94-2.06-.94L8.5 2.5l-.94 2.06-2.06.94zm10 10l.94 2.06.94-2.06 2.06-.94-2.06-.94-.94-2.06-.94 2.06-2.06.94z\"/><path d=\"M17.41 7.96l-1.37-1.37c-.4-.4-.92-.59-1.43-.59-.52 0-1.04.2-1.43.59L10.3 9.45l-7.72 7.72c-.78.78-.78 2.05 0 2.83L4 21.41c.39.39.9.59 1.41.59.51 0 1.02-.2 1.41-.59l7.78-7.78 2.81-2.81c.8-.78.8-2.07 0-2.86zM5.41 20L4 18.59l7.72-7.72 1.47 1.35L5.41 20z\"/>\n",
       "  </svg>\n",
       "      </button>\n",
       "      \n",
       "  <style>\n",
       "    .colab-df-container {\n",
       "      display:flex;\n",
       "      flex-wrap:wrap;\n",
       "      gap: 12px;\n",
       "    }\n",
       "\n",
       "    .colab-df-convert {\n",
       "      background-color: #E8F0FE;\n",
       "      border: none;\n",
       "      border-radius: 50%;\n",
       "      cursor: pointer;\n",
       "      display: none;\n",
       "      fill: #1967D2;\n",
       "      height: 32px;\n",
       "      padding: 0 0 0 0;\n",
       "      width: 32px;\n",
       "    }\n",
       "\n",
       "    .colab-df-convert:hover {\n",
       "      background-color: #E2EBFA;\n",
       "      box-shadow: 0px 1px 2px rgba(60, 64, 67, 0.3), 0px 1px 3px 1px rgba(60, 64, 67, 0.15);\n",
       "      fill: #174EA6;\n",
       "    }\n",
       "\n",
       "    [theme=dark] .colab-df-convert {\n",
       "      background-color: #3B4455;\n",
       "      fill: #D2E3FC;\n",
       "    }\n",
       "\n",
       "    [theme=dark] .colab-df-convert:hover {\n",
       "      background-color: #434B5C;\n",
       "      box-shadow: 0px 1px 3px 1px rgba(0, 0, 0, 0.15);\n",
       "      filter: drop-shadow(0px 1px 2px rgba(0, 0, 0, 0.3));\n",
       "      fill: #FFFFFF;\n",
       "    }\n",
       "  </style>\n",
       "\n",
       "      <script>\n",
       "        const buttonEl =\n",
       "          document.querySelector('#df-3b8c3b78-f511-4b5b-8f51-d544434f2fac button.colab-df-convert');\n",
       "        buttonEl.style.display =\n",
       "          google.colab.kernel.accessAllowed ? 'block' : 'none';\n",
       "\n",
       "        async function convertToInteractive(key) {\n",
       "          const element = document.querySelector('#df-3b8c3b78-f511-4b5b-8f51-d544434f2fac');\n",
       "          const dataTable =\n",
       "            await google.colab.kernel.invokeFunction('convertToInteractive',\n",
       "                                                     [key], {});\n",
       "          if (!dataTable) return;\n",
       "\n",
       "          const docLinkHtml = 'Like what you see? Visit the ' +\n",
       "            '<a target=\"_blank\" href=https://colab.research.google.com/notebooks/data_table.ipynb>data table notebook</a>'\n",
       "            + ' to learn more about interactive tables.';\n",
       "          element.innerHTML = '';\n",
       "          dataTable['output_type'] = 'display_data';\n",
       "          await google.colab.output.renderOutput(dataTable, element);\n",
       "          const docLink = document.createElement('div');\n",
       "          docLink.innerHTML = docLinkHtml;\n",
       "          element.appendChild(docLink);\n",
       "        }\n",
       "      </script>\n",
       "    </div>\n",
       "  </div>\n",
       "  "
      ],
      "text/plain": [
       "                           fit_time_in_s  cv_rmse\n",
       "LinearRegression                     0.0     2364\n",
       "LGBMRegressor                       11.5     1467\n",
       "CatBoostRegressor                  150.0     1415\n",
       "GradientBoostingRegressor           60.0     1433"
      ]
     },
     "execution_count": 32,
     "metadata": {},
     "output_type": "execute_result"
    }
   ],
   "source": [
    "models = ['LinearRegression', 'LGBMRegressor', 'CatBoostRegressor', 'GradientBoostingRegressor']\n",
    "fit_time_in_min = [0, 11.5, 150, 60]\n",
    "cv_rmse = [2364, 1467, 1415, 1433]\n",
    "\n",
    "pd.DataFrame({'fit_time_in_s':fit_time_in_min,\n",
    "            'cv_rmse': cv_rmse},\n",
    "            index=models)"
   ]
  },
  {
   "cell_type": "markdown",
   "metadata": {
    "id": "xksTIKuPL3Wp"
   },
   "source": [
    "**Вывод:** для задачи заказчика лучше всего подходит модель GradientBoostingRegressor, она немного уступает по точности CatBoostRegressor, но процесс обучения у нее занимает в 2.5 раза меньше времени."
   ]
  },
  {
   "cell_type": "markdown",
   "metadata": {
    "id": "th3IdtfKnjTN"
   },
   "source": [
    "# Тестирование лучшей модели"
   ]
  },
  {
   "cell_type": "code",
   "execution_count": 35,
   "metadata": {
    "colab": {
     "base_uri": "https://localhost:8080/"
    },
    "id": "sEgdlZSTnjTN",
    "outputId": "826dcd99-1bec-41c5-e49c-000bc5972ec5"
   },
   "outputs": [
    {
     "name": "stdout",
     "output_type": "stream",
     "text": [
      "RMSE LGBMRegressor = 1415.6918753551072\n",
      "CPU times: user 991 ms, sys: 7.99 ms, total: 999 ms\n",
      "Wall time: 1.68 s\n"
     ]
    }
   ],
   "source": [
    "%%time\n",
    "preds = gradient_grid.predict(X_test)\n",
    "print('RMSE LGBMRegressor =', mean_squared_error(y_test, preds, squared=False))"
   ]
  },
  {
   "cell_type": "markdown",
   "metadata": {
    "id": "MupIC0LlnjTN"
   },
   "source": [
    "> **Вывод: основываясь на качество предсказания, скорость предсказания и время обучения лучше всего подходит модель CatBoostRegressor. На валидационной выборке модель показывает значение метрики RMSE равной 1415**"
   ]
  },
  {
   "cell_type": "code",
   "execution_count": null,
   "metadata": {
    "id": "6JJaYupvnjTN"
   },
   "outputs": [],
   "source": []
  }
 ],
 "metadata": {
  "ExecuteTimeLog": [
   {
    "duration": 414,
    "start_time": "2023-01-03T08:32:26.064Z"
   },
   {
    "duration": 3006,
    "start_time": "2023-01-03T08:32:54.647Z"
   },
   {
    "duration": 28,
    "start_time": "2023-01-03T08:33:02.040Z"
   },
   {
    "duration": 140,
    "start_time": "2023-01-03T08:35:17.662Z"
   },
   {
    "duration": 133,
    "start_time": "2023-01-03T08:37:40.758Z"
   },
   {
    "duration": 63,
    "start_time": "2023-01-03T08:37:51.235Z"
   },
   {
    "duration": 4,
    "start_time": "2023-01-03T08:37:53.900Z"
   },
   {
    "duration": 205,
    "start_time": "2023-01-03T08:38:33.935Z"
   },
   {
    "duration": 171,
    "start_time": "2023-01-03T08:38:42.217Z"
   },
   {
    "duration": 3,
    "start_time": "2023-01-03T08:39:44.969Z"
   },
   {
    "duration": 886,
    "start_time": "2023-01-03T08:39:44.975Z"
   },
   {
    "duration": 14,
    "start_time": "2023-01-03T08:39:45.863Z"
   },
   {
    "duration": 144,
    "start_time": "2023-01-03T08:39:45.880Z"
   },
   {
    "duration": 4,
    "start_time": "2023-01-03T08:39:46.026Z"
   },
   {
    "duration": 53,
    "start_time": "2023-01-03T08:39:46.032Z"
   },
   {
    "duration": 17,
    "start_time": "2023-01-03T08:39:54.700Z"
   },
   {
    "duration": 6,
    "start_time": "2023-01-03T08:40:01.000Z"
   },
   {
    "duration": 3,
    "start_time": "2023-01-03T08:40:31.335Z"
   },
   {
    "duration": 875,
    "start_time": "2023-01-03T08:40:31.340Z"
   },
   {
    "duration": 15,
    "start_time": "2023-01-03T08:40:32.217Z"
   },
   {
    "duration": 142,
    "start_time": "2023-01-03T08:40:32.234Z"
   },
   {
    "duration": 4,
    "start_time": "2023-01-03T08:40:32.378Z"
   },
   {
    "duration": 40,
    "start_time": "2023-01-03T08:40:32.383Z"
   },
   {
    "duration": 12,
    "start_time": "2023-01-03T08:40:32.425Z"
   },
   {
    "duration": 169,
    "start_time": "2023-01-03T08:40:54.945Z"
   },
   {
    "duration": 3,
    "start_time": "2023-01-03T08:48:55.457Z"
   },
   {
    "duration": 838,
    "start_time": "2023-01-03T08:48:55.462Z"
   },
   {
    "duration": 13,
    "start_time": "2023-01-03T08:48:56.302Z"
   },
   {
    "duration": 134,
    "start_time": "2023-01-03T08:48:56.317Z"
   },
   {
    "duration": 4,
    "start_time": "2023-01-03T08:48:56.453Z"
   },
   {
    "duration": 72,
    "start_time": "2023-01-03T08:48:56.458Z"
   },
   {
    "duration": 0,
    "start_time": "2023-01-03T08:48:56.532Z"
   },
   {
    "duration": 15,
    "start_time": "2023-01-03T08:49:04.069Z"
   },
   {
    "duration": 105,
    "start_time": "2023-01-03T08:49:05.248Z"
   },
   {
    "duration": 736,
    "start_time": "2023-01-03T08:52:22.512Z"
   },
   {
    "duration": 2,
    "start_time": "2023-01-03T08:56:11.381Z"
   },
   {
    "duration": 446,
    "start_time": "2023-01-03T08:56:48.533Z"
   },
   {
    "duration": 19,
    "start_time": "2023-01-03T08:56:55.370Z"
   },
   {
    "duration": 51,
    "start_time": "2023-01-03T10:12:14.422Z"
   },
   {
    "duration": 1058,
    "start_time": "2023-01-03T10:12:18.738Z"
   },
   {
    "duration": 1127,
    "start_time": "2023-01-03T10:12:19.798Z"
   },
   {
    "duration": 20,
    "start_time": "2023-01-03T10:12:20.927Z"
   },
   {
    "duration": 140,
    "start_time": "2023-01-03T10:12:20.950Z"
   },
   {
    "duration": 3,
    "start_time": "2023-01-03T10:12:21.092Z"
   },
   {
    "duration": 50,
    "start_time": "2023-01-03T10:12:21.097Z"
   },
   {
    "duration": 121,
    "start_time": "2023-01-03T10:12:21.149Z"
   },
   {
    "duration": 1067,
    "start_time": "2023-01-03T10:12:21.272Z"
   },
   {
    "duration": 698,
    "start_time": "2023-01-03T10:12:37.446Z"
   },
   {
    "duration": 435,
    "start_time": "2023-01-03T10:12:44.918Z"
   },
   {
    "duration": 26,
    "start_time": "2023-01-03T10:12:50.518Z"
   },
   {
    "duration": 741,
    "start_time": "2023-01-03T10:17:53.307Z"
   },
   {
    "duration": 808,
    "start_time": "2023-01-03T10:18:11.274Z"
   },
   {
    "duration": 748,
    "start_time": "2023-01-03T10:18:30.730Z"
   },
   {
    "duration": 4,
    "start_time": "2023-01-03T10:18:47.827Z"
   },
   {
    "duration": 920,
    "start_time": "2023-01-03T10:18:55.417Z"
   },
   {
    "duration": 3,
    "start_time": "2023-01-03T10:22:52.717Z"
   },
   {
    "duration": 893,
    "start_time": "2023-01-03T10:22:52.722Z"
   },
   {
    "duration": 22,
    "start_time": "2023-01-03T10:22:53.616Z"
   },
   {
    "duration": 159,
    "start_time": "2023-01-03T10:22:53.640Z"
   },
   {
    "duration": 4,
    "start_time": "2023-01-03T10:22:53.801Z"
   },
   {
    "duration": 50,
    "start_time": "2023-01-03T10:22:53.807Z"
   },
   {
    "duration": 107,
    "start_time": "2023-01-03T10:22:53.858Z"
   },
   {
    "duration": 507,
    "start_time": "2023-01-03T10:22:53.968Z"
   },
   {
    "duration": 5,
    "start_time": "2023-01-03T10:22:54.477Z"
   },
   {
    "duration": 18,
    "start_time": "2023-01-03T10:22:54.484Z"
   },
   {
    "duration": 150,
    "start_time": "2023-01-03T10:23:35.546Z"
   },
   {
    "duration": 89,
    "start_time": "2023-01-03T10:24:54.371Z"
   },
   {
    "duration": 2,
    "start_time": "2023-01-03T10:26:19.490Z"
   },
   {
    "duration": 2,
    "start_time": "2023-01-03T10:26:30.613Z"
   },
   {
    "duration": 4,
    "start_time": "2023-01-03T10:28:41.109Z"
   },
   {
    "duration": 3,
    "start_time": "2023-01-03T10:29:20.030Z"
   },
   {
    "duration": 15,
    "start_time": "2023-01-03T10:30:24.167Z"
   },
   {
    "duration": 225,
    "start_time": "2023-01-03T10:30:29.425Z"
   },
   {
    "duration": 6692,
    "start_time": "2023-01-03T10:30:47.348Z"
   },
   {
    "duration": 543,
    "start_time": "2023-01-03T10:31:20.002Z"
   },
   {
    "duration": 3,
    "start_time": "2023-01-03T10:32:03.937Z"
   },
   {
    "duration": 552,
    "start_time": "2023-01-03T10:33:03.896Z"
   },
   {
    "duration": 4,
    "start_time": "2023-01-03T10:51:04.571Z"
   },
   {
    "duration": 12,
    "start_time": "2023-01-03T10:59:19.075Z"
   },
   {
    "duration": 10,
    "start_time": "2023-01-03T10:59:51.800Z"
   },
   {
    "duration": 9,
    "start_time": "2023-01-03T10:59:56.093Z"
   },
   {
    "duration": 4,
    "start_time": "2023-01-03T11:00:22.776Z"
   },
   {
    "duration": 17,
    "start_time": "2023-01-03T11:00:26.700Z"
   },
   {
    "duration": 4,
    "start_time": "2023-01-03T11:00:45.238Z"
   },
   {
    "duration": 32,
    "start_time": "2023-01-03T11:01:18.063Z"
   },
   {
    "duration": 26,
    "start_time": "2023-01-03T11:01:48.806Z"
   },
   {
    "duration": 26,
    "start_time": "2023-01-03T11:02:36.874Z"
   },
   {
    "duration": 29,
    "start_time": "2023-01-03T11:02:45.711Z"
   },
   {
    "duration": 25,
    "start_time": "2023-01-03T11:03:18.487Z"
   },
   {
    "duration": 252,
    "start_time": "2023-01-03T11:26:46.319Z"
   },
   {
    "duration": 3,
    "start_time": "2023-01-03T11:27:03.795Z"
   },
   {
    "duration": 823,
    "start_time": "2023-01-03T11:27:03.801Z"
   },
   {
    "duration": 13,
    "start_time": "2023-01-03T11:27:04.626Z"
   },
   {
    "duration": 134,
    "start_time": "2023-01-03T11:27:04.641Z"
   },
   {
    "duration": 5,
    "start_time": "2023-01-03T11:27:04.776Z"
   },
   {
    "duration": 43,
    "start_time": "2023-01-03T11:27:04.782Z"
   },
   {
    "duration": 101,
    "start_time": "2023-01-03T11:27:04.827Z"
   },
   {
    "duration": 497,
    "start_time": "2023-01-03T11:27:04.930Z"
   },
   {
    "duration": 257,
    "start_time": "2023-01-03T11:27:05.429Z"
   },
   {
    "duration": 241,
    "start_time": "2023-01-03T11:28:11.349Z"
   },
   {
    "duration": 255,
    "start_time": "2023-01-03T11:28:15.666Z"
   },
   {
    "duration": 31,
    "start_time": "2023-01-03T11:31:37.591Z"
   },
   {
    "duration": 4,
    "start_time": "2023-01-03T11:31:57.164Z"
   },
   {
    "duration": 766,
    "start_time": "2023-01-03T11:31:57.171Z"
   },
   {
    "duration": 14,
    "start_time": "2023-01-03T11:31:57.939Z"
   },
   {
    "duration": 160,
    "start_time": "2023-01-03T11:31:57.955Z"
   },
   {
    "duration": 5,
    "start_time": "2023-01-03T11:31:58.118Z"
   },
   {
    "duration": 22,
    "start_time": "2023-01-03T11:31:58.135Z"
   },
   {
    "duration": 101,
    "start_time": "2023-01-03T11:31:58.159Z"
   },
   {
    "duration": 470,
    "start_time": "2023-01-03T11:31:58.262Z"
   },
   {
    "duration": 392,
    "start_time": "2023-01-03T11:31:58.736Z"
   },
   {
    "duration": 30,
    "start_time": "2023-01-03T11:31:59.130Z"
   },
   {
    "duration": 0,
    "start_time": "2023-01-03T11:31:59.161Z"
   },
   {
    "duration": 0,
    "start_time": "2023-01-03T11:31:59.162Z"
   },
   {
    "duration": 0,
    "start_time": "2023-01-03T11:31:59.164Z"
   },
   {
    "duration": 0,
    "start_time": "2023-01-03T11:31:59.165Z"
   },
   {
    "duration": 1260,
    "start_time": "2023-01-03T11:52:02.235Z"
   },
   {
    "duration": 912,
    "start_time": "2023-01-03T11:52:03.497Z"
   },
   {
    "duration": 34,
    "start_time": "2023-01-03T11:52:04.410Z"
   },
   {
    "duration": 145,
    "start_time": "2023-01-03T11:52:04.446Z"
   },
   {
    "duration": 5,
    "start_time": "2023-01-03T11:52:04.593Z"
   },
   {
    "duration": 149,
    "start_time": "2023-01-03T11:52:04.600Z"
   },
   {
    "duration": 3,
    "start_time": "2023-01-03T11:52:04.751Z"
   },
   {
    "duration": 46,
    "start_time": "2023-01-03T11:52:04.755Z"
   },
   {
    "duration": 0,
    "start_time": "2023-01-03T11:52:04.803Z"
   },
   {
    "duration": 1,
    "start_time": "2023-01-03T11:52:04.804Z"
   },
   {
    "duration": 0,
    "start_time": "2023-01-03T11:52:04.806Z"
   },
   {
    "duration": 0,
    "start_time": "2023-01-03T11:52:04.807Z"
   },
   {
    "duration": 0,
    "start_time": "2023-01-03T11:52:04.808Z"
   },
   {
    "duration": 100,
    "start_time": "2023-01-03T11:52:45.467Z"
   },
   {
    "duration": 48,
    "start_time": "2023-01-03T11:52:49.271Z"
   },
   {
    "duration": 129,
    "start_time": "2023-01-03T11:53:24.098Z"
   },
   {
    "duration": 50,
    "start_time": "2023-01-03T13:34:31.231Z"
   },
   {
    "duration": 1220,
    "start_time": "2023-01-03T13:34:34.596Z"
   },
   {
    "duration": 1122,
    "start_time": "2023-01-03T13:34:35.818Z"
   },
   {
    "duration": 21,
    "start_time": "2023-01-03T13:34:36.942Z"
   },
   {
    "duration": 125,
    "start_time": "2023-01-03T13:34:36.964Z"
   },
   {
    "duration": 4,
    "start_time": "2023-01-03T13:34:37.091Z"
   },
   {
    "duration": 141,
    "start_time": "2023-01-03T13:34:37.097Z"
   },
   {
    "duration": 3,
    "start_time": "2023-01-03T13:34:37.240Z"
   },
   {
    "duration": 118,
    "start_time": "2023-01-03T13:34:37.245Z"
   },
   {
    "duration": 49,
    "start_time": "2023-01-03T13:34:37.365Z"
   },
   {
    "duration": 105,
    "start_time": "2023-01-03T13:34:37.416Z"
   },
   {
    "duration": 0,
    "start_time": "2023-01-03T13:34:37.523Z"
   },
   {
    "duration": 0,
    "start_time": "2023-01-03T13:34:37.524Z"
   },
   {
    "duration": 0,
    "start_time": "2023-01-03T13:34:37.525Z"
   },
   {
    "duration": 0,
    "start_time": "2023-01-03T13:34:37.526Z"
   },
   {
    "duration": 0,
    "start_time": "2023-01-03T13:34:37.528Z"
   },
   {
    "duration": 72,
    "start_time": "2023-01-03T13:34:46.977Z"
   },
   {
    "duration": 5779,
    "start_time": "2023-01-03T13:35:18.903Z"
   },
   {
    "duration": 36,
    "start_time": "2023-01-03T13:54:38.850Z"
   },
   {
    "duration": 3,
    "start_time": "2023-01-03T13:58:30.643Z"
   },
   {
    "duration": 6,
    "start_time": "2023-01-03T13:59:49.994Z"
   },
   {
    "duration": 4,
    "start_time": "2023-01-03T14:02:26.596Z"
   },
   {
    "duration": 9,
    "start_time": "2023-01-03T14:03:11.273Z"
   },
   {
    "duration": 20,
    "start_time": "2023-01-03T14:06:02.296Z"
   },
   {
    "duration": 18,
    "start_time": "2023-01-03T14:20:10.076Z"
   },
   {
    "duration": 51,
    "start_time": "2023-01-04T07:10:12.198Z"
   },
   {
    "duration": 1178,
    "start_time": "2023-01-04T07:10:15.680Z"
   },
   {
    "duration": 2836,
    "start_time": "2023-01-04T07:10:16.860Z"
   },
   {
    "duration": 29,
    "start_time": "2023-01-04T07:10:19.699Z"
   },
   {
    "duration": 166,
    "start_time": "2023-01-04T07:10:19.730Z"
   },
   {
    "duration": 3,
    "start_time": "2023-01-04T07:10:19.898Z"
   },
   {
    "duration": 143,
    "start_time": "2023-01-04T07:10:19.903Z"
   },
   {
    "duration": 65,
    "start_time": "2023-01-04T07:10:20.047Z"
   },
   {
    "duration": 375,
    "start_time": "2023-01-04T07:10:20.114Z"
   },
   {
    "duration": 0,
    "start_time": "2023-01-04T07:10:20.490Z"
   },
   {
    "duration": 0,
    "start_time": "2023-01-04T07:10:20.491Z"
   },
   {
    "duration": 0,
    "start_time": "2023-01-04T07:10:20.493Z"
   },
   {
    "duration": 0,
    "start_time": "2023-01-04T07:10:20.494Z"
   },
   {
    "duration": 0,
    "start_time": "2023-01-04T07:10:20.495Z"
   },
   {
    "duration": 5102,
    "start_time": "2023-01-04T07:10:45.669Z"
   },
   {
    "duration": 4923,
    "start_time": "2023-01-04T07:11:02.070Z"
   },
   {
    "duration": 12574,
    "start_time": "2023-01-04T07:11:49.806Z"
   },
   {
    "duration": 73206,
    "start_time": "2023-01-04T07:14:09.223Z"
   },
   {
    "duration": 13,
    "start_time": "2023-01-04T07:17:59.866Z"
   },
   {
    "duration": 54,
    "start_time": "2023-01-04T07:18:05.045Z"
   },
   {
    "duration": 20,
    "start_time": "2023-01-04T07:18:05.234Z"
   },
   {
    "duration": 14,
    "start_time": "2023-01-04T07:19:29.488Z"
   },
   {
    "duration": 11918,
    "start_time": "2023-01-04T07:19:38.557Z"
   },
   {
    "duration": 38,
    "start_time": "2023-01-04T07:20:40.982Z"
   },
   {
    "duration": 7967,
    "start_time": "2023-01-04T07:21:31.699Z"
   },
   {
    "duration": 684,
    "start_time": "2023-01-04T07:25:08.536Z"
   },
   {
    "duration": 778,
    "start_time": "2023-01-04T07:25:18.740Z"
   },
   {
    "duration": 6162,
    "start_time": "2023-01-04T07:26:02.975Z"
   },
   {
    "duration": 1190,
    "start_time": "2023-01-04T07:26:54.461Z"
   },
   {
    "duration": 2789,
    "start_time": "2023-01-04T07:26:55.653Z"
   },
   {
    "duration": 19,
    "start_time": "2023-01-04T07:26:58.444Z"
   },
   {
    "duration": 131,
    "start_time": "2023-01-04T07:26:58.466Z"
   },
   {
    "duration": 142,
    "start_time": "2023-01-04T07:26:58.599Z"
   },
   {
    "duration": 71,
    "start_time": "2023-01-04T07:26:58.742Z"
   },
   {
    "duration": 48279,
    "start_time": "2023-01-04T07:26:58.815Z"
   },
   {
    "duration": 2240,
    "start_time": "2023-01-04T07:27:47.096Z"
   },
   {
    "duration": 89,
    "start_time": "2023-01-04T07:28:26.585Z"
   },
   {
    "duration": 1983,
    "start_time": "2023-01-04T07:28:31.734Z"
   },
   {
    "duration": 1820,
    "start_time": "2023-01-04T07:29:02.229Z"
   },
   {
    "duration": 1867,
    "start_time": "2023-01-04T07:29:33.133Z"
   },
   {
    "duration": 3217,
    "start_time": "2023-01-04T07:29:42.251Z"
   },
   {
    "duration": 12,
    "start_time": "2023-01-04T07:33:51.095Z"
   },
   {
    "duration": 45,
    "start_time": "2023-01-04T07:43:01.059Z"
   },
   {
    "duration": 77,
    "start_time": "2023-01-04T07:43:25.544Z"
   },
   {
    "duration": 13,
    "start_time": "2023-01-04T07:43:37.632Z"
   },
   {
    "duration": 15,
    "start_time": "2023-01-04T07:44:16.291Z"
   },
   {
    "duration": 36,
    "start_time": "2023-01-04T07:49:36.389Z"
   },
   {
    "duration": 17,
    "start_time": "2023-01-04T07:51:02.698Z"
   },
   {
    "duration": 57,
    "start_time": "2023-01-04T08:07:23.305Z"
   },
   {
    "duration": 50,
    "start_time": "2023-01-04T08:08:35.005Z"
   },
   {
    "duration": 1201,
    "start_time": "2023-01-04T08:14:15.479Z"
   },
   {
    "duration": 1318,
    "start_time": "2023-01-04T08:15:01.650Z"
   },
   {
    "duration": 926,
    "start_time": "2023-01-04T08:15:02.970Z"
   },
   {
    "duration": 25,
    "start_time": "2023-01-04T08:15:03.898Z"
   },
   {
    "duration": 146,
    "start_time": "2023-01-04T08:15:03.925Z"
   },
   {
    "duration": 165,
    "start_time": "2023-01-04T08:15:04.072Z"
   },
   {
    "duration": 142,
    "start_time": "2023-01-04T08:15:04.239Z"
   },
   {
    "duration": 76,
    "start_time": "2023-01-04T08:15:04.383Z"
   },
   {
    "duration": 1262,
    "start_time": "2023-01-04T08:15:04.461Z"
   },
   {
    "duration": 0,
    "start_time": "2023-01-04T08:15:05.725Z"
   },
   {
    "duration": 0,
    "start_time": "2023-01-04T08:15:05.727Z"
   },
   {
    "duration": 55,
    "start_time": "2023-01-04T08:17:12.019Z"
   },
   {
    "duration": 11,
    "start_time": "2023-01-04T08:21:20.473Z"
   },
   {
    "duration": 4494,
    "start_time": "2023-01-04T08:21:28.007Z"
   },
   {
    "duration": 9,
    "start_time": "2023-01-04T08:23:58.290Z"
   },
   {
    "duration": 15,
    "start_time": "2023-01-04T08:24:28.322Z"
   },
   {
    "duration": 2049,
    "start_time": "2023-01-04T08:24:53.864Z"
   },
   {
    "duration": 26141,
    "start_time": "2023-01-04T08:25:21.757Z"
   },
   {
    "duration": 926,
    "start_time": "2023-01-04T08:25:58.545Z"
   },
   {
    "duration": 884,
    "start_time": "2023-01-04T08:26:16.169Z"
   },
   {
    "duration": 907,
    "start_time": "2023-01-04T08:26:26.844Z"
   },
   {
    "duration": 1105,
    "start_time": "2023-01-04T08:28:18.435Z"
   },
   {
    "duration": 3625,
    "start_time": "2023-01-04T08:28:25.154Z"
   },
   {
    "duration": 931,
    "start_time": "2023-01-04T08:28:35.221Z"
   },
   {
    "duration": 43623,
    "start_time": "2023-01-04T08:29:06.542Z"
   },
   {
    "duration": 16286,
    "start_time": "2023-01-04T08:32:26.182Z"
   },
   {
    "duration": 13,
    "start_time": "2023-01-04T08:32:58.662Z"
   },
   {
    "duration": 16,
    "start_time": "2023-01-04T08:33:02.889Z"
   },
   {
    "duration": 10743,
    "start_time": "2023-01-04T08:33:22.269Z"
   },
   {
    "duration": 10589,
    "start_time": "2023-01-04T08:33:46.781Z"
   },
   {
    "duration": 6665,
    "start_time": "2023-01-04T08:34:47.129Z"
   },
   {
    "duration": 38664,
    "start_time": "2023-01-04T08:35:12.309Z"
   },
   {
    "duration": 39597,
    "start_time": "2023-01-04T08:44:06.462Z"
   },
   {
    "duration": 67,
    "start_time": "2023-01-04T08:47:19.014Z"
   },
   {
    "duration": 5196,
    "start_time": "2023-01-04T08:48:02.159Z"
   },
   {
    "duration": 5159,
    "start_time": "2023-01-04T08:48:17.807Z"
   },
   {
    "duration": 2346,
    "start_time": "2023-01-04T10:25:12.857Z"
   },
   {
    "duration": 38,
    "start_time": "2023-01-04T10:28:02.650Z"
   },
   {
    "duration": 1192,
    "start_time": "2023-01-04T10:28:07.050Z"
   },
   {
    "duration": 970,
    "start_time": "2023-01-04T10:28:08.243Z"
   },
   {
    "duration": 21,
    "start_time": "2023-01-04T10:28:09.215Z"
   },
   {
    "duration": 135,
    "start_time": "2023-01-04T10:28:09.237Z"
   },
   {
    "duration": 129,
    "start_time": "2023-01-04T10:28:09.374Z"
   },
   {
    "duration": 115,
    "start_time": "2023-01-04T10:28:09.505Z"
   },
   {
    "duration": 833,
    "start_time": "2023-01-04T10:28:09.622Z"
   },
   {
    "duration": 138692,
    "start_time": "2023-01-04T10:28:10.456Z"
   },
   {
    "duration": 0,
    "start_time": "2023-01-04T10:30:29.150Z"
   },
   {
    "duration": 182933,
    "start_time": "2023-01-04T10:30:32.896Z"
   },
   {
    "duration": 56,
    "start_time": "2023-01-04T10:34:44.935Z"
   },
   {
    "duration": 4,
    "start_time": "2023-01-04T10:35:05.693Z"
   },
   {
    "duration": 23953,
    "start_time": "2023-01-04T10:35:09.751Z"
   },
   {
    "duration": 24122,
    "start_time": "2023-01-04T10:36:16.433Z"
   },
   {
    "duration": 22770,
    "start_time": "2023-01-04T10:37:46.831Z"
   },
   {
    "duration": 24284,
    "start_time": "2023-01-04T10:43:31.602Z"
   },
   {
    "duration": 24784,
    "start_time": "2023-01-04T10:46:59.374Z"
   },
   {
    "duration": 3,
    "start_time": "2023-01-04T10:48:49.524Z"
   },
   {
    "duration": 766,
    "start_time": "2023-01-04T10:48:49.529Z"
   },
   {
    "duration": 18,
    "start_time": "2023-01-04T10:48:50.298Z"
   },
   {
    "duration": 169,
    "start_time": "2023-01-04T10:48:50.318Z"
   },
   {
    "duration": 121,
    "start_time": "2023-01-04T10:48:50.489Z"
   },
   {
    "duration": 80,
    "start_time": "2023-01-04T10:48:50.612Z"
   },
   {
    "duration": 59,
    "start_time": "2023-01-04T10:48:50.694Z"
   },
   {
    "duration": 1637,
    "start_time": "2023-01-04T10:48:50.755Z"
   },
   {
    "duration": 835,
    "start_time": "2023-01-04T10:49:04.020Z"
   },
   {
    "duration": 25111,
    "start_time": "2023-01-04T10:49:06.405Z"
   },
   {
    "duration": 683,
    "start_time": "2023-01-04T10:54:08.376Z"
   },
   {
    "duration": 450,
    "start_time": "2023-01-04T10:54:24.754Z"
   },
   {
    "duration": 1442,
    "start_time": "2023-01-04T10:54:55.761Z"
   },
   {
    "duration": 147,
    "start_time": "2023-01-04T10:55:57.768Z"
   },
   {
    "duration": 1286,
    "start_time": "2023-01-04T10:56:00.275Z"
   },
   {
    "duration": 24731,
    "start_time": "2023-01-04T10:56:07.755Z"
   },
   {
    "duration": 4,
    "start_time": "2023-01-04T10:56:39.783Z"
   },
   {
    "duration": 695,
    "start_time": "2023-01-04T10:56:39.789Z"
   },
   {
    "duration": 13,
    "start_time": "2023-01-04T10:56:40.486Z"
   },
   {
    "duration": 113,
    "start_time": "2023-01-04T10:56:40.500Z"
   },
   {
    "duration": 109,
    "start_time": "2023-01-04T10:56:40.615Z"
   },
   {
    "duration": 96,
    "start_time": "2023-01-04T10:56:40.725Z"
   },
   {
    "duration": 38,
    "start_time": "2023-01-04T10:56:40.823Z"
   },
   {
    "duration": 99,
    "start_time": "2023-01-04T10:56:40.863Z"
   },
   {
    "duration": 809,
    "start_time": "2023-01-04T10:56:40.964Z"
   },
   {
    "duration": 24887,
    "start_time": "2023-01-04T10:56:41.775Z"
   },
   {
    "duration": 1754,
    "start_time": "2023-01-04T10:58:46.825Z"
   },
   {
    "duration": 2502,
    "start_time": "2023-01-04T10:58:57.652Z"
   },
   {
    "duration": 2496,
    "start_time": "2023-01-04T10:59:07.827Z"
   },
   {
    "duration": 2509,
    "start_time": "2023-01-04T10:59:20.892Z"
   },
   {
    "duration": 1769,
    "start_time": "2023-01-04T10:59:39.284Z"
   },
   {
    "duration": 1792,
    "start_time": "2023-01-04T11:00:25.250Z"
   },
   {
    "duration": 4,
    "start_time": "2023-01-04T11:00:30.548Z"
   },
   {
    "duration": 727,
    "start_time": "2023-01-04T11:00:30.555Z"
   },
   {
    "duration": 13,
    "start_time": "2023-01-04T11:00:31.283Z"
   },
   {
    "duration": 113,
    "start_time": "2023-01-04T11:00:31.298Z"
   },
   {
    "duration": 109,
    "start_time": "2023-01-04T11:00:31.413Z"
   },
   {
    "duration": 93,
    "start_time": "2023-01-04T11:00:31.523Z"
   },
   {
    "duration": 38,
    "start_time": "2023-01-04T11:00:31.617Z"
   },
   {
    "duration": 206,
    "start_time": "2023-01-04T11:00:31.657Z"
   },
   {
    "duration": 0,
    "start_time": "2023-01-04T11:00:31.865Z"
   },
   {
    "duration": 0,
    "start_time": "2023-01-04T11:00:31.866Z"
   },
   {
    "duration": 0,
    "start_time": "2023-01-04T11:00:31.867Z"
   },
   {
    "duration": 90,
    "start_time": "2023-01-04T11:01:06.327Z"
   },
   {
    "duration": 68,
    "start_time": "2023-01-04T11:01:08.915Z"
   },
   {
    "duration": 87,
    "start_time": "2023-01-04T11:01:49.700Z"
   },
   {
    "duration": 4,
    "start_time": "2023-01-04T11:04:13.198Z"
   },
   {
    "duration": 737,
    "start_time": "2023-01-04T11:04:13.204Z"
   },
   {
    "duration": 12,
    "start_time": "2023-01-04T11:04:13.942Z"
   },
   {
    "duration": 108,
    "start_time": "2023-01-04T11:04:13.956Z"
   },
   {
    "duration": 110,
    "start_time": "2023-01-04T11:04:14.066Z"
   },
   {
    "duration": 115,
    "start_time": "2023-01-04T11:04:14.178Z"
   },
   {
    "duration": 39,
    "start_time": "2023-01-04T11:04:14.294Z"
   },
   {
    "duration": 96,
    "start_time": "2023-01-04T11:04:14.334Z"
   },
   {
    "duration": 48,
    "start_time": "2023-01-04T11:04:18.738Z"
   },
   {
    "duration": 1262,
    "start_time": "2023-01-04T11:06:26.229Z"
   },
   {
    "duration": 1369,
    "start_time": "2023-01-04T11:07:00.984Z"
   },
   {
    "duration": 1219,
    "start_time": "2023-01-04T11:07:02.355Z"
   },
   {
    "duration": 22,
    "start_time": "2023-01-04T11:07:03.576Z"
   },
   {
    "duration": 118,
    "start_time": "2023-01-04T11:07:03.600Z"
   },
   {
    "duration": 146,
    "start_time": "2023-01-04T11:07:03.720Z"
   },
   {
    "duration": 106,
    "start_time": "2023-01-04T11:07:03.868Z"
   },
   {
    "duration": 53,
    "start_time": "2023-01-04T11:07:03.976Z"
   },
   {
    "duration": 113,
    "start_time": "2023-01-04T11:07:04.031Z"
   },
   {
    "duration": 3485,
    "start_time": "2023-01-04T11:07:04.146Z"
   },
   {
    "duration": 845,
    "start_time": "2023-01-04T11:07:07.635Z"
   },
   {
    "duration": 25571,
    "start_time": "2023-01-04T11:07:08.482Z"
   },
   {
    "duration": 802,
    "start_time": "2023-01-04T11:33:18.182Z"
   },
   {
    "duration": 4,
    "start_time": "2023-01-04T11:33:31.955Z"
   },
   {
    "duration": 690,
    "start_time": "2023-01-04T11:33:31.961Z"
   },
   {
    "duration": 13,
    "start_time": "2023-01-04T11:33:32.653Z"
   },
   {
    "duration": 103,
    "start_time": "2023-01-04T11:33:32.668Z"
   },
   {
    "duration": 103,
    "start_time": "2023-01-04T11:33:32.773Z"
   },
   {
    "duration": 88,
    "start_time": "2023-01-04T11:33:32.877Z"
   },
   {
    "duration": 31,
    "start_time": "2023-01-04T11:33:32.966Z"
   },
   {
    "duration": 122,
    "start_time": "2023-01-04T11:33:32.999Z"
   },
   {
    "duration": 16,
    "start_time": "2023-01-04T11:33:33.123Z"
   },
   {
    "duration": 790,
    "start_time": "2023-01-04T11:33:33.141Z"
   },
   {
    "duration": 724,
    "start_time": "2023-01-04T11:33:33.933Z"
   },
   {
    "duration": 0,
    "start_time": "2023-01-04T11:33:34.658Z"
   },
   {
    "duration": 23,
    "start_time": "2023-01-04T11:34:53.721Z"
   },
   {
    "duration": 4,
    "start_time": "2023-01-04T11:35:41.482Z"
   },
   {
    "duration": 678,
    "start_time": "2023-01-04T11:35:41.488Z"
   },
   {
    "duration": 16,
    "start_time": "2023-01-04T11:35:42.168Z"
   },
   {
    "duration": 111,
    "start_time": "2023-01-04T11:35:42.186Z"
   },
   {
    "duration": 114,
    "start_time": "2023-01-04T11:35:42.299Z"
   },
   {
    "duration": 76,
    "start_time": "2023-01-04T11:35:42.415Z"
   },
   {
    "duration": 43,
    "start_time": "2023-01-04T11:35:42.493Z"
   },
   {
    "duration": 95,
    "start_time": "2023-01-04T11:35:42.538Z"
   },
   {
    "duration": 18,
    "start_time": "2023-01-04T11:35:42.635Z"
   },
   {
    "duration": 57,
    "start_time": "2023-01-04T11:35:42.654Z"
   },
   {
    "duration": 15,
    "start_time": "2023-01-04T11:35:42.713Z"
   },
   {
    "duration": 724,
    "start_time": "2023-01-04T11:35:42.730Z"
   },
   {
    "duration": 0,
    "start_time": "2023-01-04T11:35:43.455Z"
   },
   {
    "duration": 15,
    "start_time": "2023-01-04T11:36:50.781Z"
   },
   {
    "duration": 5,
    "start_time": "2023-01-04T11:36:56.764Z"
   },
   {
    "duration": 14,
    "start_time": "2023-01-04T11:37:40.529Z"
   },
   {
    "duration": 9444,
    "start_time": "2023-01-04T11:37:45.684Z"
   },
   {
    "duration": 4,
    "start_time": "2023-01-04T11:40:01.970Z"
   },
   {
    "duration": 784,
    "start_time": "2023-01-04T11:40:01.976Z"
   },
   {
    "duration": 14,
    "start_time": "2023-01-04T11:40:02.761Z"
   },
   {
    "duration": 126,
    "start_time": "2023-01-04T11:40:02.777Z"
   },
   {
    "duration": 110,
    "start_time": "2023-01-04T11:40:02.911Z"
   },
   {
    "duration": 94,
    "start_time": "2023-01-04T11:40:03.023Z"
   },
   {
    "duration": 31,
    "start_time": "2023-01-04T11:40:03.120Z"
   },
   {
    "duration": 27,
    "start_time": "2023-01-04T11:40:03.153Z"
   },
   {
    "duration": 90,
    "start_time": "2023-01-04T11:40:03.182Z"
   },
   {
    "duration": 18,
    "start_time": "2023-01-04T11:40:03.275Z"
   },
   {
    "duration": 13333,
    "start_time": "2023-01-04T11:40:03.296Z"
   },
   {
    "duration": 1609,
    "start_time": "2023-01-04T11:40:16.630Z"
   },
   {
    "duration": 49,
    "start_time": "2023-01-04T11:42:40.500Z"
   },
   {
    "duration": 1303,
    "start_time": "2023-01-04T11:42:59.289Z"
   },
   {
    "duration": 1023,
    "start_time": "2023-01-04T11:43:00.594Z"
   },
   {
    "duration": 19,
    "start_time": "2023-01-04T11:43:01.619Z"
   },
   {
    "duration": 114,
    "start_time": "2023-01-04T11:43:01.639Z"
   },
   {
    "duration": 114,
    "start_time": "2023-01-04T11:43:01.756Z"
   },
   {
    "duration": 100,
    "start_time": "2023-01-04T11:43:01.872Z"
   },
   {
    "duration": 51,
    "start_time": "2023-01-04T11:43:01.973Z"
   },
   {
    "duration": 29,
    "start_time": "2023-01-04T11:43:02.025Z"
   },
   {
    "duration": 89,
    "start_time": "2023-01-04T11:43:02.056Z"
   },
   {
    "duration": 23,
    "start_time": "2023-01-04T11:43:02.147Z"
   },
   {
    "duration": 12159,
    "start_time": "2023-01-04T11:43:02.172Z"
   },
   {
    "duration": 35149,
    "start_time": "2023-01-04T11:43:14.333Z"
   },
   {
    "duration": 4,
    "start_time": "2023-01-04T11:44:08.793Z"
   },
   {
    "duration": 702,
    "start_time": "2023-01-04T11:44:08.799Z"
   },
   {
    "duration": 14,
    "start_time": "2023-01-04T11:44:09.503Z"
   },
   {
    "duration": 103,
    "start_time": "2023-01-04T11:44:09.519Z"
   },
   {
    "duration": 103,
    "start_time": "2023-01-04T11:44:09.623Z"
   },
   {
    "duration": 94,
    "start_time": "2023-01-04T11:44:09.728Z"
   },
   {
    "duration": 30,
    "start_time": "2023-01-04T11:44:09.824Z"
   },
   {
    "duration": 101,
    "start_time": "2023-01-04T11:44:09.856Z"
   },
   {
    "duration": 55,
    "start_time": "2023-01-04T11:44:09.959Z"
   },
   {
    "duration": 15,
    "start_time": "2023-01-04T11:44:10.015Z"
   },
   {
    "duration": 9499,
    "start_time": "2023-01-04T11:44:10.032Z"
   },
   {
    "duration": 25301,
    "start_time": "2023-01-04T11:44:19.532Z"
   },
   {
    "duration": 195,
    "start_time": "2023-01-04T11:47:37.491Z"
   },
   {
    "duration": 10,
    "start_time": "2023-01-04T11:48:31.873Z"
   },
   {
    "duration": 10,
    "start_time": "2023-01-04T11:48:40.476Z"
   },
   {
    "duration": 11,
    "start_time": "2023-01-04T11:49:19.317Z"
   },
   {
    "duration": 8,
    "start_time": "2023-01-04T11:49:35.048Z"
   },
   {
    "duration": 8,
    "start_time": "2023-01-04T11:49:44.246Z"
   },
   {
    "duration": 10,
    "start_time": "2023-01-04T11:49:52.789Z"
   },
   {
    "duration": 7,
    "start_time": "2023-01-04T11:54:48.679Z"
   },
   {
    "duration": 5,
    "start_time": "2023-01-04T11:57:28.640Z"
   },
   {
    "duration": 690,
    "start_time": "2023-01-04T11:57:28.648Z"
   },
   {
    "duration": 26,
    "start_time": "2023-01-04T11:57:29.348Z"
   },
   {
    "duration": 103,
    "start_time": "2023-01-04T11:57:29.376Z"
   },
   {
    "duration": 105,
    "start_time": "2023-01-04T11:57:29.481Z"
   },
   {
    "duration": 93,
    "start_time": "2023-01-04T11:57:29.588Z"
   },
   {
    "duration": 46,
    "start_time": "2023-01-04T11:57:29.683Z"
   },
   {
    "duration": 92,
    "start_time": "2023-01-04T11:57:29.731Z"
   },
   {
    "duration": 51,
    "start_time": "2023-01-04T11:57:29.825Z"
   },
   {
    "duration": 15,
    "start_time": "2023-01-04T11:57:29.877Z"
   },
   {
    "duration": 13120,
    "start_time": "2023-01-04T11:57:29.893Z"
   },
   {
    "duration": 39046,
    "start_time": "2023-01-04T11:57:43.015Z"
   },
   {
    "duration": 1102,
    "start_time": "2023-01-04T12:01:34.357Z"
   },
   {
    "duration": 9031,
    "start_time": "2023-01-04T12:01:56.983Z"
   },
   {
    "duration": 12,
    "start_time": "2023-01-04T12:07:57.659Z"
   },
   {
    "duration": 467082,
    "start_time": "2023-01-04T12:08:10.268Z"
   },
   {
    "duration": 1093,
    "start_time": "2023-01-04T12:16:01.124Z"
   },
   {
    "duration": 80,
    "start_time": "2023-01-04T12:16:12.399Z"
   },
   {
    "duration": 1075,
    "start_time": "2023-01-04T12:17:08.121Z"
   },
   {
    "duration": 268166,
    "start_time": "2023-01-04T12:17:30.211Z"
   },
   {
    "duration": 3,
    "start_time": "2023-01-04T12:22:54.860Z"
   },
   {
    "duration": 672,
    "start_time": "2023-01-04T12:22:54.866Z"
   },
   {
    "duration": 12,
    "start_time": "2023-01-04T12:22:55.540Z"
   },
   {
    "duration": 106,
    "start_time": "2023-01-04T12:22:55.553Z"
   },
   {
    "duration": 100,
    "start_time": "2023-01-04T12:22:55.661Z"
   },
   {
    "duration": 92,
    "start_time": "2023-01-04T12:22:55.763Z"
   },
   {
    "duration": 31,
    "start_time": "2023-01-04T12:22:55.856Z"
   },
   {
    "duration": 93,
    "start_time": "2023-01-04T12:22:55.889Z"
   },
   {
    "duration": 52,
    "start_time": "2023-01-04T12:22:55.984Z"
   },
   {
    "duration": 14,
    "start_time": "2023-01-04T12:22:56.038Z"
   },
   {
    "duration": 5065,
    "start_time": "2023-01-04T12:22:56.054Z"
   },
   {
    "duration": 22810,
    "start_time": "2023-01-04T12:23:01.120Z"
   },
   {
    "duration": 18392,
    "start_time": "2023-01-04T12:23:23.932Z"
   },
   {
    "duration": 14461,
    "start_time": "2023-01-04T12:23:42.326Z"
   },
   {
    "duration": 4,
    "start_time": "2023-01-04T12:24:44.062Z"
   },
   {
    "duration": 673,
    "start_time": "2023-01-04T12:24:44.067Z"
   },
   {
    "duration": 14,
    "start_time": "2023-01-04T12:24:44.742Z"
   },
   {
    "duration": 112,
    "start_time": "2023-01-04T12:24:44.758Z"
   },
   {
    "duration": 121,
    "start_time": "2023-01-04T12:24:44.872Z"
   },
   {
    "duration": 86,
    "start_time": "2023-01-04T12:24:44.995Z"
   },
   {
    "duration": 41,
    "start_time": "2023-01-04T12:24:45.083Z"
   },
   {
    "duration": 98,
    "start_time": "2023-01-04T12:24:45.126Z"
   },
   {
    "duration": 48,
    "start_time": "2023-01-04T12:24:45.225Z"
   },
   {
    "duration": 14,
    "start_time": "2023-01-04T12:24:45.275Z"
   },
   {
    "duration": 13032,
    "start_time": "2023-01-04T12:24:45.291Z"
   },
   {
    "duration": 39964,
    "start_time": "2023-01-04T12:24:58.324Z"
   },
   {
    "duration": 9143,
    "start_time": "2023-01-04T12:25:38.289Z"
   },
   {
    "duration": 278290,
    "start_time": "2023-01-04T12:25:47.434Z"
   },
   {
    "duration": 4,
    "start_time": "2023-01-04T12:52:23.462Z"
   },
   {
    "duration": 692,
    "start_time": "2023-01-04T12:52:23.467Z"
   },
   {
    "duration": 13,
    "start_time": "2023-01-04T12:52:24.161Z"
   },
   {
    "duration": 106,
    "start_time": "2023-01-04T12:52:24.175Z"
   },
   {
    "duration": 105,
    "start_time": "2023-01-04T12:52:24.283Z"
   },
   {
    "duration": 91,
    "start_time": "2023-01-04T12:52:24.390Z"
   },
   {
    "duration": 45,
    "start_time": "2023-01-04T12:52:24.482Z"
   },
   {
    "duration": 20,
    "start_time": "2023-01-04T12:52:24.529Z"
   },
   {
    "duration": 73,
    "start_time": "2023-01-04T12:52:24.551Z"
   },
   {
    "duration": 48,
    "start_time": "2023-01-04T12:52:24.626Z"
   },
   {
    "duration": 14,
    "start_time": "2023-01-04T12:52:24.676Z"
   },
   {
    "duration": 5830,
    "start_time": "2023-01-04T12:52:24.692Z"
   },
   {
    "duration": 589,
    "start_time": "2023-01-04T12:52:30.524Z"
   },
   {
    "duration": 3,
    "start_time": "2023-01-04T12:52:31.115Z"
   },
   {
    "duration": 0,
    "start_time": "2023-01-04T12:52:31.119Z"
   },
   {
    "duration": 0,
    "start_time": "2023-01-04T12:52:31.121Z"
   },
   {
    "duration": 0,
    "start_time": "2023-01-04T12:52:31.122Z"
   },
   {
    "duration": 0,
    "start_time": "2023-01-04T12:52:31.123Z"
   },
   {
    "duration": 0,
    "start_time": "2023-01-04T12:52:31.124Z"
   },
   {
    "duration": 22147,
    "start_time": "2023-01-04T12:53:03.824Z"
   },
   {
    "duration": 188,
    "start_time": "2023-01-04T12:53:30.507Z"
   },
   {
    "duration": 18609,
    "start_time": "2023-01-04T12:53:52.176Z"
   },
   {
    "duration": 110,
    "start_time": "2023-01-04T12:54:10.787Z"
   },
   {
    "duration": 4,
    "start_time": "2023-01-04T12:54:10.898Z"
   },
   {
    "duration": 0,
    "start_time": "2023-01-04T12:54:10.913Z"
   },
   {
    "duration": 14253,
    "start_time": "2023-01-04T12:54:24.862Z"
   },
   {
    "duration": 207,
    "start_time": "2023-01-04T12:54:39.117Z"
   },
   {
    "duration": 1278,
    "start_time": "2023-01-05T06:46:42.707Z"
   },
   {
    "duration": 2719,
    "start_time": "2023-01-05T06:46:43.987Z"
   },
   {
    "duration": 18,
    "start_time": "2023-01-05T06:46:46.708Z"
   },
   {
    "duration": 104,
    "start_time": "2023-01-05T06:46:46.727Z"
   },
   {
    "duration": 110,
    "start_time": "2023-01-05T06:46:46.834Z"
   },
   {
    "duration": 103,
    "start_time": "2023-01-05T06:46:46.945Z"
   },
   {
    "duration": 45,
    "start_time": "2023-01-05T06:46:47.049Z"
   },
   {
    "duration": 44,
    "start_time": "2023-01-05T06:46:47.096Z"
   },
   {
    "duration": 68,
    "start_time": "2023-01-05T06:46:47.141Z"
   },
   {
    "duration": 56,
    "start_time": "2023-01-05T06:46:47.211Z"
   },
   {
    "duration": 18,
    "start_time": "2023-01-05T06:46:47.269Z"
   },
   {
    "duration": 4448,
    "start_time": "2023-01-05T06:46:47.289Z"
   },
   {
    "duration": 598,
    "start_time": "2023-01-05T06:46:51.739Z"
   },
   {
    "duration": 23213,
    "start_time": "2023-01-05T06:46:52.339Z"
   },
   {
    "duration": 190,
    "start_time": "2023-01-05T06:47:15.553Z"
   },
   {
    "duration": 18288,
    "start_time": "2023-01-05T06:47:15.745Z"
   },
   {
    "duration": 125,
    "start_time": "2023-01-05T06:47:34.036Z"
   },
   {
    "duration": 13943,
    "start_time": "2023-01-05T06:47:34.163Z"
   },
   {
    "duration": 220,
    "start_time": "2023-01-05T06:47:48.108Z"
   },
   {
    "duration": 40,
    "start_time": "2023-01-05T07:02:21.799Z"
   },
   {
    "duration": 3,
    "start_time": "2023-01-05T07:02:34.519Z"
   },
   {
    "duration": 730,
    "start_time": "2023-01-05T07:02:34.525Z"
   },
   {
    "duration": 12,
    "start_time": "2023-01-05T07:02:35.257Z"
   },
   {
    "duration": 115,
    "start_time": "2023-01-05T07:02:35.272Z"
   },
   {
    "duration": 96,
    "start_time": "2023-01-05T07:02:35.389Z"
   },
   {
    "duration": 40,
    "start_time": "2023-01-05T07:02:35.487Z"
   },
   {
    "duration": 29,
    "start_time": "2023-01-05T07:02:35.528Z"
   },
   {
    "duration": 65,
    "start_time": "2023-01-05T07:02:35.559Z"
   },
   {
    "duration": 66,
    "start_time": "2023-01-05T07:02:35.627Z"
   },
   {
    "duration": 68,
    "start_time": "2023-01-05T07:02:35.695Z"
   },
   {
    "duration": 13,
    "start_time": "2023-01-05T07:02:35.765Z"
   },
   {
    "duration": 39948,
    "start_time": "2023-01-05T07:02:35.780Z"
   },
   {
    "duration": 602,
    "start_time": "2023-01-05T07:03:15.729Z"
   },
   {
    "duration": 22691,
    "start_time": "2023-01-05T07:03:16.332Z"
   },
   {
    "duration": 219,
    "start_time": "2023-01-05T07:03:39.024Z"
   },
   {
    "duration": 1193,
    "start_time": "2023-01-06T14:46:04.352Z"
   },
   {
    "duration": 1007,
    "start_time": "2023-01-06T14:46:05.547Z"
   },
   {
    "duration": 24,
    "start_time": "2023-01-06T14:46:06.556Z"
   },
   {
    "duration": 112,
    "start_time": "2023-01-06T14:46:06.581Z"
   },
   {
    "duration": 86,
    "start_time": "2023-01-06T14:46:06.695Z"
   },
   {
    "duration": 57,
    "start_time": "2023-01-06T14:46:06.782Z"
   },
   {
    "duration": 28,
    "start_time": "2023-01-06T14:46:06.840Z"
   },
   {
    "duration": 59,
    "start_time": "2023-01-06T14:46:06.869Z"
   },
   {
    "duration": 65,
    "start_time": "2023-01-06T14:46:06.929Z"
   },
   {
    "duration": 58,
    "start_time": "2023-01-06T14:46:06.995Z"
   },
   {
    "duration": 17,
    "start_time": "2023-01-06T14:46:07.054Z"
   },
   {
    "duration": 4557,
    "start_time": "2023-01-06T14:46:07.073Z"
   },
   {
    "duration": 593,
    "start_time": "2023-01-06T14:46:11.632Z"
   },
   {
    "duration": 22211,
    "start_time": "2023-01-06T14:46:12.228Z"
   },
   {
    "duration": 173,
    "start_time": "2023-01-06T14:46:34.441Z"
   },
   {
    "duration": 18674,
    "start_time": "2023-01-06T14:46:34.616Z"
   },
   {
    "duration": 103,
    "start_time": "2023-01-06T14:46:53.291Z"
   },
   {
    "duration": 14450,
    "start_time": "2023-01-06T14:46:53.396Z"
   },
   {
    "duration": 208,
    "start_time": "2023-01-06T14:47:07.848Z"
   },
   {
    "duration": 1485,
    "start_time": "2023-01-07T07:26:20.292Z"
   },
   {
    "duration": 1685,
    "start_time": "2023-01-07T07:26:21.782Z"
   },
   {
    "duration": 25,
    "start_time": "2023-01-07T07:26:23.469Z"
   },
   {
    "duration": 183,
    "start_time": "2023-01-07T07:26:23.496Z"
   },
   {
    "duration": 110,
    "start_time": "2023-01-07T07:26:23.684Z"
   },
   {
    "duration": 49,
    "start_time": "2023-01-07T07:26:23.795Z"
   },
   {
    "duration": 42,
    "start_time": "2023-01-07T07:26:23.845Z"
   },
   {
    "duration": 99,
    "start_time": "2023-01-07T07:26:23.889Z"
   },
   {
    "duration": 118,
    "start_time": "2023-01-07T07:26:23.990Z"
   },
   {
    "duration": 63,
    "start_time": "2023-01-07T07:26:24.110Z"
   },
   {
    "duration": 20,
    "start_time": "2023-01-07T07:26:24.175Z"
   },
   {
    "duration": 0,
    "start_time": "2023-01-07T07:35:05.587Z"
   },
   {
    "duration": 0,
    "start_time": "2023-01-07T07:35:05.588Z"
   },
   {
    "duration": 0,
    "start_time": "2023-01-07T07:35:05.589Z"
   },
   {
    "duration": 0,
    "start_time": "2023-01-07T07:35:05.590Z"
   },
   {
    "duration": 0,
    "start_time": "2023-01-07T07:35:05.591Z"
   },
   {
    "duration": 0,
    "start_time": "2023-01-07T07:35:05.592Z"
   },
   {
    "duration": 0,
    "start_time": "2023-01-07T07:35:05.593Z"
   },
   {
    "duration": 0,
    "start_time": "2023-01-07T07:35:05.595Z"
   },
   {
    "duration": 0,
    "start_time": "2023-01-07T07:35:05.596Z"
   },
   {
    "duration": 0,
    "start_time": "2023-01-07T07:35:05.597Z"
   },
   {
    "duration": 0,
    "start_time": "2023-01-07T07:35:05.598Z"
   },
   {
    "duration": 5,
    "start_time": "2023-01-07T07:35:14.220Z"
   },
   {
    "duration": 1050,
    "start_time": "2023-01-07T07:35:15.337Z"
   },
   {
    "duration": 19,
    "start_time": "2023-01-07T07:35:16.389Z"
   },
   {
    "duration": 275,
    "start_time": "2023-01-07T07:35:16.410Z"
   },
   {
    "duration": 135,
    "start_time": "2023-01-07T07:35:16.688Z"
   },
   {
    "duration": 61,
    "start_time": "2023-01-07T07:35:17.730Z"
   },
   {
    "duration": 21,
    "start_time": "2023-01-07T07:35:18.413Z"
   },
   {
    "duration": 129,
    "start_time": "2023-01-07T07:35:18.589Z"
   },
   {
    "duration": 153,
    "start_time": "2023-01-07T07:35:19.504Z"
   },
   {
    "duration": 23,
    "start_time": "2023-01-07T07:35:20.066Z"
   },
   {
    "duration": 22,
    "start_time": "2023-01-07T07:35:20.737Z"
   },
   {
    "duration": 31,
    "start_time": "2023-01-07T07:35:44.983Z"
   },
   {
    "duration": 16,
    "start_time": "2023-01-07T07:37:58.932Z"
   },
   {
    "duration": 27,
    "start_time": "2023-01-07T07:38:35.761Z"
   },
   {
    "duration": 12,
    "start_time": "2023-01-07T07:40:01.764Z"
   },
   {
    "duration": 994,
    "start_time": "2023-01-07T07:40:01.779Z"
   },
   {
    "duration": 22,
    "start_time": "2023-01-07T07:40:02.779Z"
   },
   {
    "duration": 266,
    "start_time": "2023-01-07T07:40:02.803Z"
   },
   {
    "duration": 113,
    "start_time": "2023-01-07T07:40:03.075Z"
   },
   {
    "duration": 54,
    "start_time": "2023-01-07T07:40:03.191Z"
   },
   {
    "duration": 33,
    "start_time": "2023-01-07T07:40:03.253Z"
   },
   {
    "duration": 111,
    "start_time": "2023-01-07T07:40:03.288Z"
   },
   {
    "duration": 37,
    "start_time": "2023-01-07T07:40:03.402Z"
   },
   {
    "duration": 42,
    "start_time": "2023-01-07T07:40:03.447Z"
   },
   {
    "duration": 97,
    "start_time": "2023-01-07T07:40:03.491Z"
   },
   {
    "duration": 16,
    "start_time": "2023-01-07T07:40:03.590Z"
   },
   {
    "duration": 461,
    "start_time": "2023-01-07T07:40:03.608Z"
   },
   {
    "duration": 108,
    "start_time": "2023-01-07T07:40:04.082Z"
   },
   {
    "duration": 425,
    "start_time": "2023-01-07T07:40:04.192Z"
   },
   {
    "duration": 85,
    "start_time": "2023-01-07T07:40:04.619Z"
   },
   {
    "duration": 442,
    "start_time": "2023-01-07T07:40:04.705Z"
   },
   {
    "duration": 75,
    "start_time": "2023-01-07T07:40:05.148Z"
   },
   {
    "duration": 402,
    "start_time": "2023-01-07T07:40:05.225Z"
   },
   {
    "duration": 88,
    "start_time": "2023-01-07T07:40:05.628Z"
   },
   {
    "duration": 22,
    "start_time": "2023-01-07T07:41:35.191Z"
   },
   {
    "duration": 126,
    "start_time": "2023-01-07T07:41:36.432Z"
   },
   {
    "duration": 82,
    "start_time": "2023-01-07T07:46:37.435Z"
   },
   {
    "duration": 13,
    "start_time": "2023-01-07T07:46:50.021Z"
   },
   {
    "duration": 13,
    "start_time": "2023-01-07T07:46:52.567Z"
   },
   {
    "duration": 96,
    "start_time": "2023-01-07T07:47:07.915Z"
   },
   {
    "duration": 108,
    "start_time": "2023-01-07T07:49:22.815Z"
   },
   {
    "duration": 4,
    "start_time": "2023-01-07T07:49:28.300Z"
   },
   {
    "duration": 924,
    "start_time": "2023-01-07T07:49:28.307Z"
   },
   {
    "duration": 24,
    "start_time": "2023-01-07T07:49:29.233Z"
   },
   {
    "duration": 215,
    "start_time": "2023-01-07T07:49:29.259Z"
   },
   {
    "duration": 113,
    "start_time": "2023-01-07T07:49:29.476Z"
   },
   {
    "duration": 54,
    "start_time": "2023-01-07T07:49:29.592Z"
   },
   {
    "duration": 30,
    "start_time": "2023-01-07T07:49:29.652Z"
   },
   {
    "duration": 114,
    "start_time": "2023-01-07T07:49:29.687Z"
   },
   {
    "duration": 19,
    "start_time": "2023-01-07T07:49:29.804Z"
   },
   {
    "duration": 37,
    "start_time": "2023-01-07T07:49:29.844Z"
   },
   {
    "duration": 20,
    "start_time": "2023-01-07T07:49:29.883Z"
   },
   {
    "duration": 104,
    "start_time": "2023-01-07T07:49:29.905Z"
   },
   {
    "duration": 75,
    "start_time": "2023-01-07T07:49:30.012Z"
   },
   {
    "duration": 13,
    "start_time": "2023-01-07T07:49:30.089Z"
   },
   {
    "duration": 1571,
    "start_time": "2023-01-07T07:56:26.853Z"
   },
   {
    "duration": 1080,
    "start_time": "2023-01-07T07:56:28.426Z"
   },
   {
    "duration": 46,
    "start_time": "2023-01-07T07:56:29.508Z"
   },
   {
    "duration": 288,
    "start_time": "2023-01-07T07:56:29.555Z"
   },
   {
    "duration": 114,
    "start_time": "2023-01-07T07:56:29.860Z"
   },
   {
    "duration": 60,
    "start_time": "2023-01-07T07:56:29.977Z"
   },
   {
    "duration": 54,
    "start_time": "2023-01-07T07:56:30.039Z"
   },
   {
    "duration": 158,
    "start_time": "2023-01-07T07:56:30.095Z"
   },
   {
    "duration": 29,
    "start_time": "2023-01-07T07:56:30.254Z"
   },
   {
    "duration": 78,
    "start_time": "2023-01-07T07:56:30.285Z"
   },
   {
    "duration": 27,
    "start_time": "2023-01-07T07:56:30.371Z"
   },
   {
    "duration": 192,
    "start_time": "2023-01-07T07:56:30.400Z"
   },
   {
    "duration": 101,
    "start_time": "2023-01-07T07:56:30.595Z"
   },
   {
    "duration": 15,
    "start_time": "2023-01-07T07:56:30.699Z"
   },
   {
    "duration": 1606,
    "start_time": "2023-01-07T08:04:02.222Z"
   },
   {
    "duration": 1035,
    "start_time": "2023-01-07T08:04:04.922Z"
   },
   {
    "duration": 30,
    "start_time": "2023-01-07T08:04:05.962Z"
   },
   {
    "duration": 177,
    "start_time": "2023-01-07T08:04:06.109Z"
   },
   {
    "duration": 110,
    "start_time": "2023-01-07T08:04:06.760Z"
   },
   {
    "duration": 51,
    "start_time": "2023-01-07T08:04:07.393Z"
   },
   {
    "duration": 27,
    "start_time": "2023-01-07T08:04:07.978Z"
   },
   {
    "duration": 92,
    "start_time": "2023-01-07T08:04:08.196Z"
   },
   {
    "duration": 24,
    "start_time": "2023-01-07T08:04:09.982Z"
   },
   {
    "duration": 46,
    "start_time": "2023-01-07T08:04:10.831Z"
   },
   {
    "duration": 4,
    "start_time": "2023-01-07T08:04:11.314Z"
   },
   {
    "duration": 72,
    "start_time": "2023-01-07T08:04:11.776Z"
   },
   {
    "duration": 59,
    "start_time": "2023-01-07T08:04:13.135Z"
   },
   {
    "duration": 18,
    "start_time": "2023-01-07T08:04:13.721Z"
   },
   {
    "duration": 420810,
    "start_time": "2023-01-07T08:04:15.663Z"
   },
   {
    "duration": 80,
    "start_time": "2023-01-07T08:11:16.478Z"
   },
   {
    "duration": 133,
    "start_time": "2023-01-07T08:20:26.818Z"
   },
   {
    "duration": 9,
    "start_time": "2023-01-07T08:20:30.384Z"
   },
   {
    "duration": 20,
    "start_time": "2023-01-07T08:20:36.562Z"
   },
   {
    "duration": 4,
    "start_time": "2023-01-07T08:22:57.776Z"
   },
   {
    "duration": 3,
    "start_time": "2023-01-07T08:23:33.118Z"
   },
   {
    "duration": 3394,
    "start_time": "2023-01-07T08:42:51.511Z"
   },
   {
    "duration": 3,
    "start_time": "2023-01-07T08:42:56.802Z"
   },
   {
    "duration": 1021,
    "start_time": "2023-01-07T08:42:57.208Z"
   },
   {
    "duration": 35,
    "start_time": "2023-01-07T08:42:58.231Z"
   },
   {
    "duration": 241,
    "start_time": "2023-01-07T08:42:58.268Z"
   },
   {
    "duration": 125,
    "start_time": "2023-01-07T08:42:58.511Z"
   },
   {
    "duration": 61,
    "start_time": "2023-01-07T08:42:58.639Z"
   },
   {
    "duration": 35,
    "start_time": "2023-01-07T08:42:58.864Z"
   },
   {
    "duration": 110,
    "start_time": "2023-01-07T08:42:59.023Z"
   },
   {
    "duration": 25,
    "start_time": "2023-01-07T08:42:59.901Z"
   },
   {
    "duration": 40,
    "start_time": "2023-01-07T08:43:00.192Z"
   },
   {
    "duration": 9,
    "start_time": "2023-01-07T08:43:00.340Z"
   },
   {
    "duration": 77,
    "start_time": "2023-01-07T08:43:00.478Z"
   },
   {
    "duration": 57,
    "start_time": "2023-01-07T08:43:00.764Z"
   },
   {
    "duration": 3,
    "start_time": "2023-01-07T08:43:00.888Z"
   },
   {
    "duration": 18,
    "start_time": "2023-01-07T08:43:01.264Z"
   },
   {
    "duration": 373092,
    "start_time": "2023-01-07T08:43:02.097Z"
   },
   {
    "duration": 1387741,
    "start_time": "2023-01-07T08:49:15.191Z"
   },
   {
    "duration": 678,
    "start_time": "2023-01-07T09:12:22.937Z"
   },
   {
    "duration": 5,
    "start_time": "2023-01-07T09:14:19.071Z"
   },
   {
    "duration": 790,
    "start_time": "2023-01-07T09:15:36.912Z"
   },
   {
    "duration": 627,
    "start_time": "2023-01-07T09:16:41.207Z"
   },
   {
    "duration": 1976,
    "start_time": "2023-01-07T09:17:16.316Z"
   },
   {
    "duration": 3,
    "start_time": "2023-01-07T09:17:18.295Z"
   },
   {
    "duration": 1069,
    "start_time": "2023-01-07T09:17:18.300Z"
   },
   {
    "duration": 31,
    "start_time": "2023-01-07T09:17:19.379Z"
   },
   {
    "duration": 212,
    "start_time": "2023-01-07T09:17:19.412Z"
   },
   {
    "duration": 145,
    "start_time": "2023-01-07T09:17:19.626Z"
   },
   {
    "duration": 57,
    "start_time": "2023-01-07T09:17:19.775Z"
   },
   {
    "duration": 42,
    "start_time": "2023-01-07T09:17:19.834Z"
   },
   {
    "duration": 122,
    "start_time": "2023-01-07T09:17:19.878Z"
   },
   {
    "duration": 38,
    "start_time": "2023-01-07T09:17:20.002Z"
   },
   {
    "duration": 41,
    "start_time": "2023-01-07T09:17:20.042Z"
   },
   {
    "duration": 20,
    "start_time": "2023-01-07T09:17:20.090Z"
   },
   {
    "duration": 99,
    "start_time": "2023-01-07T09:17:20.112Z"
   },
   {
    "duration": 73,
    "start_time": "2023-01-07T09:17:20.214Z"
   },
   {
    "duration": 5,
    "start_time": "2023-01-07T09:17:20.290Z"
   },
   {
    "duration": 22,
    "start_time": "2023-01-07T09:17:20.297Z"
   },
   {
    "duration": 271655,
    "start_time": "2023-01-07T09:17:20.321Z"
   },
   {
    "duration": 34691,
    "start_time": "2023-01-07T09:21:51.978Z"
   },
   {
    "duration": 22,
    "start_time": "2023-01-07T09:22:26.671Z"
   },
   {
    "duration": 0,
    "start_time": "2023-01-07T09:22:26.695Z"
   },
   {
    "duration": 0,
    "start_time": "2023-01-07T09:22:26.697Z"
   },
   {
    "duration": 0,
    "start_time": "2023-01-07T09:22:26.698Z"
   },
   {
    "duration": 0,
    "start_time": "2023-01-07T09:22:26.700Z"
   },
   {
    "duration": 0,
    "start_time": "2023-01-07T09:22:26.701Z"
   },
   {
    "duration": 0,
    "start_time": "2023-01-07T09:22:26.702Z"
   },
   {
    "duration": 0,
    "start_time": "2023-01-07T09:22:26.703Z"
   },
   {
    "duration": 595950,
    "start_time": "2023-01-07T09:22:30.336Z"
   },
   {
    "duration": 1281,
    "start_time": "2023-01-07T11:27:30.200Z"
   },
   {
    "duration": 3,
    "start_time": "2023-01-07T11:27:31.482Z"
   },
   {
    "duration": 2947,
    "start_time": "2023-01-07T11:27:31.487Z"
   },
   {
    "duration": 19,
    "start_time": "2023-01-07T11:27:34.436Z"
   },
   {
    "duration": 116,
    "start_time": "2023-01-07T11:27:34.456Z"
   },
   {
    "duration": 101,
    "start_time": "2023-01-07T11:27:34.577Z"
   },
   {
    "duration": 44,
    "start_time": "2023-01-07T11:27:34.680Z"
   },
   {
    "duration": 28,
    "start_time": "2023-01-07T11:27:34.726Z"
   },
   {
    "duration": 83,
    "start_time": "2023-01-07T11:27:34.756Z"
   },
   {
    "duration": 50,
    "start_time": "2023-01-07T11:27:34.841Z"
   },
   {
    "duration": 31,
    "start_time": "2023-01-07T11:27:34.893Z"
   },
   {
    "duration": 16,
    "start_time": "2023-01-07T11:27:34.926Z"
   },
   {
    "duration": 97,
    "start_time": "2023-01-07T11:27:34.944Z"
   },
   {
    "duration": 65,
    "start_time": "2023-01-07T11:27:35.045Z"
   },
   {
    "duration": 3,
    "start_time": "2023-01-07T11:27:35.111Z"
   },
   {
    "duration": 47,
    "start_time": "2023-01-07T11:27:35.116Z"
   },
   {
    "duration": 29992,
    "start_time": "2023-01-07T11:27:35.164Z"
   },
   {
    "duration": 3732,
    "start_time": "2023-01-07T11:28:05.157Z"
   },
   {
    "duration": 3,
    "start_time": "2023-01-07T11:28:08.891Z"
   },
   {
    "duration": 143,
    "start_time": "2023-01-07T11:28:08.896Z"
   },
   {
    "duration": 20280,
    "start_time": "2023-01-07T11:28:09.041Z"
   },
   {
    "duration": 163,
    "start_time": "2023-01-07T11:28:29.322Z"
   },
   {
    "duration": 15046,
    "start_time": "2023-01-07T11:28:29.486Z"
   },
   {
    "duration": 98,
    "start_time": "2023-01-07T11:28:44.534Z"
   },
   {
    "duration": 12510,
    "start_time": "2023-01-07T11:28:44.634Z"
   },
   {
    "duration": 171,
    "start_time": "2023-01-07T11:28:57.146Z"
   },
   {
    "duration": 10493,
    "start_time": "2023-01-07T11:28:57.323Z"
   },
   {
    "duration": 4,
    "start_time": "2023-01-07T11:30:17.599Z"
   },
   {
    "duration": 3,
    "start_time": "2023-01-07T11:32:57.868Z"
   },
   {
    "duration": 9408,
    "start_time": "2023-01-07T11:33:02.288Z"
   },
   {
    "duration": 3,
    "start_time": "2023-01-07T11:33:11.698Z"
   },
   {
    "duration": 8,
    "start_time": "2023-01-07T11:33:11.703Z"
   },
   {
    "duration": 79,
    "start_time": "2023-01-07T11:33:57.872Z"
   },
   {
    "duration": 76,
    "start_time": "2023-01-07T11:34:54.298Z"
   },
   {
    "duration": 9,
    "start_time": "2023-01-07T11:35:07.689Z"
   },
   {
    "duration": 6,
    "start_time": "2023-01-07T11:35:20.181Z"
   },
   {
    "duration": 13518,
    "start_time": "2023-01-07T11:36:11.963Z"
   },
   {
    "duration": 3,
    "start_time": "2023-01-07T11:36:28.963Z"
   },
   {
    "duration": 14431,
    "start_time": "2023-01-07T11:36:55.373Z"
   },
   {
    "duration": 3,
    "start_time": "2023-01-07T11:37:12.347Z"
   },
   {
    "duration": 4,
    "start_time": "2023-01-07T11:37:20.518Z"
   },
   {
    "duration": 55362,
    "start_time": "2023-01-07T11:37:33.838Z"
   },
   {
    "duration": 3,
    "start_time": "2023-01-07T11:38:29.203Z"
   },
   {
    "duration": 11,
    "start_time": "2023-01-07T11:38:29.208Z"
   },
   {
    "duration": 83,
    "start_time": "2023-01-07T11:39:34.919Z"
   },
   {
    "duration": 4,
    "start_time": "2023-01-07T11:39:37.830Z"
   },
   {
    "duration": 3,
    "start_time": "2023-01-07T11:39:39.158Z"
   },
   {
    "duration": 75,
    "start_time": "2023-01-07T11:40:04.910Z"
   },
   {
    "duration": 13,
    "start_time": "2023-01-07T11:44:32.432Z"
   },
   {
    "duration": 751557,
    "start_time": "2023-01-07T11:45:26.423Z"
   },
   {
    "duration": 5,
    "start_time": "2023-01-07T11:57:57.982Z"
   },
   {
    "duration": 23,
    "start_time": "2023-01-07T11:57:57.995Z"
   },
   {
    "duration": 1343,
    "start_time": "2023-01-07T11:58:00.920Z"
   },
   {
    "duration": 2,
    "start_time": "2023-01-07T11:58:02.265Z"
   },
   {
    "duration": 927,
    "start_time": "2023-01-07T11:58:02.268Z"
   },
   {
    "duration": 21,
    "start_time": "2023-01-07T11:58:03.199Z"
   },
   {
    "duration": 132,
    "start_time": "2023-01-07T11:58:03.222Z"
   },
   {
    "duration": 110,
    "start_time": "2023-01-07T11:58:03.356Z"
   },
   {
    "duration": 56,
    "start_time": "2023-01-07T11:58:03.468Z"
   },
   {
    "duration": 28,
    "start_time": "2023-01-07T11:58:03.526Z"
   },
   {
    "duration": 79,
    "start_time": "2023-01-07T11:58:03.556Z"
   },
   {
    "duration": 21,
    "start_time": "2023-01-07T11:58:03.636Z"
   },
   {
    "duration": 41,
    "start_time": "2023-01-07T11:58:03.658Z"
   },
   {
    "duration": 4,
    "start_time": "2023-01-07T11:58:03.702Z"
   },
   {
    "duration": 61,
    "start_time": "2023-01-07T11:58:03.708Z"
   },
   {
    "duration": 22,
    "start_time": "2023-01-07T11:58:03.772Z"
   },
   {
    "duration": 51,
    "start_time": "2023-01-07T11:58:03.797Z"
   },
   {
    "duration": 15,
    "start_time": "2023-01-07T11:58:03.849Z"
   },
   {
    "duration": 1333,
    "start_time": "2023-01-07T12:00:58.037Z"
   },
   {
    "duration": 2,
    "start_time": "2023-01-07T12:00:59.372Z"
   },
   {
    "duration": 938,
    "start_time": "2023-01-07T12:00:59.743Z"
   },
   {
    "duration": 21,
    "start_time": "2023-01-07T12:01:02.195Z"
   },
   {
    "duration": 123,
    "start_time": "2023-01-07T12:01:02.689Z"
   },
   {
    "duration": 114,
    "start_time": "2023-01-07T12:01:02.923Z"
   },
   {
    "duration": 55,
    "start_time": "2023-01-07T12:01:03.772Z"
   },
   {
    "duration": 30,
    "start_time": "2023-01-07T12:01:04.487Z"
   },
   {
    "duration": 71,
    "start_time": "2023-01-07T12:01:04.763Z"
   },
   {
    "duration": 21,
    "start_time": "2023-01-07T12:01:06.636Z"
   },
   {
    "duration": 31,
    "start_time": "2023-01-07T12:01:07.207Z"
   },
   {
    "duration": 4,
    "start_time": "2023-01-07T12:01:07.827Z"
   },
   {
    "duration": 75,
    "start_time": "2023-01-07T12:01:08.136Z"
   },
   {
    "duration": 10,
    "start_time": "2023-01-07T12:01:08.446Z"
   },
   {
    "duration": 54,
    "start_time": "2023-01-07T12:01:12.083Z"
   },
   {
    "duration": 20,
    "start_time": "2023-01-07T12:01:15.955Z"
   },
   {
    "duration": 581115,
    "start_time": "2023-01-07T12:01:17.480Z"
   },
   {
    "duration": 83,
    "start_time": "2023-01-07T12:10:58.599Z"
   },
   {
    "duration": 17,
    "start_time": "2023-01-07T12:10:58.684Z"
   },
   {
    "duration": 3,
    "start_time": "2023-01-07T12:12:57.703Z"
   },
   {
    "duration": 2,
    "start_time": "2023-01-07T12:12:58.304Z"
   },
   {
    "duration": 774,
    "start_time": "2023-01-07T12:12:58.676Z"
   },
   {
    "duration": 12,
    "start_time": "2023-01-07T12:12:59.452Z"
   },
   {
    "duration": 120,
    "start_time": "2023-01-07T12:12:59.803Z"
   },
   {
    "duration": 100,
    "start_time": "2023-01-07T12:13:00.001Z"
   },
   {
    "duration": 41,
    "start_time": "2023-01-07T12:13:00.907Z"
   },
   {
    "duration": 22,
    "start_time": "2023-01-07T12:13:01.504Z"
   },
   {
    "duration": 77,
    "start_time": "2023-01-07T12:13:01.956Z"
   },
   {
    "duration": 19,
    "start_time": "2023-01-07T12:13:03.209Z"
   },
   {
    "duration": 40,
    "start_time": "2023-01-07T12:13:03.669Z"
   },
   {
    "duration": 4,
    "start_time": "2023-01-07T12:13:04.149Z"
   },
   {
    "duration": 85,
    "start_time": "2023-01-07T12:13:04.370Z"
   },
   {
    "duration": 10,
    "start_time": "2023-01-07T12:13:04.518Z"
   },
   {
    "duration": 73,
    "start_time": "2023-01-07T12:13:04.849Z"
   },
   {
    "duration": 15,
    "start_time": "2023-01-07T12:13:05.101Z"
   },
   {
    "duration": 168325,
    "start_time": "2023-01-07T12:13:06.305Z"
   },
   {
    "duration": 93,
    "start_time": "2023-01-07T12:15:54.631Z"
   },
   {
    "duration": 9,
    "start_time": "2023-01-07T12:15:54.725Z"
   },
   {
    "duration": 25335,
    "start_time": "2023-01-07T12:16:01.775Z"
   },
   {
    "duration": 212,
    "start_time": "2023-01-07T12:16:27.112Z"
   },
   {
    "duration": 34711,
    "start_time": "2023-01-07T12:17:22.433Z"
   },
   {
    "duration": 96,
    "start_time": "2023-01-07T12:17:57.145Z"
   },
   {
    "duration": 55844,
    "start_time": "2023-01-07T12:18:20.791Z"
   },
   {
    "duration": 5,
    "start_time": "2023-01-07T12:19:58.467Z"
   },
   {
    "duration": 5,
    "start_time": "2023-01-07T12:20:00.613Z"
   },
   {
    "duration": 167,
    "start_time": "2023-01-07T12:21:04.391Z"
   },
   {
    "duration": 25159,
    "start_time": "2023-01-07T12:21:33.206Z"
   },
   {
    "duration": 920646,
    "start_time": "2023-01-07T12:23:12.945Z"
   },
   {
    "duration": 4,
    "start_time": "2023-01-07T12:38:33.593Z"
   },
   {
    "duration": 6,
    "start_time": "2023-01-07T12:38:33.598Z"
   },
   {
    "duration": 69,
    "start_time": "2023-01-07T12:52:48.795Z"
   },
   {
    "duration": 4,
    "start_time": "2023-01-07T12:57:43.072Z"
   },
   {
    "duration": 5,
    "start_time": "2023-01-07T12:57:56.370Z"
   },
   {
    "duration": 46715,
    "start_time": "2023-01-07T12:58:41.370Z"
   },
   {
    "duration": 4,
    "start_time": "2023-01-07T12:59:28.087Z"
   },
   {
    "duration": 39706,
    "start_time": "2023-01-07T12:59:28.092Z"
   },
   {
    "duration": 6,
    "start_time": "2023-01-07T13:00:27.780Z"
   },
   {
    "duration": 165334,
    "start_time": "2023-01-07T13:08:05.954Z"
   },
   {
    "duration": 21213,
    "start_time": "2023-01-07T13:10:51.290Z"
   },
   {
    "duration": 27220,
    "start_time": "2023-01-07T13:11:12.504Z"
   },
   {
    "duration": 20282,
    "start_time": "2023-01-07T13:11:39.726Z"
   },
   {
    "duration": 566,
    "start_time": "2023-01-07T13:12:48.088Z"
   },
   {
    "duration": 487,
    "start_time": "2023-01-07T13:13:50.105Z"
   },
   {
    "duration": 430,
    "start_time": "2023-01-07T13:14:18.961Z"
   },
   {
    "duration": 231,
    "start_time": "2023-01-07T13:17:00.790Z"
   },
   {
    "duration": 119,
    "start_time": "2023-01-07T13:17:02.849Z"
   },
   {
    "duration": 190,
    "start_time": "2023-01-07T13:17:05.220Z"
   },
   {
    "duration": 9,
    "start_time": "2023-01-07T13:23:11.319Z"
   },
   {
    "duration": 11,
    "start_time": "2023-01-07T13:23:17.019Z"
   },
   {
    "duration": 101,
    "start_time": "2023-01-07T13:24:18.939Z"
   },
   {
    "duration": 124,
    "start_time": "2023-01-07T13:28:10.964Z"
   },
   {
    "duration": 103,
    "start_time": "2023-01-07T13:28:42.184Z"
   },
   {
    "duration": 9,
    "start_time": "2023-01-07T13:29:57.399Z"
   },
   {
    "duration": 5,
    "start_time": "2023-01-07T13:30:05.736Z"
   },
   {
    "duration": 12,
    "start_time": "2023-01-07T13:30:17.647Z"
   },
   {
    "duration": 4,
    "start_time": "2023-01-07T13:31:47.357Z"
   },
   {
    "duration": 103,
    "start_time": "2023-01-07T13:32:48.127Z"
   },
   {
    "duration": 4,
    "start_time": "2023-01-07T13:33:06.739Z"
   },
   {
    "duration": 17110,
    "start_time": "2023-01-07T13:34:17.598Z"
   },
   {
    "duration": 5,
    "start_time": "2023-01-07T13:35:13.383Z"
   },
   {
    "duration": 24344,
    "start_time": "2023-01-07T13:35:54.242Z"
   },
   {
    "duration": 5,
    "start_time": "2023-01-07T13:36:56.647Z"
   },
   {
    "duration": 254665,
    "start_time": "2023-01-07T13:37:49.086Z"
   },
   {
    "duration": 3,
    "start_time": "2023-01-07T13:42:18.735Z"
   },
   {
    "duration": 19,
    "start_time": "2023-01-07T13:42:46.307Z"
   },
   {
    "duration": 117699,
    "start_time": "2023-01-07T13:43:39.396Z"
   },
   {
    "duration": 8,
    "start_time": "2023-01-07T13:48:11.239Z"
   },
   {
    "duration": 8,
    "start_time": "2023-01-07T13:48:26.110Z"
   },
   {
    "duration": 5,
    "start_time": "2023-01-07T13:48:36.124Z"
   },
   {
    "duration": 8,
    "start_time": "2023-01-07T13:48:38.777Z"
   },
   {
    "duration": 6586658,
    "start_time": "2023-01-07T13:48:55.860Z"
   },
   {
    "duration": 3,
    "start_time": "2023-01-07T15:39:11.930Z"
   },
   {
    "duration": 44,
    "start_time": "2023-01-08T08:50:01.252Z"
   },
   {
    "duration": 1426,
    "start_time": "2023-01-08T08:50:04.575Z"
   },
   {
    "duration": 3,
    "start_time": "2023-01-08T08:50:06.004Z"
   },
   {
    "duration": 1332,
    "start_time": "2023-01-08T08:50:06.015Z"
   },
   {
    "duration": 19,
    "start_time": "2023-01-08T08:50:07.348Z"
   },
   {
    "duration": 157,
    "start_time": "2023-01-08T08:50:07.369Z"
   },
   {
    "duration": 108,
    "start_time": "2023-01-08T08:50:07.528Z"
   },
   {
    "duration": 44,
    "start_time": "2023-01-08T08:50:07.637Z"
   },
   {
    "duration": 42,
    "start_time": "2023-01-08T08:50:07.683Z"
   },
   {
    "duration": 77,
    "start_time": "2023-01-08T08:50:07.727Z"
   },
   {
    "duration": 53,
    "start_time": "2023-01-08T08:50:07.806Z"
   },
   {
    "duration": 28,
    "start_time": "2023-01-08T08:50:07.862Z"
   },
   {
    "duration": 4,
    "start_time": "2023-01-08T08:50:07.891Z"
   },
   {
    "duration": 116,
    "start_time": "2023-01-08T08:50:07.896Z"
   },
   {
    "duration": 16,
    "start_time": "2023-01-08T08:50:08.018Z"
   },
   {
    "duration": 66,
    "start_time": "2023-01-08T08:50:08.036Z"
   },
   {
    "duration": 27,
    "start_time": "2023-01-08T08:50:08.103Z"
   },
   {
    "duration": 2686213,
    "start_time": "2023-01-08T08:50:08.132Z"
   },
   {
    "duration": 61441,
    "start_time": "2023-01-08T09:34:54.346Z"
   },
   {
    "duration": 36991,
    "start_time": "2023-01-08T09:35:55.789Z"
   },
   {
    "duration": 109,
    "start_time": "2023-01-08T09:36:32.781Z"
   },
   {
    "duration": 55,
    "start_time": "2023-01-08T09:36:32.892Z"
   },
   {
    "duration": 48,
    "start_time": "2023-01-08T09:36:32.948Z"
   },
   {
    "duration": 1200,
    "start_time": "2023-01-08T10:32:32.152Z"
   },
   {
    "duration": 3,
    "start_time": "2023-01-08T10:32:33.354Z"
   },
   {
    "duration": 1084,
    "start_time": "2023-01-08T10:32:33.359Z"
   },
   {
    "duration": 24,
    "start_time": "2023-01-08T10:32:34.445Z"
   },
   {
    "duration": 186,
    "start_time": "2023-01-08T10:32:34.471Z"
   },
   {
    "duration": 138,
    "start_time": "2023-01-08T10:32:34.660Z"
   },
   {
    "duration": 60,
    "start_time": "2023-01-08T10:32:34.804Z"
   },
   {
    "duration": 28,
    "start_time": "2023-01-08T10:32:34.865Z"
   },
   {
    "duration": 79,
    "start_time": "2023-01-08T10:32:34.898Z"
   },
   {
    "duration": 29,
    "start_time": "2023-01-08T10:32:36.288Z"
   },
   {
    "duration": 31,
    "start_time": "2023-01-08T10:32:36.526Z"
   },
   {
    "duration": 3,
    "start_time": "2023-01-08T10:32:36.688Z"
   },
   {
    "duration": 92,
    "start_time": "2023-01-08T10:32:36.915Z"
   },
   {
    "duration": 9,
    "start_time": "2023-01-08T10:32:37.061Z"
   },
   {
    "duration": 42,
    "start_time": "2023-01-08T10:32:37.329Z"
   },
   {
    "duration": 23,
    "start_time": "2023-01-08T10:32:37.795Z"
   },
   {
    "duration": 442253,
    "start_time": "2023-01-08T10:32:41.991Z"
   },
   {
    "duration": 15,
    "start_time": "2023-01-08T10:40:04.246Z"
   },
   {
    "duration": 4,
    "start_time": "2023-01-08T10:46:44.090Z"
   },
   {
    "duration": 3,
    "start_time": "2023-01-08T10:52:36.911Z"
   },
   {
    "duration": 3,
    "start_time": "2023-01-08T10:52:37.646Z"
   },
   {
    "duration": 352836,
    "start_time": "2023-01-08T10:53:05.610Z"
   },
   {
    "duration": 9,
    "start_time": "2023-01-08T11:00:29.663Z"
   },
   {
    "duration": 10,
    "start_time": "2023-01-08T11:00:36.411Z"
   },
   {
    "duration": 3,
    "start_time": "2023-01-08T11:01:14.182Z"
   },
   {
    "duration": 10,
    "start_time": "2023-01-08T11:01:21.173Z"
   },
   {
    "duration": 49,
    "start_time": "2023-01-08T11:02:14.104Z"
   },
   {
    "duration": 3,
    "start_time": "2023-01-08T11:02:23.171Z"
   },
   {
    "duration": 9,
    "start_time": "2023-01-08T11:02:50.173Z"
   },
   {
    "duration": 7,
    "start_time": "2023-01-08T11:02:52.759Z"
   },
   {
    "duration": 714071,
    "start_time": "2023-01-08T11:03:10.434Z"
   },
   {
    "duration": 8,
    "start_time": "2023-01-08T11:15:04.507Z"
   },
   {
    "duration": 9,
    "start_time": "2023-01-08T11:15:48.307Z"
   },
   {
    "duration": 8,
    "start_time": "2023-01-08T11:15:54.915Z"
   },
   {
    "duration": 9,
    "start_time": "2023-01-08T11:16:04.050Z"
   },
   {
    "duration": 4,
    "start_time": "2023-01-08T11:16:09.982Z"
   },
   {
    "duration": 1213,
    "start_time": "2023-01-08T11:24:26.425Z"
   },
   {
    "duration": 2,
    "start_time": "2023-01-08T11:24:27.640Z"
   },
   {
    "duration": 827,
    "start_time": "2023-01-08T11:24:27.644Z"
   },
   {
    "duration": 17,
    "start_time": "2023-01-08T11:24:28.473Z"
   },
   {
    "duration": 149,
    "start_time": "2023-01-08T11:24:28.492Z"
   },
   {
    "duration": 98,
    "start_time": "2023-01-08T11:24:28.643Z"
   },
   {
    "duration": 66,
    "start_time": "2023-01-08T11:24:28.743Z"
   },
   {
    "duration": 30,
    "start_time": "2023-01-08T11:24:28.812Z"
   },
   {
    "duration": 74,
    "start_time": "2023-01-08T11:24:28.844Z"
   },
   {
    "duration": 25,
    "start_time": "2023-01-08T11:24:28.919Z"
   },
   {
    "duration": 31,
    "start_time": "2023-01-08T11:24:28.945Z"
   },
   {
    "duration": 3,
    "start_time": "2023-01-08T11:24:28.978Z"
   },
   {
    "duration": 77,
    "start_time": "2023-01-08T11:24:29.002Z"
   },
   {
    "duration": 25,
    "start_time": "2023-01-08T11:24:29.083Z"
   },
   {
    "duration": 55,
    "start_time": "2023-01-08T11:24:29.109Z"
   },
   {
    "duration": 18,
    "start_time": "2023-01-08T11:24:29.166Z"
   },
   {
    "duration": 27,
    "start_time": "2023-01-08T11:24:29.185Z"
   },
   {
    "duration": 17,
    "start_time": "2023-01-08T11:24:29.213Z"
   },
   {
    "duration": 62793,
    "start_time": "2023-01-08T11:24:29.231Z"
   },
   {
    "duration": 1150,
    "start_time": "2023-01-08T11:25:50.660Z"
   },
   {
    "duration": 2,
    "start_time": "2023-01-08T11:25:51.815Z"
   },
   {
    "duration": 773,
    "start_time": "2023-01-08T11:25:51.819Z"
   },
   {
    "duration": 22,
    "start_time": "2023-01-08T11:25:52.596Z"
   },
   {
    "duration": 145,
    "start_time": "2023-01-08T11:25:52.619Z"
   },
   {
    "duration": 94,
    "start_time": "2023-01-08T11:25:52.765Z"
   },
   {
    "duration": 57,
    "start_time": "2023-01-08T11:25:52.860Z"
   },
   {
    "duration": 32,
    "start_time": "2023-01-08T11:25:52.918Z"
   },
   {
    "duration": 78,
    "start_time": "2023-01-08T11:25:52.952Z"
   },
   {
    "duration": 22,
    "start_time": "2023-01-08T11:25:53.032Z"
   },
   {
    "duration": 53,
    "start_time": "2023-01-08T11:25:53.056Z"
   },
   {
    "duration": 4,
    "start_time": "2023-01-08T11:25:53.111Z"
   },
   {
    "duration": 75,
    "start_time": "2023-01-08T11:25:53.116Z"
   },
   {
    "duration": 12,
    "start_time": "2023-01-08T11:25:53.192Z"
   },
   {
    "duration": 54,
    "start_time": "2023-01-08T11:25:53.205Z"
   },
   {
    "duration": 16,
    "start_time": "2023-01-08T11:25:53.260Z"
   },
   {
    "duration": 13,
    "start_time": "2023-01-08T11:25:53.278Z"
   },
   {
    "duration": 7,
    "start_time": "2023-01-08T11:25:53.293Z"
   },
   {
    "duration": 15,
    "start_time": "2023-01-08T11:25:53.302Z"
   },
   {
    "duration": 5,
    "start_time": "2023-01-08T11:25:53.318Z"
   },
   {
    "duration": 76290,
    "start_time": "2023-01-08T11:25:53.324Z"
   },
   {
    "duration": 30598,
    "start_time": "2023-01-08T11:27:09.615Z"
   },
   {
    "duration": 500,
    "start_time": "2023-01-08T11:27:40.215Z"
   },
   {
    "duration": 209,
    "start_time": "2023-01-08T11:27:40.717Z"
   },
   {
    "duration": 5,
    "start_time": "2023-01-08T11:27:40.928Z"
   },
   {
    "duration": 21173,
    "start_time": "2023-01-08T11:27:40.934Z"
   },
   {
    "duration": 184,
    "start_time": "2023-01-08T11:28:02.108Z"
   },
   {
    "duration": 61833,
    "start_time": "2023-01-08T11:28:02.301Z"
   },
   {
    "duration": 42510,
    "start_time": "2023-01-08T11:29:04.135Z"
   },
   {
    "duration": 120,
    "start_time": "2023-01-08T11:29:46.647Z"
   },
   {
    "duration": 36983,
    "start_time": "2023-01-08T11:29:46.769Z"
   },
   {
    "duration": 19639,
    "start_time": "2023-01-08T11:30:23.754Z"
   },
   {
    "duration": 236,
    "start_time": "2023-01-08T11:30:43.398Z"
   },
   {
    "duration": 44757,
    "start_time": "2023-01-08T11:30:43.636Z"
   },
   {
    "duration": 46,
    "start_time": "2023-01-08T11:36:13.813Z"
   },
   {
    "duration": 9,
    "start_time": "2023-01-08T11:36:31.611Z"
   },
   {
    "duration": 172,
    "start_time": "2023-01-08T11:39:58.396Z"
   },
   {
    "duration": 36177,
    "start_time": "2023-01-08T11:40:20.512Z"
   },
   {
    "duration": 61072,
    "start_time": "2023-01-08T11:41:37.510Z"
   },
   {
    "duration": 9,
    "start_time": "2023-01-08T11:42:47.852Z"
   },
   {
    "duration": 3,
    "start_time": "2023-01-08T11:48:58.715Z"
   },
   {
    "duration": 6,
    "start_time": "2023-01-08T11:48:58.720Z"
   },
   {
    "duration": 708,
    "start_time": "2023-01-08T11:48:58.727Z"
   },
   {
    "duration": 12,
    "start_time": "2023-01-08T11:48:59.437Z"
   },
   {
    "duration": 142,
    "start_time": "2023-01-08T11:48:59.451Z"
   },
   {
    "duration": 80,
    "start_time": "2023-01-08T11:48:59.597Z"
   },
   {
    "duration": 52,
    "start_time": "2023-01-08T11:48:59.678Z"
   },
   {
    "duration": 21,
    "start_time": "2023-01-08T11:48:59.731Z"
   },
   {
    "duration": 83,
    "start_time": "2023-01-08T11:48:59.754Z"
   },
   {
    "duration": 19,
    "start_time": "2023-01-08T11:48:59.838Z"
   },
   {
    "duration": 51,
    "start_time": "2023-01-08T11:48:59.859Z"
   },
   {
    "duration": 4,
    "start_time": "2023-01-08T11:48:59.915Z"
   },
   {
    "duration": 86,
    "start_time": "2023-01-08T11:48:59.921Z"
   },
   {
    "duration": 57,
    "start_time": "2023-01-08T11:49:00.011Z"
   },
   {
    "duration": 13,
    "start_time": "2023-01-08T11:49:00.070Z"
   },
   {
    "duration": 7,
    "start_time": "2023-01-08T11:49:00.101Z"
   },
   {
    "duration": 25,
    "start_time": "2023-01-08T11:49:00.111Z"
   },
   {
    "duration": 10,
    "start_time": "2023-01-08T11:49:00.138Z"
   },
   {
    "duration": 12,
    "start_time": "2023-01-08T11:49:00.149Z"
   },
   {
    "duration": 73862,
    "start_time": "2023-01-08T11:49:00.163Z"
   },
   {
    "duration": 36595,
    "start_time": "2023-01-08T11:50:14.027Z"
   },
   {
    "duration": 43666,
    "start_time": "2023-01-08T11:50:50.623Z"
   },
   {
    "duration": 20996,
    "start_time": "2023-01-08T11:51:34.290Z"
   },
   {
    "duration": 61795,
    "start_time": "2023-01-08T11:51:55.288Z"
   },
   {
    "duration": 40931,
    "start_time": "2023-01-08T11:52:57.084Z"
   },
   {
    "duration": 36162,
    "start_time": "2023-01-08T11:53:38.016Z"
   },
   {
    "duration": 18900,
    "start_time": "2023-01-08T11:54:14.180Z"
   },
   {
    "duration": 9,
    "start_time": "2023-01-08T11:54:33.081Z"
   },
   {
    "duration": 177,
    "start_time": "2023-01-08T11:54:33.097Z"
   }
  ],
  "colab": {
   "provenance": []
  },
  "kernelspec": {
   "display_name": "Python 3 (ipykernel)",
   "language": "python",
   "name": "python3"
  },
  "language_info": {
   "codemirror_mode": {
    "name": "ipython",
    "version": 3
   },
   "file_extension": ".py",
   "mimetype": "text/x-python",
   "name": "python",
   "nbconvert_exporter": "python",
   "pygments_lexer": "ipython3",
   "version": "3.9.12"
  },
  "toc": {
   "base_numbering": 1,
   "nav_menu": {},
   "number_sections": true,
   "sideBar": true,
   "skip_h1_title": true,
   "title_cell": "Table of Contents",
   "title_sidebar": "Contents",
   "toc_cell": false,
   "toc_position": {},
   "toc_section_display": true,
   "toc_window_display": false
  }
 },
 "nbformat": 4,
 "nbformat_minor": 4
}
