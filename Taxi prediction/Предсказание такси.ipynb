{
 "cells": [
  {
   "cell_type": "markdown",
   "metadata": {},
   "source": [
    "#  Прогнозирование заказов такси"
   ]
  },
  {
   "cell_type": "markdown",
   "metadata": {},
   "source": [
    "Компания собрала исторические данные о заказах такси в аэропортах. Чтобы привлекать больше водителей в период пиковой нагрузки, нужно спрогнозировать количество заказов такси на следующий час. Постройте модель для такого предсказания.\n",
    "\n",
    "Значение метрики *RMSE* на тестовой выборке должно быть не больше 48.\n",
    "\n",
    "Нам нужно:\n",
    "\n",
    "1. Загрузить данные и выполнить их ресемплирование по одному часу.\n",
    "2. Проанализировать данные.\n",
    "3. Обучить разные модели с различными гиперпараметрами. Сделать тестовую выборку размером 10% от исходных данных.\n",
    "4. Проверить данные на тестовой выборке и сделать выводы."
   ]
  },
  {
   "cell_type": "markdown",
   "metadata": {},
   "source": [
    "## Подготовка"
   ]
  },
  {
   "cell_type": "code",
   "execution_count": 3,
   "metadata": {},
   "outputs": [],
   "source": [
    "import pandas as pd\n",
    "import numpy as np\n",
    "import matplotlib.pyplot as plt\n",
    "from pylab import rcParams\n",
    "\n",
    "from statsmodels.tsa.seasonal import seasonal_decompose\n",
    "from statsmodels.graphics.tsaplots import plot_acf\n",
    "\n",
    "from lightgbm import LGBMRegressor\n",
    "\n",
    "from catboost import CatBoostRegressor, cv\n",
    "\n",
    "from sklearn.preprocessing import OneHotEncoder, StandardScaler\n",
    "from sklearn.model_selection import train_test_split, GridSearchCV, TimeSeriesSplit\n",
    "from sklearn.pipeline import Pipeline\n",
    "from sklearn.metrics import mean_squared_error\n",
    "from sklearn.ensemble import GradientBoostingRegressor\n",
    "from sklearn.linear_model import LinearRegression"
   ]
  },
  {
   "cell_type": "code",
   "execution_count": 4,
   "metadata": {},
   "outputs": [],
   "source": [
    "df = pd.read_csv('taxi.csv', index_col=[0], parse_dates=[0])\n",
    "df.sort_index(inplace=True)"
   ]
  },
  {
   "cell_type": "code",
   "execution_count": 5,
   "metadata": {},
   "outputs": [
    {
     "data": {
      "text/html": [
       "<div>\n",
       "<style scoped>\n",
       "    .dataframe tbody tr th:only-of-type {\n",
       "        vertical-align: middle;\n",
       "    }\n",
       "\n",
       "    .dataframe tbody tr th {\n",
       "        vertical-align: top;\n",
       "    }\n",
       "\n",
       "    .dataframe thead th {\n",
       "        text-align: right;\n",
       "    }\n",
       "</style>\n",
       "<table border=\"1\" class=\"dataframe\">\n",
       "  <thead>\n",
       "    <tr style=\"text-align: right;\">\n",
       "      <th></th>\n",
       "      <th>num_orders</th>\n",
       "    </tr>\n",
       "    <tr>\n",
       "      <th>datetime</th>\n",
       "      <th></th>\n",
       "    </tr>\n",
       "  </thead>\n",
       "  <tbody>\n",
       "    <tr>\n",
       "      <th>2018-03-01 00:00:00</th>\n",
       "      <td>9</td>\n",
       "    </tr>\n",
       "    <tr>\n",
       "      <th>2018-03-01 00:10:00</th>\n",
       "      <td>14</td>\n",
       "    </tr>\n",
       "    <tr>\n",
       "      <th>2018-03-01 00:20:00</th>\n",
       "      <td>28</td>\n",
       "    </tr>\n",
       "    <tr>\n",
       "      <th>2018-03-01 00:30:00</th>\n",
       "      <td>20</td>\n",
       "    </tr>\n",
       "    <tr>\n",
       "      <th>2018-03-01 00:40:00</th>\n",
       "      <td>32</td>\n",
       "    </tr>\n",
       "  </tbody>\n",
       "</table>\n",
       "</div>"
      ],
      "text/plain": [
       "                     num_orders\n",
       "datetime                       \n",
       "2018-03-01 00:00:00           9\n",
       "2018-03-01 00:10:00          14\n",
       "2018-03-01 00:20:00          28\n",
       "2018-03-01 00:30:00          20\n",
       "2018-03-01 00:40:00          32"
      ]
     },
     "execution_count": 5,
     "metadata": {},
     "output_type": "execute_result"
    }
   ],
   "source": [
    "df.head()"
   ]
  },
  {
   "cell_type": "code",
   "execution_count": 6,
   "metadata": {},
   "outputs": [],
   "source": [
    "df = df.resample('1H').sum()"
   ]
  },
  {
   "cell_type": "markdown",
   "metadata": {},
   "source": [
    "## Анализ"
   ]
  },
  {
   "cell_type": "markdown",
   "metadata": {},
   "source": [
    "**В датасете лежат данные с марта 2018 по август 2018**"
   ]
  },
  {
   "cell_type": "code",
   "execution_count": 7,
   "metadata": {},
   "outputs": [
    {
     "data": {
      "text/html": [
       "<div>\n",
       "<style scoped>\n",
       "    .dataframe tbody tr th:only-of-type {\n",
       "        vertical-align: middle;\n",
       "    }\n",
       "\n",
       "    .dataframe tbody tr th {\n",
       "        vertical-align: top;\n",
       "    }\n",
       "\n",
       "    .dataframe thead th {\n",
       "        text-align: right;\n",
       "    }\n",
       "</style>\n",
       "<table border=\"1\" class=\"dataframe\">\n",
       "  <thead>\n",
       "    <tr style=\"text-align: right;\">\n",
       "      <th></th>\n",
       "      <th>num_orders</th>\n",
       "    </tr>\n",
       "    <tr>\n",
       "      <th>datetime</th>\n",
       "      <th></th>\n",
       "    </tr>\n",
       "  </thead>\n",
       "  <tbody>\n",
       "    <tr>\n",
       "      <th>2018-03-01 00:00:00</th>\n",
       "      <td>124</td>\n",
       "    </tr>\n",
       "    <tr>\n",
       "      <th>2018-03-01 01:00:00</th>\n",
       "      <td>85</td>\n",
       "    </tr>\n",
       "    <tr>\n",
       "      <th>2018-03-01 02:00:00</th>\n",
       "      <td>71</td>\n",
       "    </tr>\n",
       "    <tr>\n",
       "      <th>2018-03-01 03:00:00</th>\n",
       "      <td>66</td>\n",
       "    </tr>\n",
       "    <tr>\n",
       "      <th>2018-03-01 04:00:00</th>\n",
       "      <td>43</td>\n",
       "    </tr>\n",
       "  </tbody>\n",
       "</table>\n",
       "</div>"
      ],
      "text/plain": [
       "                     num_orders\n",
       "datetime                       \n",
       "2018-03-01 00:00:00         124\n",
       "2018-03-01 01:00:00          85\n",
       "2018-03-01 02:00:00          71\n",
       "2018-03-01 03:00:00          66\n",
       "2018-03-01 04:00:00          43"
      ]
     },
     "metadata": {},
     "output_type": "display_data"
    }
   ],
   "source": [
    "display(df.head())"
   ]
  },
  {
   "cell_type": "code",
   "execution_count": 8,
   "metadata": {
    "scrolled": true
   },
   "outputs": [
    {
     "data": {
      "text/html": [
       "<div>\n",
       "<style scoped>\n",
       "    .dataframe tbody tr th:only-of-type {\n",
       "        vertical-align: middle;\n",
       "    }\n",
       "\n",
       "    .dataframe tbody tr th {\n",
       "        vertical-align: top;\n",
       "    }\n",
       "\n",
       "    .dataframe thead th {\n",
       "        text-align: right;\n",
       "    }\n",
       "</style>\n",
       "<table border=\"1\" class=\"dataframe\">\n",
       "  <thead>\n",
       "    <tr style=\"text-align: right;\">\n",
       "      <th></th>\n",
       "      <th>num_orders</th>\n",
       "    </tr>\n",
       "    <tr>\n",
       "      <th>datetime</th>\n",
       "      <th></th>\n",
       "    </tr>\n",
       "  </thead>\n",
       "  <tbody>\n",
       "    <tr>\n",
       "      <th>2018-08-31 19:00:00</th>\n",
       "      <td>136</td>\n",
       "    </tr>\n",
       "    <tr>\n",
       "      <th>2018-08-31 20:00:00</th>\n",
       "      <td>154</td>\n",
       "    </tr>\n",
       "    <tr>\n",
       "      <th>2018-08-31 21:00:00</th>\n",
       "      <td>159</td>\n",
       "    </tr>\n",
       "    <tr>\n",
       "      <th>2018-08-31 22:00:00</th>\n",
       "      <td>223</td>\n",
       "    </tr>\n",
       "    <tr>\n",
       "      <th>2018-08-31 23:00:00</th>\n",
       "      <td>205</td>\n",
       "    </tr>\n",
       "  </tbody>\n",
       "</table>\n",
       "</div>"
      ],
      "text/plain": [
       "                     num_orders\n",
       "datetime                       \n",
       "2018-08-31 19:00:00         136\n",
       "2018-08-31 20:00:00         154\n",
       "2018-08-31 21:00:00         159\n",
       "2018-08-31 22:00:00         223\n",
       "2018-08-31 23:00:00         205"
      ]
     },
     "metadata": {},
     "output_type": "display_data"
    }
   ],
   "source": [
    "display(df.tail())"
   ]
  },
  {
   "cell_type": "code",
   "execution_count": 22,
   "metadata": {},
   "outputs": [
    {
     "data": {
      "image/png": "[encoded data removed]",
      "text/plain": [
       "<Figure size 1500x800 with 1 Axes>"
      ]
     },
     "metadata": {},
     "output_type": "display_data"
    }
   ],
   "source": [
    "plt.figure(figsize = (15,8))\n",
    "plt.grid()\n",
    " \n",
    "plt.plot(df.resample('1D').sum(), label = 'Количество заказов', color = 'steelblue')\n",
    "plt.plot(df.resample('1D').sum().rolling(window = 12).mean(), label = 'Скользящее среднее', color = 'orange')\n",
    " \n",
    "plt.legend(title = '', loc = 'upper left', fontsize = 14)\n",
    " \n",
    "plt.xlabel('Месяцы', fontsize = 14)\n",
    "plt.ylabel('Количество заказов', fontsize = 14)\n",
    "plt.title('Перевозки пассажиров с марта 2018 по август 2018', fontsize = 16)\n",
    " \n",
    "plt.show()"
   ]
  },
  {
   "cell_type": "markdown",
   "metadata": {},
   "source": [
    "### Визуализация тренда"
   ]
  },
  {
   "cell_type": "code",
   "execution_count": 10,
   "metadata": {},
   "outputs": [
    {
     "data": {
      "image/png": "[encoded data removed]",
      "text/plain": [
       "<Figure size 1100x900 with 1 Axes>"
      ]
     },
     "metadata": {},
     "output_type": "display_data"
    }
   ],
   "source": [
    "decomposed = seasonal_decompose(df)\n",
    "rcParams['figure.figsize'] = 11, 9\n",
    "decomposed.trend.plot();"
   ]
  },
  {
   "cell_type": "markdown",
   "metadata": {},
   "source": [
    "### Визуализация сезонности"
   ]
  },
  {
   "cell_type": "code",
   "execution_count": 11,
   "metadata": {},
   "outputs": [
    {
     "data": {
      "image/png": "[encoded data removed]",
      "text/plain": [
       "<Figure size 1100x900 with 1 Axes>"
      ]
     },
     "metadata": {},
     "output_type": "display_data"
    }
   ],
   "source": [
    "seasonal = df.resample('1D').sum()\n",
    "decomposed = seasonal_decompose(seasonal['2018-03':'2018-04'])\n",
    "rcParams['figure.figsize'] = 11, 9\n",
    "decomposed.seasonal.plot();"
   ]
  },
  {
   "cell_type": "code",
   "execution_count": 12,
   "metadata": {},
   "outputs": [
    {
     "data": {
      "text/html": [
       "<div>\n",
       "<style scoped>\n",
       "    .dataframe tbody tr th:only-of-type {\n",
       "        vertical-align: middle;\n",
       "    }\n",
       "\n",
       "    .dataframe tbody tr th {\n",
       "        vertical-align: top;\n",
       "    }\n",
       "\n",
       "    .dataframe thead th {\n",
       "        text-align: right;\n",
       "    }\n",
       "</style>\n",
       "<table border=\"1\" class=\"dataframe\">\n",
       "  <thead>\n",
       "    <tr style=\"text-align: right;\">\n",
       "      <th></th>\n",
       "      <th>num_orders</th>\n",
       "    </tr>\n",
       "  </thead>\n",
       "  <tbody>\n",
       "    <tr>\n",
       "      <th>count</th>\n",
       "      <td>4416.000000</td>\n",
       "    </tr>\n",
       "    <tr>\n",
       "      <th>mean</th>\n",
       "      <td>84.422781</td>\n",
       "    </tr>\n",
       "    <tr>\n",
       "      <th>std</th>\n",
       "      <td>45.023853</td>\n",
       "    </tr>\n",
       "    <tr>\n",
       "      <th>min</th>\n",
       "      <td>0.000000</td>\n",
       "    </tr>\n",
       "    <tr>\n",
       "      <th>25%</th>\n",
       "      <td>54.000000</td>\n",
       "    </tr>\n",
       "    <tr>\n",
       "      <th>50%</th>\n",
       "      <td>78.000000</td>\n",
       "    </tr>\n",
       "    <tr>\n",
       "      <th>75%</th>\n",
       "      <td>107.000000</td>\n",
       "    </tr>\n",
       "    <tr>\n",
       "      <th>max</th>\n",
       "      <td>462.000000</td>\n",
       "    </tr>\n",
       "  </tbody>\n",
       "</table>\n",
       "</div>"
      ],
      "text/plain": [
       "        num_orders\n",
       "count  4416.000000\n",
       "mean     84.422781\n",
       "std      45.023853\n",
       "min       0.000000\n",
       "25%      54.000000\n",
       "50%      78.000000\n",
       "75%     107.000000\n",
       "max     462.000000"
      ]
     },
     "execution_count": 12,
     "metadata": {},
     "output_type": "execute_result"
    }
   ],
   "source": [
    "df.describe()"
   ]
  },
  {
   "cell_type": "markdown",
   "metadata": {},
   "source": [
    "### Создание новых признаков"
   ]
  },
  {
   "cell_type": "code",
   "execution_count": 13,
   "metadata": {},
   "outputs": [],
   "source": [
    "def make_features(data, max_lag, rolling_mean_size):\n",
    "    new_data = data.copy()\n",
    "    new_data['year'] = data.index.year\n",
    "    new_data['month'] = data.index.month\n",
    "    new_data['day'] = data.index.day\n",
    "    new_data['dayofweek'] = data.index.dayofweek\n",
    "    \n",
    "    for lag in range(1, max_lag + 1):\n",
    "        new_data['lag_{}'.format(lag)] = new_data['num_orders'].shift(lag)\n",
    "\n",
    "    new_data['rolling_mean'] = new_data['num_orders'].shift().rolling(rolling_mean_size).mean()\n",
    "    new_data['std'] = new_data['num_orders'].rolling(rolling_mean_size).std()\n",
    "    return new_data\n",
    "\n",
    "new_df = make_features(df, 24, 24)\n",
    "\n",
    "new_df = new_df.dropna().reset_index()"
   ]
  },
  {
   "cell_type": "code",
   "execution_count": 14,
   "metadata": {},
   "outputs": [],
   "source": [
    "new_df = new_df.set_index('datetime')"
   ]
  },
  {
   "cell_type": "markdown",
   "metadata": {},
   "source": [
    "## Обучение алгоритмов"
   ]
  },
  {
   "cell_type": "code",
   "execution_count": 15,
   "metadata": {},
   "outputs": [],
   "source": [
    "X = new_df.drop('num_orders', axis=1)\n",
    "y = new_df['num_orders']"
   ]
  },
  {
   "cell_type": "code",
   "execution_count": 16,
   "metadata": {},
   "outputs": [],
   "source": [
    "X_train, X_test, y_train, y_test = train_test_split(X, y, shuffle=False, test_size=0.1)"
   ]
  },
  {
   "cell_type": "markdown",
   "metadata": {},
   "source": [
    "### Функция кроссвалидации для временных рядов"
   ]
  },
  {
   "cell_type": "code",
   "execution_count": 17,
   "metadata": {},
   "outputs": [],
   "source": [
    "def time_series_cross_val_score(model, X_train, y_train):\n",
    "    errors = []\n",
    "    tscv = TimeSeriesSplit()\n",
    "    for train_index, test_index in tscv.split(X_train):\n",
    "        model.fit(X_train.iloc[train_index], y_train.iloc[train_index])\n",
    "        pred = model.predict(X_train.iloc[test_index])\n",
    "        errors.append(mean_squared_error(y_train.iloc[test_index], pred, squared=False))\n",
    "    return np.mean(errors)"
   ]
  },
  {
   "cell_type": "markdown",
   "metadata": {},
   "source": [
    "### LGBMRegressor"
   ]
  },
  {
   "cell_type": "code",
   "execution_count": 18,
   "metadata": {},
   "outputs": [],
   "source": [
    "lgbm_pipe = Pipeline([\n",
    "    ('scaler', StandardScaler()),\n",
    "    ('model', LGBMRegressor(random_state=1))\n",
    "])"
   ]
  },
  {
   "cell_type": "code",
   "execution_count": 19,
   "metadata": {},
   "outputs": [
    {
     "name": "stdout",
     "output_type": "stream",
     "text": [
      "Средняя оценка качества модели на кроссвалидации и лучшие параметры: (-25.445656629875316, {'model__max_depth': 10, 'model__num_leaves': 12})\n"
     ]
    }
   ],
   "source": [
    "def LGBM_time_series_cross_val_score(model, params, X_train, y_train):\n",
    "    grid_model = GridSearchCV(model, params, scoring='neg_root_mean_squared_error', cv=TimeSeriesSplit().split(X_train))\n",
    "    grid_model.fit(X_train, y_train)\n",
    "    return grid_model.best_score_, grid_model.best_params_\n",
    "\n",
    "params = {\n",
    "    'model__max_depth':range(8, 17, 2),\n",
    "    'model__num_leaves':range(12, 17, 2)\n",
    "}\n",
    "\n",
    "print('Средняя оценка качества модели на кроссвалидации и лучшие параметры:', LGBM_time_series_cross_val_score(lgbm_pipe, params, X_train, y_train))"
   ]
  },
  {
   "cell_type": "markdown",
   "metadata": {},
   "source": [
    "### CatBoostRegressor"
   ]
  },
  {
   "cell_type": "code",
   "execution_count": 20,
   "metadata": {},
   "outputs": [],
   "source": [
    "cat_pipe = Pipeline([\n",
    "    ('scaler', StandardScaler()),\n",
    "    ('model', CatBoostRegressor(random_state=1, loss_function='RMSE', verbose=False))\n",
    "])"
   ]
  },
  {
   "cell_type": "code",
   "execution_count": 23,
   "metadata": {},
   "outputs": [
    {
     "name": "stdout",
     "output_type": "stream",
     "text": [
      "Средняя оценка качества модели на кроссвалидации: 24.676779087195268\n"
     ]
    }
   ],
   "source": [
    "print('Средняя оценка качества модели на кроссвалидации:', time_series_cross_val_score(cat_pipe, X_train, y_train))"
   ]
  },
  {
   "cell_type": "markdown",
   "metadata": {},
   "source": [
    "### LinearRegressor"
   ]
  },
  {
   "cell_type": "code",
   "execution_count": 24,
   "metadata": {},
   "outputs": [],
   "source": [
    "lin_pipe = Pipeline([\n",
    "    ('scaler', StandardScaler()),\n",
    "    ('model', LinearRegression())\n",
    "])"
   ]
  },
  {
   "cell_type": "code",
   "execution_count": 25,
   "metadata": {},
   "outputs": [
    {
     "name": "stdout",
     "output_type": "stream",
     "text": [
      "Средняя оценка качества модели на кроссвалидации: 33418720235306.594\n"
     ]
    }
   ],
   "source": [
    "print('Средняя оценка качества модели на кроссвалидации:', time_series_cross_val_score(lin_pipe, X_train, y_train))"
   ]
  },
  {
   "cell_type": "markdown",
   "metadata": {},
   "source": [
    "### GradientBoostingRegressor"
   ]
  },
  {
   "cell_type": "code",
   "execution_count": 26,
   "metadata": {},
   "outputs": [],
   "source": [
    "gradient_pipe = Pipeline([\n",
    "    ('scaler', StandardScaler()),\n",
    "    ('model', GradientBoostingRegressor(random_state=1))\n",
    "])"
   ]
  },
  {
   "cell_type": "code",
   "execution_count": 27,
   "metadata": {
    "scrolled": true,
    "tags": []
   },
   "outputs": [
    {
     "name": "stdout",
     "output_type": "stream",
     "text": [
      "Средняя оценка качества модели на кроссвалидации: 26.04960937562795\n"
     ]
    }
   ],
   "source": [
    "print('Средняя оценка качества модели на кроссвалидации:', time_series_cross_val_score(gradient_pipe, X_train, y_train))"
   ]
  },
  {
   "cell_type": "markdown",
   "metadata": {},
   "source": [
    "**Самой точной моделью является CatBoostRegressor**"
   ]
  },
  {
   "cell_type": "markdown",
   "metadata": {},
   "source": [
    "## Тестирование"
   ]
  },
  {
   "cell_type": "code",
   "execution_count": 28,
   "metadata": {},
   "outputs": [
    {
     "name": "stdout",
     "output_type": "stream",
     "text": [
      "RMSE = 41.28913723695858\n"
     ]
    }
   ],
   "source": [
    "cat_pipe.fit(X_train, y_train)\n",
    "pred = cat_pipe.predict(X_test)\n",
    "\n",
    "print('RMSE =', mean_squared_error(y_test, pred, squared=False))"
   ]
  },
  {
   "cell_type": "markdown",
   "metadata": {},
   "source": [
    "## Вывод"
   ]
  },
  {
   "cell_type": "markdown",
   "metadata": {},
   "source": [
    "**В датасете лежат данные с марта по август 2018 года, на основе анализа графика распределения заказов по дням за этот период намечается тренд на увеличение количества заказов такси. Для предсказания количества заказов в будущем обучалось несколько моделей: LGBMRegressor, CatBoostRegressor, LinearRegressior и GradientBoostingRegressor. Модели сравнивались метрикой RMSE по результатам кроссвалидации,лучшей моделью оказалась CatBoostRegressor, на валидационной выборке получилось достичь значение RMSE меньше 48**"
   ]
  }
 ],
 "metadata": {
  "ExecuteTimeLog": [
   {
    "duration": 404,
    "start_time": "2023-01-09T10:02:05.448Z"
   },
   {
    "duration": 100,
    "start_time": "2023-01-09T10:02:29.100Z"
   },
   {
    "duration": 150,
    "start_time": "2023-01-09T10:02:44.918Z"
   },
   {
    "duration": 13,
    "start_time": "2023-01-09T10:02:49.768Z"
   },
   {
    "duration": 18,
    "start_time": "2023-01-09T10:03:41.866Z"
   },
   {
    "duration": 9,
    "start_time": "2023-01-09T10:04:02.266Z"
   },
   {
    "duration": 45,
    "start_time": "2023-01-09T10:04:53.921Z"
   },
   {
    "duration": 6,
    "start_time": "2023-01-09T10:04:54.440Z"
   },
   {
    "duration": 1172,
    "start_time": "2023-01-09T10:04:55.210Z"
   },
   {
    "duration": 12,
    "start_time": "2023-01-09T10:05:00.968Z"
   },
   {
    "duration": 11,
    "start_time": "2023-01-09T10:05:07.120Z"
   },
   {
    "duration": 10,
    "start_time": "2023-01-09T10:05:23.309Z"
   },
   {
    "duration": 48,
    "start_time": "2023-01-09T10:05:45.132Z"
   },
   {
    "duration": 6,
    "start_time": "2023-01-09T10:05:45.618Z"
   },
   {
    "duration": 14,
    "start_time": "2023-01-09T10:05:45.949Z"
   },
   {
    "duration": 6,
    "start_time": "2023-01-09T10:05:52.407Z"
   },
   {
    "duration": 9,
    "start_time": "2023-01-09T10:05:56.010Z"
   },
   {
    "duration": 3,
    "start_time": "2023-01-09T10:06:01.507Z"
   },
   {
    "duration": 4,
    "start_time": "2023-01-09T10:06:01.999Z"
   },
   {
    "duration": 7,
    "start_time": "2023-01-09T10:06:09.218Z"
   },
   {
    "duration": 4,
    "start_time": "2023-01-09T10:06:09.467Z"
   },
   {
    "duration": 2,
    "start_time": "2023-01-09T10:06:16.770Z"
   },
   {
    "duration": 47,
    "start_time": "2023-01-09T10:06:16.942Z"
   },
   {
    "duration": 8,
    "start_time": "2023-01-09T10:06:17.116Z"
   },
   {
    "duration": 14,
    "start_time": "2023-01-09T10:06:17.251Z"
   },
   {
    "duration": 9,
    "start_time": "2023-01-09T10:06:17.410Z"
   },
   {
    "duration": 51,
    "start_time": "2023-01-09T10:06:30.208Z"
   },
   {
    "duration": 7,
    "start_time": "2023-01-09T10:06:30.512Z"
   },
   {
    "duration": 2,
    "start_time": "2023-01-09T10:06:37.455Z"
   },
   {
    "duration": 45,
    "start_time": "2023-01-09T10:06:37.632Z"
   },
   {
    "duration": 8,
    "start_time": "2023-01-09T10:06:37.807Z"
   },
   {
    "duration": 13,
    "start_time": "2023-01-09T10:06:37.937Z"
   },
   {
    "duration": 9,
    "start_time": "2023-01-09T10:06:38.111Z"
   },
   {
    "duration": 7,
    "start_time": "2023-01-09T10:06:49.372Z"
   },
   {
    "duration": 9,
    "start_time": "2023-01-09T10:06:49.962Z"
   },
   {
    "duration": 615,
    "start_time": "2023-01-09T10:07:39.319Z"
   },
   {
    "duration": 194,
    "start_time": "2023-01-09T10:07:45.023Z"
   },
   {
    "duration": 3,
    "start_time": "2023-01-09T10:08:01.339Z"
   },
   {
    "duration": 16,
    "start_time": "2023-01-09T10:08:21.125Z"
   },
   {
    "duration": 12,
    "start_time": "2023-01-09T10:08:27.815Z"
   },
   {
    "duration": 65,
    "start_time": "2023-01-09T10:08:47.210Z"
   },
   {
    "duration": 299,
    "start_time": "2023-01-09T10:08:49.017Z"
   },
   {
    "duration": 79,
    "start_time": "2023-01-09T10:09:06.479Z"
   },
   {
    "duration": 237,
    "start_time": "2023-01-09T10:09:12.047Z"
   },
   {
    "duration": 12,
    "start_time": "2023-01-09T10:09:37.011Z"
   },
   {
    "duration": 747,
    "start_time": "2023-01-09T10:11:24.915Z"
   },
   {
    "duration": 6,
    "start_time": "2023-01-09T10:11:42.850Z"
   },
   {
    "duration": 36,
    "start_time": "2023-01-09T10:12:21.968Z"
   },
   {
    "duration": 60,
    "start_time": "2023-01-09T10:13:22.421Z"
   },
   {
    "duration": 698,
    "start_time": "2023-01-09T10:13:32.851Z"
   },
   {
    "duration": 535,
    "start_time": "2023-01-09T10:14:05.798Z"
   },
   {
    "duration": 537,
    "start_time": "2023-01-09T10:14:18.239Z"
   },
   {
    "duration": 511,
    "start_time": "2023-01-09T10:14:28.924Z"
   },
   {
    "duration": 211,
    "start_time": "2023-01-09T10:14:57.132Z"
   },
   {
    "duration": 550,
    "start_time": "2023-01-09T10:15:04.704Z"
   },
   {
    "duration": 7,
    "start_time": "2023-01-09T10:15:26.711Z"
   },
   {
    "duration": 7,
    "start_time": "2023-01-09T10:15:33.833Z"
   },
   {
    "duration": 12,
    "start_time": "2023-01-09T10:17:13.517Z"
   },
   {
    "duration": 1250,
    "start_time": "2023-01-09T10:17:19.176Z"
   },
   {
    "duration": 11,
    "start_time": "2023-01-09T10:17:47.595Z"
   },
   {
    "duration": 6,
    "start_time": "2023-01-09T10:17:49.117Z"
   },
   {
    "duration": 4,
    "start_time": "2023-01-09T10:19:13.908Z"
   },
   {
    "duration": 3,
    "start_time": "2023-01-09T10:19:49.774Z"
   },
   {
    "duration": 5,
    "start_time": "2023-01-09T10:19:50.332Z"
   },
   {
    "duration": 21,
    "start_time": "2023-01-09T10:21:37.119Z"
   },
   {
    "duration": 3,
    "start_time": "2023-01-09T10:21:41.427Z"
   },
   {
    "duration": 12,
    "start_time": "2023-01-09T10:22:11.317Z"
   },
   {
    "duration": 17,
    "start_time": "2023-01-09T10:22:18.408Z"
   },
   {
    "duration": 6,
    "start_time": "2023-01-09T10:22:44.808Z"
   },
   {
    "duration": 12,
    "start_time": "2023-01-09T10:23:42.586Z"
   },
   {
    "duration": 4,
    "start_time": "2023-01-09T10:23:43.636Z"
   },
   {
    "duration": 5,
    "start_time": "2023-01-09T10:23:43.932Z"
   },
   {
    "duration": 21,
    "start_time": "2023-01-09T10:23:44.198Z"
   },
   {
    "duration": 6,
    "start_time": "2023-01-09T10:23:52.646Z"
   },
   {
    "duration": 6,
    "start_time": "2023-01-09T10:24:12.263Z"
   },
   {
    "duration": 5,
    "start_time": "2023-01-09T10:24:15.575Z"
   },
   {
    "duration": 17,
    "start_time": "2023-01-09T10:24:21.215Z"
   },
   {
    "duration": 11,
    "start_time": "2023-01-09T10:24:29.716Z"
   },
   {
    "duration": 4,
    "start_time": "2023-01-09T10:24:32.464Z"
   },
   {
    "duration": 75,
    "start_time": "2023-01-09T10:24:32.470Z"
   },
   {
    "duration": 7,
    "start_time": "2023-01-09T10:24:32.548Z"
   },
   {
    "duration": 16,
    "start_time": "2023-01-09T10:24:32.557Z"
   },
   {
    "duration": 16,
    "start_time": "2023-01-09T10:24:32.576Z"
   },
   {
    "duration": 14,
    "start_time": "2023-01-09T10:24:32.595Z"
   },
   {
    "duration": 243,
    "start_time": "2023-01-09T10:24:32.611Z"
   },
   {
    "duration": 551,
    "start_time": "2023-01-09T10:24:32.856Z"
   },
   {
    "duration": 5,
    "start_time": "2023-01-09T10:24:33.408Z"
   },
   {
    "duration": 15,
    "start_time": "2023-01-09T10:24:33.415Z"
   },
   {
    "duration": 7,
    "start_time": "2023-01-09T10:24:33.431Z"
   },
   {
    "duration": 4,
    "start_time": "2023-01-09T10:24:33.452Z"
   },
   {
    "duration": 9,
    "start_time": "2023-01-09T10:24:33.457Z"
   },
   {
    "duration": 93,
    "start_time": "2023-01-09T10:24:33.468Z"
   },
   {
    "duration": 95,
    "start_time": "2023-01-09T10:26:42.734Z"
   },
   {
    "duration": 4,
    "start_time": "2023-01-09T10:28:42.409Z"
   },
   {
    "duration": 3230,
    "start_time": "2023-01-09T10:28:44.130Z"
   },
   {
    "duration": 4409,
    "start_time": "2023-01-09T10:29:03.843Z"
   },
   {
    "duration": 8299,
    "start_time": "2023-01-09T10:29:57.213Z"
   },
   {
    "duration": 17,
    "start_time": "2023-01-09T10:30:22.039Z"
   },
   {
    "duration": 81,
    "start_time": "2023-01-09T10:30:31.606Z"
   },
   {
    "duration": 1177,
    "start_time": "2023-01-09T10:31:14.656Z"
   },
   {
    "duration": 4484,
    "start_time": "2023-01-09T10:31:28.377Z"
   },
   {
    "duration": 13711,
    "start_time": "2023-01-09T10:31:32.863Z"
   },
   {
    "duration": 153,
    "start_time": "2023-01-09T10:31:46.576Z"
   },
   {
    "duration": 2020,
    "start_time": "2023-01-09T10:31:46.730Z"
   },
   {
    "duration": 42,
    "start_time": "2023-01-09T10:32:09.046Z"
   },
   {
    "duration": 10,
    "start_time": "2023-01-09T10:34:48.646Z"
   },
   {
    "duration": 3,
    "start_time": "2023-01-09T10:34:59.235Z"
   },
   {
    "duration": 206551,
    "start_time": "2023-01-09T10:35:04.607Z"
   },
   {
    "duration": 9,
    "start_time": "2023-01-09T10:41:52.868Z"
   },
   {
    "duration": 9,
    "start_time": "2023-01-09T10:42:01.752Z"
   },
   {
    "duration": 9,
    "start_time": "2023-01-09T10:42:04.474Z"
   },
   {
    "duration": 10,
    "start_time": "2023-01-09T10:42:23.106Z"
   },
   {
    "duration": 15,
    "start_time": "2023-01-09T10:44:29.044Z"
   },
   {
    "duration": 1712,
    "start_time": "2023-01-10T07:19:45.304Z"
   },
   {
    "duration": 163,
    "start_time": "2023-01-10T07:19:47.169Z"
   },
   {
    "duration": 10,
    "start_time": "2023-01-10T07:19:47.610Z"
   },
   {
    "duration": 9,
    "start_time": "2023-01-10T07:19:47.947Z"
   },
   {
    "duration": 7,
    "start_time": "2023-01-10T07:19:48.395Z"
   },
   {
    "duration": 8,
    "start_time": "2023-01-10T07:19:48.611Z"
   },
   {
    "duration": 26,
    "start_time": "2023-01-10T07:19:48.824Z"
   },
   {
    "duration": 488,
    "start_time": "2023-01-10T07:19:49.049Z"
   },
   {
    "duration": 146,
    "start_time": "2023-01-10T07:19:49.539Z"
   },
   {
    "duration": 155,
    "start_time": "2023-01-10T07:20:36.361Z"
   },
   {
    "duration": 19,
    "start_time": "2023-01-10T07:21:15.544Z"
   },
   {
    "duration": 6,
    "start_time": "2023-01-10T07:21:56.187Z"
   },
   {
    "duration": 52,
    "start_time": "2023-01-10T07:21:56.600Z"
   },
   {
    "duration": 8,
    "start_time": "2023-01-10T07:21:56.795Z"
   },
   {
    "duration": 9,
    "start_time": "2023-01-10T07:21:56.979Z"
   },
   {
    "duration": 7,
    "start_time": "2023-01-10T07:21:57.322Z"
   },
   {
    "duration": 7,
    "start_time": "2023-01-10T07:21:57.505Z"
   },
   {
    "duration": 363,
    "start_time": "2023-01-10T07:21:57.688Z"
   },
   {
    "duration": 650,
    "start_time": "2023-01-10T07:21:58.053Z"
   },
   {
    "duration": 14,
    "start_time": "2023-01-10T07:21:58.706Z"
   },
   {
    "duration": 31,
    "start_time": "2023-01-10T07:21:58.722Z"
   },
   {
    "duration": 20,
    "start_time": "2023-01-10T07:21:58.869Z"
   },
   {
    "duration": 18,
    "start_time": "2023-01-10T07:23:20.015Z"
   },
   {
    "duration": 4,
    "start_time": "2023-01-10T07:23:33.771Z"
   },
   {
    "duration": 65,
    "start_time": "2023-01-10T07:23:33.924Z"
   },
   {
    "duration": 8,
    "start_time": "2023-01-10T07:23:34.077Z"
   },
   {
    "duration": 9,
    "start_time": "2023-01-10T07:23:34.228Z"
   },
   {
    "duration": 8,
    "start_time": "2023-01-10T07:23:34.537Z"
   },
   {
    "duration": 8,
    "start_time": "2023-01-10T07:23:34.697Z"
   },
   {
    "duration": 243,
    "start_time": "2023-01-10T07:23:34.838Z"
   },
   {
    "duration": 644,
    "start_time": "2023-01-10T07:23:35.083Z"
   },
   {
    "duration": 15,
    "start_time": "2023-01-10T07:23:35.736Z"
   },
   {
    "duration": 24,
    "start_time": "2023-01-10T07:23:35.752Z"
   },
   {
    "duration": 18,
    "start_time": "2023-01-10T07:23:35.778Z"
   },
   {
    "duration": 5,
    "start_time": "2023-01-10T07:23:35.798Z"
   },
   {
    "duration": 6,
    "start_time": "2023-01-10T07:23:35.895Z"
   },
   {
    "duration": 1320,
    "start_time": "2023-01-10T07:23:42.988Z"
   },
   {
    "duration": 10,
    "start_time": "2023-01-10T07:23:44.310Z"
   },
   {
    "duration": 0,
    "start_time": "2023-01-10T07:23:44.340Z"
   },
   {
    "duration": 0,
    "start_time": "2023-01-10T07:23:44.341Z"
   },
   {
    "duration": 0,
    "start_time": "2023-01-10T07:23:44.343Z"
   },
   {
    "duration": 15,
    "start_time": "2023-01-10T07:27:11.212Z"
   },
   {
    "duration": 17,
    "start_time": "2023-01-10T07:28:47.425Z"
   },
   {
    "duration": 4,
    "start_time": "2023-01-10T07:28:50.040Z"
   },
   {
    "duration": 6,
    "start_time": "2023-01-10T07:28:50.463Z"
   },
   {
    "duration": 289919,
    "start_time": "2023-01-10T07:28:50.930Z"
   },
   {
    "duration": 12,
    "start_time": "2023-01-10T07:37:49.875Z"
   },
   {
    "duration": 16,
    "start_time": "2023-01-10T07:37:52.244Z"
   },
   {
    "duration": 13,
    "start_time": "2023-01-10T07:39:03.538Z"
   },
   {
    "duration": 11,
    "start_time": "2023-01-10T07:39:12.358Z"
   },
   {
    "duration": 11,
    "start_time": "2023-01-10T07:39:22.749Z"
   },
   {
    "duration": 10,
    "start_time": "2023-01-10T07:39:27.813Z"
   },
   {
    "duration": 44145,
    "start_time": "2023-01-10T07:40:08.606Z"
   },
   {
    "duration": 4,
    "start_time": "2023-01-10T07:40:58.392Z"
   },
   {
    "duration": 1196724,
    "start_time": "2023-01-10T07:41:39.022Z"
   },
   {
    "duration": 4,
    "start_time": "2023-01-10T08:02:39.182Z"
   },
   {
    "duration": 37627,
    "start_time": "2023-01-10T09:00:26.056Z"
   },
   {
    "duration": 0,
    "start_time": "2023-01-10T09:01:03.738Z"
   },
   {
    "duration": 63491,
    "start_time": "2023-01-10T09:01:09.398Z"
   },
   {
    "duration": 0,
    "start_time": "2023-01-10T09:04:00.832Z"
   },
   {
    "duration": 0,
    "start_time": "2023-01-10T09:05:23.829Z"
   },
   {
    "duration": 4511,
    "start_time": "2023-01-10T09:06:44.820Z"
   },
   {
    "duration": 14,
    "start_time": "2023-01-10T09:10:06.579Z"
   },
   {
    "duration": 4,
    "start_time": "2023-01-10T09:10:23.022Z"
   },
   {
    "duration": 13,
    "start_time": "2023-01-10T09:11:31.735Z"
   },
   {
    "duration": 1751,
    "start_time": "2023-01-10T10:46:05.201Z"
   },
   {
    "duration": 110,
    "start_time": "2023-01-10T10:46:06.955Z"
   },
   {
    "duration": 11,
    "start_time": "2023-01-10T10:46:07.067Z"
   },
   {
    "duration": 9,
    "start_time": "2023-01-10T10:46:07.080Z"
   },
   {
    "duration": 7,
    "start_time": "2023-01-10T10:46:07.091Z"
   },
   {
    "duration": 16,
    "start_time": "2023-01-10T10:46:07.100Z"
   },
   {
    "duration": 286,
    "start_time": "2023-01-10T10:46:07.117Z"
   },
   {
    "duration": 885,
    "start_time": "2023-01-10T10:46:07.405Z"
   },
   {
    "duration": 14,
    "start_time": "2023-01-10T10:46:08.293Z"
   },
   {
    "duration": 45,
    "start_time": "2023-01-10T10:46:08.310Z"
   },
   {
    "duration": 21,
    "start_time": "2023-01-10T10:46:08.357Z"
   },
   {
    "duration": 6,
    "start_time": "2023-01-10T10:46:08.380Z"
   },
   {
    "duration": 7,
    "start_time": "2023-01-10T10:46:08.388Z"
   },
   {
    "duration": 789,
    "start_time": "2023-01-10T10:46:51.002Z"
   },
   {
    "duration": 11,
    "start_time": "2023-01-10T10:46:59.635Z"
   },
   {
    "duration": 4,
    "start_time": "2023-01-10T10:53:37.906Z"
   },
   {
    "duration": 18094,
    "start_time": "2023-01-10T10:53:40.464Z"
   },
   {
    "duration": 4,
    "start_time": "2023-01-10T10:54:07.029Z"
   },
   {
    "duration": 17620,
    "start_time": "2023-01-10T10:54:09.001Z"
   },
   {
    "duration": 16,
    "start_time": "2023-01-10T10:58:26.325Z"
   },
   {
    "duration": 10,
    "start_time": "2023-01-10T10:58:34.689Z"
   },
   {
    "duration": 330909,
    "start_time": "2023-01-10T10:58:55.463Z"
   },
   {
    "duration": 0,
    "start_time": "2023-01-10T11:09:50.667Z"
   },
   {
    "duration": 81,
    "start_time": "2023-01-10T11:09:52.193Z"
   },
   {
    "duration": 25239,
    "start_time": "2023-01-10T11:09:56.266Z"
   },
   {
    "duration": 270618,
    "start_time": "2023-01-10T11:10:27.127Z"
   },
   {
    "duration": 4,
    "start_time": "2023-01-10T11:22:26.796Z"
   },
   {
    "duration": 12,
    "start_time": "2023-01-10T11:24:45.851Z"
   },
   {
    "duration": 15315,
    "start_time": "2023-01-10T11:25:24.149Z"
   },
   {
    "duration": 15837,
    "start_time": "2023-01-10T11:27:05.510Z"
   },
   {
    "duration": 12,
    "start_time": "2023-01-10T11:28:49.191Z"
   },
   {
    "duration": 4,
    "start_time": "2023-01-10T11:29:03.989Z"
   },
   {
    "duration": 11,
    "start_time": "2023-01-10T11:29:09.578Z"
   },
   {
    "duration": 13,
    "start_time": "2023-01-10T11:29:26.660Z"
   },
   {
    "duration": 347,
    "start_time": "2023-01-10T11:29:31.914Z"
   },
   {
    "duration": 2960,
    "start_time": "2023-01-10T11:29:48.488Z"
   },
   {
    "duration": 44,
    "start_time": "2023-01-10T11:32:20.466Z"
   },
   {
    "duration": 2860,
    "start_time": "2023-01-10T11:33:40.012Z"
   },
   {
    "duration": 14,
    "start_time": "2023-01-10T11:36:35.950Z"
   },
   {
    "duration": 3119,
    "start_time": "2023-01-10T11:37:00.442Z"
   },
   {
    "duration": 3166,
    "start_time": "2023-01-10T11:37:11.375Z"
   },
   {
    "duration": 3416,
    "start_time": "2023-01-10T11:37:41.994Z"
   },
   {
    "duration": 3433,
    "start_time": "2023-01-10T11:38:31.866Z"
   },
   {
    "duration": 10,
    "start_time": "2023-01-10T12:44:49.506Z"
   },
   {
    "duration": 5,
    "start_time": "2023-01-10T12:44:55.753Z"
   },
   {
    "duration": 82371,
    "start_time": "2023-01-10T12:44:59.693Z"
   },
   {
    "duration": 73945,
    "start_time": "2023-01-10T13:02:55.131Z"
   },
   {
    "duration": 3712,
    "start_time": "2023-01-10T13:04:25.362Z"
   },
   {
    "duration": 5,
    "start_time": "2023-01-10T13:08:00.869Z"
   },
   {
    "duration": 76,
    "start_time": "2023-01-10T13:08:00.876Z"
   },
   {
    "duration": 16,
    "start_time": "2023-01-10T13:08:00.953Z"
   },
   {
    "duration": 14,
    "start_time": "2023-01-10T13:08:00.973Z"
   },
   {
    "duration": 22,
    "start_time": "2023-01-10T13:08:00.990Z"
   },
   {
    "duration": 11,
    "start_time": "2023-01-10T13:08:01.014Z"
   },
   {
    "duration": 279,
    "start_time": "2023-01-10T13:08:01.027Z"
   },
   {
    "duration": 611,
    "start_time": "2023-01-10T13:08:01.307Z"
   },
   {
    "duration": 12,
    "start_time": "2023-01-10T13:08:01.920Z"
   },
   {
    "duration": 54,
    "start_time": "2023-01-10T13:08:01.934Z"
   },
   {
    "duration": 29,
    "start_time": "2023-01-10T13:08:01.989Z"
   },
   {
    "duration": 6,
    "start_time": "2023-01-10T13:08:02.020Z"
   },
   {
    "duration": 31,
    "start_time": "2023-01-10T13:08:02.028Z"
   },
   {
    "duration": 66,
    "start_time": "2023-01-10T13:08:02.062Z"
   },
   {
    "duration": 29,
    "start_time": "2023-01-10T13:08:02.130Z"
   },
   {
    "duration": 0,
    "start_time": "2023-01-10T13:08:02.161Z"
   },
   {
    "duration": 0,
    "start_time": "2023-01-10T13:08:02.163Z"
   },
   {
    "duration": 0,
    "start_time": "2023-01-10T13:08:02.166Z"
   },
   {
    "duration": 0,
    "start_time": "2023-01-10T13:08:02.167Z"
   },
   {
    "duration": 383273,
    "start_time": "2023-01-10T13:08:14.091Z"
   },
   {
    "duration": 28032,
    "start_time": "2023-01-10T13:14:37.368Z"
   },
   {
    "duration": 768,
    "start_time": "2023-01-10T13:15:05.402Z"
   },
   {
    "duration": 5776,
    "start_time": "2023-01-10T13:15:06.268Z"
   },
   {
    "duration": 5974,
    "start_time": "2023-01-10T13:15:12.046Z"
   },
   {
    "duration": 5,
    "start_time": "2023-01-10T13:15:40.267Z"
   },
   {
    "duration": 77,
    "start_time": "2023-01-10T13:15:40.274Z"
   },
   {
    "duration": 9,
    "start_time": "2023-01-10T13:15:40.353Z"
   },
   {
    "duration": 18,
    "start_time": "2023-01-10T13:15:40.365Z"
   },
   {
    "duration": 13,
    "start_time": "2023-01-10T13:15:40.385Z"
   },
   {
    "duration": 10,
    "start_time": "2023-01-10T13:15:40.399Z"
   },
   {
    "duration": 281,
    "start_time": "2023-01-10T13:15:40.410Z"
   },
   {
    "duration": 639,
    "start_time": "2023-01-10T13:15:40.692Z"
   },
   {
    "duration": 12,
    "start_time": "2023-01-10T13:15:41.333Z"
   },
   {
    "duration": 43,
    "start_time": "2023-01-10T13:15:41.358Z"
   },
   {
    "duration": 24,
    "start_time": "2023-01-10T13:15:41.402Z"
   },
   {
    "duration": 4,
    "start_time": "2023-01-10T13:15:41.427Z"
   },
   {
    "duration": 7,
    "start_time": "2023-01-10T13:15:41.455Z"
   },
   {
    "duration": 8,
    "start_time": "2023-01-10T13:15:41.464Z"
   },
   {
    "duration": 333799,
    "start_time": "2023-01-10T13:15:41.474Z"
   },
   {
    "duration": 40040,
    "start_time": "2023-01-10T13:21:15.276Z"
   },
   {
    "duration": 749,
    "start_time": "2023-01-10T13:21:55.318Z"
   },
   {
    "duration": 8422,
    "start_time": "2023-01-10T13:21:56.070Z"
   },
   {
    "duration": 8870,
    "start_time": "2023-01-10T13:22:04.494Z"
   },
   {
    "duration": 15125,
    "start_time": "2023-01-10T13:22:29.443Z"
   },
   {
    "duration": 7683,
    "start_time": "2023-01-10T13:23:43.248Z"
   },
   {
    "duration": 5,
    "start_time": "2023-01-10T13:23:59.392Z"
   },
   {
    "duration": 68,
    "start_time": "2023-01-10T13:23:59.399Z"
   },
   {
    "duration": 7,
    "start_time": "2023-01-10T13:23:59.469Z"
   },
   {
    "duration": 14,
    "start_time": "2023-01-10T13:23:59.479Z"
   },
   {
    "duration": 12,
    "start_time": "2023-01-10T13:23:59.495Z"
   },
   {
    "duration": 13,
    "start_time": "2023-01-10T13:23:59.508Z"
   },
   {
    "duration": 376,
    "start_time": "2023-01-10T13:23:59.523Z"
   },
   {
    "duration": 607,
    "start_time": "2023-01-10T13:23:59.901Z"
   },
   {
    "duration": 12,
    "start_time": "2023-01-10T13:24:00.510Z"
   },
   {
    "duration": 55,
    "start_time": "2023-01-10T13:24:00.524Z"
   },
   {
    "duration": 25,
    "start_time": "2023-01-10T13:24:00.581Z"
   },
   {
    "duration": 18,
    "start_time": "2023-01-10T13:24:00.608Z"
   },
   {
    "duration": 24,
    "start_time": "2023-01-10T13:24:00.628Z"
   },
   {
    "duration": 19,
    "start_time": "2023-01-10T13:24:00.655Z"
   },
   {
    "duration": 202089,
    "start_time": "2023-01-10T13:24:00.675Z"
   },
   {
    "duration": 37964,
    "start_time": "2023-01-10T13:27:22.766Z"
   },
   {
    "duration": 937,
    "start_time": "2023-01-10T13:28:00.732Z"
   },
   {
    "duration": 7890,
    "start_time": "2023-01-10T13:28:01.671Z"
   },
   {
    "duration": 8129,
    "start_time": "2023-01-10T13:28:09.564Z"
   },
   {
    "duration": 28,
    "start_time": "2023-01-10T13:32:04.946Z"
   },
   {
    "duration": 46,
    "start_time": "2023-01-10T13:32:16.750Z"
   },
   {
    "duration": 4,
    "start_time": "2023-01-10T13:53:22.909Z"
   },
   {
    "duration": 16,
    "start_time": "2023-01-10T13:53:47.498Z"
   },
   {
    "duration": 5,
    "start_time": "2023-01-10T13:53:53.004Z"
   },
   {
    "duration": 15,
    "start_time": "2023-01-10T13:53:57.584Z"
   },
   {
    "duration": 4,
    "start_time": "2023-01-10T13:54:10.766Z"
   },
   {
    "duration": 16,
    "start_time": "2023-01-10T13:54:13.650Z"
   },
   {
    "duration": 4,
    "start_time": "2023-01-10T13:54:51.486Z"
   },
   {
    "duration": 13,
    "start_time": "2023-01-10T13:54:54.736Z"
   },
   {
    "duration": 6,
    "start_time": "2023-01-10T13:55:13.362Z"
   },
   {
    "duration": 28,
    "start_time": "2023-01-10T13:55:15.929Z"
   },
   {
    "duration": 4,
    "start_time": "2023-01-10T14:00:14.103Z"
   },
   {
    "duration": 54,
    "start_time": "2023-01-10T14:00:14.514Z"
   },
   {
    "duration": 11,
    "start_time": "2023-01-10T14:00:14.698Z"
   },
   {
    "duration": 8,
    "start_time": "2023-01-10T14:00:14.889Z"
   },
   {
    "duration": 8,
    "start_time": "2023-01-10T14:00:15.429Z"
   },
   {
    "duration": 8,
    "start_time": "2023-01-10T14:00:15.616Z"
   },
   {
    "duration": 241,
    "start_time": "2023-01-10T14:00:16.128Z"
   },
   {
    "duration": 635,
    "start_time": "2023-01-10T14:00:16.371Z"
   },
   {
    "duration": 14,
    "start_time": "2023-01-10T14:00:17.009Z"
   },
   {
    "duration": 52,
    "start_time": "2023-01-10T14:00:17.025Z"
   },
   {
    "duration": 3,
    "start_time": "2023-01-10T14:00:17.157Z"
   },
   {
    "duration": 4,
    "start_time": "2023-01-10T14:00:19.365Z"
   },
   {
    "duration": 6,
    "start_time": "2023-01-10T14:00:19.917Z"
   },
   {
    "duration": 4,
    "start_time": "2023-01-10T14:00:20.416Z"
   },
   {
    "duration": 3,
    "start_time": "2023-01-10T14:00:29.503Z"
   },
   {
    "duration": 26,
    "start_time": "2023-01-10T14:00:32.167Z"
   },
   {
    "duration": 42,
    "start_time": "2023-01-10T14:00:44.662Z"
   },
   {
    "duration": 5,
    "start_time": "2023-01-10T14:02:08.964Z"
   },
   {
    "duration": 34,
    "start_time": "2023-01-10T14:02:12.169Z"
   },
   {
    "duration": 5,
    "start_time": "2023-01-10T14:02:37.135Z"
   },
   {
    "duration": 80,
    "start_time": "2023-01-10T14:02:40.346Z"
   },
   {
    "duration": 4,
    "start_time": "2023-01-10T14:02:56.604Z"
   },
   {
    "duration": 6,
    "start_time": "2023-01-10T14:02:59.159Z"
   },
   {
    "duration": 6,
    "start_time": "2023-01-10T14:02:59.548Z"
   },
   {
    "duration": 4,
    "start_time": "2023-01-10T14:02:59.820Z"
   },
   {
    "duration": 4995,
    "start_time": "2023-01-10T14:03:02.452Z"
   },
   {
    "duration": 4,
    "start_time": "2023-01-10T14:03:23.164Z"
   },
   {
    "duration": 4833,
    "start_time": "2023-01-10T14:03:25.814Z"
   },
   {
    "duration": 5,
    "start_time": "2023-01-10T14:03:44.494Z"
   },
   {
    "duration": 30321,
    "start_time": "2023-01-10T14:03:47.100Z"
   },
   {
    "duration": 4,
    "start_time": "2023-01-10T14:05:22.858Z"
   },
   {
    "duration": 30304,
    "start_time": "2023-01-10T14:05:26.234Z"
   },
   {
    "duration": 917032,
    "start_time": "2023-01-10T14:07:40.547Z"
   },
   {
    "duration": 4,
    "start_time": "2023-01-10T14:22:57.586Z"
   },
   {
    "duration": 1590,
    "start_time": "2023-01-10T14:22:57.593Z"
   },
   {
    "duration": 5,
    "start_time": "2023-01-10T14:22:59.256Z"
   },
   {
    "duration": 5028,
    "start_time": "2023-01-10T14:22:59.262Z"
   },
   {
    "duration": 1832,
    "start_time": "2023-01-10T17:35:14.908Z"
   },
   {
    "duration": 217,
    "start_time": "2023-01-10T17:35:16.742Z"
   },
   {
    "duration": 10,
    "start_time": "2023-01-10T17:35:16.961Z"
   },
   {
    "duration": 55,
    "start_time": "2023-01-10T17:35:16.972Z"
   },
   {
    "duration": 21,
    "start_time": "2023-01-10T17:35:17.030Z"
   },
   {
    "duration": 67,
    "start_time": "2023-01-10T17:35:17.054Z"
   },
   {
    "duration": 301,
    "start_time": "2023-01-10T17:35:17.123Z"
   },
   {
    "duration": 824,
    "start_time": "2023-01-10T17:35:17.426Z"
   },
   {
    "duration": 16,
    "start_time": "2023-01-10T17:35:18.252Z"
   },
   {
    "duration": 65,
    "start_time": "2023-01-10T17:35:18.270Z"
   },
   {
    "duration": 22,
    "start_time": "2023-01-10T17:35:18.336Z"
   },
   {
    "duration": 54,
    "start_time": "2023-01-10T17:35:18.359Z"
   },
   {
    "duration": 30,
    "start_time": "2023-01-10T17:35:18.414Z"
   },
   {
    "duration": 19,
    "start_time": "2023-01-10T17:35:18.447Z"
   },
   {
    "duration": 43,
    "start_time": "2023-01-10T17:35:18.467Z"
   },
   {
    "duration": 29,
    "start_time": "2023-01-10T17:35:18.511Z"
   },
   {
    "duration": 736626,
    "start_time": "2023-01-10T17:35:18.541Z"
   },
   {
    "duration": 0,
    "start_time": "2023-01-10T17:47:35.170Z"
   },
   {
    "duration": 0,
    "start_time": "2023-01-10T17:47:35.181Z"
   },
   {
    "duration": 0,
    "start_time": "2023-01-10T17:47:35.183Z"
   },
   {
    "duration": 0,
    "start_time": "2023-01-10T17:47:35.195Z"
   },
   {
    "duration": 0,
    "start_time": "2023-01-10T17:47:35.196Z"
   },
   {
    "duration": 0,
    "start_time": "2023-01-10T17:47:35.200Z"
   },
   {
    "duration": 0,
    "start_time": "2023-01-10T17:47:35.202Z"
   },
   {
    "duration": 0,
    "start_time": "2023-01-10T17:47:35.204Z"
   },
   {
    "duration": 0,
    "start_time": "2023-01-10T17:47:35.205Z"
   },
   {
    "duration": 29,
    "start_time": "2023-01-10T17:47:52.605Z"
   },
   {
    "duration": 70,
    "start_time": "2023-01-10T17:47:52.773Z"
   },
   {
    "duration": 22,
    "start_time": "2023-01-10T17:47:52.975Z"
   },
   {
    "duration": 8,
    "start_time": "2023-01-10T17:47:53.169Z"
   },
   {
    "duration": 7,
    "start_time": "2023-01-10T17:47:53.843Z"
   },
   {
    "duration": 9,
    "start_time": "2023-01-10T17:47:54.617Z"
   },
   {
    "duration": 279,
    "start_time": "2023-01-10T17:47:54.819Z"
   },
   {
    "duration": 661,
    "start_time": "2023-01-10T17:47:58.999Z"
   },
   {
    "duration": 320,
    "start_time": "2023-01-10T17:48:11.074Z"
   },
   {
    "duration": 23,
    "start_time": "2023-01-10T17:49:44.705Z"
   },
   {
    "duration": 724,
    "start_time": "2023-01-10T17:49:53.070Z"
   },
   {
    "duration": 16,
    "start_time": "2023-01-10T17:55:54.152Z"
   },
   {
    "duration": 313,
    "start_time": "2023-01-10T17:55:58.131Z"
   },
   {
    "duration": 244,
    "start_time": "2023-01-10T17:56:57.902Z"
   },
   {
    "duration": 314,
    "start_time": "2023-01-10T17:57:04.895Z"
   },
   {
    "duration": 238,
    "start_time": "2023-01-10T17:57:31.304Z"
   },
   {
    "duration": 237,
    "start_time": "2023-01-10T17:58:58.395Z"
   },
   {
    "duration": 1687,
    "start_time": "2023-01-10T18:13:19.657Z"
   },
   {
    "duration": 99,
    "start_time": "2023-01-10T18:13:21.346Z"
   },
   {
    "duration": 11,
    "start_time": "2023-01-10T18:13:21.447Z"
   },
   {
    "duration": 9,
    "start_time": "2023-01-10T18:13:21.459Z"
   },
   {
    "duration": 6,
    "start_time": "2023-01-10T18:13:21.470Z"
   },
   {
    "duration": 8,
    "start_time": "2023-01-10T18:13:21.477Z"
   },
   {
    "duration": 360,
    "start_time": "2023-01-10T18:13:21.487Z"
   },
   {
    "duration": 786,
    "start_time": "2023-01-10T18:13:21.849Z"
   },
   {
    "duration": 14,
    "start_time": "2023-01-10T18:13:22.637Z"
   },
   {
    "duration": 50,
    "start_time": "2023-01-10T18:13:22.653Z"
   },
   {
    "duration": 4,
    "start_time": "2023-01-10T18:13:22.704Z"
   },
   {
    "duration": 15,
    "start_time": "2023-01-10T18:13:22.710Z"
   },
   {
    "duration": 23,
    "start_time": "2023-01-10T18:13:22.727Z"
   },
   {
    "duration": 12,
    "start_time": "2023-01-10T18:13:22.753Z"
   },
   {
    "duration": 7,
    "start_time": "2023-01-10T18:13:22.767Z"
   },
   {
    "duration": 3612,
    "start_time": "2023-01-10T18:13:22.776Z"
   },
   {
    "duration": 4,
    "start_time": "2023-01-10T18:13:26.389Z"
   },
   {
    "duration": 29002,
    "start_time": "2023-01-10T18:13:26.395Z"
   },
   {
    "duration": 3,
    "start_time": "2023-01-10T18:13:55.399Z"
   },
   {
    "duration": 976,
    "start_time": "2023-01-10T18:13:55.404Z"
   },
   {
    "duration": 95,
    "start_time": "2023-01-10T18:13:56.384Z"
   },
   {
    "duration": 4505,
    "start_time": "2023-01-10T18:13:56.481Z"
   },
   {
    "duration": 8146,
    "start_time": "2023-01-10T18:14:00.989Z"
   },
   {
    "duration": 1809,
    "start_time": "2023-01-11T08:36:14.684Z"
   },
   {
    "duration": 174,
    "start_time": "2023-01-11T08:36:16.496Z"
   },
   {
    "duration": 11,
    "start_time": "2023-01-11T08:36:16.672Z"
   },
   {
    "duration": 41,
    "start_time": "2023-01-11T08:36:16.685Z"
   },
   {
    "duration": 8,
    "start_time": "2023-01-11T08:36:17.127Z"
   },
   {
    "duration": 8,
    "start_time": "2023-01-11T08:36:17.376Z"
   },
   {
    "duration": 372,
    "start_time": "2023-01-11T08:36:17.606Z"
   },
   {
    "duration": 864,
    "start_time": "2023-01-11T08:36:17.980Z"
   },
   {
    "duration": 5,
    "start_time": "2023-01-11T08:36:18.846Z"
   },
   {
    "duration": 125,
    "start_time": "2023-01-11T08:39:56.541Z"
   },
   {
    "duration": 253,
    "start_time": "2023-01-11T08:40:08.423Z"
   },
   {
    "duration": 308,
    "start_time": "2023-01-11T08:40:35.693Z"
   },
   {
    "duration": 238,
    "start_time": "2023-01-11T08:41:22.583Z"
   },
   {
    "duration": 1153,
    "start_time": "2023-01-11T08:42:22.977Z"
   },
   {
    "duration": 245,
    "start_time": "2023-01-11T08:43:10.574Z"
   },
   {
    "duration": 271,
    "start_time": "2023-01-11T08:43:15.957Z"
   },
   {
    "duration": 214,
    "start_time": "2023-01-11T08:43:36.486Z"
   },
   {
    "duration": 315,
    "start_time": "2023-01-11T08:43:43.980Z"
   },
   {
    "duration": 21,
    "start_time": "2023-01-11T08:44:06.495Z"
   },
   {
    "duration": 20,
    "start_time": "2023-01-11T08:44:54.029Z"
   },
   {
    "duration": 253,
    "start_time": "2023-01-11T08:45:38.910Z"
   },
   {
    "duration": 314,
    "start_time": "2023-01-11T08:45:54.468Z"
   },
   {
    "duration": 37,
    "start_time": "2023-01-11T08:48:42.561Z"
   },
   {
    "duration": 21,
    "start_time": "2023-01-11T08:48:58.107Z"
   },
   {
    "duration": 5,
    "start_time": "2023-01-11T08:49:03.877Z"
   },
   {
    "duration": 47,
    "start_time": "2023-01-11T08:49:04.186Z"
   },
   {
    "duration": 8,
    "start_time": "2023-01-11T08:49:04.351Z"
   },
   {
    "duration": 6,
    "start_time": "2023-01-11T08:49:04.511Z"
   },
   {
    "duration": 7,
    "start_time": "2023-01-11T08:49:05.253Z"
   },
   {
    "duration": 7,
    "start_time": "2023-01-11T08:49:05.418Z"
   },
   {
    "duration": 242,
    "start_time": "2023-01-11T08:49:05.581Z"
   },
   {
    "duration": 272,
    "start_time": "2023-01-11T08:49:05.826Z"
   },
   {
    "duration": 328,
    "start_time": "2023-01-11T08:49:06.100Z"
   },
   {
    "duration": 17,
    "start_time": "2023-01-11T08:49:06.430Z"
   },
   {
    "duration": 30,
    "start_time": "2023-01-11T08:49:06.448Z"
   },
   {
    "duration": 4,
    "start_time": "2023-01-11T08:49:06.551Z"
   },
   {
    "duration": 10,
    "start_time": "2023-01-11T08:49:14.779Z"
   },
   {
    "duration": 31,
    "start_time": "2023-01-11T08:49:19.324Z"
   },
   {
    "duration": 238,
    "start_time": "2023-01-11T08:52:28.194Z"
   },
   {
    "duration": 13,
    "start_time": "2023-01-11T08:53:17.766Z"
   },
   {
    "duration": 5,
    "start_time": "2023-01-11T08:53:26.497Z"
   },
   {
    "duration": 6,
    "start_time": "2023-01-11T08:53:26.857Z"
   },
   {
    "duration": 4,
    "start_time": "2023-01-11T08:53:27.423Z"
   },
   {
    "duration": 3,
    "start_time": "2023-01-11T08:53:27.796Z"
   },
   {
    "duration": 7579,
    "start_time": "2023-01-11T08:53:28.169Z"
   },
   {
    "duration": 3,
    "start_time": "2023-01-11T08:53:35.750Z"
   },
   {
    "duration": 31058,
    "start_time": "2023-01-11T08:53:35.755Z"
   },
   {
    "duration": 3,
    "start_time": "2023-01-11T08:54:06.816Z"
   },
   {
    "duration": 1026,
    "start_time": "2023-01-11T08:54:06.821Z"
   },
   {
    "duration": 89,
    "start_time": "2023-01-11T08:54:07.853Z"
   },
   {
    "duration": 4831,
    "start_time": "2023-01-11T08:54:07.945Z"
   },
   {
    "duration": 7841,
    "start_time": "2023-01-11T08:54:12.778Z"
   },
   {
    "duration": 12,
    "start_time": "2023-01-11T08:54:20.621Z"
   },
   {
    "duration": 17,
    "start_time": "2023-01-11T08:54:26.484Z"
   },
   {
    "duration": 365,
    "start_time": "2023-01-11T08:55:36.585Z"
   },
   {
    "duration": 229,
    "start_time": "2023-01-11T08:59:32.402Z"
   },
   {
    "duration": 267,
    "start_time": "2023-01-11T09:00:23.709Z"
   },
   {
    "duration": 234,
    "start_time": "2023-01-11T09:01:56.237Z"
   },
   {
    "duration": 6,
    "start_time": "2023-01-11T09:02:19.333Z"
   },
   {
    "duration": 154,
    "start_time": "2023-01-11T09:02:41.984Z"
   },
   {
    "duration": 139,
    "start_time": "2023-01-11T09:03:33.585Z"
   },
   {
    "duration": 2419,
    "start_time": "2023-01-18T07:46:46.772Z"
   },
   {
    "duration": 223,
    "start_time": "2023-01-18T07:46:49.194Z"
   },
   {
    "duration": 14,
    "start_time": "2023-01-18T07:46:49.420Z"
   },
   {
    "duration": 12,
    "start_time": "2023-01-18T07:46:49.437Z"
   },
   {
    "duration": 11,
    "start_time": "2023-01-18T07:46:49.451Z"
   },
   {
    "duration": 9,
    "start_time": "2023-01-18T07:46:49.464Z"
   },
   {
    "duration": 405,
    "start_time": "2023-01-18T07:46:49.474Z"
   },
   {
    "duration": 415,
    "start_time": "2023-01-18T07:46:49.882Z"
   },
   {
    "duration": 388,
    "start_time": "2023-01-18T07:46:50.300Z"
   },
   {
    "duration": 20,
    "start_time": "2023-01-18T07:46:50.691Z"
   },
   {
    "duration": 53,
    "start_time": "2023-01-18T07:46:50.713Z"
   },
   {
    "duration": 5,
    "start_time": "2023-01-18T07:46:50.768Z"
   },
   {
    "duration": 6,
    "start_time": "2023-01-18T07:46:52.611Z"
   },
   {
    "duration": 8,
    "start_time": "2023-01-18T07:46:52.763Z"
   },
   {
    "duration": 4,
    "start_time": "2023-01-18T07:46:53.910Z"
   },
   {
    "duration": 5,
    "start_time": "2023-01-18T08:07:54.395Z"
   },
   {
    "duration": 5837620,
    "start_time": "2023-01-18T08:08:12.427Z"
   },
   {
    "duration": 131,
    "start_time": "2023-01-18T09:52:40.724Z"
   },
   {
    "duration": 10,
    "start_time": "2023-01-18T09:52:43.812Z"
   },
   {
    "duration": 4,
    "start_time": "2023-01-18T09:54:03.268Z"
   },
   {
    "duration": 1617,
    "start_time": "2023-01-18T11:00:48.397Z"
   },
   {
    "duration": 50,
    "start_time": "2023-01-18T11:00:50.473Z"
   },
   {
    "duration": 11,
    "start_time": "2023-01-18T11:00:50.617Z"
   },
   {
    "duration": 10,
    "start_time": "2023-01-18T11:00:50.769Z"
   },
   {
    "duration": 7,
    "start_time": "2023-01-18T11:00:51.477Z"
   },
   {
    "duration": 7,
    "start_time": "2023-01-18T11:00:51.778Z"
   },
   {
    "duration": 360,
    "start_time": "2023-01-18T11:00:52.087Z"
   },
   {
    "duration": 357,
    "start_time": "2023-01-18T11:00:52.449Z"
   },
   {
    "duration": 371,
    "start_time": "2023-01-18T11:00:52.808Z"
   },
   {
    "duration": 12,
    "start_time": "2023-01-18T11:00:53.182Z"
   },
   {
    "duration": 35,
    "start_time": "2023-01-18T11:00:53.221Z"
   },
   {
    "duration": 4,
    "start_time": "2023-01-18T11:00:53.404Z"
   },
   {
    "duration": 6,
    "start_time": "2023-01-18T11:00:54.465Z"
   },
   {
    "duration": 7,
    "start_time": "2023-01-18T11:00:54.671Z"
   },
   {
    "duration": 4,
    "start_time": "2023-01-18T11:00:55.648Z"
   },
   {
    "duration": 4,
    "start_time": "2023-01-18T11:00:55.918Z"
   },
   {
    "duration": 0,
    "start_time": "2023-01-18T11:01:41.004Z"
   },
   {
    "duration": 0,
    "start_time": "2023-01-18T11:01:41.007Z"
   },
   {
    "duration": 4,
    "start_time": "2023-01-18T11:01:42.494Z"
   },
   {
    "duration": 4449091,
    "start_time": "2023-01-18T11:01:43.349Z"
   },
   {
    "duration": 4,
    "start_time": "2023-01-18T12:40:45.658Z"
   },
   {
    "duration": 32887,
    "start_time": "2023-01-18T12:40:47.763Z"
   },
   {
    "duration": 52,
    "start_time": "2023-01-19T08:21:23.776Z"
   },
   {
    "duration": 1605,
    "start_time": "2023-01-19T08:21:29.635Z"
   },
   {
    "duration": 149,
    "start_time": "2023-01-19T08:21:31.242Z"
   },
   {
    "duration": 11,
    "start_time": "2023-01-19T08:21:31.393Z"
   },
   {
    "duration": 29,
    "start_time": "2023-01-19T08:21:31.406Z"
   },
   {
    "duration": 8,
    "start_time": "2023-01-19T08:21:31.436Z"
   },
   {
    "duration": 23,
    "start_time": "2023-01-19T08:21:31.446Z"
   },
   {
    "duration": 351,
    "start_time": "2023-01-19T08:21:31.470Z"
   },
   {
    "duration": 325,
    "start_time": "2023-01-19T08:21:31.824Z"
   },
   {
    "duration": 317,
    "start_time": "2023-01-19T08:21:32.151Z"
   },
   {
    "duration": 12,
    "start_time": "2023-01-19T08:21:32.470Z"
   },
   {
    "duration": 39,
    "start_time": "2023-01-19T08:21:32.494Z"
   },
   {
    "duration": 4,
    "start_time": "2023-01-19T08:21:32.534Z"
   },
   {
    "duration": 3,
    "start_time": "2023-01-19T08:21:33.856Z"
   },
   {
    "duration": 6,
    "start_time": "2023-01-19T08:21:34.031Z"
   },
   {
    "duration": 4,
    "start_time": "2023-01-19T08:21:34.866Z"
   },
   {
    "duration": 4,
    "start_time": "2023-01-19T08:21:36.116Z"
   },
   {
    "duration": 3,
    "start_time": "2023-01-19T08:21:37.794Z"
   },
   {
    "duration": 89,
    "start_time": "2023-01-19T08:21:46.548Z"
   },
   {
    "duration": 49211,
    "start_time": "2023-01-19T08:24:00.590Z"
   },
   {
    "duration": 238208,
    "start_time": "2023-01-19T08:27:22.996Z"
   }
  ],
  "kernelspec": {
   "display_name": "Python 3 (ipykernel)",
   "language": "python",
   "name": "python3"
  },
  "language_info": {
   "codemirror_mode": {
    "name": "ipython",
    "version": 3
   },
   "file_extension": ".py",
   "mimetype": "text/x-python",
   "name": "python",
   "nbconvert_exporter": "python",
   "pygments_lexer": "ipython3",
   "version": "3.9.12"
  },
  "toc": {
   "base_numbering": 1,
   "nav_menu": {},
   "number_sections": true,
   "sideBar": true,
   "skip_h1_title": true,
   "title_cell": "Содержание",
   "title_sidebar": "Contents",
   "toc_cell": true,
   "toc_position": {},
   "toc_section_display": true,
   "toc_window_display": false
  }
 },
 "nbformat": 4,
 "nbformat_minor": 4
}
